{
 "cells": [
  {
   "cell_type": "markdown",
   "id": "63efb039",
   "metadata": {},
   "source": [
    "When using the RDKit fingerprint generators - there is a [tutorial on using these](https://greglandrum.github.io/rdkit-blog/posts/2023-01-18-fingerprint-generator-tutorial.html) - it's possible to change the invariants that are used to describe the atoms and/or bonds. This post provides a short intro to how to do that.\n"
   ]
  },
  {
   "cell_type": "code",
   "execution_count": 1,
   "id": "3f29d538",
   "metadata": {},
   "outputs": [
    {
     "name": "stdout",
     "output_type": "stream",
     "text": [
      "2024.09.4\n"
     ]
    }
   ],
   "source": [
    "from rdkit import Chem\n",
    "from rdkit.Chem import rdFingerprintGenerator\n",
    "from rdkit.Chem import Draw\n",
    "from rdkit.Chem.Draw import IPythonConsole\n",
    "from rdkit import DataStructs\n",
    "import rdkit\n",
    "print(rdkit.__version__)"
   ]
  },
  {
   "cell_type": "markdown",
   "id": "e391c8e9",
   "metadata": {},
   "source": [
    "For this blog post I'm going to use the Morgan fingerprint generator, but this approach works for any fingerprint generator."
   ]
  },
  {
   "cell_type": "code",
   "execution_count": 2,
   "id": "d9e41629",
   "metadata": {},
   "outputs": [],
   "source": [
    "fpg = rdFingerprintGenerator.GetMorganGenerator()"
   ]
  },
  {
   "cell_type": "markdown",
   "id": "d3508a87",
   "metadata": {},
   "source": [
    "We'll start by looking at atom invariants, so construct two molecules that differ in a single atom:"
   ]
  },
  {
   "cell_type": "code",
   "execution_count": 3,
   "id": "ca2d381c",
   "metadata": {},
   "outputs": [],
   "source": [
    "m1 = Chem.MolFromSmiles('c1ccccc1')\n",
    "m2 = Chem.MolFromSmiles('c1ccccn1')"
   ]
  },
  {
   "cell_type": "markdown",
   "id": "6dfcba32",
   "metadata": {},
   "source": [
    "Generate fingerprints for those and calculate the similarity between them:"
   ]
  },
  {
   "cell_type": "code",
   "execution_count": 4,
   "id": "5b5d32f1",
   "metadata": {},
   "outputs": [
    {
     "name": "stdout",
     "output_type": "stream",
     "text": [
      "0.2727272727272727\n"
     ]
    }
   ],
   "source": [
    "fps = [fpg.GetFingerprint(m) for m in (m1,m2)]\n",
    "print(DataStructs.TanimotoSimilarity(fps[0],fps[1]))"
   ]
  },
  {
   "cell_type": "markdown",
   "id": "a2231ca9",
   "metadata": {},
   "source": [
    "The `GetFingerprint()` function takes an optional argument, `customAtomInvariants`, that allows you to provide the atom invariants that are used. \n",
    "\n",
    "Here's how that works. We'll use a simple function that just uses the explicit degree (number of explicit bonds) of the atom as its invariant:"
   ]
  },
  {
   "cell_type": "code",
   "execution_count": 5,
   "id": "8ab1262d",
   "metadata": {},
   "outputs": [
    {
     "name": "stdout",
     "output_type": "stream",
     "text": [
      "1.0\n"
     ]
    }
   ],
   "source": [
    "atomGen = lambda atom: atom.GetDegree()*1000\n",
    "\n",
    "# generate fingerprints using the custom invariants:\n",
    "fps_ats = [fpg.GetFingerprint(m,customAtomInvariants=[atomGen(at) for at in m.GetAtoms()]) for m in (m1,m2)]\n",
    "\n",
    "print(DataStructs.TanimotoSimilarity(fps_ats[0],fps_ats[1]))"
   ]
  },
  {
   "cell_type": "markdown",
   "id": "264571fe",
   "metadata": {},
   "source": [
    "Now the fingerprints are identical"
   ]
  },
  {
   "cell_type": "markdown",
   "id": "4e050719",
   "metadata": {},
   "source": [
    "We can do the same thing for bond invariants.\n",
    "\n",
    "To simplify the demonstration, I will just kekulize the first molecule so that it has alternating single and double bonds instead of aromatic bonds:"
   ]
  },
  {
   "cell_type": "code",
   "execution_count": 6,
   "id": "e91a8753",
   "metadata": {},
   "outputs": [],
   "source": [
    "m3 = Chem.Mol(m1)\n",
    "Chem.Kekulize(m3,clearAromaticFlags=True)\n"
   ]
  },
  {
   "cell_type": "markdown",
   "id": "a947da72",
   "metadata": {},
   "source": [
    "By default, the similarity between these is quite low:"
   ]
  },
  {
   "cell_type": "code",
   "execution_count": 7,
   "id": "f5037cef",
   "metadata": {},
   "outputs": [
    {
     "name": "stdout",
     "output_type": "stream",
     "text": [
      "0.14285714285714285\n"
     ]
    }
   ],
   "source": [
    "fps = [fpg.GetFingerprint(m) for m in (m1,m3)]\n",
    "\n",
    "print(DataStructs.TanimotoSimilarity(fps[0],fps[1]))"
   ]
  },
  {
   "cell_type": "markdown",
   "id": "4ec9327e",
   "metadata": {},
   "source": [
    "However, if we define a bond invariant which treats all conjugated bonds the same, the molecules are identical:"
   ]
  },
  {
   "cell_type": "code",
   "execution_count": 8,
   "id": "c3a4936b",
   "metadata": {},
   "outputs": [
    {
     "name": "stdout",
     "output_type": "stream",
     "text": [
      "1.0\n"
     ]
    }
   ],
   "source": [
    "bondGen = lambda bond: 10 if bond.GetIsConjugated() else int(2*bond.GetBondTypeAsDouble())\n",
    "\n",
    "fps_bnds = [fpg.GetFingerprint(m,customBondInvariants=[bondGen(b) for b in m.GetBonds()]) for m in (m1,m3)]\n",
    "\n",
    "print(DataStructs.TanimotoSimilarity(fps_bnds[0],fps_bnds[1]))"
   ]
  },
  {
   "cell_type": "markdown",
   "id": "fce48938",
   "metadata": {},
   "source": [
    "Finally, an example to show how to combine multiple components into the atom invariants. This is a silly one, but it hopefully demonstrates the idea.\n",
    "\n",
    "The important things here is to make sure that the different pieces of information are stored in different parts of the invariant, so we multiple the degree by 1000 (to ensure a number larger than any possible atomic number) and then add the atomic number."
   ]
  },
  {
   "cell_type": "code",
   "execution_count": 9,
   "id": "bb72f986",
   "metadata": {},
   "outputs": [
    {
     "name": "stdout",
     "output_type": "stream",
     "text": [
      "0.2727272727272727\n"
     ]
    }
   ],
   "source": [
    "# define an invariant generator that combines atom degree and atomic number:\n",
    "atomGen = lambda atom: atom.GetDegree()*1000 + atom.GetAtomicNum()\n",
    "\n",
    "# generate fingerprints using the custom invariants:\n",
    "fps_ats = [fpg.GetFingerprint(m,customAtomInvariants=[atomGen(at) for at in m.GetAtoms()]) for m in (m1,m2)]\n",
    "\n",
    "print(DataStructs.TanimotoSimilarity(fps_ats[0],fps_ats[1]))"
   ]
  },
  {
   "cell_type": "markdown",
   "id": "bd2b43ca",
   "metadata": {},
   "source": [
    "That's it for this one, I hope this brief intro was useful!"
   ]
  }
 ],
 "metadata": {
  "kernelspec": {
   "display_name": "Python 3 (ipykernel)",
   "language": "python",
   "name": "python3"
  },
  "language_info": {
   "codemirror_mode": {
    "name": "ipython",
    "version": 3
   },
   "file_extension": ".py",
   "mimetype": "text/x-python",
   "name": "python",
   "nbconvert_exporter": "python",
   "pygments_lexer": "ipython3",
   "version": "3.12.6"
  },
  "toc": {
   "base_numbering": 1,
   "nav_menu": {},
   "number_sections": true,
   "sideBar": true,
   "skip_h1_title": false,
   "title_cell": "Table of Contents",
   "title_sidebar": "Contents",
   "toc_cell": false,
   "toc_position": {},
   "toc_section_display": true,
   "toc_window_display": false
  }
 },
 "nbformat": 4,
 "nbformat_minor": 5
}
