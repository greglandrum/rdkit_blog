{
 "cells": [
  {
   "cell_type": "markdown",
   "metadata": {},
   "source": [
    "This is an updated and lightly revised version of an [older post](https://rdkit.blogspot.com/2017/04/using-custom-fingerprint-in-postgresql.html).\n",
    "\n",
    "A [question](http://www.mail-archive.com/rdkit-discuss@lists.sourceforge.net/msg06764.html) recently came up on the mailing list about how to use custom fingerprints with the RDKit PostgreSQL cartridge without having to edit the cartridge code itself. Since the answer isn't trivial but may be useful to others, I'm doing a blog post with the answer.\n",
    "\n",
    "We'll start the usual way, with a bunch of imports. In the interests of being maximally explicit and having this whole notebook be normal Python code, I'm handling the database connection with the usual psycopg2 connector to PostgreSQL."
   ]
  },
  {
   "cell_type": "code",
   "execution_count": 1,
   "metadata": {},
   "outputs": [
    {
     "name": "stdout",
     "output_type": "stream",
     "text": [
      "2025.03.2\n"
     ]
    }
   ],
   "source": [
    "from rdkit import Chem\n",
    "from rdkit import DataStructs\n",
    "from rdkit.Chem.Draw import IPythonConsole\n",
    "from rdkit.Chem import Draw\n",
    "import rdkit\n",
    "import psycopg2\n",
    "print(rdkit.__version__)"
   ]
  },
  {
   "cell_type": "markdown",
   "metadata": {},
   "source": [
    "Read in a set of molecule data that we've used before:"
   ]
  },
  {
   "cell_type": "code",
   "execution_count": 2,
   "metadata": {},
   "outputs": [
    {
     "data": {
      "text/plain": [
       "234681"
      ]
     },
     "execution_count": 2,
     "metadata": {},
     "output_type": "execute_result"
    }
   ],
   "source": [
    "with open('../data/chembl16_2010-2012.smi') as inf:\n",
    "    data = [x.strip().split() for x in inf]\n",
    "len(data)"
   ]
  },
  {
   "cell_type": "markdown",
   "metadata": {},
   "source": [
    "Establish a connection to the database we'll use and insert that data:"
   ]
  },
  {
   "cell_type": "code",
   "execution_count": 4,
   "metadata": {},
   "outputs": [],
   "source": [
    "conn = psycopg2.connect(database='rdkit_blog_demo')\n",
    "curs = conn.cursor()\n",
    "curs.execute('create extension if not exists rdkit')\n",
    "curs.execute('drop table if exists raw_data')\n",
    "curs.execute('create table raw_data (smiles text,molregno int)')\n",
    "curs.executemany('insert into raw_data values (%s,%s)',data)\n",
    "conn.commit()"
   ]
  },
  {
   "cell_type": "markdown",
   "metadata": {},
   "source": [
    "Create a molecule table with the first 10K rows (we don't need all the data for the purposes of this post):"
   ]
  },
  {
   "cell_type": "code",
   "execution_count": 5,
   "metadata": {},
   "outputs": [],
   "source": [
    "curs.execute('drop table if exists mols')\n",
    "curs.execute('select molregno,mol_from_smiles(smiles::cstring) as m into mols from raw_data limit 10000')\n",
    "conn.commit()"
   ]
  },
  {
   "cell_type": "markdown",
   "metadata": {},
   "source": [
    "Now generate our custom fingerprints for those molecules. We're using the topological torsion form of Sheridan's physicochemical property fingerprints (https://doi.org/10.1021/ci950274j).\n",
    "\n",
    "These are just standard topological torsion FPs with different atom types."
   ]
  },
  {
   "cell_type": "markdown",
   "metadata": {},
   "source": [
    "Here's an example of the atom types:"
   ]
  },
  {
   "cell_type": "code",
   "execution_count": 7,
   "metadata": {},
   "outputs": [
    {
     "name": "stdout",
     "output_type": "stream",
     "text": [
      "['POL', 'HYD', 'HYD', 'HYD', 'CAT']\n"
     ]
    }
   ],
   "source": [
    "from rdkit.Chem.AtomPairs import Sheridan\n",
    "mol = Chem.MolFromSmiles('OCCCN')\n",
    "print(Sheridan.AssignPattyTypes(mol))"
   ]
  },
  {
   "cell_type": "code",
   "execution_count": 14,
   "metadata": {},
   "outputs": [],
   "source": [
    "from rdkit.Chem import rdFingerprintGenerator\n",
    "fpg = rdFingerprintGenerator.GetTopologicalTorsionGenerator()\n",
    "\n",
    "fps = []\n",
    "# grab the molecules, we're pulling them out of the database in their pickled form:\n",
    "curs.execute('select molregno,mol_send(m) from mols limit 10000')\n",
    "for molregno,pkl in curs.fetchall():\n",
    "    if pkl is None: continue\n",
    "    # construct a molecule\n",
    "    m = Chem.Mol(pkl.tobytes())\n",
    "    typs = [Sheridan.typMap[x] for x in Sheridan.AssignPattyTypes(m)]\n",
    "    fp = fpg.GetFingerprint(m,customAtomInvariants=typs)\n",
    "    fps.append((molregno,fp))"
   ]
  },
  {
   "cell_type": "markdown",
   "metadata": {},
   "source": [
    "Now insert the fingerprints into the database, we do this by sending a byte string to the database using `DataStructs.BitVectToBinaryText()` on the python side and then converting that into a bit vector in the database using the function `bfp_from_binary_text()`:"
   ]
  },
  {
   "cell_type": "code",
   "execution_count": 9,
   "metadata": {},
   "outputs": [],
   "source": [
    "curs.execute('drop table if exists fps')\n",
    "curs.execute('create table fps (molregno int, btfp bfp)')\n",
    "curs.executemany('insert into fps values (%s,bfp_from_binary_text(%s))',\n",
    "                 [(x,DataStructs.BitVectToBinaryText(y)) for x,y in fps])\n",
    "conn.commit()"
   ]
  },
  {
   "cell_type": "markdown",
   "metadata": {},
   "source": [
    "If this were a larger database I'd also create an index on the fingerprint column in order to speed similarity searches up a bit, but since this one's small we'll skip that."
   ]
  },
  {
   "cell_type": "markdown",
   "metadata": {},
   "source": [
    "And here's how you do a query:"
   ]
  },
  {
   "cell_type": "code",
   "execution_count": 10,
   "metadata": {},
   "outputs": [
    {
     "data": {
      "text/plain": [
       "2"
      ]
     },
     "execution_count": 10,
     "metadata": {},
     "output_type": "execute_result"
    }
   ],
   "source": [
    "fp = fps[-1][-1]\n",
    "curs.execute('set rdkit.tanimoto_threshold=0.6')\n",
    "curs.execute('select molregno,m from mols join fps using (molregno) where btfp%%bfp_from_binary_text(%s)',\n",
    "             (DataStructs.BitVectToBinaryText(fp),))\n",
    "res = curs.fetchall()\n",
    "len(res)"
   ]
  },
  {
   "cell_type": "markdown",
   "metadata": {},
   "source": [
    "It's always good to test that we're getting the right answers, so let's verify that by repeating the same process in Python (just to be sure we did everything right!):"
   ]
  },
  {
   "cell_type": "code",
   "execution_count": 11,
   "metadata": {},
   "outputs": [
    {
     "data": {
      "text/plain": [
       "2"
      ]
     },
     "execution_count": 11,
     "metadata": {},
     "output_type": "execute_result"
    }
   ],
   "source": [
    "len([x for (x,y) in fps if DataStructs.TanimotoSimilarity(y,fp)>=0.6])"
   ]
  },
  {
   "cell_type": "markdown",
   "metadata": {},
   "source": [
    "Pull back some similarity values:"
   ]
  },
  {
   "cell_type": "code",
   "execution_count": 12,
   "metadata": {},
   "outputs": [
    {
     "data": {
      "text/plain": [
       "[(23, 0.15217391304347827),\n",
       " (97, 0.1643835616438356),\n",
       " (115, 0.21428571428571427),\n",
       " (146, 0.2054794520547945),\n",
       " (147, 0.15517241379310345),\n",
       " (148, 0.1),\n",
       " (173, 0.21818181818181817),\n",
       " (194, 0.13559322033898305),\n",
       " (213, 0.2982456140350877),\n",
       " (205, 0.19696969696969696)]"
      ]
     },
     "execution_count": 12,
     "metadata": {},
     "output_type": "execute_result"
    }
   ],
   "source": [
    "curs.execute('select molregno,tanimoto_sml(btfp,bfp_from_binary_text(%s)) from fps limit 10',\n",
    "             (DataStructs.BitVectToBinaryText(fp),))\n",
    "curs.fetchall()\n"
   ]
  },
  {
   "cell_type": "markdown",
   "metadata": {},
   "source": [
    "And again, just a test, ensure that we're getting the same thing we'd see in Python:"
   ]
  },
  {
   "cell_type": "code",
   "execution_count": 13,
   "metadata": {},
   "outputs": [
    {
     "data": {
      "text/plain": [
       "[(23, 0.15217391304347827),\n",
       " (97, 0.1643835616438356),\n",
       " (115, 0.21428571428571427),\n",
       " (146, 0.2054794520547945),\n",
       " (147, 0.15517241379310345),\n",
       " (148, 0.1),\n",
       " (173, 0.21818181818181817),\n",
       " (194, 0.13559322033898305),\n",
       " (213, 0.2982456140350877),\n",
       " (205, 0.19696969696969696)]"
      ]
     },
     "execution_count": 13,
     "metadata": {},
     "output_type": "execute_result"
    }
   ],
   "source": [
    "[(x,DataStructs.TanimotoSimilarity(y,fp)) for (x,y) in fps][:10]"
   ]
  },
  {
   "cell_type": "markdown",
   "metadata": {},
   "source": [
    "That's it. Not particularly complicated, but still a useful thing to know how to do.\n",
    "Following this approach, any bit vector fingerprint (even one's generated outside of the RDKit) can be inserted into PostgreSQL tables and then searched using the RDKit cartridge."
   ]
  }
 ],
 "metadata": {
  "kernelspec": {
   "display_name": "Python 3 (ipykernel)",
   "language": "python",
   "name": "python3"
  },
  "language_info": {
   "codemirror_mode": {
    "name": "ipython",
    "version": 3
   },
   "file_extension": ".py",
   "mimetype": "text/x-python",
   "name": "python",
   "nbconvert_exporter": "python",
   "pygments_lexer": "ipython3",
   "version": "3.12.6"
  },
  "toc": {
   "base_numbering": 1,
   "nav_menu": {},
   "number_sections": true,
   "sideBar": true,
   "skip_h1_title": false,
   "title_cell": "Table of Contents",
   "title_sidebar": "Contents",
   "toc_cell": false,
   "toc_position": {},
   "toc_section_display": true,
   "toc_window_display": false
  }
 },
 "nbformat": 4,
 "nbformat_minor": 2
}
