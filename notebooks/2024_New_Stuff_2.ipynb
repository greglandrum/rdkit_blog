{
 "cells": [
  {
   "cell_type": "markdown",
   "id": "a0d335ec",
   "metadata": {},
   "source": [
    "This is the second of a short series of posts providing brief introductions to new functionality in the RDKit 2024.09.1 release (added since the 2024.03.1 release)."
   ]
  },
  {
   "cell_type": "code",
   "execution_count": 2,
   "id": "bc9ae709",
   "metadata": {},
   "outputs": [
    {
     "data": {
      "text/plain": [
       "'2024.09.1'"
      ]
     },
     "execution_count": 2,
     "metadata": {},
     "output_type": "execute_result"
    }
   ],
   "source": [
    "import rdkit\n",
    "rdkit.__version__"
   ]
  },
  {
   "cell_type": "code",
   "execution_count": 3,
   "id": "e64587b3",
   "metadata": {},
   "outputs": [],
   "source": [
    "from rdkit import Chem\n",
    "from rdkit.Chem import Draw\n",
    "from rdkit.Chem.Draw import IPythonConsole"
   ]
  },
  {
   "cell_type": "markdown",
   "id": "cbcee7f4",
   "metadata": {},
   "source": [
    "# Improvements to RMS filtering in conformer generation"
   ]
  },
  {
   "cell_type": "markdown",
   "id": "f8c2a2b1",
   "metadata": {},
   "source": [
    "Here's a simple molecule for demonstration purposes:"
   ]
  },
  {
   "cell_type": "code",
   "execution_count": 36,
   "id": "bc208d1d",
   "metadata": {},
   "outputs": [
    {
     "data": {
      "image/png": "[encoded data removed]",
      "text/plain": [
       "<rdkit.Chem.rdchem.Mol at 0x7307b35eaf10>"
      ]
     },
     "execution_count": 36,
     "metadata": {},
     "output_type": "execute_result"
    }
   ],
   "source": [
    "IPythonConsole.molSize = 250,250\n",
    "m = Chem.MolFromSmiles('CCc1cc(C(=O)O)cc(C(=O)O)c1')\n",
    "m"
   ]
  },
  {
   "cell_type": "code",
   "execution_count": 37,
   "id": "d5e0eb11",
   "metadata": {},
   "outputs": [
    {
     "name": "stdout",
     "output_type": "stream",
     "text": [
      "100\n"
     ]
    }
   ],
   "source": [
    "from rdkit.Chem import rdDistGeom\n",
    "from rdkit.Chem import rdMolAlign\n",
    "\n",
    "mh = Chem.AddHs(m)\n",
    "ps = rdDistGeom.srETKDGv3()\n",
    "ps.randomSeed = 0xa100f\n",
    "cids = rdDistGeom.EmbedMultipleConfs(mh,100,ps)\n",
    "print(len(cids))"
   ]
  },
  {
   "cell_type": "code",
   "execution_count": 4,
   "id": "61fe949b",
   "metadata": {},
   "outputs": [],
   "source": [
    "import py3Dmol\n",
    "def drawit(ms, p=None, confIds=None, removeHs=False,colors=('cyanCarbon','blueCarbon','redCarbon')):\n",
    "        if confIds is None:\n",
    "            confIds = [-1]*len(ms)\n",
    "        if p is None:\n",
    "            p = py3Dmol.view(width=400, height=400)\n",
    "        p.removeAllModels()\n",
    "        for i,(m,confId) in enumerate(zip(ms,confIds)):\n",
    "            if removeHs:\n",
    "                m = Chem.RemoveHs(m)\n",
    "            IPythonConsole.addMolToView(m,p,confId=confId)\n",
    "        for i,m in enumerate(ms):\n",
    "            p.setStyle({'model':i,},\n",
    "                            {'stick':{'colorscheme':colors[i%len(colors)]}})\n",
    "        p.zoomTo()\n",
    "        return p.show()"
   ]
  },
  {
   "cell_type": "markdown",
   "id": "e126b7aa",
   "metadata": {},
   "source": [
    "First a quick intro to the `symmetrizeConjugatedTerminalGroups` argument to `GetBestRMS()`"
   ]
  },
  {
   "cell_type": "code",
   "execution_count": 57,
   "id": "20a323e8",
   "metadata": {},
   "outputs": [
    {
     "name": "stdout",
     "output_type": "stream",
     "text": [
      "0.86\n"
     ]
    },
    {
     "data": {
      "application/3dmoljs_load.v0": "<div id=\"3dmolviewer_17284452507970846\"  style=\"position: relative; width: 400px; height: 400px;\">\n        <p id=\"3dmolwarning_17284452507970846\" style=\"background-color:#ffcccc;color:black\">3Dmol.js failed to load for some reason.  Please check your browser console for error messages.<br></p>\n        </div>\n<script>\n\nvar loadScriptAsync = function(uri){\n  return new Promise((resolve, reject) => {\n    //this is to ignore the existence of requirejs amd\n    var savedexports, savedmodule;\n    if (typeof exports !== 'undefined') savedexports = exports;\n    else exports = {}\n    if (typeof module !== 'undefined') savedmodule = module;\n    else module = {}\n\n    var tag = document.createElement('script');\n    tag.src = uri;\n    tag.async = true;\n    tag.onload = () => {\n        exports = savedexports;\n        module = savedmodule;\n        resolve();\n    };\n  var firstScriptTag = document.getElementsByTagName('script')[0];\n  firstScriptTag.parentNode.insertBefore(tag, firstScriptTag);\n});\n};\n\nif(typeof $3Dmolpromise === 'undefined') {\n$3Dmolpromise = null;\n  $3Dmolpromise = loadScriptAsync('https://cdnjs.cloudflare.com/ajax/libs/3Dmol/2.4.0/3Dmol-min.js');\n}\n\nvar viewer_17284452507970846 = null;\nvar warn = document.getElementById(\"3dmolwarning_17284452507970846\");\nif(warn) {\n    warn.parentNode.removeChild(warn);\n}\n$3Dmolpromise.then(function() {\nviewer_17284452507970846 = $3Dmol.createViewer(document.getElementById(\"3dmolviewer_17284452507970846\"),{backgroundColor:\"white\"});\nviewer_17284452507970846.zoomTo();\n\tviewer_17284452507970846.removeAllModels();\n\tviewer_17284452507970846.addModel(\"\\n     RDKit          3D\\n\\n 14 14  0  0  0  0  0  0  0  0999 V2000\\n    2.9083   -1.1662    0.7671 C   0  0  0  0  0  0  0  0  0  0  0  0\\n    2.0149   -1.2542   -0.4246 C   0  0  0  0  0  0  0  0  0  0  0  0\\n    0.7447   -0.5041   -0.2932 C   0  0  0  0  0  0  0  0  0  0  0  0\\n   -0.3453   -1.1475    0.2326 C   0  0  0  0  0  0  0  0  0  0  0  0\\n   -1.5723   -0.5167    0.3898 C   0  0  0  0  0  0  0  0  0  0  0  0\\n   -2.7280   -1.2100    0.9509 C   0  0  0  0  0  0  0  0  0  0  0  0\\n   -3.8513   -0.6608    1.1038 O   0  0  0  0  0  0  0  0  0  0  0  0\\n   -2.5747   -2.5397    1.3325 O   0  0  0  0  0  0  0  0  0  0  0  0\\n   -1.6583    0.7992   -0.0073 C   0  0  0  0  0  0  0  0  0  0  0  0\\n   -0.5956    1.4961   -0.5422 C   0  0  0  0  0  0  0  0  0  0  0  0\\n   -0.7312    2.8973   -0.9521 C   0  0  0  0  0  0  0  0  0  0  0  0\\n    0.2505    3.5134   -1.4374 O   0  0  0  0  0  0  0  0  0  0  0  0\\n   -1.9311    3.5390   -0.8065 O   0  0  0  0  0  0  0  0  0  0  0  0\\n    0.5945    0.8149   -0.6724 C   0  0  0  0  0  0  0  0  0  0  0  0\\n  1  2  1  0\\n  2  3  1  0\\n  3  4  2  0\\n  4  5  1  0\\n  5  6  1  0\\n  6  7  2  0\\n  6  8  1  0\\n  5  9  2  0\\n  9 10  1  0\\n 10 11  1  0\\n 11 12  2  0\\n 11 13  1  0\\n 10 14  2  0\\n 14  3  1  0\\nM  END\\n\",\"sdf\");\n\tviewer_17284452507970846.setStyle({\"stick\": {}});\n\tviewer_17284452507970846.addModel(\"\\n     RDKit          3D\\n\\n 14 14  0  0  0  0  0  0  0  0999 V2000\\n    2.9462   -1.0221    0.7345 C   0  0  0  0  0  0  0  0  0  0  0  0\\n    2.0490   -1.1739   -0.4793 C   0  0  0  0  0  0  0  0  0  0  0  0\\n    0.7396   -0.5316   -0.2946 C   0  0  0  0  0  0  0  0  0  0  0  0\\n   -0.3639   -1.1701    0.2328 C   0  0  0  0  0  0  0  0  0  0  0  0\\n   -1.5722   -0.5209    0.3855 C   0  0  0  0  0  0  0  0  0  0  0  0\\n   -2.7372   -1.1997    0.9437 C   0  0  0  0  0  0  0  0  0  0  0  0\\n   -3.8382   -0.6322    1.0904 O   0  0  0  0  0  0  0  0  0  0  0  0\\n   -2.6564   -2.5350    1.3404 O   0  0  0  0  0  0  0  0  0  0  0  0\\n   -1.7049    0.7991    0.0089 C   0  0  0  0  0  0  0  0  0  0  0  0\\n   -0.6007    1.4368   -0.5184 C   0  0  0  0  0  0  0  0  0  0  0  0\\n   -0.7581    2.8320   -0.9114 C   0  0  0  0  0  0  0  0  0  0  0  0\\n   -1.8761    3.3873   -0.7558 O   0  0  0  0  0  0  0  0  0  0  0  0\\n    0.2742    3.5854   -1.4539 O   0  0  0  0  0  0  0  0  0  0  0  0\\n    0.6238    0.8057   -0.6816 C   0  0  0  0  0  0  0  0  0  0  0  0\\n  1  2  1  0\\n  2  3  1  0\\n  3  4  2  0\\n  4  5  1  0\\n  5  6  1  0\\n  6  7  2  0\\n  6  8  1  0\\n  5  9  2  0\\n  9 10  1  0\\n 10 11  1  0\\n 11 12  2  0\\n 11 13  1  0\\n 10 14  2  0\\n 14  3  1  0\\nM  END\\n\",\"sdf\");\n\tviewer_17284452507970846.setStyle({\"stick\": {}});\n\tviewer_17284452507970846.setStyle({\"model\": 0},{\"stick\": {\"colorscheme\": \"cyanCarbon\"}});\n\tviewer_17284452507970846.setStyle({\"model\": 1},{\"stick\": {\"colorscheme\": \"blueCarbon\"}});\n\tviewer_17284452507970846.zoomTo();\nviewer_17284452507970846.render();\n});\n</script>",
      "text/html": [
       "<div id=\"3dmolviewer_17284452507970846\"  style=\"position: relative; width: 400px; height: 400px;\">\n",
       "        <p id=\"3dmolwarning_17284452507970846\" style=\"background-color:#ffcccc;color:black\">3Dmol.js failed to load for some reason.  Please check your browser console for error messages.<br></p>\n",
       "        </div>\n",
       "<script>\n",
       "\n",
       "var loadScriptAsync = function(uri){\n",
       "  return new Promise((resolve, reject) => {\n",
       "    //this is to ignore the existence of requirejs amd\n",
       "    var savedexports, savedmodule;\n",
       "    if (typeof exports !== 'undefined') savedexports = exports;\n",
       "    else exports = {}\n",
       "    if (typeof module !== 'undefined') savedmodule = module;\n",
       "    else module = {}\n",
       "\n",
       "    var tag = document.createElement('script');\n",
       "    tag.src = uri;\n",
       "    tag.async = true;\n",
       "    tag.onload = () => {\n",
       "        exports = savedexports;\n",
       "        module = savedmodule;\n",
       "        resolve();\n",
       "    };\n",
       "  var firstScriptTag = document.getElementsByTagName('script')[0];\n",
       "  firstScriptTag.parentNode.insertBefore(tag, firstScriptTag);\n",
       "});\n",
       "};\n",
       "\n",
       "if(typeof $3Dmolpromise === 'undefined') {\n",
       "$3Dmolpromise = null;\n",
       "  $3Dmolpromise = loadScriptAsync('https://cdnjs.cloudflare.com/ajax/libs/3Dmol/2.4.0/3Dmol-min.js');\n",
       "}\n",
       "\n",
       "var viewer_17284452507970846 = null;\n",
       "var warn = document.getElementById(\"3dmolwarning_17284452507970846\");\n",
       "if(warn) {\n",
       "    warn.parentNode.removeChild(warn);\n",
       "}\n",
       "$3Dmolpromise.then(function() {\n",
       "viewer_17284452507970846 = $3Dmol.createViewer(document.getElementById(\"3dmolviewer_17284452507970846\"),{backgroundColor:\"white\"});\n",
       "viewer_17284452507970846.zoomTo();\n",
       "\tviewer_17284452507970846.removeAllModels();\n",
       "\tviewer_17284452507970846.addModel(\"\\n     RDKit          3D\\n\\n 14 14  0  0  0  0  0  0  0  0999 V2000\\n    2.9083   -1.1662    0.7671 C   0  0  0  0  0  0  0  0  0  0  0  0\\n    2.0149   -1.2542   -0.4246 C   0  0  0  0  0  0  0  0  0  0  0  0\\n    0.7447   -0.5041   -0.2932 C   0  0  0  0  0  0  0  0  0  0  0  0\\n   -0.3453   -1.1475    0.2326 C   0  0  0  0  0  0  0  0  0  0  0  0\\n   -1.5723   -0.5167    0.3898 C   0  0  0  0  0  0  0  0  0  0  0  0\\n   -2.7280   -1.2100    0.9509 C   0  0  0  0  0  0  0  0  0  0  0  0\\n   -3.8513   -0.6608    1.1038 O   0  0  0  0  0  0  0  0  0  0  0  0\\n   -2.5747   -2.5397    1.3325 O   0  0  0  0  0  0  0  0  0  0  0  0\\n   -1.6583    0.7992   -0.0073 C   0  0  0  0  0  0  0  0  0  0  0  0\\n   -0.5956    1.4961   -0.5422 C   0  0  0  0  0  0  0  0  0  0  0  0\\n   -0.7312    2.8973   -0.9521 C   0  0  0  0  0  0  0  0  0  0  0  0\\n    0.2505    3.5134   -1.4374 O   0  0  0  0  0  0  0  0  0  0  0  0\\n   -1.9311    3.5390   -0.8065 O   0  0  0  0  0  0  0  0  0  0  0  0\\n    0.5945    0.8149   -0.6724 C   0  0  0  0  0  0  0  0  0  0  0  0\\n  1  2  1  0\\n  2  3  1  0\\n  3  4  2  0\\n  4  5  1  0\\n  5  6  1  0\\n  6  7  2  0\\n  6  8  1  0\\n  5  9  2  0\\n  9 10  1  0\\n 10 11  1  0\\n 11 12  2  0\\n 11 13  1  0\\n 10 14  2  0\\n 14  3  1  0\\nM  END\\n\",\"sdf\");\n",
       "\tviewer_17284452507970846.setStyle({\"stick\": {}});\n",
       "\tviewer_17284452507970846.addModel(\"\\n     RDKit          3D\\n\\n 14 14  0  0  0  0  0  0  0  0999 V2000\\n    2.9462   -1.0221    0.7345 C   0  0  0  0  0  0  0  0  0  0  0  0\\n    2.0490   -1.1739   -0.4793 C   0  0  0  0  0  0  0  0  0  0  0  0\\n    0.7396   -0.5316   -0.2946 C   0  0  0  0  0  0  0  0  0  0  0  0\\n   -0.3639   -1.1701    0.2328 C   0  0  0  0  0  0  0  0  0  0  0  0\\n   -1.5722   -0.5209    0.3855 C   0  0  0  0  0  0  0  0  0  0  0  0\\n   -2.7372   -1.1997    0.9437 C   0  0  0  0  0  0  0  0  0  0  0  0\\n   -3.8382   -0.6322    1.0904 O   0  0  0  0  0  0  0  0  0  0  0  0\\n   -2.6564   -2.5350    1.3404 O   0  0  0  0  0  0  0  0  0  0  0  0\\n   -1.7049    0.7991    0.0089 C   0  0  0  0  0  0  0  0  0  0  0  0\\n   -0.6007    1.4368   -0.5184 C   0  0  0  0  0  0  0  0  0  0  0  0\\n   -0.7581    2.8320   -0.9114 C   0  0  0  0  0  0  0  0  0  0  0  0\\n   -1.8761    3.3873   -0.7558 O   0  0  0  0  0  0  0  0  0  0  0  0\\n    0.2742    3.5854   -1.4539 O   0  0  0  0  0  0  0  0  0  0  0  0\\n    0.6238    0.8057   -0.6816 C   0  0  0  0  0  0  0  0  0  0  0  0\\n  1  2  1  0\\n  2  3  1  0\\n  3  4  2  0\\n  4  5  1  0\\n  5  6  1  0\\n  6  7  2  0\\n  6  8  1  0\\n  5  9  2  0\\n  9 10  1  0\\n 10 11  1  0\\n 11 12  2  0\\n 11 13  1  0\\n 10 14  2  0\\n 14  3  1  0\\nM  END\\n\",\"sdf\");\n",
       "\tviewer_17284452507970846.setStyle({\"stick\": {}});\n",
       "\tviewer_17284452507970846.setStyle({\"model\": 0},{\"stick\": {\"colorscheme\": \"cyanCarbon\"}});\n",
       "\tviewer_17284452507970846.setStyle({\"model\": 1},{\"stick\": {\"colorscheme\": \"blueCarbon\"}});\n",
       "\tviewer_17284452507970846.zoomTo();\n",
       "viewer_17284452507970846.render();\n",
       "});\n",
       "</script>"
      ]
     },
     "metadata": {},
     "output_type": "display_data"
    }
   ],
   "source": [
    "m1 = Chem.RemoveHs(Chem.Mol(mh,confId=1))\n",
    "m2 = Chem.RemoveHs(Chem.Mol(mh,confId=0))\n",
    "rms = rdMolAlign.GetBestRMS(m1,m2,symmetrizeConjugatedTerminalGroups=False)\n",
    "print(f'{rms:.2f}')\n",
    "drawit([m1,m2])\n"
   ]
  },
  {
   "cell_type": "markdown",
   "id": "a86afacb",
   "metadata": {},
   "source": [
    "You can see here that one of the carboxylic acids is flipped. That's why the calculated RMSD is pretty high even though the overlay is quite good.\n",
    "\n",
    "Using `symmetrizeConjugatedTerminalGroups=True` (which is the default), the RMSD calculate treats the two oxygens of the carboxylic acid as equivalent and we get a much lower RMSD value:"
   ]
  },
  {
   "cell_type": "code",
   "execution_count": 40,
   "id": "56ab8982",
   "metadata": {},
   "outputs": [
    {
     "name": "stdout",
     "output_type": "stream",
     "text": [
      "0.08\n"
     ]
    }
   ],
   "source": [
    "rms = rdMolAlign.GetBestRMS(m1,m2)\n",
    "print(f'{rms:.2f}')\n"
   ]
  },
  {
   "cell_type": "markdown",
   "id": "fcc61e4c",
   "metadata": {},
   "source": [
    "If we look across a varietyof conformer pairs we can see that this frequently makes a difference in the RMSDs:"
   ]
  },
  {
   "cell_type": "code",
   "execution_count": 41,
   "id": "1a5f0b7f",
   "metadata": {},
   "outputs": [
    {
     "name": "stdout",
     "output_type": "stream",
     "text": [
      "1, 0: 0.08, 0.86\n",
      "2, 0: 0.08, 0.86\n",
      "2, 1: 0.09, 0.09\n",
      "3, 0: 0.06, 0.85\n",
      "3, 1: 0.08, 0.08\n",
      "3, 2: 0.04, 0.04\n",
      "4, 0: 0.08, 0.86\n",
      "4, 1: 0.07, 0.58\n",
      "4, 2: 0.12, 0.58\n",
      "4, 3: 0.10, 0.58\n"
     ]
    }
   ],
   "source": [
    "for i in range(5):\n",
    "    for j in range(i):\n",
    "        m1 = Chem.RemoveHs(Chem.Mol(mh,confId=cids[i]))\n",
    "        m2 = Chem.RemoveHs(Chem.Mol(mh,confId=cids[j]))\n",
    "        rms1 = rdMolAlign.GetBestRMS(m1,m2)\n",
    "        rms2 = rdMolAlign.GetBestRMS(m1,m2,symmetrizeConjugatedTerminalGroups=False)\n",
    "        print(f'{i}, {j}: {rms1:.2f}, {rms2:.2f}')\n"
   ]
  },
  {
   "cell_type": "markdown",
   "id": "6c1d21e9",
   "metadata": {},
   "source": [
    "The `symmetrizeConjugatedTerminalGroups` option was added (and made the default) in the 2022.09.1 release of the RDKit. In the 2024.03.1 release we added support for this behavior to the RMSD pruning done during conformer generation and made it the default.\n",
    "\n",
    "So if we turn on RMSD pruning for our simple test molecule, we now get only one conformer:"
   ]
  },
  {
   "cell_type": "code",
   "execution_count": 42,
   "id": "8975b2b9",
   "metadata": {},
   "outputs": [
    {
     "name": "stdout",
     "output_type": "stream",
     "text": [
      "1\n"
     ]
    }
   ],
   "source": [
    "ps = rdDistGeom.srETKDGv3()\n",
    "ps.randomSeed = 0xa100f\n",
    "ps.pruneRmsThresh = 0.5\n",
    "cids = rdDistGeom.EmbedMultipleConfs(mh,10,ps)\n",
    "print(len(cids))"
   ]
  },
  {
   "cell_type": "markdown",
   "id": "e677e84a",
   "metadata": {},
   "source": [
    "The symmetrization can be disabled:"
   ]
  },
  {
   "cell_type": "code",
   "execution_count": 43,
   "id": "b1dfd62c",
   "metadata": {},
   "outputs": [
    {
     "name": "stdout",
     "output_type": "stream",
     "text": [
      "3\n"
     ]
    }
   ],
   "source": [
    "ps.symmetrizeConjugatedTerminalGroupsForPruning=False\n",
    "cids = rdDistGeom.EmbedMultipleConfs(mh,10,ps)\n",
    "print(len(cids))"
   ]
  },
  {
   "cell_type": "markdown",
   "id": "0376dfab",
   "metadata": {},
   "source": [
    "# Interface fo the PubChem shape-based alignment code\n",
    "\n",
    "\n",
    "The PubChem team has recently published [pubchem-align3d](https://github.com/ncbi/pubchem-align3d/), an open-source library for doing fast shape-based alignment of molecules.\n",
    "\n",
    "We've put an RDKit wrapper around this and added it as an optional RDKit feature.\n",
    "\n",
    "The API here is likely to evolve over the next couple of releases."
   ]
  },
  {
   "cell_type": "markdown",
   "id": "9c33c987",
   "metadata": {},
   "source": [
    "Start by reading in a set of test molecules. We're using one of the sets from the paper \"An Extensive and Diverse Set of Molecular Overlays for the Validation of Pharmacophore Programs\" by [Ilena Giangreco and coworkers](https://doi.org/10.1021/ci400020a)"
   ]
  },
  {
   "cell_type": "code",
   "execution_count": 5,
   "id": "e68e6334",
   "metadata": {},
   "outputs": [
    {
     "name": "stderr",
     "output_type": "stream",
     "text": [
      "[07:11:49] Explicit valence for atom # 21 C, 5, is greater than permitted\n",
      "[07:11:49] ERROR: Could not sanitize molecule ending on line 1352\n",
      "[07:11:49] ERROR: Explicit valence for atom # 21 C, 5, is greater than permitted\n"
     ]
    },
    {
     "data": {
      "application/3dmoljs_load.v0": "<div id=\"3dmolviewer_1728537109109565\"  style=\"position: relative; width: 400px; height: 400px;\">\n        <p id=\"3dmolwarning_1728537109109565\" style=\"background-color:#ffcccc;color:black\">3Dmol.js failed to load for some reason.  Please check your browser console for error messages.<br></p>\n        </div>\n<script>\n\nvar loadScriptAsync = function(uri){\n  return new Promise((resolve, reject) => {\n    //this is to ignore the existence of requirejs amd\n    var savedexports, savedmodule;\n    if (typeof exports !== 'undefined') savedexports = exports;\n    else exports = {}\n    if (typeof module !== 'undefined') savedmodule = module;\n    else module = {}\n\n    var tag = document.createElement('script');\n    tag.src = uri;\n    tag.async = true;\n    tag.onload = () => {\n        exports = savedexports;\n        module = savedmodule;\n        resolve();\n    };\n  var firstScriptTag = document.getElementsByTagName('script')[0];\n  firstScriptTag.parentNode.insertBefore(tag, firstScriptTag);\n});\n};\n\nif(typeof $3Dmolpromise === 'undefined') {\n$3Dmolpromise = null;\n  $3Dmolpromise = loadScriptAsync('https://cdnjs.cloudflare.com/ajax/libs/3Dmol/2.4.0/3Dmol-min.js');\n}\n\nvar viewer_1728537109109565 = null;\nvar warn = document.getElementById(\"3dmolwarning_1728537109109565\");\nif(warn) {\n    warn.parentNode.removeChild(warn);\n}\n$3Dmolpromise.then(function() {\nviewer_1728537109109565 = $3Dmol.createViewer(document.getElementById(\"3dmolviewer_1728537109109565\"),{backgroundColor:\"white\"});\nviewer_1728537109109565.zoomTo();\n\tviewer_1728537109109565.removeAllModels();\n\tviewer_1728537109109565.addModel(\"1n1m_lig_A3M\\n     RDKit          3D\\n\\n 31 31  0  0  1  0  0  0  0  0999 V2000\\n   35.0860   47.5790   35.0350 C   0  0  0  0  0  0  0  0  0  0  0  0\\n   36.4150   48.4020   34.7020 C   0  0  0  0  0  0  0  0  0  0  0  0\\n   36.6190   49.2710   35.8730 N   0  0  0  0  0  0  0  0  0  0  0  0\\n   35.2580   49.5590   36.3520 C   0  0  0  0  0  0  0  0  0  0  0  0\\n   34.6620   48.1420   36.4620 C   0  0  0  0  0  0  0  0  0  0  0  0\\n   37.4840   50.4260   35.6040 C   0  0  0  0  0  0  0  0  0  0  0  0\\n   38.8560   50.3740   35.0990 C   0  0  2  0  0  0  0  0  0  0  0  0\\n   39.9730   50.3700   36.0850 C   0  0  0  0  0  0  0  0  0  0  0  0\\n   39.9680   49.2210   36.9950 C   0  0  0  0  0  0  0  0  0  0  0  0\\n   36.9730   51.6930   35.8390 O   0  0  0  0  0  0  0  0  0  0  0  0\\n   39.1290   51.4820   34.1430 N   0  0  0  0  0  0  0  0  0  0  0  0\\n   41.4580   50.3000   35.2790 C   0  0  0  0  0  0  0  0  0  0  0  0\\n   34.3360   47.7740   34.2690 H   0  0  0  0  0  0  0  0  0  0  0  0\\n   35.3130   46.5130   35.0570 H   0  0  0  0  0  0  0  0  0  0  0  0\\n   37.2450   47.7100   34.5620 H   0  0  0  0  0  0  0  0  0  0  0  0\\n   36.2660   48.9790   33.7890 H   0  0  0  0  0  0  0  0  0  0  0  0\\n   35.3120   50.0790   37.3090 H   0  0  0  0  0  0  0  0  0  0  0  0\\n   34.7430   50.1880   35.6260 H   0  0  0  0  0  0  0  0  0  0  0  0\\n   33.5760   48.1170   36.5560 H   0  0  0  0  0  0  0  0  0  0  0  0\\n   35.1070   47.5260   37.2430 H   0  0  0  0  0  0  0  0  0  0  0  0\\n   38.9720   49.5060   34.4500 H   0  0  0  0  0  0  0  0  0  0  0  0\\n   39.8990   51.2510   36.7210 H   0  0  0  0  0  0  0  0  0  0  0  0\\n   40.8140   49.2960   37.6800 H   0  0  0  0  0  0  0  0  0  0  0  0\\n   39.0400   49.2120   37.5660 H   0  0  0  0  0  0  0  0  0  0  0  0\\n   40.0480   48.3000   36.4180 H   0  0  0  0  0  0  0  0  0  0  0  0\\n   40.0820   51.4180   33.8140 H   0  0  0  0  0  0  0  0  0  0  0  0\\n   38.4970   51.4130   33.3580 H   0  0  0  0  0  0  0  0  0  0  0  0\\n   38.9930   52.3690   34.6060 H   0  0  0  0  0  0  0  0  0  0  0  0\\n   42.2680   50.2980   36.0090 H   0  0  0  0  0  0  0  0  0  0  0  0\\n   41.5060   49.3900   34.6820 H   0  0  0  0  0  0  0  0  0  0  0  0\\n   41.5600   51.1680   34.6280 H   0  0  0  0  0  0  0  0  0  0  0  0\\n  1  2  1  0\\n  1  5  1  0\\n  1 13  1  0\\n  1 14  1  0\\n  2  3  1  0\\n  2 15  1  0\\n  2 16  1  0\\n  3  4  1  0\\n  3  6  1  0\\n  4  5  1  0\\n  4 17  1  0\\n  4 18  1  0\\n  5 19  1  0\\n  5 20  1  0\\n  6  7  1  0\\n  6 10  2  0\\n  7  8  1  0\\n  7 11  1  0\\n  7 21  1  6\\n  8  9  1  0\\n  8 12  1  0\\n  8 22  1  0\\n  9 23  1  0\\n  9 24  1  0\\n  9 25  1  0\\n 11 26  1  0\\n 11 27  1  0\\n 11 28  1  0\\n 12 29  1  0\\n 12 30  1  0\\n 12 31  1  0\\nM  CHG  1  11   1\\nM  END\\n\",\"sdf\");\n\tviewer_1728537109109565.setStyle({\"stick\": {}});\n\tviewer_1728537109109565.setBackgroundColor(\"0xeeeeee\");\n\tviewer_1728537109109565.zoomTo();\nviewer_1728537109109565.render();\n});\n</script>",
      "text/html": [
       "<div id=\"3dmolviewer_1728537109109565\"  style=\"position: relative; width: 400px; height: 400px;\">\n",
       "        <p id=\"3dmolwarning_1728537109109565\" style=\"background-color:#ffcccc;color:black\">3Dmol.js failed to load for some reason.  Please check your browser console for error messages.<br></p>\n",
       "        </div>\n",
       "<script>\n",
       "\n",
       "var loadScriptAsync = function(uri){\n",
       "  return new Promise((resolve, reject) => {\n",
       "    //this is to ignore the existence of requirejs amd\n",
       "    var savedexports, savedmodule;\n",
       "    if (typeof exports !== 'undefined') savedexports = exports;\n",
       "    else exports = {}\n",
       "    if (typeof module !== 'undefined') savedmodule = module;\n",
       "    else module = {}\n",
       "\n",
       "    var tag = document.createElement('script');\n",
       "    tag.src = uri;\n",
       "    tag.async = true;\n",
       "    tag.onload = () => {\n",
       "        exports = savedexports;\n",
       "        module = savedmodule;\n",
       "        resolve();\n",
       "    };\n",
       "  var firstScriptTag = document.getElementsByTagName('script')[0];\n",
       "  firstScriptTag.parentNode.insertBefore(tag, firstScriptTag);\n",
       "});\n",
       "};\n",
       "\n",
       "if(typeof $3Dmolpromise === 'undefined') {\n",
       "$3Dmolpromise = null;\n",
       "  $3Dmolpromise = loadScriptAsync('https://cdnjs.cloudflare.com/ajax/libs/3Dmol/2.4.0/3Dmol-min.js');\n",
       "}\n",
       "\n",
       "var viewer_1728537109109565 = null;\n",
       "var warn = document.getElementById(\"3dmolwarning_1728537109109565\");\n",
       "if(warn) {\n",
       "    warn.parentNode.removeChild(warn);\n",
       "}\n",
       "$3Dmolpromise.then(function() {\n",
       "viewer_1728537109109565 = $3Dmol.createViewer(document.getElementById(\"3dmolviewer_1728537109109565\"),{backgroundColor:\"white\"});\n",
       "viewer_1728537109109565.zoomTo();\n",
       "\tviewer_1728537109109565.removeAllModels();\n",
       "\tviewer_1728537109109565.addModel(\"1n1m_lig_A3M\\n     RDKit          3D\\n\\n 31 31  0  0  1  0  0  0  0  0999 V2000\\n   35.0860   47.5790   35.0350 C   0  0  0  0  0  0  0  0  0  0  0  0\\n   36.4150   48.4020   34.7020 C   0  0  0  0  0  0  0  0  0  0  0  0\\n   36.6190   49.2710   35.8730 N   0  0  0  0  0  0  0  0  0  0  0  0\\n   35.2580   49.5590   36.3520 C   0  0  0  0  0  0  0  0  0  0  0  0\\n   34.6620   48.1420   36.4620 C   0  0  0  0  0  0  0  0  0  0  0  0\\n   37.4840   50.4260   35.6040 C   0  0  0  0  0  0  0  0  0  0  0  0\\n   38.8560   50.3740   35.0990 C   0  0  2  0  0  0  0  0  0  0  0  0\\n   39.9730   50.3700   36.0850 C   0  0  0  0  0  0  0  0  0  0  0  0\\n   39.9680   49.2210   36.9950 C   0  0  0  0  0  0  0  0  0  0  0  0\\n   36.9730   51.6930   35.8390 O   0  0  0  0  0  0  0  0  0  0  0  0\\n   39.1290   51.4820   34.1430 N   0  0  0  0  0  0  0  0  0  0  0  0\\n   41.4580   50.3000   35.2790 C   0  0  0  0  0  0  0  0  0  0  0  0\\n   34.3360   47.7740   34.2690 H   0  0  0  0  0  0  0  0  0  0  0  0\\n   35.3130   46.5130   35.0570 H   0  0  0  0  0  0  0  0  0  0  0  0\\n   37.2450   47.7100   34.5620 H   0  0  0  0  0  0  0  0  0  0  0  0\\n   36.2660   48.9790   33.7890 H   0  0  0  0  0  0  0  0  0  0  0  0\\n   35.3120   50.0790   37.3090 H   0  0  0  0  0  0  0  0  0  0  0  0\\n   34.7430   50.1880   35.6260 H   0  0  0  0  0  0  0  0  0  0  0  0\\n   33.5760   48.1170   36.5560 H   0  0  0  0  0  0  0  0  0  0  0  0\\n   35.1070   47.5260   37.2430 H   0  0  0  0  0  0  0  0  0  0  0  0\\n   38.9720   49.5060   34.4500 H   0  0  0  0  0  0  0  0  0  0  0  0\\n   39.8990   51.2510   36.7210 H   0  0  0  0  0  0  0  0  0  0  0  0\\n   40.8140   49.2960   37.6800 H   0  0  0  0  0  0  0  0  0  0  0  0\\n   39.0400   49.2120   37.5660 H   0  0  0  0  0  0  0  0  0  0  0  0\\n   40.0480   48.3000   36.4180 H   0  0  0  0  0  0  0  0  0  0  0  0\\n   40.0820   51.4180   33.8140 H   0  0  0  0  0  0  0  0  0  0  0  0\\n   38.4970   51.4130   33.3580 H   0  0  0  0  0  0  0  0  0  0  0  0\\n   38.9930   52.3690   34.6060 H   0  0  0  0  0  0  0  0  0  0  0  0\\n   42.2680   50.2980   36.0090 H   0  0  0  0  0  0  0  0  0  0  0  0\\n   41.5060   49.3900   34.6820 H   0  0  0  0  0  0  0  0  0  0  0  0\\n   41.5600   51.1680   34.6280 H   0  0  0  0  0  0  0  0  0  0  0  0\\n  1  2  1  0\\n  1  5  1  0\\n  1 13  1  0\\n  1 14  1  0\\n  2  3  1  0\\n  2 15  1  0\\n  2 16  1  0\\n  3  4  1  0\\n  3  6  1  0\\n  4  5  1  0\\n  4 17  1  0\\n  4 18  1  0\\n  5 19  1  0\\n  5 20  1  0\\n  6  7  1  0\\n  6 10  2  0\\n  7  8  1  0\\n  7 11  1  0\\n  7 21  1  6\\n  8  9  1  0\\n  8 12  1  0\\n  8 22  1  0\\n  9 23  1  0\\n  9 24  1  0\\n  9 25  1  0\\n 11 26  1  0\\n 11 27  1  0\\n 11 28  1  0\\n 12 29  1  0\\n 12 30  1  0\\n 12 31  1  0\\nM  CHG  1  11   1\\nM  END\\n\",\"sdf\");\n",
       "\tviewer_1728537109109565.setStyle({\"stick\": {}});\n",
       "\tviewer_1728537109109565.setBackgroundColor(\"0xeeeeee\");\n",
       "\tviewer_1728537109109565.zoomTo();\n",
       "viewer_1728537109109565.render();\n",
       "});\n",
       "</script>"
      ]
     },
     "metadata": {},
     "output_type": "display_data"
    },
    {
     "data": {
      "image/png": "[encoded data removed]",
      "text/html": [],
      "text/plain": [
       "<rdkit.Chem.rdchem.Mol at 0x7180809274c0>"
      ]
     },
     "execution_count": 5,
     "metadata": {},
     "output_type": "execute_result"
    }
   ],
   "source": [
    "import gzip\n",
    "from rdkit import Chem\n",
    "from rdkit.Chem import rdDistGeom\n",
    "from rdkit.Chem.Draw import IPythonConsole\n",
    "IPythonConsole.ipython_3d = True\n",
    "\n",
    "ms = [x for x in Chem.ForwardSDMolSupplier(gzip.open('../data/AZ_overlays/P27487.sdf.gz'),removeHs=False) if x is not None]\n",
    "len(ms)\n",
    "\n",
    "ref = ms.pop(0)\n",
    "ref"
   ]
  },
  {
   "cell_type": "markdown",
   "id": "d39e0ff5",
   "metadata": {},
   "source": [
    "Generate conformers for each of the molecules so that we have something to align"
   ]
  },
  {
   "cell_type": "code",
   "execution_count": 8,
   "id": "7e35cf61",
   "metadata": {},
   "outputs": [],
   "source": [
    "ps = rdDistGeom.srETKDGv3()\n",
    "ps.randomSeed = 0xa100f\n",
    "ps.numThreads = 8\n",
    "for m in ms:\n",
    "    rdDistGeom.EmbedMultipleConfs(m,100,ps)"
   ]
  },
  {
   "cell_type": "code",
   "execution_count": 9,
   "id": "0c0ad37b",
   "metadata": {},
   "outputs": [
    {
     "data": {
      "text/plain": [
       "37"
      ]
     },
     "execution_count": 9,
     "metadata": {},
     "output_type": "execute_result"
    }
   ],
   "source": [
    "len(ms)"
   ]
  },
  {
   "cell_type": "markdown",
   "id": "c4f76f1f",
   "metadata": {},
   "source": [
    "Make a copy of the molecules so that we can play with them"
   ]
  },
  {
   "cell_type": "code",
   "execution_count": 10,
   "id": "62e14fcb",
   "metadata": {},
   "outputs": [],
   "source": [
    "import copy\n",
    "ms_save = copy.deepcopy(ms)"
   ]
  },
  {
   "cell_type": "code",
   "execution_count": 11,
   "id": "cad1cae9",
   "metadata": {},
   "outputs": [],
   "source": [
    "ms = copy.deepcopy(ms_save)"
   ]
  },
  {
   "cell_type": "markdown",
   "id": "b88153a0",
   "metadata": {},
   "source": [
    "Look at the two molecules to align, just to see where we are starting."
   ]
  },
  {
   "cell_type": "code",
   "execution_count": 12,
   "id": "7327395f",
   "metadata": {},
   "outputs": [
    {
     "data": {
      "application/3dmoljs_load.v0": "<div id=\"3dmolviewer_1728537170695931\"  style=\"position: relative; width: 400px; height: 400px;\">\n        <p id=\"3dmolwarning_1728537170695931\" style=\"background-color:#ffcccc;color:black\">3Dmol.js failed to load for some reason.  Please check your browser console for error messages.<br></p>\n        </div>\n<script>\n\nvar loadScriptAsync = function(uri){\n  return new Promise((resolve, reject) => {\n    //this is to ignore the existence of requirejs amd\n    var savedexports, savedmodule;\n    if (typeof exports !== 'undefined') savedexports = exports;\n    else exports = {}\n    if (typeof module !== 'undefined') savedmodule = module;\n    else module = {}\n\n    var tag = document.createElement('script');\n    tag.src = uri;\n    tag.async = true;\n    tag.onload = () => {\n        exports = savedexports;\n        module = savedmodule;\n        resolve();\n    };\n  var firstScriptTag = document.getElementsByTagName('script')[0];\n  firstScriptTag.parentNode.insertBefore(tag, firstScriptTag);\n});\n};\n\nif(typeof $3Dmolpromise === 'undefined') {\n$3Dmolpromise = null;\n  $3Dmolpromise = loadScriptAsync('https://cdnjs.cloudflare.com/ajax/libs/3Dmol/2.4.0/3Dmol-min.js');\n}\n\nvar viewer_1728537170695931 = null;\nvar warn = document.getElementById(\"3dmolwarning_1728537170695931\");\nif(warn) {\n    warn.parentNode.removeChild(warn);\n}\n$3Dmolpromise.then(function() {\nviewer_1728537170695931 = $3Dmol.createViewer(document.getElementById(\"3dmolviewer_1728537170695931\"),{backgroundColor:\"white\"});\nviewer_1728537170695931.zoomTo();\n\tviewer_1728537170695931.removeAllModels();\n\tviewer_1728537170695931.addModel(\"1n1m_lig_A3M\\n     RDKit          3D\\n\\n 31 31  0  0  1  0  0  0  0  0999 V2000\\n   35.0860   47.5790   35.0350 C   0  0  0  0  0  0  0  0  0  0  0  0\\n   36.4150   48.4020   34.7020 C   0  0  0  0  0  0  0  0  0  0  0  0\\n   36.6190   49.2710   35.8730 N   0  0  0  0  0  0  0  0  0  0  0  0\\n   35.2580   49.5590   36.3520 C   0  0  0  0  0  0  0  0  0  0  0  0\\n   34.6620   48.1420   36.4620 C   0  0  0  0  0  0  0  0  0  0  0  0\\n   37.4840   50.4260   35.6040 C   0  0  0  0  0  0  0  0  0  0  0  0\\n   38.8560   50.3740   35.0990 C   0  0  2  0  0  0  0  0  0  0  0  0\\n   39.9730   50.3700   36.0850 C   0  0  0  0  0  0  0  0  0  0  0  0\\n   39.9680   49.2210   36.9950 C   0  0  0  0  0  0  0  0  0  0  0  0\\n   36.9730   51.6930   35.8390 O   0  0  0  0  0  0  0  0  0  0  0  0\\n   39.1290   51.4820   34.1430 N   0  0  0  0  0  0  0  0  0  0  0  0\\n   41.4580   50.3000   35.2790 C   0  0  0  0  0  0  0  0  0  0  0  0\\n   34.3360   47.7740   34.2690 H   0  0  0  0  0  0  0  0  0  0  0  0\\n   35.3130   46.5130   35.0570 H   0  0  0  0  0  0  0  0  0  0  0  0\\n   37.2450   47.7100   34.5620 H   0  0  0  0  0  0  0  0  0  0  0  0\\n   36.2660   48.9790   33.7890 H   0  0  0  0  0  0  0  0  0  0  0  0\\n   35.3120   50.0790   37.3090 H   0  0  0  0  0  0  0  0  0  0  0  0\\n   34.7430   50.1880   35.6260 H   0  0  0  0  0  0  0  0  0  0  0  0\\n   33.5760   48.1170   36.5560 H   0  0  0  0  0  0  0  0  0  0  0  0\\n   35.1070   47.5260   37.2430 H   0  0  0  0  0  0  0  0  0  0  0  0\\n   38.9720   49.5060   34.4500 H   0  0  0  0  0  0  0  0  0  0  0  0\\n   39.8990   51.2510   36.7210 H   0  0  0  0  0  0  0  0  0  0  0  0\\n   40.8140   49.2960   37.6800 H   0  0  0  0  0  0  0  0  0  0  0  0\\n   39.0400   49.2120   37.5660 H   0  0  0  0  0  0  0  0  0  0  0  0\\n   40.0480   48.3000   36.4180 H   0  0  0  0  0  0  0  0  0  0  0  0\\n   40.0820   51.4180   33.8140 H   0  0  0  0  0  0  0  0  0  0  0  0\\n   38.4970   51.4130   33.3580 H   0  0  0  0  0  0  0  0  0  0  0  0\\n   38.9930   52.3690   34.6060 H   0  0  0  0  0  0  0  0  0  0  0  0\\n   42.2680   50.2980   36.0090 H   0  0  0  0  0  0  0  0  0  0  0  0\\n   41.5060   49.3900   34.6820 H   0  0  0  0  0  0  0  0  0  0  0  0\\n   41.5600   51.1680   34.6280 H   0  0  0  0  0  0  0  0  0  0  0  0\\n  1  2  1  0\\n  1  5  1  0\\n  1 13  1  0\\n  1 14  1  0\\n  2  3  1  0\\n  2 15  1  0\\n  2 16  1  0\\n  3  4  1  0\\n  3  6  1  0\\n  4  5  1  0\\n  4 17  1  0\\n  4 18  1  0\\n  5 19  1  0\\n  5 20  1  0\\n  6  7  1  0\\n  6 10  2  0\\n  7  8  1  0\\n  7 11  1  0\\n  7 21  1  6\\n  8  9  1  0\\n  8 12  1  0\\n  8 22  1  0\\n  9 23  1  0\\n  9 24  1  0\\n  9 25  1  0\\n 11 26  1  0\\n 11 27  1  0\\n 11 28  1  0\\n 12 29  1  0\\n 12 30  1  0\\n 12 31  1  0\\nM  CHG  1  11   1\\nM  END\\n\",\"sdf\");\n\tviewer_1728537170695931.setStyle({\"stick\": {}});\n\tviewer_1728537170695931.addModel(\"1rwq_lig_5AP\\n     RDKit          3D\\n\\n 43 45  0  0  1  0  0  0  0  0999 V2000\\n    1.8235    1.7553    1.5163 Cl  0  0  0  0  0  0  0  0  0  0  0  0\\n    2.8830    1.5354    0.1130 C   0  0  0  0  0  0  0  0  0  0  0  0\\n    3.8773    2.4564   -0.1761 C   0  0  0  0  0  0  0  0  0  0  0  0\\n    4.7040    2.2782   -1.2731 C   0  0  0  0  0  0  0  0  0  0  0  0\\n    5.9704    3.4346   -1.6556 Cl  0  0  0  0  0  0  0  0  0  0  0  0\\n    4.5428    1.1601   -2.1051 C   0  0  0  0  0  0  0  0  0  0  0  0\\n    3.5364    0.2259   -1.8147 C   0  0  0  0  0  0  0  0  0  0  0  0\\n    2.7236    0.4184   -0.7204 C   0  0  0  0  0  0  0  0  0  0  0  0\\n    1.6535   -0.4946   -0.3375 C   0  0  0  0  0  0  0  0  0  0  0  0\\n    1.8573   -1.8485   -0.1210 C   0  0  0  0  0  0  0  0  0  0  0  0\\n    3.1990   -2.3941   -0.2877 C   0  0  0  0  0  0  0  0  0  0  0  0\\n    3.9286   -2.4804    0.7989 N   0  0  0  0  0  0  0  0  0  0  0  0\\n    0.7806   -2.6198    0.2515 C   0  0  0  0  0  0  0  0  0  0  0  0\\n    1.0400   -4.0120    0.4645 N   0  0  0  0  0  0  0  0  0  0  0  0\\n    0.4214    0.0151   -0.1778 N   0  0  0  0  0  0  0  0  0  0  0  0\\n   -0.6143   -0.7624    0.1880 C   0  0  0  0  0  0  0  0  0  0  0  0\\n   -0.4389   -2.0754    0.4024 N   0  0  0  0  0  0  0  0  0  0  0  0\\n   -1.9143   -0.1108    0.3297 C   0  0  0  0  0  0  0  0  0  0  0  0\\n   -3.0313   -0.7835    0.7867 C   0  0  0  0  0  0  0  0  0  0  0  0\\n   -4.2073   -0.1017    0.9117 C   0  0  0  0  0  0  0  0  0  0  0  0\\n   -5.3824   -0.7293    1.3740 O   0  0  0  0  0  0  0  0  0  0  0  0\\n   -5.2530   -2.1060    1.6992 C   0  0  0  0  0  0  0  0  0  0  0  0\\n   -4.3458    1.2445    0.6016 C   0  0  0  0  0  0  0  0  0  0  0  0\\n   -3.2423    1.9233    0.1462 C   0  0  0  0  0  0  0  0  0  0  0  0\\n   -2.0700    1.2206    0.0282 C   0  0  0  0  0  0  0  0  0  0  0  0\\n   -3.2415    3.2656   -0.1988 O   0  0  0  0  0  0  0  0  0  0  0  0\\n   -2.0788    3.9278   -0.6692 C   0  0  0  0  0  0  0  0  0  0  0  0\\n    3.9856    3.3100    0.4788 H   0  0  0  0  0  0  0  0  0  0  0  0\\n    5.1883    1.0076   -2.9719 H   0  0  0  0  0  0  0  0  0  0  0  0\\n    3.3797   -0.6468   -2.4325 H   0  0  0  0  0  0  0  0  0  0  0  0\\n    3.5926   -2.7168   -1.2579 H   0  0  0  0  0  0  0  0  0  0  0  0\\n    4.8990   -2.8639    0.7390 H   0  0  0  0  0  0  0  0  0  0  0  0\\n    1.5665   -4.4937   -0.3210 H   0  0  0  0  0  0  0  0  0  0  0  0\\n    0.7269   -4.4783    1.3246 H   0  0  0  0  0  0  0  0  0  0  0  0\\n   -2.9588   -1.8257    1.0351 H   0  0  0  0  0  0  0  0  0  0  0  0\\n   -6.2429   -2.4626    2.1079 H   0  0  0  0  0  0  0  0  0  0  0  0\\n   -4.8952   -2.7294    0.8629 H   0  0  0  0  0  0  0  0  0  0  0  0\\n   -4.5382   -2.2485    2.5468 H   0  0  0  0  0  0  0  0  0  0  0  0\\n   -5.2609    1.7900    0.6956 H   0  0  0  0  0  0  0  0  0  0  0  0\\n   -1.1855    1.7534   -0.3345 H   0  0  0  0  0  0  0  0  0  0  0  0\\n   -1.3272    4.0657    0.1193 H   0  0  0  0  0  0  0  0  0  0  0  0\\n   -1.6440    3.3298   -1.5264 H   0  0  0  0  0  0  0  0  0  0  0  0\\n   -2.4071    4.8668   -1.1409 H   0  0  0  0  0  0  0  0  0  0  0  0\\n  1  2  1  0\\n  2  3  2  0\\n  2  8  1  0\\n  3  4  1  0\\n  3 28  1  0\\n  4  5  1  0\\n  4  6  2  0\\n  6  7  1  0\\n  6 29  1  0\\n  7  8  2  0\\n  7 30  1  0\\n  8  9  1  0\\n  9 10  2  0\\n  9 15  1  0\\n 10 11  1  0\\n 10 13  1  0\\n 11 12  2  0\\n 11 31  1  0\\n 12 32  1  0\\n 13 14  1  0\\n 13 17  2  0\\n 14 33  1  0\\n 14 34  1  0\\n 15 16  2  0\\n 16 17  1  0\\n 16 18  1  0\\n 18 19  2  0\\n 18 25  1  0\\n 19 20  1  0\\n 19 35  1  0\\n 20 21  1  0\\n 20 23  2  0\\n 21 22  1  0\\n 22 36  1  0\\n 22 37  1  0\\n 22 38  1  0\\n 23 24  1  0\\n 23 39  1  0\\n 24 25  2  0\\n 24 26  1  0\\n 25 40  1  0\\n 26 27  1  0\\n 27 41  1  0\\n 27 42  1  0\\n 27 43  1  0\\nM  END\\n\",\"sdf\");\n\tviewer_1728537170695931.setStyle({\"stick\": {}});\n\tviewer_1728537170695931.setStyle({\"model\": 0},{\"stick\": {\"colorscheme\": \"cyanCarbon\"}});\n\tviewer_1728537170695931.setStyle({\"model\": 1},{\"stick\": {\"colorscheme\": \"blueCarbon\"}});\n\tviewer_1728537170695931.zoomTo();\nviewer_1728537170695931.render();\n});\n</script>",
      "text/html": [
       "<div id=\"3dmolviewer_1728537170695931\"  style=\"position: relative; width: 400px; height: 400px;\">\n",
       "        <p id=\"3dmolwarning_1728537170695931\" style=\"background-color:#ffcccc;color:black\">3Dmol.js failed to load for some reason.  Please check your browser console for error messages.<br></p>\n",
       "        </div>\n",
       "<script>\n",
       "\n",
       "var loadScriptAsync = function(uri){\n",
       "  return new Promise((resolve, reject) => {\n",
       "    //this is to ignore the existence of requirejs amd\n",
       "    var savedexports, savedmodule;\n",
       "    if (typeof exports !== 'undefined') savedexports = exports;\n",
       "    else exports = {}\n",
       "    if (typeof module !== 'undefined') savedmodule = module;\n",
       "    else module = {}\n",
       "\n",
       "    var tag = document.createElement('script');\n",
       "    tag.src = uri;\n",
       "    tag.async = true;\n",
       "    tag.onload = () => {\n",
       "        exports = savedexports;\n",
       "        module = savedmodule;\n",
       "        resolve();\n",
       "    };\n",
       "  var firstScriptTag = document.getElementsByTagName('script')[0];\n",
       "  firstScriptTag.parentNode.insertBefore(tag, firstScriptTag);\n",
       "});\n",
       "};\n",
       "\n",
       "if(typeof $3Dmolpromise === 'undefined') {\n",
       "$3Dmolpromise = null;\n",
       "  $3Dmolpromise = loadScriptAsync('https://cdnjs.cloudflare.com/ajax/libs/3Dmol/2.4.0/3Dmol-min.js');\n",
       "}\n",
       "\n",
       "var viewer_1728537170695931 = null;\n",
       "var warn = document.getElementById(\"3dmolwarning_1728537170695931\");\n",
       "if(warn) {\n",
       "    warn.parentNode.removeChild(warn);\n",
       "}\n",
       "$3Dmolpromise.then(function() {\n",
       "viewer_1728537170695931 = $3Dmol.createViewer(document.getElementById(\"3dmolviewer_1728537170695931\"),{backgroundColor:\"white\"});\n",
       "viewer_1728537170695931.zoomTo();\n",
       "\tviewer_1728537170695931.removeAllModels();\n",
       "\tviewer_1728537170695931.addModel(\"1n1m_lig_A3M\\n     RDKit          3D\\n\\n 31 31  0  0  1  0  0  0  0  0999 V2000\\n   35.0860   47.5790   35.0350 C   0  0  0  0  0  0  0  0  0  0  0  0\\n   36.4150   48.4020   34.7020 C   0  0  0  0  0  0  0  0  0  0  0  0\\n   36.6190   49.2710   35.8730 N   0  0  0  0  0  0  0  0  0  0  0  0\\n   35.2580   49.5590   36.3520 C   0  0  0  0  0  0  0  0  0  0  0  0\\n   34.6620   48.1420   36.4620 C   0  0  0  0  0  0  0  0  0  0  0  0\\n   37.4840   50.4260   35.6040 C   0  0  0  0  0  0  0  0  0  0  0  0\\n   38.8560   50.3740   35.0990 C   0  0  2  0  0  0  0  0  0  0  0  0\\n   39.9730   50.3700   36.0850 C   0  0  0  0  0  0  0  0  0  0  0  0\\n   39.9680   49.2210   36.9950 C   0  0  0  0  0  0  0  0  0  0  0  0\\n   36.9730   51.6930   35.8390 O   0  0  0  0  0  0  0  0  0  0  0  0\\n   39.1290   51.4820   34.1430 N   0  0  0  0  0  0  0  0  0  0  0  0\\n   41.4580   50.3000   35.2790 C   0  0  0  0  0  0  0  0  0  0  0  0\\n   34.3360   47.7740   34.2690 H   0  0  0  0  0  0  0  0  0  0  0  0\\n   35.3130   46.5130   35.0570 H   0  0  0  0  0  0  0  0  0  0  0  0\\n   37.2450   47.7100   34.5620 H   0  0  0  0  0  0  0  0  0  0  0  0\\n   36.2660   48.9790   33.7890 H   0  0  0  0  0  0  0  0  0  0  0  0\\n   35.3120   50.0790   37.3090 H   0  0  0  0  0  0  0  0  0  0  0  0\\n   34.7430   50.1880   35.6260 H   0  0  0  0  0  0  0  0  0  0  0  0\\n   33.5760   48.1170   36.5560 H   0  0  0  0  0  0  0  0  0  0  0  0\\n   35.1070   47.5260   37.2430 H   0  0  0  0  0  0  0  0  0  0  0  0\\n   38.9720   49.5060   34.4500 H   0  0  0  0  0  0  0  0  0  0  0  0\\n   39.8990   51.2510   36.7210 H   0  0  0  0  0  0  0  0  0  0  0  0\\n   40.8140   49.2960   37.6800 H   0  0  0  0  0  0  0  0  0  0  0  0\\n   39.0400   49.2120   37.5660 H   0  0  0  0  0  0  0  0  0  0  0  0\\n   40.0480   48.3000   36.4180 H   0  0  0  0  0  0  0  0  0  0  0  0\\n   40.0820   51.4180   33.8140 H   0  0  0  0  0  0  0  0  0  0  0  0\\n   38.4970   51.4130   33.3580 H   0  0  0  0  0  0  0  0  0  0  0  0\\n   38.9930   52.3690   34.6060 H   0  0  0  0  0  0  0  0  0  0  0  0\\n   42.2680   50.2980   36.0090 H   0  0  0  0  0  0  0  0  0  0  0  0\\n   41.5060   49.3900   34.6820 H   0  0  0  0  0  0  0  0  0  0  0  0\\n   41.5600   51.1680   34.6280 H   0  0  0  0  0  0  0  0  0  0  0  0\\n  1  2  1  0\\n  1  5  1  0\\n  1 13  1  0\\n  1 14  1  0\\n  2  3  1  0\\n  2 15  1  0\\n  2 16  1  0\\n  3  4  1  0\\n  3  6  1  0\\n  4  5  1  0\\n  4 17  1  0\\n  4 18  1  0\\n  5 19  1  0\\n  5 20  1  0\\n  6  7  1  0\\n  6 10  2  0\\n  7  8  1  0\\n  7 11  1  0\\n  7 21  1  6\\n  8  9  1  0\\n  8 12  1  0\\n  8 22  1  0\\n  9 23  1  0\\n  9 24  1  0\\n  9 25  1  0\\n 11 26  1  0\\n 11 27  1  0\\n 11 28  1  0\\n 12 29  1  0\\n 12 30  1  0\\n 12 31  1  0\\nM  CHG  1  11   1\\nM  END\\n\",\"sdf\");\n",
       "\tviewer_1728537170695931.setStyle({\"stick\": {}});\n",
       "\tviewer_1728537170695931.addModel(\"1rwq_lig_5AP\\n     RDKit          3D\\n\\n 43 45  0  0  1  0  0  0  0  0999 V2000\\n    1.8235    1.7553    1.5163 Cl  0  0  0  0  0  0  0  0  0  0  0  0\\n    2.8830    1.5354    0.1130 C   0  0  0  0  0  0  0  0  0  0  0  0\\n    3.8773    2.4564   -0.1761 C   0  0  0  0  0  0  0  0  0  0  0  0\\n    4.7040    2.2782   -1.2731 C   0  0  0  0  0  0  0  0  0  0  0  0\\n    5.9704    3.4346   -1.6556 Cl  0  0  0  0  0  0  0  0  0  0  0  0\\n    4.5428    1.1601   -2.1051 C   0  0  0  0  0  0  0  0  0  0  0  0\\n    3.5364    0.2259   -1.8147 C   0  0  0  0  0  0  0  0  0  0  0  0\\n    2.7236    0.4184   -0.7204 C   0  0  0  0  0  0  0  0  0  0  0  0\\n    1.6535   -0.4946   -0.3375 C   0  0  0  0  0  0  0  0  0  0  0  0\\n    1.8573   -1.8485   -0.1210 C   0  0  0  0  0  0  0  0  0  0  0  0\\n    3.1990   -2.3941   -0.2877 C   0  0  0  0  0  0  0  0  0  0  0  0\\n    3.9286   -2.4804    0.7989 N   0  0  0  0  0  0  0  0  0  0  0  0\\n    0.7806   -2.6198    0.2515 C   0  0  0  0  0  0  0  0  0  0  0  0\\n    1.0400   -4.0120    0.4645 N   0  0  0  0  0  0  0  0  0  0  0  0\\n    0.4214    0.0151   -0.1778 N   0  0  0  0  0  0  0  0  0  0  0  0\\n   -0.6143   -0.7624    0.1880 C   0  0  0  0  0  0  0  0  0  0  0  0\\n   -0.4389   -2.0754    0.4024 N   0  0  0  0  0  0  0  0  0  0  0  0\\n   -1.9143   -0.1108    0.3297 C   0  0  0  0  0  0  0  0  0  0  0  0\\n   -3.0313   -0.7835    0.7867 C   0  0  0  0  0  0  0  0  0  0  0  0\\n   -4.2073   -0.1017    0.9117 C   0  0  0  0  0  0  0  0  0  0  0  0\\n   -5.3824   -0.7293    1.3740 O   0  0  0  0  0  0  0  0  0  0  0  0\\n   -5.2530   -2.1060    1.6992 C   0  0  0  0  0  0  0  0  0  0  0  0\\n   -4.3458    1.2445    0.6016 C   0  0  0  0  0  0  0  0  0  0  0  0\\n   -3.2423    1.9233    0.1462 C   0  0  0  0  0  0  0  0  0  0  0  0\\n   -2.0700    1.2206    0.0282 C   0  0  0  0  0  0  0  0  0  0  0  0\\n   -3.2415    3.2656   -0.1988 O   0  0  0  0  0  0  0  0  0  0  0  0\\n   -2.0788    3.9278   -0.6692 C   0  0  0  0  0  0  0  0  0  0  0  0\\n    3.9856    3.3100    0.4788 H   0  0  0  0  0  0  0  0  0  0  0  0\\n    5.1883    1.0076   -2.9719 H   0  0  0  0  0  0  0  0  0  0  0  0\\n    3.3797   -0.6468   -2.4325 H   0  0  0  0  0  0  0  0  0  0  0  0\\n    3.5926   -2.7168   -1.2579 H   0  0  0  0  0  0  0  0  0  0  0  0\\n    4.8990   -2.8639    0.7390 H   0  0  0  0  0  0  0  0  0  0  0  0\\n    1.5665   -4.4937   -0.3210 H   0  0  0  0  0  0  0  0  0  0  0  0\\n    0.7269   -4.4783    1.3246 H   0  0  0  0  0  0  0  0  0  0  0  0\\n   -2.9588   -1.8257    1.0351 H   0  0  0  0  0  0  0  0  0  0  0  0\\n   -6.2429   -2.4626    2.1079 H   0  0  0  0  0  0  0  0  0  0  0  0\\n   -4.8952   -2.7294    0.8629 H   0  0  0  0  0  0  0  0  0  0  0  0\\n   -4.5382   -2.2485    2.5468 H   0  0  0  0  0  0  0  0  0  0  0  0\\n   -5.2609    1.7900    0.6956 H   0  0  0  0  0  0  0  0  0  0  0  0\\n   -1.1855    1.7534   -0.3345 H   0  0  0  0  0  0  0  0  0  0  0  0\\n   -1.3272    4.0657    0.1193 H   0  0  0  0  0  0  0  0  0  0  0  0\\n   -1.6440    3.3298   -1.5264 H   0  0  0  0  0  0  0  0  0  0  0  0\\n   -2.4071    4.8668   -1.1409 H   0  0  0  0  0  0  0  0  0  0  0  0\\n  1  2  1  0\\n  2  3  2  0\\n  2  8  1  0\\n  3  4  1  0\\n  3 28  1  0\\n  4  5  1  0\\n  4  6  2  0\\n  6  7  1  0\\n  6 29  1  0\\n  7  8  2  0\\n  7 30  1  0\\n  8  9  1  0\\n  9 10  2  0\\n  9 15  1  0\\n 10 11  1  0\\n 10 13  1  0\\n 11 12  2  0\\n 11 31  1  0\\n 12 32  1  0\\n 13 14  1  0\\n 13 17  2  0\\n 14 33  1  0\\n 14 34  1  0\\n 15 16  2  0\\n 16 17  1  0\\n 16 18  1  0\\n 18 19  2  0\\n 18 25  1  0\\n 19 20  1  0\\n 19 35  1  0\\n 20 21  1  0\\n 20 23  2  0\\n 21 22  1  0\\n 22 36  1  0\\n 22 37  1  0\\n 22 38  1  0\\n 23 24  1  0\\n 23 39  1  0\\n 24 25  2  0\\n 24 26  1  0\\n 25 40  1  0\\n 26 27  1  0\\n 27 41  1  0\\n 27 42  1  0\\n 27 43  1  0\\nM  END\\n\",\"sdf\");\n",
       "\tviewer_1728537170695931.setStyle({\"stick\": {}});\n",
       "\tviewer_1728537170695931.setStyle({\"model\": 0},{\"stick\": {\"colorscheme\": \"cyanCarbon\"}});\n",
       "\tviewer_1728537170695931.setStyle({\"model\": 1},{\"stick\": {\"colorscheme\": \"blueCarbon\"}});\n",
       "\tviewer_1728537170695931.zoomTo();\n",
       "viewer_1728537170695931.render();\n",
       "});\n",
       "</script>"
      ]
     },
     "metadata": {},
     "output_type": "display_data"
    }
   ],
   "source": [
    "drawit([ref,ms[0]])"
   ]
  },
  {
   "cell_type": "markdown",
   "id": "b215966b",
   "metadata": {},
   "source": [
    "Now align those and show the results:"
   ]
  },
  {
   "cell_type": "code",
   "execution_count": 13,
   "id": "9722dea2",
   "metadata": {},
   "outputs": [
    {
     "name": "stdout",
     "output_type": "stream",
     "text": [
      "(0.4333876003130784, 0.03657366774970186)\n"
     ]
    },
    {
     "data": {
      "application/3dmoljs_load.v0": "<div id=\"3dmolviewer_17285371717767177\"  style=\"position: relative; width: 400px; height: 400px;\">\n        <p id=\"3dmolwarning_17285371717767177\" style=\"background-color:#ffcccc;color:black\">3Dmol.js failed to load for some reason.  Please check your browser console for error messages.<br></p>\n        </div>\n<script>\n\nvar loadScriptAsync = function(uri){\n  return new Promise((resolve, reject) => {\n    //this is to ignore the existence of requirejs amd\n    var savedexports, savedmodule;\n    if (typeof exports !== 'undefined') savedexports = exports;\n    else exports = {}\n    if (typeof module !== 'undefined') savedmodule = module;\n    else module = {}\n\n    var tag = document.createElement('script');\n    tag.src = uri;\n    tag.async = true;\n    tag.onload = () => {\n        exports = savedexports;\n        module = savedmodule;\n        resolve();\n    };\n  var firstScriptTag = document.getElementsByTagName('script')[0];\n  firstScriptTag.parentNode.insertBefore(tag, firstScriptTag);\n});\n};\n\nif(typeof $3Dmolpromise === 'undefined') {\n$3Dmolpromise = null;\n  $3Dmolpromise = loadScriptAsync('https://cdnjs.cloudflare.com/ajax/libs/3Dmol/2.4.0/3Dmol-min.js');\n}\n\nvar viewer_17285371717767177 = null;\nvar warn = document.getElementById(\"3dmolwarning_17285371717767177\");\nif(warn) {\n    warn.parentNode.removeChild(warn);\n}\n$3Dmolpromise.then(function() {\nviewer_17285371717767177 = $3Dmol.createViewer(document.getElementById(\"3dmolviewer_17285371717767177\"),{backgroundColor:\"white\"});\nviewer_17285371717767177.zoomTo();\n\tviewer_17285371717767177.removeAllModels();\n\tviewer_17285371717767177.addModel(\"1n1m_lig_A3M\\n     RDKit          3D\\n\\n 31 31  0  0  1  0  0  0  0  0999 V2000\\n   35.0860   47.5790   35.0350 C   0  0  0  0  0  0  0  0  0  0  0  0\\n   36.4150   48.4020   34.7020 C   0  0  0  0  0  0  0  0  0  0  0  0\\n   36.6190   49.2710   35.8730 N   0  0  0  0  0  0  0  0  0  0  0  0\\n   35.2580   49.5590   36.3520 C   0  0  0  0  0  0  0  0  0  0  0  0\\n   34.6620   48.1420   36.4620 C   0  0  0  0  0  0  0  0  0  0  0  0\\n   37.4840   50.4260   35.6040 C   0  0  0  0  0  0  0  0  0  0  0  0\\n   38.8560   50.3740   35.0990 C   0  0  2  0  0  0  0  0  0  0  0  0\\n   39.9730   50.3700   36.0850 C   0  0  0  0  0  0  0  0  0  0  0  0\\n   39.9680   49.2210   36.9950 C   0  0  0  0  0  0  0  0  0  0  0  0\\n   36.9730   51.6930   35.8390 O   0  0  0  0  0  0  0  0  0  0  0  0\\n   39.1290   51.4820   34.1430 N   0  0  0  0  0  0  0  0  0  0  0  0\\n   41.4580   50.3000   35.2790 C   0  0  0  0  0  0  0  0  0  0  0  0\\n   34.3360   47.7740   34.2690 H   0  0  0  0  0  0  0  0  0  0  0  0\\n   35.3130   46.5130   35.0570 H   0  0  0  0  0  0  0  0  0  0  0  0\\n   37.2450   47.7100   34.5620 H   0  0  0  0  0  0  0  0  0  0  0  0\\n   36.2660   48.9790   33.7890 H   0  0  0  0  0  0  0  0  0  0  0  0\\n   35.3120   50.0790   37.3090 H   0  0  0  0  0  0  0  0  0  0  0  0\\n   34.7430   50.1880   35.6260 H   0  0  0  0  0  0  0  0  0  0  0  0\\n   33.5760   48.1170   36.5560 H   0  0  0  0  0  0  0  0  0  0  0  0\\n   35.1070   47.5260   37.2430 H   0  0  0  0  0  0  0  0  0  0  0  0\\n   38.9720   49.5060   34.4500 H   0  0  0  0  0  0  0  0  0  0  0  0\\n   39.8990   51.2510   36.7210 H   0  0  0  0  0  0  0  0  0  0  0  0\\n   40.8140   49.2960   37.6800 H   0  0  0  0  0  0  0  0  0  0  0  0\\n   39.0400   49.2120   37.5660 H   0  0  0  0  0  0  0  0  0  0  0  0\\n   40.0480   48.3000   36.4180 H   0  0  0  0  0  0  0  0  0  0  0  0\\n   40.0820   51.4180   33.8140 H   0  0  0  0  0  0  0  0  0  0  0  0\\n   38.4970   51.4130   33.3580 H   0  0  0  0  0  0  0  0  0  0  0  0\\n   38.9930   52.3690   34.6060 H   0  0  0  0  0  0  0  0  0  0  0  0\\n   42.2680   50.2980   36.0090 H   0  0  0  0  0  0  0  0  0  0  0  0\\n   41.5060   49.3900   34.6820 H   0  0  0  0  0  0  0  0  0  0  0  0\\n   41.5600   51.1680   34.6280 H   0  0  0  0  0  0  0  0  0  0  0  0\\n  1  2  1  0\\n  1  5  1  0\\n  1 13  1  0\\n  1 14  1  0\\n  2  3  1  0\\n  2 15  1  0\\n  2 16  1  0\\n  3  4  1  0\\n  3  6  1  0\\n  4  5  1  0\\n  4 17  1  0\\n  4 18  1  0\\n  5 19  1  0\\n  5 20  1  0\\n  6  7  1  0\\n  6 10  2  0\\n  7  8  1  0\\n  7 11  1  0\\n  7 21  1  6\\n  8  9  1  0\\n  8 12  1  0\\n  8 22  1  0\\n  9 23  1  0\\n  9 24  1  0\\n  9 25  1  0\\n 11 26  1  0\\n 11 27  1  0\\n 11 28  1  0\\n 12 29  1  0\\n 12 30  1  0\\n 12 31  1  0\\nM  CHG  1  11   1\\nM  END\\n\",\"sdf\");\n\tviewer_17285371717767177.setStyle({\"stick\": {}});\n\tviewer_17285371717767177.addModel(\"1rwq_lig_5AP\\n     RDKit          3D\\n\\n 43 45  0  0  1  0  0  0  0  0999 V2000\\n   37.1332   53.0833   35.0233 Cl  0  0  0  0  0  0  0  0  0  0  0  0\\n   38.4229   52.9806   33.8125 C   0  0  0  0  0  0  0  0  0  0  0  0\\n   38.6169   54.0007   32.8948 C   0  0  0  0  0  0  0  0  0  0  0  0\\n   39.6281   53.9159   31.9519 C   0  0  0  0  0  0  0  0  0  0  0  0\\n   39.8901   55.1991   30.7806 Cl  0  0  0  0  0  0  0  0  0  0  0  0\\n   40.4687   52.7932   31.9164 C   0  0  0  0  0  0  0  0  0  0  0  0\\n   40.2743   51.7586   32.8445 C   0  0  0  0  0  0  0  0  0  0  0  0\\n   39.2644   51.8590   33.7749 C   0  0  0  0  0  0  0  0  0  0  0  0\\n   38.9850   50.8387   34.7781 C   0  0  0  0  0  0  0  0  0  0  0  0\\n   39.9419   50.3685   35.6639 C   0  0  0  0  0  0  0  0  0  0  0  0\\n   41.2941   50.9090   35.5919 C   0  0  0  0  0  0  0  0  0  0  0  0\\n   41.5623   51.9084   36.3981 N   0  0  0  0  0  0  0  0  0  0  0  0\\n   39.5693   49.4138   36.5818 C   0  0  0  0  0  0  0  0  0  0  0  0\\n   40.5913   48.9594   37.4760 N   0  0  0  0  0  0  0  0  0  0  0  0\\n   37.7358   50.3504   34.8447 N   0  0  0  0  0  0  0  0  0  0  0  0\\n   37.3983   49.4168   35.7533 C   0  0  0  0  0  0  0  0  0  0  0  0\\n   38.3092   48.9479   36.6199 N   0  0  0  0  0  0  0  0  0  0  0  0\\n   36.0144   48.9484   35.7391 C   0  0  0  0  0  0  0  0  0  0  0  0\\n   35.5258   48.0612   36.6789 C   0  0  0  0  0  0  0  0  0  0  0  0\\n   34.2153   47.6847   36.6126 C   0  0  0  0  0  0  0  0  0  0  0  0\\n   33.6547   46.7845   37.5420 O   0  0  0  0  0  0  0  0  0  0  0  0\\n   34.5429   46.3063   38.5423 C   0  0  0  0  0  0  0  0  0  0  0  0\\n   33.3362   48.1481   35.6431 C   0  0  0  0  0  0  0  0  0  0  0  0\\n   33.8107   49.0303   34.7038 C   0  0  0  0  0  0  0  0  0  0  0  0\\n   35.1301   49.3966   34.7878 C   0  0  0  0  0  0  0  0  0  0  0  0\\n   33.0429   49.5689   33.6834 O   0  0  0  0  0  0  0  0  0  0  0  0\\n   33.5746   50.4749   32.7305 C   0  0  0  0  0  0  0  0  0  0  0  0\\n   37.9591   54.8576   32.9405 H   0  0  0  0  0  0  0  0  0  0  0  0\\n   41.2698   52.7148   31.1791 H   0  0  0  0  0  0  0  0  0  0  0  0\\n   40.8995   50.8772   32.8480 H   0  0  0  0  0  0  0  0  0  0  0  0\\n   42.0549   50.5165   34.9083 H   0  0  0  0  0  0  0  0  0  0  0  0\\n   42.5159   52.3358   36.3894 H   0  0  0  0  0  0  0  0  0  0  0  0\\n   41.4972   48.6662   37.0072 H   0  0  0  0  0  0  0  0  0  0  0  0\\n   40.4274   48.9326   38.4897 H   0  0  0  0  0  0  0  0  0  0  0  0\\n   36.1794   47.6829   37.4423 H   0  0  0  0  0  0  0  0  0  0  0  0\\n   33.9544   45.6489   39.2462 H   0  0  0  0  0  0  0  0  0  0  0  0\\n   35.4346   45.7975   38.1397 H   0  0  0  0  0  0  0  0  0  0  0  0\\n   34.9042   47.1453   39.1867 H   0  0  0  0  0  0  0  0  0  0  0  0\\n   32.3076   47.8615   35.5807 H   0  0  0  0  0  0  0  0  0  0  0  0\\n   35.5172   50.0988   34.0430 H   0  0  0  0  0  0  0  0  0  0  0  0\\n   33.7978   51.4579   33.1661 H   0  0  0  0  0  0  0  0  0  0  0  0\\n   34.5104   50.0215   32.2834 H   0  0  0  0  0  0  0  0  0  0  0  0\\n   32.8685   50.5116   31.8866 H   0  0  0  0  0  0  0  0  0  0  0  0\\n  1  2  1  0\\n  2  3  2  0\\n  2  8  1  0\\n  3  4  1  0\\n  3 28  1  0\\n  4  5  1  0\\n  4  6  2  0\\n  6  7  1  0\\n  6 29  1  0\\n  7  8  2  0\\n  7 30  1  0\\n  8  9  1  0\\n  9 10  2  0\\n  9 15  1  0\\n 10 11  1  0\\n 10 13  1  0\\n 11 12  2  0\\n 11 31  1  0\\n 12 32  1  0\\n 13 14  1  0\\n 13 17  2  0\\n 14 33  1  0\\n 14 34  1  0\\n 15 16  2  0\\n 16 17  1  0\\n 16 18  1  0\\n 18 19  2  0\\n 18 25  1  0\\n 19 20  1  0\\n 19 35  1  0\\n 20 21  1  0\\n 20 23  2  0\\n 21 22  1  0\\n 22 36  1  0\\n 22 37  1  0\\n 22 38  1  0\\n 23 24  1  0\\n 23 39  1  0\\n 24 25  2  0\\n 24 26  1  0\\n 25 40  1  0\\n 26 27  1  0\\n 27 41  1  0\\n 27 42  1  0\\n 27 43  1  0\\nM  END\\n\",\"sdf\");\n\tviewer_17285371717767177.setStyle({\"stick\": {}});\n\tviewer_17285371717767177.setStyle({\"model\": 0},{\"stick\": {\"colorscheme\": \"cyanCarbon\"}});\n\tviewer_17285371717767177.setStyle({\"model\": 1},{\"stick\": {\"colorscheme\": \"blueCarbon\"}});\n\tviewer_17285371717767177.zoomTo();\nviewer_17285371717767177.render();\n});\n</script>",
      "text/html": [
       "<div id=\"3dmolviewer_17285371717767177\"  style=\"position: relative; width: 400px; height: 400px;\">\n",
       "        <p id=\"3dmolwarning_17285371717767177\" style=\"background-color:#ffcccc;color:black\">3Dmol.js failed to load for some reason.  Please check your browser console for error messages.<br></p>\n",
       "        </div>\n",
       "<script>\n",
       "\n",
       "var loadScriptAsync = function(uri){\n",
       "  return new Promise((resolve, reject) => {\n",
       "    //this is to ignore the existence of requirejs amd\n",
       "    var savedexports, savedmodule;\n",
       "    if (typeof exports !== 'undefined') savedexports = exports;\n",
       "    else exports = {}\n",
       "    if (typeof module !== 'undefined') savedmodule = module;\n",
       "    else module = {}\n",
       "\n",
       "    var tag = document.createElement('script');\n",
       "    tag.src = uri;\n",
       "    tag.async = true;\n",
       "    tag.onload = () => {\n",
       "        exports = savedexports;\n",
       "        module = savedmodule;\n",
       "        resolve();\n",
       "    };\n",
       "  var firstScriptTag = document.getElementsByTagName('script')[0];\n",
       "  firstScriptTag.parentNode.insertBefore(tag, firstScriptTag);\n",
       "});\n",
       "};\n",
       "\n",
       "if(typeof $3Dmolpromise === 'undefined') {\n",
       "$3Dmolpromise = null;\n",
       "  $3Dmolpromise = loadScriptAsync('https://cdnjs.cloudflare.com/ajax/libs/3Dmol/2.4.0/3Dmol-min.js');\n",
       "}\n",
       "\n",
       "var viewer_17285371717767177 = null;\n",
       "var warn = document.getElementById(\"3dmolwarning_17285371717767177\");\n",
       "if(warn) {\n",
       "    warn.parentNode.removeChild(warn);\n",
       "}\n",
       "$3Dmolpromise.then(function() {\n",
       "viewer_17285371717767177 = $3Dmol.createViewer(document.getElementById(\"3dmolviewer_17285371717767177\"),{backgroundColor:\"white\"});\n",
       "viewer_17285371717767177.zoomTo();\n",
       "\tviewer_17285371717767177.removeAllModels();\n",
       "\tviewer_17285371717767177.addModel(\"1n1m_lig_A3M\\n     RDKit          3D\\n\\n 31 31  0  0  1  0  0  0  0  0999 V2000\\n   35.0860   47.5790   35.0350 C   0  0  0  0  0  0  0  0  0  0  0  0\\n   36.4150   48.4020   34.7020 C   0  0  0  0  0  0  0  0  0  0  0  0\\n   36.6190   49.2710   35.8730 N   0  0  0  0  0  0  0  0  0  0  0  0\\n   35.2580   49.5590   36.3520 C   0  0  0  0  0  0  0  0  0  0  0  0\\n   34.6620   48.1420   36.4620 C   0  0  0  0  0  0  0  0  0  0  0  0\\n   37.4840   50.4260   35.6040 C   0  0  0  0  0  0  0  0  0  0  0  0\\n   38.8560   50.3740   35.0990 C   0  0  2  0  0  0  0  0  0  0  0  0\\n   39.9730   50.3700   36.0850 C   0  0  0  0  0  0  0  0  0  0  0  0\\n   39.9680   49.2210   36.9950 C   0  0  0  0  0  0  0  0  0  0  0  0\\n   36.9730   51.6930   35.8390 O   0  0  0  0  0  0  0  0  0  0  0  0\\n   39.1290   51.4820   34.1430 N   0  0  0  0  0  0  0  0  0  0  0  0\\n   41.4580   50.3000   35.2790 C   0  0  0  0  0  0  0  0  0  0  0  0\\n   34.3360   47.7740   34.2690 H   0  0  0  0  0  0  0  0  0  0  0  0\\n   35.3130   46.5130   35.0570 H   0  0  0  0  0  0  0  0  0  0  0  0\\n   37.2450   47.7100   34.5620 H   0  0  0  0  0  0  0  0  0  0  0  0\\n   36.2660   48.9790   33.7890 H   0  0  0  0  0  0  0  0  0  0  0  0\\n   35.3120   50.0790   37.3090 H   0  0  0  0  0  0  0  0  0  0  0  0\\n   34.7430   50.1880   35.6260 H   0  0  0  0  0  0  0  0  0  0  0  0\\n   33.5760   48.1170   36.5560 H   0  0  0  0  0  0  0  0  0  0  0  0\\n   35.1070   47.5260   37.2430 H   0  0  0  0  0  0  0  0  0  0  0  0\\n   38.9720   49.5060   34.4500 H   0  0  0  0  0  0  0  0  0  0  0  0\\n   39.8990   51.2510   36.7210 H   0  0  0  0  0  0  0  0  0  0  0  0\\n   40.8140   49.2960   37.6800 H   0  0  0  0  0  0  0  0  0  0  0  0\\n   39.0400   49.2120   37.5660 H   0  0  0  0  0  0  0  0  0  0  0  0\\n   40.0480   48.3000   36.4180 H   0  0  0  0  0  0  0  0  0  0  0  0\\n   40.0820   51.4180   33.8140 H   0  0  0  0  0  0  0  0  0  0  0  0\\n   38.4970   51.4130   33.3580 H   0  0  0  0  0  0  0  0  0  0  0  0\\n   38.9930   52.3690   34.6060 H   0  0  0  0  0  0  0  0  0  0  0  0\\n   42.2680   50.2980   36.0090 H   0  0  0  0  0  0  0  0  0  0  0  0\\n   41.5060   49.3900   34.6820 H   0  0  0  0  0  0  0  0  0  0  0  0\\n   41.5600   51.1680   34.6280 H   0  0  0  0  0  0  0  0  0  0  0  0\\n  1  2  1  0\\n  1  5  1  0\\n  1 13  1  0\\n  1 14  1  0\\n  2  3  1  0\\n  2 15  1  0\\n  2 16  1  0\\n  3  4  1  0\\n  3  6  1  0\\n  4  5  1  0\\n  4 17  1  0\\n  4 18  1  0\\n  5 19  1  0\\n  5 20  1  0\\n  6  7  1  0\\n  6 10  2  0\\n  7  8  1  0\\n  7 11  1  0\\n  7 21  1  6\\n  8  9  1  0\\n  8 12  1  0\\n  8 22  1  0\\n  9 23  1  0\\n  9 24  1  0\\n  9 25  1  0\\n 11 26  1  0\\n 11 27  1  0\\n 11 28  1  0\\n 12 29  1  0\\n 12 30  1  0\\n 12 31  1  0\\nM  CHG  1  11   1\\nM  END\\n\",\"sdf\");\n",
       "\tviewer_17285371717767177.setStyle({\"stick\": {}});\n",
       "\tviewer_17285371717767177.addModel(\"1rwq_lig_5AP\\n     RDKit          3D\\n\\n 43 45  0  0  1  0  0  0  0  0999 V2000\\n   37.1332   53.0833   35.0233 Cl  0  0  0  0  0  0  0  0  0  0  0  0\\n   38.4229   52.9806   33.8125 C   0  0  0  0  0  0  0  0  0  0  0  0\\n   38.6169   54.0007   32.8948 C   0  0  0  0  0  0  0  0  0  0  0  0\\n   39.6281   53.9159   31.9519 C   0  0  0  0  0  0  0  0  0  0  0  0\\n   39.8901   55.1991   30.7806 Cl  0  0  0  0  0  0  0  0  0  0  0  0\\n   40.4687   52.7932   31.9164 C   0  0  0  0  0  0  0  0  0  0  0  0\\n   40.2743   51.7586   32.8445 C   0  0  0  0  0  0  0  0  0  0  0  0\\n   39.2644   51.8590   33.7749 C   0  0  0  0  0  0  0  0  0  0  0  0\\n   38.9850   50.8387   34.7781 C   0  0  0  0  0  0  0  0  0  0  0  0\\n   39.9419   50.3685   35.6639 C   0  0  0  0  0  0  0  0  0  0  0  0\\n   41.2941   50.9090   35.5919 C   0  0  0  0  0  0  0  0  0  0  0  0\\n   41.5623   51.9084   36.3981 N   0  0  0  0  0  0  0  0  0  0  0  0\\n   39.5693   49.4138   36.5818 C   0  0  0  0  0  0  0  0  0  0  0  0\\n   40.5913   48.9594   37.4760 N   0  0  0  0  0  0  0  0  0  0  0  0\\n   37.7358   50.3504   34.8447 N   0  0  0  0  0  0  0  0  0  0  0  0\\n   37.3983   49.4168   35.7533 C   0  0  0  0  0  0  0  0  0  0  0  0\\n   38.3092   48.9479   36.6199 N   0  0  0  0  0  0  0  0  0  0  0  0\\n   36.0144   48.9484   35.7391 C   0  0  0  0  0  0  0  0  0  0  0  0\\n   35.5258   48.0612   36.6789 C   0  0  0  0  0  0  0  0  0  0  0  0\\n   34.2153   47.6847   36.6126 C   0  0  0  0  0  0  0  0  0  0  0  0\\n   33.6547   46.7845   37.5420 O   0  0  0  0  0  0  0  0  0  0  0  0\\n   34.5429   46.3063   38.5423 C   0  0  0  0  0  0  0  0  0  0  0  0\\n   33.3362   48.1481   35.6431 C   0  0  0  0  0  0  0  0  0  0  0  0\\n   33.8107   49.0303   34.7038 C   0  0  0  0  0  0  0  0  0  0  0  0\\n   35.1301   49.3966   34.7878 C   0  0  0  0  0  0  0  0  0  0  0  0\\n   33.0429   49.5689   33.6834 O   0  0  0  0  0  0  0  0  0  0  0  0\\n   33.5746   50.4749   32.7305 C   0  0  0  0  0  0  0  0  0  0  0  0\\n   37.9591   54.8576   32.9405 H   0  0  0  0  0  0  0  0  0  0  0  0\\n   41.2698   52.7148   31.1791 H   0  0  0  0  0  0  0  0  0  0  0  0\\n   40.8995   50.8772   32.8480 H   0  0  0  0  0  0  0  0  0  0  0  0\\n   42.0549   50.5165   34.9083 H   0  0  0  0  0  0  0  0  0  0  0  0\\n   42.5159   52.3358   36.3894 H   0  0  0  0  0  0  0  0  0  0  0  0\\n   41.4972   48.6662   37.0072 H   0  0  0  0  0  0  0  0  0  0  0  0\\n   40.4274   48.9326   38.4897 H   0  0  0  0  0  0  0  0  0  0  0  0\\n   36.1794   47.6829   37.4423 H   0  0  0  0  0  0  0  0  0  0  0  0\\n   33.9544   45.6489   39.2462 H   0  0  0  0  0  0  0  0  0  0  0  0\\n   35.4346   45.7975   38.1397 H   0  0  0  0  0  0  0  0  0  0  0  0\\n   34.9042   47.1453   39.1867 H   0  0  0  0  0  0  0  0  0  0  0  0\\n   32.3076   47.8615   35.5807 H   0  0  0  0  0  0  0  0  0  0  0  0\\n   35.5172   50.0988   34.0430 H   0  0  0  0  0  0  0  0  0  0  0  0\\n   33.7978   51.4579   33.1661 H   0  0  0  0  0  0  0  0  0  0  0  0\\n   34.5104   50.0215   32.2834 H   0  0  0  0  0  0  0  0  0  0  0  0\\n   32.8685   50.5116   31.8866 H   0  0  0  0  0  0  0  0  0  0  0  0\\n  1  2  1  0\\n  2  3  2  0\\n  2  8  1  0\\n  3  4  1  0\\n  3 28  1  0\\n  4  5  1  0\\n  4  6  2  0\\n  6  7  1  0\\n  6 29  1  0\\n  7  8  2  0\\n  7 30  1  0\\n  8  9  1  0\\n  9 10  2  0\\n  9 15  1  0\\n 10 11  1  0\\n 10 13  1  0\\n 11 12  2  0\\n 11 31  1  0\\n 12 32  1  0\\n 13 14  1  0\\n 13 17  2  0\\n 14 33  1  0\\n 14 34  1  0\\n 15 16  2  0\\n 16 17  1  0\\n 16 18  1  0\\n 18 19  2  0\\n 18 25  1  0\\n 19 20  1  0\\n 19 35  1  0\\n 20 21  1  0\\n 20 23  2  0\\n 21 22  1  0\\n 22 36  1  0\\n 22 37  1  0\\n 22 38  1  0\\n 23 24  1  0\\n 23 39  1  0\\n 24 25  2  0\\n 24 26  1  0\\n 25 40  1  0\\n 26 27  1  0\\n 27 41  1  0\\n 27 42  1  0\\n 27 43  1  0\\nM  END\\n\",\"sdf\");\n",
       "\tviewer_17285371717767177.setStyle({\"stick\": {}});\n",
       "\tviewer_17285371717767177.setStyle({\"model\": 0},{\"stick\": {\"colorscheme\": \"cyanCarbon\"}});\n",
       "\tviewer_17285371717767177.setStyle({\"model\": 1},{\"stick\": {\"colorscheme\": \"blueCarbon\"}});\n",
       "\tviewer_17285371717767177.zoomTo();\n",
       "viewer_17285371717767177.render();\n",
       "});\n",
       "</script>"
      ]
     },
     "metadata": {},
     "output_type": "display_data"
    }
   ],
   "source": [
    "from rdkit.Chem import rdShapeAlign\n",
    "tpl = rdShapeAlign.AlignMol(ref,ms[0])\n",
    "print(tpl)\n",
    "\n",
    "drawit([ref,ms[0]])"
   ]
  },
  {
   "cell_type": "markdown",
   "id": "fc6ed65c",
   "metadata": {},
   "source": [
    "Find the conformer from each molecule that aligns with the highest feature score (the code calls it \"color\" score in analogy to the terminology that's used in ROCS) and see how long that takes."
   ]
  },
  {
   "cell_type": "code",
   "execution_count": 20,
   "id": "cf22dad6",
   "metadata": {},
   "outputs": [
    {
     "name": "stdout",
     "output_type": "stream",
     "text": [
      "1.50 seconds for 3700 alignments, 0.0004s per alignment\n"
     ]
    }
   ],
   "source": [
    "import time\n",
    "ms = copy.deepcopy(ms_save)\n",
    "t1 = time.time()\n",
    "nAligns = 0\n",
    "bestScores = []\n",
    "for m in ms:\n",
    "    best = -1e8\n",
    "    bestConf = -1\n",
    "    for conf in m.GetConformers():\n",
    "        nAligns += 1\n",
    "        shapeTani,colorTani = rdShapeAlign.AlignMol(ref,m,probeConfId=conf.GetId())\n",
    "        if colorTani > best:\n",
    "            best = colorTani\n",
    "            bestConf = conf.GetId()\n",
    "    bestScores.append((best,bestConf))\n",
    "t2 = time.time()\n",
    "print(f'{t2-t1:.2f} seconds for {nAligns} alignments, {(t2-t1)/nAligns:.2g}s per alignment')"
   ]
  },
  {
   "cell_type": "code",
   "execution_count": 21,
   "id": "6b365762",
   "metadata": {},
   "outputs": [
    {
     "data": {
      "text/plain": [
       "[((0.41623472182088234, 53), 10),\n",
       " ((0.38375118479238873, 83), 14),\n",
       " ((0.343586129348326, 5), 1),\n",
       " ((0.3286720498960583, 87), 17),\n",
       " ((0.305952661317346, 20), 13)]"
      ]
     },
     "execution_count": 21,
     "metadata": {},
     "output_type": "execute_result"
    }
   ],
   "source": [
    "order = sorted([(tpl,i) for i,tpl in enumerate(bestScores)],reverse=True)\n",
    "order[:5]\n"
   ]
  },
  {
   "cell_type": "code",
   "execution_count": 22,
   "id": "9522e9be",
   "metadata": {},
   "outputs": [
    {
     "name": "stdout",
     "output_type": "stream",
     "text": [
      "(0.41623472182088234, 53)\n"
     ]
    },
    {
     "data": {
      "application/3dmoljs_load.v0": "<div id=\"3dmolviewer_1728537285213021\"  style=\"position: relative; width: 400px; height: 400px;\">\n        <p id=\"3dmolwarning_1728537285213021\" style=\"background-color:#ffcccc;color:black\">3Dmol.js failed to load for some reason.  Please check your browser console for error messages.<br></p>\n        </div>\n<script>\n\nvar loadScriptAsync = function(uri){\n  return new Promise((resolve, reject) => {\n    //this is to ignore the existence of requirejs amd\n    var savedexports, savedmodule;\n    if (typeof exports !== 'undefined') savedexports = exports;\n    else exports = {}\n    if (typeof module !== 'undefined') savedmodule = module;\n    else module = {}\n\n    var tag = document.createElement('script');\n    tag.src = uri;\n    tag.async = true;\n    tag.onload = () => {\n        exports = savedexports;\n        module = savedmodule;\n        resolve();\n    };\n  var firstScriptTag = document.getElementsByTagName('script')[0];\n  firstScriptTag.parentNode.insertBefore(tag, firstScriptTag);\n});\n};\n\nif(typeof $3Dmolpromise === 'undefined') {\n$3Dmolpromise = null;\n  $3Dmolpromise = loadScriptAsync('https://cdnjs.cloudflare.com/ajax/libs/3Dmol/2.4.0/3Dmol-min.js');\n}\n\nvar viewer_1728537285213021 = null;\nvar warn = document.getElementById(\"3dmolwarning_1728537285213021\");\nif(warn) {\n    warn.parentNode.removeChild(warn);\n}\n$3Dmolpromise.then(function() {\nviewer_1728537285213021 = $3Dmol.createViewer(document.getElementById(\"3dmolviewer_1728537285213021\"),{backgroundColor:\"white\"});\nviewer_1728537285213021.zoomTo();\n\tviewer_1728537285213021.removeAllModels();\n\tviewer_1728537285213021.addModel(\"1n1m_lig_A3M\\n     RDKit          3D\\n\\n 31 31  0  0  1  0  0  0  0  0999 V2000\\n   35.0860   47.5790   35.0350 C   0  0  0  0  0  0  0  0  0  0  0  0\\n   36.4150   48.4020   34.7020 C   0  0  0  0  0  0  0  0  0  0  0  0\\n   36.6190   49.2710   35.8730 N   0  0  0  0  0  0  0  0  0  0  0  0\\n   35.2580   49.5590   36.3520 C   0  0  0  0  0  0  0  0  0  0  0  0\\n   34.6620   48.1420   36.4620 C   0  0  0  0  0  0  0  0  0  0  0  0\\n   37.4840   50.4260   35.6040 C   0  0  0  0  0  0  0  0  0  0  0  0\\n   38.8560   50.3740   35.0990 C   0  0  2  0  0  0  0  0  0  0  0  0\\n   39.9730   50.3700   36.0850 C   0  0  0  0  0  0  0  0  0  0  0  0\\n   39.9680   49.2210   36.9950 C   0  0  0  0  0  0  0  0  0  0  0  0\\n   36.9730   51.6930   35.8390 O   0  0  0  0  0  0  0  0  0  0  0  0\\n   39.1290   51.4820   34.1430 N   0  0  0  0  0  0  0  0  0  0  0  0\\n   41.4580   50.3000   35.2790 C   0  0  0  0  0  0  0  0  0  0  0  0\\n   34.3360   47.7740   34.2690 H   0  0  0  0  0  0  0  0  0  0  0  0\\n   35.3130   46.5130   35.0570 H   0  0  0  0  0  0  0  0  0  0  0  0\\n   37.2450   47.7100   34.5620 H   0  0  0  0  0  0  0  0  0  0  0  0\\n   36.2660   48.9790   33.7890 H   0  0  0  0  0  0  0  0  0  0  0  0\\n   35.3120   50.0790   37.3090 H   0  0  0  0  0  0  0  0  0  0  0  0\\n   34.7430   50.1880   35.6260 H   0  0  0  0  0  0  0  0  0  0  0  0\\n   33.5760   48.1170   36.5560 H   0  0  0  0  0  0  0  0  0  0  0  0\\n   35.1070   47.5260   37.2430 H   0  0  0  0  0  0  0  0  0  0  0  0\\n   38.9720   49.5060   34.4500 H   0  0  0  0  0  0  0  0  0  0  0  0\\n   39.8990   51.2510   36.7210 H   0  0  0  0  0  0  0  0  0  0  0  0\\n   40.8140   49.2960   37.6800 H   0  0  0  0  0  0  0  0  0  0  0  0\\n   39.0400   49.2120   37.5660 H   0  0  0  0  0  0  0  0  0  0  0  0\\n   40.0480   48.3000   36.4180 H   0  0  0  0  0  0  0  0  0  0  0  0\\n   40.0820   51.4180   33.8140 H   0  0  0  0  0  0  0  0  0  0  0  0\\n   38.4970   51.4130   33.3580 H   0  0  0  0  0  0  0  0  0  0  0  0\\n   38.9930   52.3690   34.6060 H   0  0  0  0  0  0  0  0  0  0  0  0\\n   42.2680   50.2980   36.0090 H   0  0  0  0  0  0  0  0  0  0  0  0\\n   41.5060   49.3900   34.6820 H   0  0  0  0  0  0  0  0  0  0  0  0\\n   41.5600   51.1680   34.6280 H   0  0  0  0  0  0  0  0  0  0  0  0\\n  1  2  1  0\\n  1  5  1  0\\n  1 13  1  0\\n  1 14  1  0\\n  2  3  1  0\\n  2 15  1  0\\n  2 16  1  0\\n  3  4  1  0\\n  3  6  1  0\\n  4  5  1  0\\n  4 17  1  0\\n  4 18  1  0\\n  5 19  1  0\\n  5 20  1  0\\n  6  7  1  0\\n  6 10  2  0\\n  7  8  1  0\\n  7 11  1  0\\n  7 21  1  6\\n  8  9  1  0\\n  8 12  1  0\\n  8 22  1  0\\n  9 23  1  0\\n  9 24  1  0\\n  9 25  1  0\\n 11 26  1  0\\n 11 27  1  0\\n 11 28  1  0\\n 12 29  1  0\\n 12 30  1  0\\n 12 31  1  0\\nM  CHG  1  11   1\\nM  END\\n\",\"sdf\");\n\tviewer_1728537285213021.setStyle({\"stick\": {}});\n\tviewer_1728537285213021.addModel(\"2iiv_lig_565\\n     RDKit          3D\\n\\n 45 46  0  0  1  0  0  0  0  0999 V2000\\n   43.6722   52.6471   34.1521 C   0  0  0  0  0  0  0  0  0  0  0  0\\n   42.6306   51.7211   34.1936 C   0  0  0  0  0  0  0  0  0  0  0  0\\n   42.1722   51.1973   35.3770 C   0  0  0  0  0  0  0  0  0  0  0  0\\n   42.8235   51.6560   36.5320 C   0  0  0  0  0  0  0  0  0  0  0  0\\n   43.8456   52.5640   36.4941 C   0  0  0  0  0  0  0  0  0  0  0  0\\n   44.2964   53.0839   35.2983 C   0  0  0  0  0  0  0  0  0  0  0  0\\n   44.4165   52.9522   37.6588 F   0  0  0  0  0  0  0  0  0  0  0  0\\n   42.1075   51.3396   33.0071 F   0  0  0  0  0  0  0  0  0  0  0  0\\n   41.0755   50.2626   35.5564 C   0  0  0  0  0  0  0  0  0  0  0  0\\n   39.6954   50.9483   35.5780 C   0  0  2  0  0  0  0  0  0  0  0  0\\n   38.6742   49.8702   35.7838 C   0  0  0  0  0  0  0  0  0  0  0  0\\n   37.2783   50.3539   35.8752 C   0  0  0  0  0  0  0  0  0  0  0  0\\n   36.2590   49.4386   35.9842 N   0  0  0  0  0  0  0  0  0  0  0  0\\n   39.4501   51.5767   34.2773 N   0  0  0  0  0  0  0  0  0  0  0  0\\n   36.9794   51.5921   35.8584 O   0  0  0  0  0  0  0  0  0  0  0  0\\n   36.3590   48.0281   36.0098 C   0  0  0  0  0  0  0  0  0  0  0  0\\n   36.2603   47.3405   34.6248 C   0  0  0  0  0  0  0  0  0  0  0  0\\n   34.8888   47.9194   34.1491 C   0  0  0  0  0  0  0  0  0  0  0  0\\n   33.9334   47.6131   35.1765 N   0  0  0  0  0  0  0  0  0  0  0  0\\n   33.9335   48.7287   36.2240 C   0  0  0  0  0  0  0  0  0  0  0  0\\n   34.8244   49.9643   36.0994 C   0  0  1  0  0  0  0  0  0  0  0  0\\n   34.6703   50.7474   37.3622 C   0  0  0  0  0  0  0  0  0  0  0  0\\n   33.1825   48.5816   37.1692 O   0  0  0  0  0  0  0  0  0  0  0  0\\n   45.3063   53.9764   35.3182 F   0  0  0  0  0  0  0  0  0  0  0  0\\n   44.0364   53.0641   33.2177 H   0  0  0  0  0  0  0  0  0  0  0  0\\n   42.5071   51.2784   37.5056 H   0  0  0  0  0  0  0  0  0  0  0  0\\n   41.0273   49.4774   34.7686 H   0  0  0  0  0  0  0  0  0  0  0  0\\n   41.1720   49.7423   36.5224 H   0  0  0  0  0  0  0  0  0  0  0  0\\n   39.7000   51.7130   36.3528 H   0  0  0  0  0  0  0  0  0  0  0  0\\n   38.7653   49.1751   34.9156 H   0  0  0  0  0  0  0  0  0  0  0  0\\n   38.9066   49.3552   36.7286 H   0  0  0  0  0  0  0  0  0  0  0  0\\n   38.4395   51.8197   34.1976 H   0  0  0  0  0  0  0  0  0  0  0  0\\n   39.5827   50.8232   33.5521 H   0  0  0  0  0  0  0  0  0  0  0  0\\n   39.9894   52.4362   34.1306 H   0  0  0  0  0  0  0  0  0  0  0  0\\n   35.6051   47.5212   36.6416 H   0  0  0  0  0  0  0  0  0  0  0  0\\n   37.3768   47.7053   36.3650 H   0  0  0  0  0  0  0  0  0  0  0  0\\n   36.1782   46.2842   34.7906 H   0  0  0  0  0  0  0  0  0  0  0  0\\n   37.0094   47.6303   33.9304 H   0  0  0  0  0  0  0  0  0  0  0  0\\n   34.6705   47.2631   33.2336 H   0  0  0  0  0  0  0  0  0  0  0  0\\n   34.9085   48.9055   33.7994 H   0  0  0  0  0  0  0  0  0  0  0  0\\n   33.3310   46.8647   35.3044 H   0  0  0  0  0  0  0  0  0  0  0  0\\n   34.6244   50.5160   35.1961 H   0  0  0  0  0  0  0  0  0  0  0  0\\n   34.9950   50.1326   38.2382 H   0  0  0  0  0  0  0  0  0  0  0  0\\n   35.2031   51.7050   37.3251 H   0  0  0  0  0  0  0  0  0  0  0  0\\n   33.5789   50.9209   37.5083 H   0  0  0  0  0  0  0  0  0  0  0  0\\n  1  2  2  0\\n  1  6  1  0\\n  1 25  1  0\\n  2  3  1  0\\n  2  8  1  0\\n  3  4  2  0\\n  3  9  1  0\\n  4  5  1  0\\n  4 26  1  0\\n  5  6  2  0\\n  5  7  1  0\\n  6 24  1  0\\n  9 10  1  0\\n  9 27  1  0\\n  9 28  1  0\\n 10 11  1  0\\n 10 14  1  0\\n 10 29  1  1\\n 11 12  1  0\\n 11 30  1  0\\n 11 31  1  0\\n 12 13  1  0\\n 12 15  2  0\\n 13 16  1  0\\n 13 21  1  0\\n 14 32  1  0\\n 14 33  1  0\\n 14 34  1  0\\n 16 17  1  0\\n 16 35  1  0\\n 16 36  1  0\\n 17 18  1  0\\n 17 37  1  0\\n 17 38  1  0\\n 18 19  1  0\\n 18 39  1  0\\n 18 40  1  0\\n 19 20  1  0\\n 19 41  1  0\\n 20 21  1  0\\n 20 23  2  0\\n 21 22  1  0\\n 21 42  1  6\\n 22 43  1  0\\n 22 44  1  0\\n 22 45  1  0\\nM  CHG  1  14   1\\nM  END\\n\",\"sdf\");\n\tviewer_1728537285213021.setStyle({\"stick\": {}});\n\tviewer_1728537285213021.setStyle({\"model\": 0},{\"stick\": {\"colorscheme\": \"cyanCarbon\"}});\n\tviewer_1728537285213021.setStyle({\"model\": 1},{\"stick\": {\"colorscheme\": \"blueCarbon\"}});\n\tviewer_1728537285213021.zoomTo();\nviewer_1728537285213021.render();\n});\n</script>",
      "text/html": [
       "<div id=\"3dmolviewer_1728537285213021\"  style=\"position: relative; width: 400px; height: 400px;\">\n",
       "        <p id=\"3dmolwarning_1728537285213021\" style=\"background-color:#ffcccc;color:black\">3Dmol.js failed to load for some reason.  Please check your browser console for error messages.<br></p>\n",
       "        </div>\n",
       "<script>\n",
       "\n",
       "var loadScriptAsync = function(uri){\n",
       "  return new Promise((resolve, reject) => {\n",
       "    //this is to ignore the existence of requirejs amd\n",
       "    var savedexports, savedmodule;\n",
       "    if (typeof exports !== 'undefined') savedexports = exports;\n",
       "    else exports = {}\n",
       "    if (typeof module !== 'undefined') savedmodule = module;\n",
       "    else module = {}\n",
       "\n",
       "    var tag = document.createElement('script');\n",
       "    tag.src = uri;\n",
       "    tag.async = true;\n",
       "    tag.onload = () => {\n",
       "        exports = savedexports;\n",
       "        module = savedmodule;\n",
       "        resolve();\n",
       "    };\n",
       "  var firstScriptTag = document.getElementsByTagName('script')[0];\n",
       "  firstScriptTag.parentNode.insertBefore(tag, firstScriptTag);\n",
       "});\n",
       "};\n",
       "\n",
       "if(typeof $3Dmolpromise === 'undefined') {\n",
       "$3Dmolpromise = null;\n",
       "  $3Dmolpromise = loadScriptAsync('https://cdnjs.cloudflare.com/ajax/libs/3Dmol/2.4.0/3Dmol-min.js');\n",
       "}\n",
       "\n",
       "var viewer_1728537285213021 = null;\n",
       "var warn = document.getElementById(\"3dmolwarning_1728537285213021\");\n",
       "if(warn) {\n",
       "    warn.parentNode.removeChild(warn);\n",
       "}\n",
       "$3Dmolpromise.then(function() {\n",
       "viewer_1728537285213021 = $3Dmol.createViewer(document.getElementById(\"3dmolviewer_1728537285213021\"),{backgroundColor:\"white\"});\n",
       "viewer_1728537285213021.zoomTo();\n",
       "\tviewer_1728537285213021.removeAllModels();\n",
       "\tviewer_1728537285213021.addModel(\"1n1m_lig_A3M\\n     RDKit          3D\\n\\n 31 31  0  0  1  0  0  0  0  0999 V2000\\n   35.0860   47.5790   35.0350 C   0  0  0  0  0  0  0  0  0  0  0  0\\n   36.4150   48.4020   34.7020 C   0  0  0  0  0  0  0  0  0  0  0  0\\n   36.6190   49.2710   35.8730 N   0  0  0  0  0  0  0  0  0  0  0  0\\n   35.2580   49.5590   36.3520 C   0  0  0  0  0  0  0  0  0  0  0  0\\n   34.6620   48.1420   36.4620 C   0  0  0  0  0  0  0  0  0  0  0  0\\n   37.4840   50.4260   35.6040 C   0  0  0  0  0  0  0  0  0  0  0  0\\n   38.8560   50.3740   35.0990 C   0  0  2  0  0  0  0  0  0  0  0  0\\n   39.9730   50.3700   36.0850 C   0  0  0  0  0  0  0  0  0  0  0  0\\n   39.9680   49.2210   36.9950 C   0  0  0  0  0  0  0  0  0  0  0  0\\n   36.9730   51.6930   35.8390 O   0  0  0  0  0  0  0  0  0  0  0  0\\n   39.1290   51.4820   34.1430 N   0  0  0  0  0  0  0  0  0  0  0  0\\n   41.4580   50.3000   35.2790 C   0  0  0  0  0  0  0  0  0  0  0  0\\n   34.3360   47.7740   34.2690 H   0  0  0  0  0  0  0  0  0  0  0  0\\n   35.3130   46.5130   35.0570 H   0  0  0  0  0  0  0  0  0  0  0  0\\n   37.2450   47.7100   34.5620 H   0  0  0  0  0  0  0  0  0  0  0  0\\n   36.2660   48.9790   33.7890 H   0  0  0  0  0  0  0  0  0  0  0  0\\n   35.3120   50.0790   37.3090 H   0  0  0  0  0  0  0  0  0  0  0  0\\n   34.7430   50.1880   35.6260 H   0  0  0  0  0  0  0  0  0  0  0  0\\n   33.5760   48.1170   36.5560 H   0  0  0  0  0  0  0  0  0  0  0  0\\n   35.1070   47.5260   37.2430 H   0  0  0  0  0  0  0  0  0  0  0  0\\n   38.9720   49.5060   34.4500 H   0  0  0  0  0  0  0  0  0  0  0  0\\n   39.8990   51.2510   36.7210 H   0  0  0  0  0  0  0  0  0  0  0  0\\n   40.8140   49.2960   37.6800 H   0  0  0  0  0  0  0  0  0  0  0  0\\n   39.0400   49.2120   37.5660 H   0  0  0  0  0  0  0  0  0  0  0  0\\n   40.0480   48.3000   36.4180 H   0  0  0  0  0  0  0  0  0  0  0  0\\n   40.0820   51.4180   33.8140 H   0  0  0  0  0  0  0  0  0  0  0  0\\n   38.4970   51.4130   33.3580 H   0  0  0  0  0  0  0  0  0  0  0  0\\n   38.9930   52.3690   34.6060 H   0  0  0  0  0  0  0  0  0  0  0  0\\n   42.2680   50.2980   36.0090 H   0  0  0  0  0  0  0  0  0  0  0  0\\n   41.5060   49.3900   34.6820 H   0  0  0  0  0  0  0  0  0  0  0  0\\n   41.5600   51.1680   34.6280 H   0  0  0  0  0  0  0  0  0  0  0  0\\n  1  2  1  0\\n  1  5  1  0\\n  1 13  1  0\\n  1 14  1  0\\n  2  3  1  0\\n  2 15  1  0\\n  2 16  1  0\\n  3  4  1  0\\n  3  6  1  0\\n  4  5  1  0\\n  4 17  1  0\\n  4 18  1  0\\n  5 19  1  0\\n  5 20  1  0\\n  6  7  1  0\\n  6 10  2  0\\n  7  8  1  0\\n  7 11  1  0\\n  7 21  1  6\\n  8  9  1  0\\n  8 12  1  0\\n  8 22  1  0\\n  9 23  1  0\\n  9 24  1  0\\n  9 25  1  0\\n 11 26  1  0\\n 11 27  1  0\\n 11 28  1  0\\n 12 29  1  0\\n 12 30  1  0\\n 12 31  1  0\\nM  CHG  1  11   1\\nM  END\\n\",\"sdf\");\n",
       "\tviewer_1728537285213021.setStyle({\"stick\": {}});\n",
       "\tviewer_1728537285213021.addModel(\"2iiv_lig_565\\n     RDKit          3D\\n\\n 45 46  0  0  1  0  0  0  0  0999 V2000\\n   43.6722   52.6471   34.1521 C   0  0  0  0  0  0  0  0  0  0  0  0\\n   42.6306   51.7211   34.1936 C   0  0  0  0  0  0  0  0  0  0  0  0\\n   42.1722   51.1973   35.3770 C   0  0  0  0  0  0  0  0  0  0  0  0\\n   42.8235   51.6560   36.5320 C   0  0  0  0  0  0  0  0  0  0  0  0\\n   43.8456   52.5640   36.4941 C   0  0  0  0  0  0  0  0  0  0  0  0\\n   44.2964   53.0839   35.2983 C   0  0  0  0  0  0  0  0  0  0  0  0\\n   44.4165   52.9522   37.6588 F   0  0  0  0  0  0  0  0  0  0  0  0\\n   42.1075   51.3396   33.0071 F   0  0  0  0  0  0  0  0  0  0  0  0\\n   41.0755   50.2626   35.5564 C   0  0  0  0  0  0  0  0  0  0  0  0\\n   39.6954   50.9483   35.5780 C   0  0  2  0  0  0  0  0  0  0  0  0\\n   38.6742   49.8702   35.7838 C   0  0  0  0  0  0  0  0  0  0  0  0\\n   37.2783   50.3539   35.8752 C   0  0  0  0  0  0  0  0  0  0  0  0\\n   36.2590   49.4386   35.9842 N   0  0  0  0  0  0  0  0  0  0  0  0\\n   39.4501   51.5767   34.2773 N   0  0  0  0  0  0  0  0  0  0  0  0\\n   36.9794   51.5921   35.8584 O   0  0  0  0  0  0  0  0  0  0  0  0\\n   36.3590   48.0281   36.0098 C   0  0  0  0  0  0  0  0  0  0  0  0\\n   36.2603   47.3405   34.6248 C   0  0  0  0  0  0  0  0  0  0  0  0\\n   34.8888   47.9194   34.1491 C   0  0  0  0  0  0  0  0  0  0  0  0\\n   33.9334   47.6131   35.1765 N   0  0  0  0  0  0  0  0  0  0  0  0\\n   33.9335   48.7287   36.2240 C   0  0  0  0  0  0  0  0  0  0  0  0\\n   34.8244   49.9643   36.0994 C   0  0  1  0  0  0  0  0  0  0  0  0\\n   34.6703   50.7474   37.3622 C   0  0  0  0  0  0  0  0  0  0  0  0\\n   33.1825   48.5816   37.1692 O   0  0  0  0  0  0  0  0  0  0  0  0\\n   45.3063   53.9764   35.3182 F   0  0  0  0  0  0  0  0  0  0  0  0\\n   44.0364   53.0641   33.2177 H   0  0  0  0  0  0  0  0  0  0  0  0\\n   42.5071   51.2784   37.5056 H   0  0  0  0  0  0  0  0  0  0  0  0\\n   41.0273   49.4774   34.7686 H   0  0  0  0  0  0  0  0  0  0  0  0\\n   41.1720   49.7423   36.5224 H   0  0  0  0  0  0  0  0  0  0  0  0\\n   39.7000   51.7130   36.3528 H   0  0  0  0  0  0  0  0  0  0  0  0\\n   38.7653   49.1751   34.9156 H   0  0  0  0  0  0  0  0  0  0  0  0\\n   38.9066   49.3552   36.7286 H   0  0  0  0  0  0  0  0  0  0  0  0\\n   38.4395   51.8197   34.1976 H   0  0  0  0  0  0  0  0  0  0  0  0\\n   39.5827   50.8232   33.5521 H   0  0  0  0  0  0  0  0  0  0  0  0\\n   39.9894   52.4362   34.1306 H   0  0  0  0  0  0  0  0  0  0  0  0\\n   35.6051   47.5212   36.6416 H   0  0  0  0  0  0  0  0  0  0  0  0\\n   37.3768   47.7053   36.3650 H   0  0  0  0  0  0  0  0  0  0  0  0\\n   36.1782   46.2842   34.7906 H   0  0  0  0  0  0  0  0  0  0  0  0\\n   37.0094   47.6303   33.9304 H   0  0  0  0  0  0  0  0  0  0  0  0\\n   34.6705   47.2631   33.2336 H   0  0  0  0  0  0  0  0  0  0  0  0\\n   34.9085   48.9055   33.7994 H   0  0  0  0  0  0  0  0  0  0  0  0\\n   33.3310   46.8647   35.3044 H   0  0  0  0  0  0  0  0  0  0  0  0\\n   34.6244   50.5160   35.1961 H   0  0  0  0  0  0  0  0  0  0  0  0\\n   34.9950   50.1326   38.2382 H   0  0  0  0  0  0  0  0  0  0  0  0\\n   35.2031   51.7050   37.3251 H   0  0  0  0  0  0  0  0  0  0  0  0\\n   33.5789   50.9209   37.5083 H   0  0  0  0  0  0  0  0  0  0  0  0\\n  1  2  2  0\\n  1  6  1  0\\n  1 25  1  0\\n  2  3  1  0\\n  2  8  1  0\\n  3  4  2  0\\n  3  9  1  0\\n  4  5  1  0\\n  4 26  1  0\\n  5  6  2  0\\n  5  7  1  0\\n  6 24  1  0\\n  9 10  1  0\\n  9 27  1  0\\n  9 28  1  0\\n 10 11  1  0\\n 10 14  1  0\\n 10 29  1  1\\n 11 12  1  0\\n 11 30  1  0\\n 11 31  1  0\\n 12 13  1  0\\n 12 15  2  0\\n 13 16  1  0\\n 13 21  1  0\\n 14 32  1  0\\n 14 33  1  0\\n 14 34  1  0\\n 16 17  1  0\\n 16 35  1  0\\n 16 36  1  0\\n 17 18  1  0\\n 17 37  1  0\\n 17 38  1  0\\n 18 19  1  0\\n 18 39  1  0\\n 18 40  1  0\\n 19 20  1  0\\n 19 41  1  0\\n 20 21  1  0\\n 20 23  2  0\\n 21 22  1  0\\n 21 42  1  6\\n 22 43  1  0\\n 22 44  1  0\\n 22 45  1  0\\nM  CHG  1  14   1\\nM  END\\n\",\"sdf\");\n",
       "\tviewer_1728537285213021.setStyle({\"stick\": {}});\n",
       "\tviewer_1728537285213021.setStyle({\"model\": 0},{\"stick\": {\"colorscheme\": \"cyanCarbon\"}});\n",
       "\tviewer_1728537285213021.setStyle({\"model\": 1},{\"stick\": {\"colorscheme\": \"blueCarbon\"}});\n",
       "\tviewer_1728537285213021.zoomTo();\n",
       "viewer_1728537285213021.render();\n",
       "});\n",
       "</script>"
      ]
     },
     "metadata": {},
     "output_type": "display_data"
    }
   ],
   "source": [
    "whichMol = order[0][-1]\n",
    "bestConf = bestScores[whichMol][1]\n",
    "\n",
    "print(bestScores[whichMol])\n",
    "drawit([ref,ms[whichMol]],confIds=(-1,bestConf))"
   ]
  },
  {
   "cell_type": "markdown",
   "id": "8ac27274",
   "metadata": {},
   "source": [
    "Since the reference molecule remains the same in each of these alignments, we can save a bit of time by precomputing the shape of the reference:"
   ]
  },
  {
   "cell_type": "code",
   "execution_count": 23,
   "id": "a45a14f0",
   "metadata": {},
   "outputs": [
    {
     "name": "stdout",
     "output_type": "stream",
     "text": [
      "1.35 seconds for 3700 alignments, 0.00036s per alignment\n"
     ]
    }
   ],
   "source": [
    "ms = copy.deepcopy(ms_save)\n",
    "\n",
    "t1 = time.time()\n",
    "refShape = rdShapeAlign.PrepareConformer(ref)\n",
    "\n",
    "nAligns = 0\n",
    "bestScores = []\n",
    "for m in ms:\n",
    "    best = -1e8\n",
    "    bestConf = -1\n",
    "    for conf in m.GetConformers():\n",
    "        nAligns += 1\n",
    "        shapeTani,colorTani = rdShapeAlign.AlignMol(refShape,m,probeConfId=conf.GetId())\n",
    "        if colorTani > best:\n",
    "            best = colorTani\n",
    "            bestConf = conf.GetId()\n",
    "    bestScores.append((best,bestConf))\n",
    "t2 = time.time()\n",
    "print(f'{t2-t1:.2f} seconds for {nAligns} alignments, {(t2-t1)/nAligns:.2g}s per alignment')"
   ]
  },
  {
   "cell_type": "markdown",
   "id": "0ea5af55",
   "metadata": {},
   "source": [
    "This, of course, does not change the results:"
   ]
  },
  {
   "cell_type": "code",
   "execution_count": 24,
   "id": "cd00c908",
   "metadata": {},
   "outputs": [
    {
     "data": {
      "text/plain": [
       "[((0.41623472182088234, 53), 10),\n",
       " ((0.38375118479238873, 83), 14),\n",
       " ((0.343586129348326, 5), 1),\n",
       " ((0.3286720498960583, 87), 17),\n",
       " ((0.305952661317346, 20), 13)]"
      ]
     },
     "execution_count": 24,
     "metadata": {},
     "output_type": "execute_result"
    }
   ],
   "source": [
    "order = sorted([(tpl,i) for i,tpl in enumerate(bestScores2)],reverse=True)\n",
    "order[:5]"
   ]
  },
  {
   "cell_type": "markdown",
   "id": "b9f3b0f1",
   "metadata": {},
   "source": [
    "## About the features\n",
    "\n",
    "The default feature definitions used for scoring the alignments are a slightly modified version of the [Gobbi and Poppinger](https://doi.org/10.1002/(SICI)1097-0290(199824)61:1<47::AID-BIT9>3.0.CO;2-Z) features used elsewhere in the RDKit.\n",
    "\n",
    "If the molecules have property\n",
    "that [PubChem3D](https://pubchem.ncbi.nlm.nih.gov/docs/pubchem3d) uses to indicate pharmacophore features - `PUBCHEM_PHARMACOPHORE_FEATURES` -  those features will be used instead.\n",
    "\n",
    "Here's an example showing this with conformers downloaded from PubChem3D:\n"
   ]
  },
  {
   "cell_type": "code",
   "execution_count": 30,
   "id": "df9a74ce",
   "metadata": {},
   "outputs": [
    {
     "data": {
      "application/3dmoljs_load.v0": "<div id=\"3dmolviewer_17285427875475228\"  style=\"position: relative; width: 400px; height: 400px;\">\n        <p id=\"3dmolwarning_17285427875475228\" style=\"background-color:#ffcccc;color:black\">3Dmol.js failed to load for some reason.  Please check your browser console for error messages.<br></p>\n        </div>\n<script>\n\nvar loadScriptAsync = function(uri){\n  return new Promise((resolve, reject) => {\n    //this is to ignore the existence of requirejs amd\n    var savedexports, savedmodule;\n    if (typeof exports !== 'undefined') savedexports = exports;\n    else exports = {}\n    if (typeof module !== 'undefined') savedmodule = module;\n    else module = {}\n\n    var tag = document.createElement('script');\n    tag.src = uri;\n    tag.async = true;\n    tag.onload = () => {\n        exports = savedexports;\n        module = savedmodule;\n        resolve();\n    };\n  var firstScriptTag = document.getElementsByTagName('script')[0];\n  firstScriptTag.parentNode.insertBefore(tag, firstScriptTag);\n});\n};\n\nif(typeof $3Dmolpromise === 'undefined') {\n$3Dmolpromise = null;\n  $3Dmolpromise = loadScriptAsync('https://cdnjs.cloudflare.com/ajax/libs/3Dmol/2.4.0/3Dmol-min.js');\n}\n\nvar viewer_17285427875475228 = null;\nvar warn = document.getElementById(\"3dmolwarning_17285427875475228\");\nif(warn) {\n    warn.parentNode.removeChild(warn);\n}\n$3Dmolpromise.then(function() {\nviewer_17285427875475228 = $3Dmol.createViewer(document.getElementById(\"3dmolviewer_17285427875475228\"),{backgroundColor:\"white\"});\nviewer_17285427875475228.zoomTo();\n\tviewer_17285427875475228.removeAllModels();\n\tviewer_17285427875475228.addModel(\"4594\\n     RDKit          3D\\n\\n 43 45  0  0  1  0  0  0  0  0999 V2000\\n    0.2799    0.7535   -0.8523 S   0  0  0  0  0  0  0  0  0  0  0  0\\n    5.6802   -1.1956   -0.9111 O   0  0  0  0  0  0  0  0  0  0  0  0\\n    0.4072    2.2559   -0.6946 O   0  0  0  0  0  0  0  0  0  0  0  0\\n   -7.1752   -0.0818    0.1901 O   0  0  0  0  0  0  0  0  0  0  0  0\\n   -2.5022    1.0085   -0.7856 N   0  0  0  0  0  0  0  0  0  0  0  0\\n   -1.7125   -0.8269    0.1880 N   0  0  0  0  0  0  0  0  0  0  0  0\\n    3.0758    1.3692    1.0722 N   0  0  0  0  0  0  0  0  0  0  0  0\\n    1.1692   -0.0049    0.5379 C   0  0  0  0  0  0  0  0  0  0  0  0\\n    2.6466    0.2489    0.4560 C   0  0  0  0  0  0  0  0  0  0  0  0\\n    3.4644   -0.6385   -0.2174 C   0  0  0  0  0  0  0  0  0  0  0  0\\n   -1.3970    0.2739   -0.4568 C   0  0  0  0  0  0  0  0  0  0  0  0\\n   -3.6042    0.3371   -0.3218 C   0  0  0  0  0  0  0  0  0  0  0  0\\n    4.8250   -0.3553   -0.2618 C   0  0  0  0  0  0  0  0  0  0  0  0\\n   -3.0850   -0.8048    0.2820 C   0  0  0  0  0  0  0  0  0  0  0  0\\n    5.3120    0.7890    0.3602 C   0  0  0  0  0  0  0  0  0  0  0  0\\n    2.9174   -1.8598   -0.8757 C   0  0  0  0  0  0  0  0  0  0  0  0\\n   -4.9691    0.6219   -0.3770 C   0  0  0  0  0  0  0  0  0  0  0  0\\n    4.4043    1.6113    1.0079 C   0  0  0  0  0  0  0  0  0  0  0  0\\n   -3.9650   -1.7284    0.8713 C   0  0  0  0  0  0  0  0  0  0  0  0\\n   -5.8306   -0.3083    0.2142 C   0  0  0  0  0  0  0  0  0  0  0  0\\n   -5.3395   -1.4631    0.8279 C   0  0  0  0  0  0  0  0  0  0  0  0\\n    6.7599    1.1362    0.3412 C   0  0  0  0  0  0  0  0  0  0  0  0\\n    6.2567   -2.2506   -0.1449 C   0  0  0  0  0  0  0  0  0  0  0  0\\n   -7.6184    1.1125   -0.4496 C   0  0  0  0  0  0  0  0  0  0  0  0\\n    0.9382   -1.0730    0.5858 H   0  0  0  0  0  0  0  0  0  0  0  0\\n    0.7767    0.4398    1.4605 H   0  0  0  0  0  0  0  0  0  0  0  0\\n   -2.5082    1.8901   -1.2814 H   0  0  0  0  0  0  0  0  0  0  0  0\\n    2.0477   -1.6254   -1.4971 H   0  0  0  0  0  0  0  0  0  0  0  0\\n    3.6371   -2.3342   -1.5505 H   0  0  0  0  0  0  0  0  0  0  0  0\\n    2.6348   -2.6025   -0.1225 H   0  0  0  0  0  0  0  0  0  0  0  0\\n   -5.2846    1.5336   -0.8669 H   0  0  0  0  0  0  0  0  0  0  0  0\\n    4.7213    2.5182    1.5137 H   0  0  0  0  0  0  0  0  0  0  0  0\\n   -3.5932   -2.6284    1.3503 H   0  0  0  0  0  0  0  0  0  0  0  0\\n   -6.0290   -2.1717    1.2809 H   0  0  0  0  0  0  0  0  0  0  0  0\\n    6.9177    2.1983    0.5593 H   0  0  0  0  0  0  0  0  0  0  0  0\\n    7.3008    0.5521    1.0919 H   0  0  0  0  0  0  0  0  0  0  0  0\\n    7.1989    0.9483   -0.6443 H   0  0  0  0  0  0  0  0  0  0  0  0\\n    6.8888   -2.8477   -0.8081 H   0  0  0  0  0  0  0  0  0  0  0  0\\n    5.4800   -2.8993    0.2720 H   0  0  0  0  0  0  0  0  0  0  0  0\\n    6.8790   -1.8507    0.6611 H   0  0  0  0  0  0  0  0  0  0  0  0\\n   -7.2495    2.0066    0.0645 H   0  0  0  0  0  0  0  0  0  0  0  0\\n   -8.7108    1.1318   -0.3763 H   0  0  0  0  0  0  0  0  0  0  0  0\\n   -7.3713    1.1144   -1.5167 H   0  0  0  0  0  0  0  0  0  0  0  0\\n  1  3  2  0\\n  1  8  1  1\\n  1 11  1  0\\n  2 13  1  0\\n  2 23  1  0\\n  4 20  1  0\\n  4 24  1  0\\n  5 11  1  0\\n  5 12  1  0\\n  5 27  1  0\\n  6 11  2  0\\n  6 14  1  0\\n  7  9  2  0\\n  7 18  1  0\\n  8  9  1  0\\n  8 25  1  0\\n  8 26  1  0\\n  9 10  1  0\\n 10 13  2  0\\n 10 16  1  0\\n 12 14  2  0\\n 12 17  1  0\\n 13 15  1  0\\n 14 19  1  0\\n 15 18  2  0\\n 15 22  1  0\\n 16 28  1  0\\n 16 29  1  0\\n 16 30  1  0\\n 17 20  2  0\\n 17 31  1  0\\n 18 32  1  0\\n 19 21  2  0\\n 19 33  1  0\\n 20 21  1  0\\n 21 34  1  0\\n 22 35  1  0\\n 22 36  1  0\\n 22 37  1  0\\n 23 38  1  0\\n 23 39  1  0\\n 23 40  1  0\\n 24 41  1  0\\n 24 42  1  0\\n 24 43  1  0\\nM  END\\n\",\"sdf\");\n\tviewer_17285427875475228.setStyle({\"stick\": {}});\n\tviewer_17285427875475228.setBackgroundColor(\"0xeeeeee\");\n\tviewer_17285427875475228.zoomTo();\nviewer_17285427875475228.render();\n});\n</script>",
      "text/html": [
       "<div id=\"3dmolviewer_17285427875475228\"  style=\"position: relative; width: 400px; height: 400px;\">\n",
       "        <p id=\"3dmolwarning_17285427875475228\" style=\"background-color:#ffcccc;color:black\">3Dmol.js failed to load for some reason.  Please check your browser console for error messages.<br></p>\n",
       "        </div>\n",
       "<script>\n",
       "\n",
       "var loadScriptAsync = function(uri){\n",
       "  return new Promise((resolve, reject) => {\n",
       "    //this is to ignore the existence of requirejs amd\n",
       "    var savedexports, savedmodule;\n",
       "    if (typeof exports !== 'undefined') savedexports = exports;\n",
       "    else exports = {}\n",
       "    if (typeof module !== 'undefined') savedmodule = module;\n",
       "    else module = {}\n",
       "\n",
       "    var tag = document.createElement('script');\n",
       "    tag.src = uri;\n",
       "    tag.async = true;\n",
       "    tag.onload = () => {\n",
       "        exports = savedexports;\n",
       "        module = savedmodule;\n",
       "        resolve();\n",
       "    };\n",
       "  var firstScriptTag = document.getElementsByTagName('script')[0];\n",
       "  firstScriptTag.parentNode.insertBefore(tag, firstScriptTag);\n",
       "});\n",
       "};\n",
       "\n",
       "if(typeof $3Dmolpromise === 'undefined') {\n",
       "$3Dmolpromise = null;\n",
       "  $3Dmolpromise = loadScriptAsync('https://cdnjs.cloudflare.com/ajax/libs/3Dmol/2.4.0/3Dmol-min.js');\n",
       "}\n",
       "\n",
       "var viewer_17285427875475228 = null;\n",
       "var warn = document.getElementById(\"3dmolwarning_17285427875475228\");\n",
       "if(warn) {\n",
       "    warn.parentNode.removeChild(warn);\n",
       "}\n",
       "$3Dmolpromise.then(function() {\n",
       "viewer_17285427875475228 = $3Dmol.createViewer(document.getElementById(\"3dmolviewer_17285427875475228\"),{backgroundColor:\"white\"});\n",
       "viewer_17285427875475228.zoomTo();\n",
       "\tviewer_17285427875475228.removeAllModels();\n",
       "\tviewer_17285427875475228.addModel(\"4594\\n     RDKit          3D\\n\\n 43 45  0  0  1  0  0  0  0  0999 V2000\\n    0.2799    0.7535   -0.8523 S   0  0  0  0  0  0  0  0  0  0  0  0\\n    5.6802   -1.1956   -0.9111 O   0  0  0  0  0  0  0  0  0  0  0  0\\n    0.4072    2.2559   -0.6946 O   0  0  0  0  0  0  0  0  0  0  0  0\\n   -7.1752   -0.0818    0.1901 O   0  0  0  0  0  0  0  0  0  0  0  0\\n   -2.5022    1.0085   -0.7856 N   0  0  0  0  0  0  0  0  0  0  0  0\\n   -1.7125   -0.8269    0.1880 N   0  0  0  0  0  0  0  0  0  0  0  0\\n    3.0758    1.3692    1.0722 N   0  0  0  0  0  0  0  0  0  0  0  0\\n    1.1692   -0.0049    0.5379 C   0  0  0  0  0  0  0  0  0  0  0  0\\n    2.6466    0.2489    0.4560 C   0  0  0  0  0  0  0  0  0  0  0  0\\n    3.4644   -0.6385   -0.2174 C   0  0  0  0  0  0  0  0  0  0  0  0\\n   -1.3970    0.2739   -0.4568 C   0  0  0  0  0  0  0  0  0  0  0  0\\n   -3.6042    0.3371   -0.3218 C   0  0  0  0  0  0  0  0  0  0  0  0\\n    4.8250   -0.3553   -0.2618 C   0  0  0  0  0  0  0  0  0  0  0  0\\n   -3.0850   -0.8048    0.2820 C   0  0  0  0  0  0  0  0  0  0  0  0\\n    5.3120    0.7890    0.3602 C   0  0  0  0  0  0  0  0  0  0  0  0\\n    2.9174   -1.8598   -0.8757 C   0  0  0  0  0  0  0  0  0  0  0  0\\n   -4.9691    0.6219   -0.3770 C   0  0  0  0  0  0  0  0  0  0  0  0\\n    4.4043    1.6113    1.0079 C   0  0  0  0  0  0  0  0  0  0  0  0\\n   -3.9650   -1.7284    0.8713 C   0  0  0  0  0  0  0  0  0  0  0  0\\n   -5.8306   -0.3083    0.2142 C   0  0  0  0  0  0  0  0  0  0  0  0\\n   -5.3395   -1.4631    0.8279 C   0  0  0  0  0  0  0  0  0  0  0  0\\n    6.7599    1.1362    0.3412 C   0  0  0  0  0  0  0  0  0  0  0  0\\n    6.2567   -2.2506   -0.1449 C   0  0  0  0  0  0  0  0  0  0  0  0\\n   -7.6184    1.1125   -0.4496 C   0  0  0  0  0  0  0  0  0  0  0  0\\n    0.9382   -1.0730    0.5858 H   0  0  0  0  0  0  0  0  0  0  0  0\\n    0.7767    0.4398    1.4605 H   0  0  0  0  0  0  0  0  0  0  0  0\\n   -2.5082    1.8901   -1.2814 H   0  0  0  0  0  0  0  0  0  0  0  0\\n    2.0477   -1.6254   -1.4971 H   0  0  0  0  0  0  0  0  0  0  0  0\\n    3.6371   -2.3342   -1.5505 H   0  0  0  0  0  0  0  0  0  0  0  0\\n    2.6348   -2.6025   -0.1225 H   0  0  0  0  0  0  0  0  0  0  0  0\\n   -5.2846    1.5336   -0.8669 H   0  0  0  0  0  0  0  0  0  0  0  0\\n    4.7213    2.5182    1.5137 H   0  0  0  0  0  0  0  0  0  0  0  0\\n   -3.5932   -2.6284    1.3503 H   0  0  0  0  0  0  0  0  0  0  0  0\\n   -6.0290   -2.1717    1.2809 H   0  0  0  0  0  0  0  0  0  0  0  0\\n    6.9177    2.1983    0.5593 H   0  0  0  0  0  0  0  0  0  0  0  0\\n    7.3008    0.5521    1.0919 H   0  0  0  0  0  0  0  0  0  0  0  0\\n    7.1989    0.9483   -0.6443 H   0  0  0  0  0  0  0  0  0  0  0  0\\n    6.8888   -2.8477   -0.8081 H   0  0  0  0  0  0  0  0  0  0  0  0\\n    5.4800   -2.8993    0.2720 H   0  0  0  0  0  0  0  0  0  0  0  0\\n    6.8790   -1.8507    0.6611 H   0  0  0  0  0  0  0  0  0  0  0  0\\n   -7.2495    2.0066    0.0645 H   0  0  0  0  0  0  0  0  0  0  0  0\\n   -8.7108    1.1318   -0.3763 H   0  0  0  0  0  0  0  0  0  0  0  0\\n   -7.3713    1.1144   -1.5167 H   0  0  0  0  0  0  0  0  0  0  0  0\\n  1  3  2  0\\n  1  8  1  1\\n  1 11  1  0\\n  2 13  1  0\\n  2 23  1  0\\n  4 20  1  0\\n  4 24  1  0\\n  5 11  1  0\\n  5 12  1  0\\n  5 27  1  0\\n  6 11  2  0\\n  6 14  1  0\\n  7  9  2  0\\n  7 18  1  0\\n  8  9  1  0\\n  8 25  1  0\\n  8 26  1  0\\n  9 10  1  0\\n 10 13  2  0\\n 10 16  1  0\\n 12 14  2  0\\n 12 17  1  0\\n 13 15  1  0\\n 14 19  1  0\\n 15 18  2  0\\n 15 22  1  0\\n 16 28  1  0\\n 16 29  1  0\\n 16 30  1  0\\n 17 20  2  0\\n 17 31  1  0\\n 18 32  1  0\\n 19 21  2  0\\n 19 33  1  0\\n 20 21  1  0\\n 21 34  1  0\\n 22 35  1  0\\n 22 36  1  0\\n 22 37  1  0\\n 23 38  1  0\\n 23 39  1  0\\n 23 40  1  0\\n 24 41  1  0\\n 24 42  1  0\\n 24 43  1  0\\nM  END\\n\",\"sdf\");\n",
       "\tviewer_17285427875475228.setStyle({\"stick\": {}});\n",
       "\tviewer_17285427875475228.setBackgroundColor(\"0xeeeeee\");\n",
       "\tviewer_17285427875475228.zoomTo();\n",
       "viewer_17285427875475228.render();\n",
       "});\n",
       "</script>"
      ]
     },
     "metadata": {},
     "output_type": "display_data"
    },
    {
     "data": {
      "image/png": "[encoded data removed]",
      "text/html": [],
      "text/plain": [
       "<rdkit.Chem.rdchem.Mol at 0x717fc5bef7d0>"
      ]
     },
     "execution_count": 30,
     "metadata": {},
     "output_type": "execute_result"
    }
   ],
   "source": [
    "import requests\n",
    "sdf = requests.get('https://pubchem.ncbi.nlm.nih.gov/rest/pug/conformers/000011F200000003/SDF').content\n",
    "suppl = Chem.SDMolSupplier()\n",
    "suppl.SetData(sdf,removeHs=False)\n",
    "omeprazole = next(suppl)\n",
    "omeprazole"
   ]
  },
  {
   "cell_type": "markdown",
   "id": "a3f9aa6b",
   "metadata": {},
   "source": [
    "Look at the feature definitions;"
   ]
  },
  {
   "cell_type": "code",
   "execution_count": 33,
   "id": "e2790203",
   "metadata": {
    "scrolled": true
   },
   "outputs": [
    {
     "name": "stdout",
     "output_type": "stream",
     "text": [
      "9\n",
      "1 2 acceptor\n",
      "1 3 acceptor\n",
      "1 4 acceptor\n",
      "1 5 donor\n",
      "1 7 acceptor\n",
      "3 5 6 11 cation\n",
      "5 5 6 11 12 14 rings\n",
      "6 12 14 17 19 20 21 rings\n",
      "6 7 9 10 13 15 18 rings\n"
     ]
    }
   ],
   "source": [
    "print(omeprazole.GetProp('PUBCHEM_PHARMACOPHORE_FEATURES'))"
   ]
  },
  {
   "cell_type": "code",
   "execution_count": 31,
   "id": "a5b6bc46",
   "metadata": {},
   "outputs": [
    {
     "data": {
      "application/3dmoljs_load.v0": "<div id=\"3dmolviewer_17285429342695057\"  style=\"position: relative; width: 400px; height: 400px;\">\n        <p id=\"3dmolwarning_17285429342695057\" style=\"background-color:#ffcccc;color:black\">3Dmol.js failed to load for some reason.  Please check your browser console for error messages.<br></p>\n        </div>\n<script>\n\nvar loadScriptAsync = function(uri){\n  return new Promise((resolve, reject) => {\n    //this is to ignore the existence of requirejs amd\n    var savedexports, savedmodule;\n    if (typeof exports !== 'undefined') savedexports = exports;\n    else exports = {}\n    if (typeof module !== 'undefined') savedmodule = module;\n    else module = {}\n\n    var tag = document.createElement('script');\n    tag.src = uri;\n    tag.async = true;\n    tag.onload = () => {\n        exports = savedexports;\n        module = savedmodule;\n        resolve();\n    };\n  var firstScriptTag = document.getElementsByTagName('script')[0];\n  firstScriptTag.parentNode.insertBefore(tag, firstScriptTag);\n});\n};\n\nif(typeof $3Dmolpromise === 'undefined') {\n$3Dmolpromise = null;\n  $3Dmolpromise = loadScriptAsync('https://cdnjs.cloudflare.com/ajax/libs/3Dmol/2.4.0/3Dmol-min.js');\n}\n\nvar viewer_17285429342695057 = null;\nvar warn = document.getElementById(\"3dmolwarning_17285429342695057\");\nif(warn) {\n    warn.parentNode.removeChild(warn);\n}\n$3Dmolpromise.then(function() {\nviewer_17285429342695057 = $3Dmol.createViewer(document.getElementById(\"3dmolviewer_17285429342695057\"),{backgroundColor:\"white\"});\nviewer_17285429342695057.zoomTo();\n\tviewer_17285429342695057.removeAllModels();\n\tviewer_17285429342695057.addModel(\"383505\\n     RDKit          3D\\n\\n 29 31  0  0  0  0  0  0  0  0999 V2000\\n   -0.4311    0.0004    1.0847 S   0  0  0  0  0  0  0  0  0  0  0  0\\n    1.9631   -2.3738   -0.2994 F   0  0  0  0  0  0  0  0  0  0  0  0\\n    1.9627    2.3737   -0.2998 F   0  0  0  0  0  0  0  0  0  0  0  0\\n    4.6642    2.3679    0.0662 F   0  0  0  0  0  0  0  0  0  0  0  0\\n    4.6641   -2.3681    0.0660 F   0  0  0  0  0  0  0  0  0  0  0  0\\n    6.0189   -0.0006    0.2501 F   0  0  0  0  0  0  0  0  0  0  0  0\\n   -3.0905    0.0007    1.4806 N   0  0  0  0  0  0  0  0  0  0  0  0\\n   -2.5226   -0.0002   -0.6683 N   0  0  0  0  0  0  0  0  0  0  0  0\\n    1.9371    0.0000   -0.3028 C   0  0  0  0  0  0  0  0  0  0  0  0\\n    0.4491   -0.0001   -0.5050 C   0  0  0  0  0  0  0  0  0  0  0  0\\n   -4.2747    0.0003    0.7891 C   0  0  0  0  0  0  0  0  0  0  0  0\\n   -3.8935   -0.0001   -0.5498 C   0  0  0  0  0  0  0  0  0  0  0  0\\n   -2.0736    0.0002    0.5669 C   0  0  0  0  0  0  0  0  0  0  0  0\\n    2.6181   -1.2079   -0.2099 C   0  0  0  0  0  0  0  0  0  0  0  0\\n    2.6183    1.2081   -0.2111 C   0  0  0  0  0  0  0  0  0  0  0  0\\n   -5.6059    0.0003    1.2071 C   0  0  0  0  0  0  0  0  0  0  0  0\\n   -4.8861   -0.0005   -1.5444 C   0  0  0  0  0  0  0  0  0  0  0  0\\n    4.0005    1.2082   -0.0238 C   0  0  0  0  0  0  0  0  0  0  0  0\\n    4.0003   -1.2079   -0.0225 C   0  0  0  0  0  0  0  0  0  0  0  0\\n    4.6916    0.0001    0.0705 C   0  0  0  0  0  0  0  0  0  0  0  0\\n   -6.5807   -0.0003    0.2038 C   0  0  0  0  0  0  0  0  0  0  0  0\\n   -6.2293   -0.0005   -1.1480 C   0  0  0  0  0  0  0  0  0  0  0  0\\n    0.1499    0.8780   -1.0895 H   0  0  0  0  0  0  0  0  0  0  0  0\\n    0.1499   -0.8786   -1.0889 H   0  0  0  0  0  0  0  0  0  0  0  0\\n   -2.9868    0.0011    2.4864 H   0  0  0  0  0  0  0  0  0  0  0  0\\n   -5.8761    0.0006    2.2569 H   0  0  0  0  0  0  0  0  0  0  0  0\\n   -4.6234   -0.0009   -2.5975 H   0  0  0  0  0  0  0  0  0  0  0  0\\n   -7.6316   -0.0004    0.4825 H   0  0  0  0  0  0  0  0  0  0  0  0\\n   -7.0096   -0.0009   -1.9048 H   0  0  0  0  0  0  0  0  0  0  0  0\\n  1 10  1  0\\n  1 13  1  0\\n  2 14  1  0\\n  3 15  1  0\\n  4 18  1  0\\n  5 19  1  0\\n  6 20  1  0\\n  7 11  1  0\\n  7 13  1  0\\n  7 25  1  0\\n  8 12  1  0\\n  8 13  2  0\\n  9 10  1  0\\n  9 14  2  0\\n  9 15  1  0\\n 10 23  1  0\\n 10 24  1  0\\n 11 12  2  0\\n 11 16  1  0\\n 12 17  1  0\\n 14 19  1  0\\n 15 18  2  0\\n 16 21  2  0\\n 16 26  1  0\\n 17 22  2  0\\n 17 27  1  0\\n 18 20  1  0\\n 19 20  2  0\\n 21 22  1  0\\n 21 28  1  0\\n 22 29  1  0\\nM  END\\n\",\"sdf\");\n\tviewer_17285429342695057.setStyle({\"stick\": {}});\n\tviewer_17285429342695057.setBackgroundColor(\"0xeeeeee\");\n\tviewer_17285429342695057.zoomTo();\nviewer_17285429342695057.render();\n});\n</script>",
      "text/html": [
       "<div id=\"3dmolviewer_17285429342695057\"  style=\"position: relative; width: 400px; height: 400px;\">\n",
       "        <p id=\"3dmolwarning_17285429342695057\" style=\"background-color:#ffcccc;color:black\">3Dmol.js failed to load for some reason.  Please check your browser console for error messages.<br></p>\n",
       "        </div>\n",
       "<script>\n",
       "\n",
       "var loadScriptAsync = function(uri){\n",
       "  return new Promise((resolve, reject) => {\n",
       "    //this is to ignore the existence of requirejs amd\n",
       "    var savedexports, savedmodule;\n",
       "    if (typeof exports !== 'undefined') savedexports = exports;\n",
       "    else exports = {}\n",
       "    if (typeof module !== 'undefined') savedmodule = module;\n",
       "    else module = {}\n",
       "\n",
       "    var tag = document.createElement('script');\n",
       "    tag.src = uri;\n",
       "    tag.async = true;\n",
       "    tag.onload = () => {\n",
       "        exports = savedexports;\n",
       "        module = savedmodule;\n",
       "        resolve();\n",
       "    };\n",
       "  var firstScriptTag = document.getElementsByTagName('script')[0];\n",
       "  firstScriptTag.parentNode.insertBefore(tag, firstScriptTag);\n",
       "});\n",
       "};\n",
       "\n",
       "if(typeof $3Dmolpromise === 'undefined') {\n",
       "$3Dmolpromise = null;\n",
       "  $3Dmolpromise = loadScriptAsync('https://cdnjs.cloudflare.com/ajax/libs/3Dmol/2.4.0/3Dmol-min.js');\n",
       "}\n",
       "\n",
       "var viewer_17285429342695057 = null;\n",
       "var warn = document.getElementById(\"3dmolwarning_17285429342695057\");\n",
       "if(warn) {\n",
       "    warn.parentNode.removeChild(warn);\n",
       "}\n",
       "$3Dmolpromise.then(function() {\n",
       "viewer_17285429342695057 = $3Dmol.createViewer(document.getElementById(\"3dmolviewer_17285429342695057\"),{backgroundColor:\"white\"});\n",
       "viewer_17285429342695057.zoomTo();\n",
       "\tviewer_17285429342695057.removeAllModels();\n",
       "\tviewer_17285429342695057.addModel(\"383505\\n     RDKit          3D\\n\\n 29 31  0  0  0  0  0  0  0  0999 V2000\\n   -0.4311    0.0004    1.0847 S   0  0  0  0  0  0  0  0  0  0  0  0\\n    1.9631   -2.3738   -0.2994 F   0  0  0  0  0  0  0  0  0  0  0  0\\n    1.9627    2.3737   -0.2998 F   0  0  0  0  0  0  0  0  0  0  0  0\\n    4.6642    2.3679    0.0662 F   0  0  0  0  0  0  0  0  0  0  0  0\\n    4.6641   -2.3681    0.0660 F   0  0  0  0  0  0  0  0  0  0  0  0\\n    6.0189   -0.0006    0.2501 F   0  0  0  0  0  0  0  0  0  0  0  0\\n   -3.0905    0.0007    1.4806 N   0  0  0  0  0  0  0  0  0  0  0  0\\n   -2.5226   -0.0002   -0.6683 N   0  0  0  0  0  0  0  0  0  0  0  0\\n    1.9371    0.0000   -0.3028 C   0  0  0  0  0  0  0  0  0  0  0  0\\n    0.4491   -0.0001   -0.5050 C   0  0  0  0  0  0  0  0  0  0  0  0\\n   -4.2747    0.0003    0.7891 C   0  0  0  0  0  0  0  0  0  0  0  0\\n   -3.8935   -0.0001   -0.5498 C   0  0  0  0  0  0  0  0  0  0  0  0\\n   -2.0736    0.0002    0.5669 C   0  0  0  0  0  0  0  0  0  0  0  0\\n    2.6181   -1.2079   -0.2099 C   0  0  0  0  0  0  0  0  0  0  0  0\\n    2.6183    1.2081   -0.2111 C   0  0  0  0  0  0  0  0  0  0  0  0\\n   -5.6059    0.0003    1.2071 C   0  0  0  0  0  0  0  0  0  0  0  0\\n   -4.8861   -0.0005   -1.5444 C   0  0  0  0  0  0  0  0  0  0  0  0\\n    4.0005    1.2082   -0.0238 C   0  0  0  0  0  0  0  0  0  0  0  0\\n    4.0003   -1.2079   -0.0225 C   0  0  0  0  0  0  0  0  0  0  0  0\\n    4.6916    0.0001    0.0705 C   0  0  0  0  0  0  0  0  0  0  0  0\\n   -6.5807   -0.0003    0.2038 C   0  0  0  0  0  0  0  0  0  0  0  0\\n   -6.2293   -0.0005   -1.1480 C   0  0  0  0  0  0  0  0  0  0  0  0\\n    0.1499    0.8780   -1.0895 H   0  0  0  0  0  0  0  0  0  0  0  0\\n    0.1499   -0.8786   -1.0889 H   0  0  0  0  0  0  0  0  0  0  0  0\\n   -2.9868    0.0011    2.4864 H   0  0  0  0  0  0  0  0  0  0  0  0\\n   -5.8761    0.0006    2.2569 H   0  0  0  0  0  0  0  0  0  0  0  0\\n   -4.6234   -0.0009   -2.5975 H   0  0  0  0  0  0  0  0  0  0  0  0\\n   -7.6316   -0.0004    0.4825 H   0  0  0  0  0  0  0  0  0  0  0  0\\n   -7.0096   -0.0009   -1.9048 H   0  0  0  0  0  0  0  0  0  0  0  0\\n  1 10  1  0\\n  1 13  1  0\\n  2 14  1  0\\n  3 15  1  0\\n  4 18  1  0\\n  5 19  1  0\\n  6 20  1  0\\n  7 11  1  0\\n  7 13  1  0\\n  7 25  1  0\\n  8 12  1  0\\n  8 13  2  0\\n  9 10  1  0\\n  9 14  2  0\\n  9 15  1  0\\n 10 23  1  0\\n 10 24  1  0\\n 11 12  2  0\\n 11 16  1  0\\n 12 17  1  0\\n 14 19  1  0\\n 15 18  2  0\\n 16 21  2  0\\n 16 26  1  0\\n 17 22  2  0\\n 17 27  1  0\\n 18 20  1  0\\n 19 20  2  0\\n 21 22  1  0\\n 21 28  1  0\\n 22 29  1  0\\nM  END\\n\",\"sdf\");\n",
       "\tviewer_17285429342695057.setStyle({\"stick\": {}});\n",
       "\tviewer_17285429342695057.setBackgroundColor(\"0xeeeeee\");\n",
       "\tviewer_17285429342695057.zoomTo();\n",
       "viewer_17285429342695057.render();\n",
       "});\n",
       "</script>"
      ]
     },
     "metadata": {},
     "output_type": "display_data"
    },
    {
     "data": {
      "image/png": "[encoded data removed]",
      "text/html": [],
      "text/plain": [
       "<rdkit.Chem.rdchem.Mol at 0x717fc5bedd20>"
      ]
     },
     "execution_count": 31,
     "metadata": {},
     "output_type": "execute_result"
    }
   ],
   "source": [
    "sdf = requests.get('https://pubchem.ncbi.nlm.nih.gov/rest/pug/conformers/0005DA1100000001/SDF').content\n",
    "suppl = Chem.SDMolSupplier()\n",
    "suppl.SetData(sdf,removeHs=False)\n",
    "mol = next(suppl)\n",
    "mol"
   ]
  },
  {
   "cell_type": "code",
   "execution_count": 34,
   "id": "92fafc6c",
   "metadata": {},
   "outputs": [
    {
     "name": "stdout",
     "output_type": "stream",
     "text": [
      "5\n",
      "1 7 donor\n",
      "3 7 8 13 cation\n",
      "5 7 8 11 12 13 rings\n",
      "6 11 12 16 17 21 22 rings\n",
      "6 9 14 15 18 19 20 rings\n"
     ]
    }
   ],
   "source": [
    "print(mol.GetProp('PUBCHEM_PHARMACOPHORE_FEATURES'))"
   ]
  },
  {
   "cell_type": "markdown",
   "id": "226e8638",
   "metadata": {},
   "source": [
    "Align the molecules:"
   ]
  },
  {
   "cell_type": "code",
   "execution_count": 36,
   "id": "38b2186e",
   "metadata": {},
   "outputs": [
    {
     "name": "stdout",
     "output_type": "stream",
     "text": [
      "0.8584853463904615 0.5117278196011656\n"
     ]
    },
    {
     "data": {
      "application/3dmoljs_load.v0": "<div id=\"3dmolviewer_17285431073726847\"  style=\"position: relative; width: 400px; height: 400px;\">\n        <p id=\"3dmolwarning_17285431073726847\" style=\"background-color:#ffcccc;color:black\">3Dmol.js failed to load for some reason.  Please check your browser console for error messages.<br></p>\n        </div>\n<script>\n\nvar loadScriptAsync = function(uri){\n  return new Promise((resolve, reject) => {\n    //this is to ignore the existence of requirejs amd\n    var savedexports, savedmodule;\n    if (typeof exports !== 'undefined') savedexports = exports;\n    else exports = {}\n    if (typeof module !== 'undefined') savedmodule = module;\n    else module = {}\n\n    var tag = document.createElement('script');\n    tag.src = uri;\n    tag.async = true;\n    tag.onload = () => {\n        exports = savedexports;\n        module = savedmodule;\n        resolve();\n    };\n  var firstScriptTag = document.getElementsByTagName('script')[0];\n  firstScriptTag.parentNode.insertBefore(tag, firstScriptTag);\n});\n};\n\nif(typeof $3Dmolpromise === 'undefined') {\n$3Dmolpromise = null;\n  $3Dmolpromise = loadScriptAsync('https://cdnjs.cloudflare.com/ajax/libs/3Dmol/2.4.0/3Dmol-min.js');\n}\n\nvar viewer_17285431073726847 = null;\nvar warn = document.getElementById(\"3dmolwarning_17285431073726847\");\nif(warn) {\n    warn.parentNode.removeChild(warn);\n}\n$3Dmolpromise.then(function() {\nviewer_17285431073726847 = $3Dmol.createViewer(document.getElementById(\"3dmolviewer_17285431073726847\"),{backgroundColor:\"white\"});\nviewer_17285431073726847.zoomTo();\n\tviewer_17285431073726847.removeAllModels();\n\tviewer_17285431073726847.addModel(\"4594\\n     RDKit          3D\\n\\n 43 45  0  0  1  0  0  0  0  0999 V2000\\n    0.2799    0.7535   -0.8523 S   0  0  0  0  0  0  0  0  0  0  0  0\\n    5.6802   -1.1956   -0.9111 O   0  0  0  0  0  0  0  0  0  0  0  0\\n    0.4072    2.2559   -0.6946 O   0  0  0  0  0  0  0  0  0  0  0  0\\n   -7.1752   -0.0818    0.1901 O   0  0  0  0  0  0  0  0  0  0  0  0\\n   -2.5022    1.0085   -0.7856 N   0  0  0  0  0  0  0  0  0  0  0  0\\n   -1.7125   -0.8269    0.1880 N   0  0  0  0  0  0  0  0  0  0  0  0\\n    3.0758    1.3692    1.0722 N   0  0  0  0  0  0  0  0  0  0  0  0\\n    1.1692   -0.0049    0.5379 C   0  0  0  0  0  0  0  0  0  0  0  0\\n    2.6466    0.2489    0.4560 C   0  0  0  0  0  0  0  0  0  0  0  0\\n    3.4644   -0.6385   -0.2174 C   0  0  0  0  0  0  0  0  0  0  0  0\\n   -1.3970    0.2739   -0.4568 C   0  0  0  0  0  0  0  0  0  0  0  0\\n   -3.6042    0.3371   -0.3218 C   0  0  0  0  0  0  0  0  0  0  0  0\\n    4.8250   -0.3553   -0.2618 C   0  0  0  0  0  0  0  0  0  0  0  0\\n   -3.0850   -0.8048    0.2820 C   0  0  0  0  0  0  0  0  0  0  0  0\\n    5.3120    0.7890    0.3602 C   0  0  0  0  0  0  0  0  0  0  0  0\\n    2.9174   -1.8598   -0.8757 C   0  0  0  0  0  0  0  0  0  0  0  0\\n   -4.9691    0.6219   -0.3770 C   0  0  0  0  0  0  0  0  0  0  0  0\\n    4.4043    1.6113    1.0079 C   0  0  0  0  0  0  0  0  0  0  0  0\\n   -3.9650   -1.7284    0.8713 C   0  0  0  0  0  0  0  0  0  0  0  0\\n   -5.8306   -0.3083    0.2142 C   0  0  0  0  0  0  0  0  0  0  0  0\\n   -5.3395   -1.4631    0.8279 C   0  0  0  0  0  0  0  0  0  0  0  0\\n    6.7599    1.1362    0.3412 C   0  0  0  0  0  0  0  0  0  0  0  0\\n    6.2567   -2.2506   -0.1449 C   0  0  0  0  0  0  0  0  0  0  0  0\\n   -7.6184    1.1125   -0.4496 C   0  0  0  0  0  0  0  0  0  0  0  0\\n    0.9382   -1.0730    0.5858 H   0  0  0  0  0  0  0  0  0  0  0  0\\n    0.7767    0.4398    1.4605 H   0  0  0  0  0  0  0  0  0  0  0  0\\n   -2.5082    1.8901   -1.2814 H   0  0  0  0  0  0  0  0  0  0  0  0\\n    2.0477   -1.6254   -1.4971 H   0  0  0  0  0  0  0  0  0  0  0  0\\n    3.6371   -2.3342   -1.5505 H   0  0  0  0  0  0  0  0  0  0  0  0\\n    2.6348   -2.6025   -0.1225 H   0  0  0  0  0  0  0  0  0  0  0  0\\n   -5.2846    1.5336   -0.8669 H   0  0  0  0  0  0  0  0  0  0  0  0\\n    4.7213    2.5182    1.5137 H   0  0  0  0  0  0  0  0  0  0  0  0\\n   -3.5932   -2.6284    1.3503 H   0  0  0  0  0  0  0  0  0  0  0  0\\n   -6.0290   -2.1717    1.2809 H   0  0  0  0  0  0  0  0  0  0  0  0\\n    6.9177    2.1983    0.5593 H   0  0  0  0  0  0  0  0  0  0  0  0\\n    7.3008    0.5521    1.0919 H   0  0  0  0  0  0  0  0  0  0  0  0\\n    7.1989    0.9483   -0.6443 H   0  0  0  0  0  0  0  0  0  0  0  0\\n    6.8888   -2.8477   -0.8081 H   0  0  0  0  0  0  0  0  0  0  0  0\\n    5.4800   -2.8993    0.2720 H   0  0  0  0  0  0  0  0  0  0  0  0\\n    6.8790   -1.8507    0.6611 H   0  0  0  0  0  0  0  0  0  0  0  0\\n   -7.2495    2.0066    0.0645 H   0  0  0  0  0  0  0  0  0  0  0  0\\n   -8.7108    1.1318   -0.3763 H   0  0  0  0  0  0  0  0  0  0  0  0\\n   -7.3713    1.1144   -1.5167 H   0  0  0  0  0  0  0  0  0  0  0  0\\n  1  3  2  0\\n  1  8  1  1\\n  1 11  1  0\\n  2 13  1  0\\n  2 23  1  0\\n  4 20  1  0\\n  4 24  1  0\\n  5 11  1  0\\n  5 12  1  0\\n  5 27  1  0\\n  6 11  2  0\\n  6 14  1  0\\n  7  9  2  0\\n  7 18  1  0\\n  8  9  1  0\\n  8 25  1  0\\n  8 26  1  0\\n  9 10  1  0\\n 10 13  2  0\\n 10 16  1  0\\n 12 14  2  0\\n 12 17  1  0\\n 13 15  1  0\\n 14 19  1  0\\n 15 18  2  0\\n 15 22  1  0\\n 16 28  1  0\\n 16 29  1  0\\n 16 30  1  0\\n 17 20  2  0\\n 17 31  1  0\\n 18 32  1  0\\n 19 21  2  0\\n 19 33  1  0\\n 20 21  1  0\\n 21 34  1  0\\n 22 35  1  0\\n 22 36  1  0\\n 22 37  1  0\\n 23 38  1  0\\n 23 39  1  0\\n 23 40  1  0\\n 24 41  1  0\\n 24 42  1  0\\n 24 43  1  0\\nM  END\\n\",\"sdf\");\n\tviewer_17285431073726847.setStyle({\"stick\": {}});\n\tviewer_17285431073726847.addModel(\"383505\\n     RDKit          3D\\n\\n 29 31  0  0  0  0  0  0  0  0999 V2000\\n    0.2156    0.7254   -0.7293 S   0  0  0  0  0  0  0  0  0  0  0  0\\n    2.4853    1.8433    1.8943 F   0  0  0  0  0  0  0  0  0  0  0  0\\n    2.8046   -1.8088   -1.1222 F   0  0  0  0  0  0  0  0  0  0  0  0\\n    5.4873   -1.3794   -1.3485 F   0  0  0  0  0  0  0  0  0  0  0  0\\n    5.1682    2.2634    1.6612 F   0  0  0  0  0  0  0  0  0  0  0  0\\n    6.6732    0.6557    0.0410 F   0  0  0  0  0  0  0  0  0  0  0  0\\n   -2.4486    0.7871   -1.0868 N   0  0  0  0  0  0  0  0  0  0  0  0\\n   -1.8171   -0.5363    0.5835 N   0  0  0  0  0  0  0  0  0  0  0  0\\n    2.6193    0.0133    0.3880 C   0  0  0  0  0  0  0  0  0  0  0  0\\n    1.1415   -0.2210    0.5152 C   0  0  0  0  0  0  0  0  0  0  0  0\\n   -3.6086    0.2639   -0.5758 C   0  0  0  0  0  0  0  0  0  0  0  0\\n   -3.1879   -0.5588    0.4653 C   0  0  0  0  0  0  0  0  0  0  0  0\\n   -1.4068    0.2797   -0.3614 C   0  0  0  0  0  0  0  0  0  0  0  0\\n    3.2143    1.0500    1.0971 C   0  0  0  0  0  0  0  0  0  0  0  0\\n    3.3772   -0.8092   -0.4372 C   0  0  0  0  0  0  0  0  0  0  0  0\\n   -4.9488    0.4345   -0.9244 C   0  0  0  0  0  0  0  0  0  0  0  0\\n   -4.1476   -1.2608    1.2140 C   0  0  0  0  0  0  0  0  0  0  0  0\\n    4.7500   -0.5918   -0.5550 C   0  0  0  0  0  0  0  0  0  0  0  0\\n    4.5871    1.2675    0.9793 C   0  0  0  0  0  0  0  0  0  0  0  0\\n    5.3550    0.4466    0.1534 C   0  0  0  0  0  0  0  0  0  0  0  0\\n   -5.8906   -0.2716   -0.1685 C   0  0  0  0  0  0  0  0  0  0  0  0\\n   -5.4992   -1.1048    0.8819 C   0  0  0  0  0  0  0  0  0  0  0  0\\n    0.9200   -1.2889    0.4026 H   0  0  0  0  0  0  0  0  0  0  0  0\\n    0.8017    0.0626    1.5183 H   0  0  0  0  0  0  0  0  0  0  0  0\\n   -2.3756    1.4329   -1.8614 H   0  0  0  0  0  0  0  0  0  0  0  0\\n   -5.2501    1.0817   -1.7401 H   0  0  0  0  0  0  0  0  0  0  0  0\\n   -3.8538   -1.9105    2.0323 H   0  0  0  0  0  0  0  0  0  0  0  0\\n   -6.9471   -0.1694   -0.4040 H   0  0  0  0  0  0  0  0  0  0  0  0\\n   -6.2544   -1.6407    1.4512 H   0  0  0  0  0  0  0  0  0  0  0  0\\n  1 10  1  0\\n  1 13  1  0\\n  2 14  1  0\\n  3 15  1  0\\n  4 18  1  0\\n  5 19  1  0\\n  6 20  1  0\\n  7 11  1  0\\n  7 13  1  0\\n  7 25  1  0\\n  8 12  1  0\\n  8 13  2  0\\n  9 10  1  0\\n  9 14  2  0\\n  9 15  1  0\\n 10 23  1  0\\n 10 24  1  0\\n 11 12  2  0\\n 11 16  1  0\\n 12 17  1  0\\n 14 19  1  0\\n 15 18  2  0\\n 16 21  2  0\\n 16 26  1  0\\n 17 22  2  0\\n 17 27  1  0\\n 18 20  1  0\\n 19 20  2  0\\n 21 22  1  0\\n 21 28  1  0\\n 22 29  1  0\\nM  END\\n\",\"sdf\");\n\tviewer_17285431073726847.setStyle({\"stick\": {}});\n\tviewer_17285431073726847.setStyle({\"model\": 0},{\"stick\": {\"colorscheme\": \"cyanCarbon\"}});\n\tviewer_17285431073726847.setStyle({\"model\": 1},{\"stick\": {\"colorscheme\": \"blueCarbon\"}});\n\tviewer_17285431073726847.zoomTo();\nviewer_17285431073726847.render();\n});\n</script>",
      "text/html": [
       "<div id=\"3dmolviewer_17285431073726847\"  style=\"position: relative; width: 400px; height: 400px;\">\n",
       "        <p id=\"3dmolwarning_17285431073726847\" style=\"background-color:#ffcccc;color:black\">3Dmol.js failed to load for some reason.  Please check your browser console for error messages.<br></p>\n",
       "        </div>\n",
       "<script>\n",
       "\n",
       "var loadScriptAsync = function(uri){\n",
       "  return new Promise((resolve, reject) => {\n",
       "    //this is to ignore the existence of requirejs amd\n",
       "    var savedexports, savedmodule;\n",
       "    if (typeof exports !== 'undefined') savedexports = exports;\n",
       "    else exports = {}\n",
       "    if (typeof module !== 'undefined') savedmodule = module;\n",
       "    else module = {}\n",
       "\n",
       "    var tag = document.createElement('script');\n",
       "    tag.src = uri;\n",
       "    tag.async = true;\n",
       "    tag.onload = () => {\n",
       "        exports = savedexports;\n",
       "        module = savedmodule;\n",
       "        resolve();\n",
       "    };\n",
       "  var firstScriptTag = document.getElementsByTagName('script')[0];\n",
       "  firstScriptTag.parentNode.insertBefore(tag, firstScriptTag);\n",
       "});\n",
       "};\n",
       "\n",
       "if(typeof $3Dmolpromise === 'undefined') {\n",
       "$3Dmolpromise = null;\n",
       "  $3Dmolpromise = loadScriptAsync('https://cdnjs.cloudflare.com/ajax/libs/3Dmol/2.4.0/3Dmol-min.js');\n",
       "}\n",
       "\n",
       "var viewer_17285431073726847 = null;\n",
       "var warn = document.getElementById(\"3dmolwarning_17285431073726847\");\n",
       "if(warn) {\n",
       "    warn.parentNode.removeChild(warn);\n",
       "}\n",
       "$3Dmolpromise.then(function() {\n",
       "viewer_17285431073726847 = $3Dmol.createViewer(document.getElementById(\"3dmolviewer_17285431073726847\"),{backgroundColor:\"white\"});\n",
       "viewer_17285431073726847.zoomTo();\n",
       "\tviewer_17285431073726847.removeAllModels();\n",
       "\tviewer_17285431073726847.addModel(\"4594\\n     RDKit          3D\\n\\n 43 45  0  0  1  0  0  0  0  0999 V2000\\n    0.2799    0.7535   -0.8523 S   0  0  0  0  0  0  0  0  0  0  0  0\\n    5.6802   -1.1956   -0.9111 O   0  0  0  0  0  0  0  0  0  0  0  0\\n    0.4072    2.2559   -0.6946 O   0  0  0  0  0  0  0  0  0  0  0  0\\n   -7.1752   -0.0818    0.1901 O   0  0  0  0  0  0  0  0  0  0  0  0\\n   -2.5022    1.0085   -0.7856 N   0  0  0  0  0  0  0  0  0  0  0  0\\n   -1.7125   -0.8269    0.1880 N   0  0  0  0  0  0  0  0  0  0  0  0\\n    3.0758    1.3692    1.0722 N   0  0  0  0  0  0  0  0  0  0  0  0\\n    1.1692   -0.0049    0.5379 C   0  0  0  0  0  0  0  0  0  0  0  0\\n    2.6466    0.2489    0.4560 C   0  0  0  0  0  0  0  0  0  0  0  0\\n    3.4644   -0.6385   -0.2174 C   0  0  0  0  0  0  0  0  0  0  0  0\\n   -1.3970    0.2739   -0.4568 C   0  0  0  0  0  0  0  0  0  0  0  0\\n   -3.6042    0.3371   -0.3218 C   0  0  0  0  0  0  0  0  0  0  0  0\\n    4.8250   -0.3553   -0.2618 C   0  0  0  0  0  0  0  0  0  0  0  0\\n   -3.0850   -0.8048    0.2820 C   0  0  0  0  0  0  0  0  0  0  0  0\\n    5.3120    0.7890    0.3602 C   0  0  0  0  0  0  0  0  0  0  0  0\\n    2.9174   -1.8598   -0.8757 C   0  0  0  0  0  0  0  0  0  0  0  0\\n   -4.9691    0.6219   -0.3770 C   0  0  0  0  0  0  0  0  0  0  0  0\\n    4.4043    1.6113    1.0079 C   0  0  0  0  0  0  0  0  0  0  0  0\\n   -3.9650   -1.7284    0.8713 C   0  0  0  0  0  0  0  0  0  0  0  0\\n   -5.8306   -0.3083    0.2142 C   0  0  0  0  0  0  0  0  0  0  0  0\\n   -5.3395   -1.4631    0.8279 C   0  0  0  0  0  0  0  0  0  0  0  0\\n    6.7599    1.1362    0.3412 C   0  0  0  0  0  0  0  0  0  0  0  0\\n    6.2567   -2.2506   -0.1449 C   0  0  0  0  0  0  0  0  0  0  0  0\\n   -7.6184    1.1125   -0.4496 C   0  0  0  0  0  0  0  0  0  0  0  0\\n    0.9382   -1.0730    0.5858 H   0  0  0  0  0  0  0  0  0  0  0  0\\n    0.7767    0.4398    1.4605 H   0  0  0  0  0  0  0  0  0  0  0  0\\n   -2.5082    1.8901   -1.2814 H   0  0  0  0  0  0  0  0  0  0  0  0\\n    2.0477   -1.6254   -1.4971 H   0  0  0  0  0  0  0  0  0  0  0  0\\n    3.6371   -2.3342   -1.5505 H   0  0  0  0  0  0  0  0  0  0  0  0\\n    2.6348   -2.6025   -0.1225 H   0  0  0  0  0  0  0  0  0  0  0  0\\n   -5.2846    1.5336   -0.8669 H   0  0  0  0  0  0  0  0  0  0  0  0\\n    4.7213    2.5182    1.5137 H   0  0  0  0  0  0  0  0  0  0  0  0\\n   -3.5932   -2.6284    1.3503 H   0  0  0  0  0  0  0  0  0  0  0  0\\n   -6.0290   -2.1717    1.2809 H   0  0  0  0  0  0  0  0  0  0  0  0\\n    6.9177    2.1983    0.5593 H   0  0  0  0  0  0  0  0  0  0  0  0\\n    7.3008    0.5521    1.0919 H   0  0  0  0  0  0  0  0  0  0  0  0\\n    7.1989    0.9483   -0.6443 H   0  0  0  0  0  0  0  0  0  0  0  0\\n    6.8888   -2.8477   -0.8081 H   0  0  0  0  0  0  0  0  0  0  0  0\\n    5.4800   -2.8993    0.2720 H   0  0  0  0  0  0  0  0  0  0  0  0\\n    6.8790   -1.8507    0.6611 H   0  0  0  0  0  0  0  0  0  0  0  0\\n   -7.2495    2.0066    0.0645 H   0  0  0  0  0  0  0  0  0  0  0  0\\n   -8.7108    1.1318   -0.3763 H   0  0  0  0  0  0  0  0  0  0  0  0\\n   -7.3713    1.1144   -1.5167 H   0  0  0  0  0  0  0  0  0  0  0  0\\n  1  3  2  0\\n  1  8  1  1\\n  1 11  1  0\\n  2 13  1  0\\n  2 23  1  0\\n  4 20  1  0\\n  4 24  1  0\\n  5 11  1  0\\n  5 12  1  0\\n  5 27  1  0\\n  6 11  2  0\\n  6 14  1  0\\n  7  9  2  0\\n  7 18  1  0\\n  8  9  1  0\\n  8 25  1  0\\n  8 26  1  0\\n  9 10  1  0\\n 10 13  2  0\\n 10 16  1  0\\n 12 14  2  0\\n 12 17  1  0\\n 13 15  1  0\\n 14 19  1  0\\n 15 18  2  0\\n 15 22  1  0\\n 16 28  1  0\\n 16 29  1  0\\n 16 30  1  0\\n 17 20  2  0\\n 17 31  1  0\\n 18 32  1  0\\n 19 21  2  0\\n 19 33  1  0\\n 20 21  1  0\\n 21 34  1  0\\n 22 35  1  0\\n 22 36  1  0\\n 22 37  1  0\\n 23 38  1  0\\n 23 39  1  0\\n 23 40  1  0\\n 24 41  1  0\\n 24 42  1  0\\n 24 43  1  0\\nM  END\\n\",\"sdf\");\n",
       "\tviewer_17285431073726847.setStyle({\"stick\": {}});\n",
       "\tviewer_17285431073726847.addModel(\"383505\\n     RDKit          3D\\n\\n 29 31  0  0  0  0  0  0  0  0999 V2000\\n    0.2156    0.7254   -0.7293 S   0  0  0  0  0  0  0  0  0  0  0  0\\n    2.4853    1.8433    1.8943 F   0  0  0  0  0  0  0  0  0  0  0  0\\n    2.8046   -1.8088   -1.1222 F   0  0  0  0  0  0  0  0  0  0  0  0\\n    5.4873   -1.3794   -1.3485 F   0  0  0  0  0  0  0  0  0  0  0  0\\n    5.1682    2.2634    1.6612 F   0  0  0  0  0  0  0  0  0  0  0  0\\n    6.6732    0.6557    0.0410 F   0  0  0  0  0  0  0  0  0  0  0  0\\n   -2.4486    0.7871   -1.0868 N   0  0  0  0  0  0  0  0  0  0  0  0\\n   -1.8171   -0.5363    0.5835 N   0  0  0  0  0  0  0  0  0  0  0  0\\n    2.6193    0.0133    0.3880 C   0  0  0  0  0  0  0  0  0  0  0  0\\n    1.1415   -0.2210    0.5152 C   0  0  0  0  0  0  0  0  0  0  0  0\\n   -3.6086    0.2639   -0.5758 C   0  0  0  0  0  0  0  0  0  0  0  0\\n   -3.1879   -0.5588    0.4653 C   0  0  0  0  0  0  0  0  0  0  0  0\\n   -1.4068    0.2797   -0.3614 C   0  0  0  0  0  0  0  0  0  0  0  0\\n    3.2143    1.0500    1.0971 C   0  0  0  0  0  0  0  0  0  0  0  0\\n    3.3772   -0.8092   -0.4372 C   0  0  0  0  0  0  0  0  0  0  0  0\\n   -4.9488    0.4345   -0.9244 C   0  0  0  0  0  0  0  0  0  0  0  0\\n   -4.1476   -1.2608    1.2140 C   0  0  0  0  0  0  0  0  0  0  0  0\\n    4.7500   -0.5918   -0.5550 C   0  0  0  0  0  0  0  0  0  0  0  0\\n    4.5871    1.2675    0.9793 C   0  0  0  0  0  0  0  0  0  0  0  0\\n    5.3550    0.4466    0.1534 C   0  0  0  0  0  0  0  0  0  0  0  0\\n   -5.8906   -0.2716   -0.1685 C   0  0  0  0  0  0  0  0  0  0  0  0\\n   -5.4992   -1.1048    0.8819 C   0  0  0  0  0  0  0  0  0  0  0  0\\n    0.9200   -1.2889    0.4026 H   0  0  0  0  0  0  0  0  0  0  0  0\\n    0.8017    0.0626    1.5183 H   0  0  0  0  0  0  0  0  0  0  0  0\\n   -2.3756    1.4329   -1.8614 H   0  0  0  0  0  0  0  0  0  0  0  0\\n   -5.2501    1.0817   -1.7401 H   0  0  0  0  0  0  0  0  0  0  0  0\\n   -3.8538   -1.9105    2.0323 H   0  0  0  0  0  0  0  0  0  0  0  0\\n   -6.9471   -0.1694   -0.4040 H   0  0  0  0  0  0  0  0  0  0  0  0\\n   -6.2544   -1.6407    1.4512 H   0  0  0  0  0  0  0  0  0  0  0  0\\n  1 10  1  0\\n  1 13  1  0\\n  2 14  1  0\\n  3 15  1  0\\n  4 18  1  0\\n  5 19  1  0\\n  6 20  1  0\\n  7 11  1  0\\n  7 13  1  0\\n  7 25  1  0\\n  8 12  1  0\\n  8 13  2  0\\n  9 10  1  0\\n  9 14  2  0\\n  9 15  1  0\\n 10 23  1  0\\n 10 24  1  0\\n 11 12  2  0\\n 11 16  1  0\\n 12 17  1  0\\n 14 19  1  0\\n 15 18  2  0\\n 16 21  2  0\\n 16 26  1  0\\n 17 22  2  0\\n 17 27  1  0\\n 18 20  1  0\\n 19 20  2  0\\n 21 22  1  0\\n 21 28  1  0\\n 22 29  1  0\\nM  END\\n\",\"sdf\");\n",
       "\tviewer_17285431073726847.setStyle({\"stick\": {}});\n",
       "\tviewer_17285431073726847.setStyle({\"model\": 0},{\"stick\": {\"colorscheme\": \"cyanCarbon\"}});\n",
       "\tviewer_17285431073726847.setStyle({\"model\": 1},{\"stick\": {\"colorscheme\": \"blueCarbon\"}});\n",
       "\tviewer_17285431073726847.zoomTo();\n",
       "viewer_17285431073726847.render();\n",
       "});\n",
       "</script>"
      ]
     },
     "metadata": {},
     "output_type": "display_data"
    }
   ],
   "source": [
    "shapeTani,colorTani = rdShapeAlign.AlignMol(omeprazole,mol)\n",
    "print(shapeTani,colorTani)\n",
    "drawit([omeprazole,mol])"
   ]
  },
  {
   "cell_type": "markdown",
   "id": "1b431522",
   "metadata": {},
   "source": [
    "If we remove the properties, the code uses the RDKit feature definitions, so we get a different feature score:"
   ]
  },
  {
   "cell_type": "code",
   "execution_count": 38,
   "id": "d6db5a70",
   "metadata": {},
   "outputs": [
    {
     "name": "stdout",
     "output_type": "stream",
     "text": [
      "0.8584733801282853 0.4440077489499693\n"
     ]
    },
    {
     "data": {
      "application/3dmoljs_load.v0": "<div id=\"3dmolviewer_1728543170085571\"  style=\"position: relative; width: 400px; height: 400px;\">\n        <p id=\"3dmolwarning_1728543170085571\" style=\"background-color:#ffcccc;color:black\">3Dmol.js failed to load for some reason.  Please check your browser console for error messages.<br></p>\n        </div>\n<script>\n\nvar loadScriptAsync = function(uri){\n  return new Promise((resolve, reject) => {\n    //this is to ignore the existence of requirejs amd\n    var savedexports, savedmodule;\n    if (typeof exports !== 'undefined') savedexports = exports;\n    else exports = {}\n    if (typeof module !== 'undefined') savedmodule = module;\n    else module = {}\n\n    var tag = document.createElement('script');\n    tag.src = uri;\n    tag.async = true;\n    tag.onload = () => {\n        exports = savedexports;\n        module = savedmodule;\n        resolve();\n    };\n  var firstScriptTag = document.getElementsByTagName('script')[0];\n  firstScriptTag.parentNode.insertBefore(tag, firstScriptTag);\n});\n};\n\nif(typeof $3Dmolpromise === 'undefined') {\n$3Dmolpromise = null;\n  $3Dmolpromise = loadScriptAsync('https://cdnjs.cloudflare.com/ajax/libs/3Dmol/2.4.0/3Dmol-min.js');\n}\n\nvar viewer_1728543170085571 = null;\nvar warn = document.getElementById(\"3dmolwarning_1728543170085571\");\nif(warn) {\n    warn.parentNode.removeChild(warn);\n}\n$3Dmolpromise.then(function() {\nviewer_1728543170085571 = $3Dmol.createViewer(document.getElementById(\"3dmolviewer_1728543170085571\"),{backgroundColor:\"white\"});\nviewer_1728543170085571.zoomTo();\n\tviewer_1728543170085571.removeAllModels();\n\tviewer_1728543170085571.addModel(\"4594\\n     RDKit          3D\\n\\n 43 45  0  0  1  0  0  0  0  0999 V2000\\n    0.2799    0.7535   -0.8523 S   0  0  0  0  0  0  0  0  0  0  0  0\\n    5.6802   -1.1956   -0.9111 O   0  0  0  0  0  0  0  0  0  0  0  0\\n    0.4072    2.2559   -0.6946 O   0  0  0  0  0  0  0  0  0  0  0  0\\n   -7.1752   -0.0818    0.1901 O   0  0  0  0  0  0  0  0  0  0  0  0\\n   -2.5022    1.0085   -0.7856 N   0  0  0  0  0  0  0  0  0  0  0  0\\n   -1.7125   -0.8269    0.1880 N   0  0  0  0  0  0  0  0  0  0  0  0\\n    3.0758    1.3692    1.0722 N   0  0  0  0  0  0  0  0  0  0  0  0\\n    1.1692   -0.0049    0.5379 C   0  0  0  0  0  0  0  0  0  0  0  0\\n    2.6466    0.2489    0.4560 C   0  0  0  0  0  0  0  0  0  0  0  0\\n    3.4644   -0.6385   -0.2174 C   0  0  0  0  0  0  0  0  0  0  0  0\\n   -1.3970    0.2739   -0.4568 C   0  0  0  0  0  0  0  0  0  0  0  0\\n   -3.6042    0.3371   -0.3218 C   0  0  0  0  0  0  0  0  0  0  0  0\\n    4.8250   -0.3553   -0.2618 C   0  0  0  0  0  0  0  0  0  0  0  0\\n   -3.0850   -0.8048    0.2820 C   0  0  0  0  0  0  0  0  0  0  0  0\\n    5.3120    0.7890    0.3602 C   0  0  0  0  0  0  0  0  0  0  0  0\\n    2.9174   -1.8598   -0.8757 C   0  0  0  0  0  0  0  0  0  0  0  0\\n   -4.9691    0.6219   -0.3770 C   0  0  0  0  0  0  0  0  0  0  0  0\\n    4.4043    1.6113    1.0079 C   0  0  0  0  0  0  0  0  0  0  0  0\\n   -3.9650   -1.7284    0.8713 C   0  0  0  0  0  0  0  0  0  0  0  0\\n   -5.8306   -0.3083    0.2142 C   0  0  0  0  0  0  0  0  0  0  0  0\\n   -5.3395   -1.4631    0.8279 C   0  0  0  0  0  0  0  0  0  0  0  0\\n    6.7599    1.1362    0.3412 C   0  0  0  0  0  0  0  0  0  0  0  0\\n    6.2567   -2.2506   -0.1449 C   0  0  0  0  0  0  0  0  0  0  0  0\\n   -7.6184    1.1125   -0.4496 C   0  0  0  0  0  0  0  0  0  0  0  0\\n    0.9382   -1.0730    0.5858 H   0  0  0  0  0  0  0  0  0  0  0  0\\n    0.7767    0.4398    1.4605 H   0  0  0  0  0  0  0  0  0  0  0  0\\n   -2.5082    1.8901   -1.2814 H   0  0  0  0  0  0  0  0  0  0  0  0\\n    2.0477   -1.6254   -1.4971 H   0  0  0  0  0  0  0  0  0  0  0  0\\n    3.6371   -2.3342   -1.5505 H   0  0  0  0  0  0  0  0  0  0  0  0\\n    2.6348   -2.6025   -0.1225 H   0  0  0  0  0  0  0  0  0  0  0  0\\n   -5.2846    1.5336   -0.8669 H   0  0  0  0  0  0  0  0  0  0  0  0\\n    4.7213    2.5182    1.5137 H   0  0  0  0  0  0  0  0  0  0  0  0\\n   -3.5932   -2.6284    1.3503 H   0  0  0  0  0  0  0  0  0  0  0  0\\n   -6.0290   -2.1717    1.2809 H   0  0  0  0  0  0  0  0  0  0  0  0\\n    6.9177    2.1983    0.5593 H   0  0  0  0  0  0  0  0  0  0  0  0\\n    7.3008    0.5521    1.0919 H   0  0  0  0  0  0  0  0  0  0  0  0\\n    7.1989    0.9483   -0.6443 H   0  0  0  0  0  0  0  0  0  0  0  0\\n    6.8888   -2.8477   -0.8081 H   0  0  0  0  0  0  0  0  0  0  0  0\\n    5.4800   -2.8993    0.2720 H   0  0  0  0  0  0  0  0  0  0  0  0\\n    6.8790   -1.8507    0.6611 H   0  0  0  0  0  0  0  0  0  0  0  0\\n   -7.2495    2.0066    0.0645 H   0  0  0  0  0  0  0  0  0  0  0  0\\n   -8.7108    1.1318   -0.3763 H   0  0  0  0  0  0  0  0  0  0  0  0\\n   -7.3713    1.1144   -1.5167 H   0  0  0  0  0  0  0  0  0  0  0  0\\n  1  3  2  0\\n  1  8  1  1\\n  1 11  1  0\\n  2 13  1  0\\n  2 23  1  0\\n  4 20  1  0\\n  4 24  1  0\\n  5 11  1  0\\n  5 12  1  0\\n  5 27  1  0\\n  6 11  2  0\\n  6 14  1  0\\n  7  9  2  0\\n  7 18  1  0\\n  8  9  1  0\\n  8 25  1  0\\n  8 26  1  0\\n  9 10  1  0\\n 10 13  2  0\\n 10 16  1  0\\n 12 14  2  0\\n 12 17  1  0\\n 13 15  1  0\\n 14 19  1  0\\n 15 18  2  0\\n 15 22  1  0\\n 16 28  1  0\\n 16 29  1  0\\n 16 30  1  0\\n 17 20  2  0\\n 17 31  1  0\\n 18 32  1  0\\n 19 21  2  0\\n 19 33  1  0\\n 20 21  1  0\\n 21 34  1  0\\n 22 35  1  0\\n 22 36  1  0\\n 22 37  1  0\\n 23 38  1  0\\n 23 39  1  0\\n 23 40  1  0\\n 24 41  1  0\\n 24 42  1  0\\n 24 43  1  0\\nM  END\\n\",\"sdf\");\n\tviewer_1728543170085571.setStyle({\"stick\": {}});\n\tviewer_1728543170085571.addModel(\"383505\\n     RDKit          3D\\n\\n 29 31  0  0  0  0  0  0  0  0999 V2000\\n    0.2128    0.7236   -0.7300 S   0  0  0  0  0  0  0  0  0  0  0  0\\n    2.4829    1.8459    1.8914 F   0  0  0  0  0  0  0  0  0  0  0  0\\n    2.8017   -1.8113   -1.1189 F   0  0  0  0  0  0  0  0  0  0  0  0\\n    5.4843   -1.3824   -1.3463 F   0  0  0  0  0  0  0  0  0  0  0  0\\n    5.1658    2.2656    1.6571 F   0  0  0  0  0  0  0  0  0  0  0  0\\n    6.6705    0.6551    0.0395 F   0  0  0  0  0  0  0  0  0  0  0  0\\n   -2.4514    0.7847   -1.0872 N   0  0  0  0  0  0  0  0  0  0  0  0\\n   -1.8197   -0.5359    0.5854 N   0  0  0  0  0  0  0  0  0  0  0  0\\n    2.6167    0.0134    0.3882 C   0  0  0  0  0  0  0  0  0  0  0  0\\n    1.1389   -0.2207    0.5160 C   0  0  0  0  0  0  0  0  0  0  0  0\\n   -3.6114    0.2624   -0.5751 C   0  0  0  0  0  0  0  0  0  0  0  0\\n   -3.1905   -0.5586    0.4674 C   0  0  0  0  0  0  0  0  0  0  0  0\\n   -1.4095    0.2785   -0.3611 C   0  0  0  0  0  0  0  0  0  0  0  0\\n    3.2118    1.0512    1.0954 C   0  0  0  0  0  0  0  0  0  0  0  0\\n    3.3745   -0.8105   -0.4357 C   0  0  0  0  0  0  0  0  0  0  0  0\\n   -4.9517    0.4324   -0.9237 C   0  0  0  0  0  0  0  0  0  0  0  0\\n   -4.1502   -1.2593    1.2174 C   0  0  0  0  0  0  0  0  0  0  0  0\\n    4.7472   -0.5934   -0.5541 C   0  0  0  0  0  0  0  0  0  0  0  0\\n    4.5845    1.2685    0.9771 C   0  0  0  0  0  0  0  0  0  0  0  0\\n    5.3523    0.4462    0.1524 C   0  0  0  0  0  0  0  0  0  0  0  0\\n   -5.8933   -0.2724   -0.1665 C   0  0  0  0  0  0  0  0  0  0  0  0\\n   -5.5018   -1.1038    0.8853 C   0  0  0  0  0  0  0  0  0  0  0  0\\n    0.9173   -1.2888    0.4053 H   0  0  0  0  0  0  0  0  0  0  0  0\\n    0.7992    0.0647    1.5187 H   0  0  0  0  0  0  0  0  0  0  0  0\\n   -2.3786    1.4291   -1.8629 H   0  0  0  0  0  0  0  0  0  0  0  0\\n   -5.2530    1.0782   -1.7406 H   0  0  0  0  0  0  0  0  0  0  0  0\\n   -3.8562   -1.9076    2.0368 H   0  0  0  0  0  0  0  0  0  0  0  0\\n   -6.9498   -0.1706   -0.4020 H   0  0  0  0  0  0  0  0  0  0  0  0\\n   -6.2569   -1.6387    1.4556 H   0  0  0  0  0  0  0  0  0  0  0  0\\n  1 10  1  0\\n  1 13  1  0\\n  2 14  1  0\\n  3 15  1  0\\n  4 18  1  0\\n  5 19  1  0\\n  6 20  1  0\\n  7 11  1  0\\n  7 13  1  0\\n  7 25  1  0\\n  8 12  1  0\\n  8 13  2  0\\n  9 10  1  0\\n  9 14  2  0\\n  9 15  1  0\\n 10 23  1  0\\n 10 24  1  0\\n 11 12  2  0\\n 11 16  1  0\\n 12 17  1  0\\n 14 19  1  0\\n 15 18  2  0\\n 16 21  2  0\\n 16 26  1  0\\n 17 22  2  0\\n 17 27  1  0\\n 18 20  1  0\\n 19 20  2  0\\n 21 22  1  0\\n 21 28  1  0\\n 22 29  1  0\\nM  END\\n\",\"sdf\");\n\tviewer_1728543170085571.setStyle({\"stick\": {}});\n\tviewer_1728543170085571.setStyle({\"model\": 0},{\"stick\": {\"colorscheme\": \"cyanCarbon\"}});\n\tviewer_1728543170085571.setStyle({\"model\": 1},{\"stick\": {\"colorscheme\": \"blueCarbon\"}});\n\tviewer_1728543170085571.zoomTo();\nviewer_1728543170085571.render();\n});\n</script>",
      "text/html": [
       "<div id=\"3dmolviewer_1728543170085571\"  style=\"position: relative; width: 400px; height: 400px;\">\n",
       "        <p id=\"3dmolwarning_1728543170085571\" style=\"background-color:#ffcccc;color:black\">3Dmol.js failed to load for some reason.  Please check your browser console for error messages.<br></p>\n",
       "        </div>\n",
       "<script>\n",
       "\n",
       "var loadScriptAsync = function(uri){\n",
       "  return new Promise((resolve, reject) => {\n",
       "    //this is to ignore the existence of requirejs amd\n",
       "    var savedexports, savedmodule;\n",
       "    if (typeof exports !== 'undefined') savedexports = exports;\n",
       "    else exports = {}\n",
       "    if (typeof module !== 'undefined') savedmodule = module;\n",
       "    else module = {}\n",
       "\n",
       "    var tag = document.createElement('script');\n",
       "    tag.src = uri;\n",
       "    tag.async = true;\n",
       "    tag.onload = () => {\n",
       "        exports = savedexports;\n",
       "        module = savedmodule;\n",
       "        resolve();\n",
       "    };\n",
       "  var firstScriptTag = document.getElementsByTagName('script')[0];\n",
       "  firstScriptTag.parentNode.insertBefore(tag, firstScriptTag);\n",
       "});\n",
       "};\n",
       "\n",
       "if(typeof $3Dmolpromise === 'undefined') {\n",
       "$3Dmolpromise = null;\n",
       "  $3Dmolpromise = loadScriptAsync('https://cdnjs.cloudflare.com/ajax/libs/3Dmol/2.4.0/3Dmol-min.js');\n",
       "}\n",
       "\n",
       "var viewer_1728543170085571 = null;\n",
       "var warn = document.getElementById(\"3dmolwarning_1728543170085571\");\n",
       "if(warn) {\n",
       "    warn.parentNode.removeChild(warn);\n",
       "}\n",
       "$3Dmolpromise.then(function() {\n",
       "viewer_1728543170085571 = $3Dmol.createViewer(document.getElementById(\"3dmolviewer_1728543170085571\"),{backgroundColor:\"white\"});\n",
       "viewer_1728543170085571.zoomTo();\n",
       "\tviewer_1728543170085571.removeAllModels();\n",
       "\tviewer_1728543170085571.addModel(\"4594\\n     RDKit          3D\\n\\n 43 45  0  0  1  0  0  0  0  0999 V2000\\n    0.2799    0.7535   -0.8523 S   0  0  0  0  0  0  0  0  0  0  0  0\\n    5.6802   -1.1956   -0.9111 O   0  0  0  0  0  0  0  0  0  0  0  0\\n    0.4072    2.2559   -0.6946 O   0  0  0  0  0  0  0  0  0  0  0  0\\n   -7.1752   -0.0818    0.1901 O   0  0  0  0  0  0  0  0  0  0  0  0\\n   -2.5022    1.0085   -0.7856 N   0  0  0  0  0  0  0  0  0  0  0  0\\n   -1.7125   -0.8269    0.1880 N   0  0  0  0  0  0  0  0  0  0  0  0\\n    3.0758    1.3692    1.0722 N   0  0  0  0  0  0  0  0  0  0  0  0\\n    1.1692   -0.0049    0.5379 C   0  0  0  0  0  0  0  0  0  0  0  0\\n    2.6466    0.2489    0.4560 C   0  0  0  0  0  0  0  0  0  0  0  0\\n    3.4644   -0.6385   -0.2174 C   0  0  0  0  0  0  0  0  0  0  0  0\\n   -1.3970    0.2739   -0.4568 C   0  0  0  0  0  0  0  0  0  0  0  0\\n   -3.6042    0.3371   -0.3218 C   0  0  0  0  0  0  0  0  0  0  0  0\\n    4.8250   -0.3553   -0.2618 C   0  0  0  0  0  0  0  0  0  0  0  0\\n   -3.0850   -0.8048    0.2820 C   0  0  0  0  0  0  0  0  0  0  0  0\\n    5.3120    0.7890    0.3602 C   0  0  0  0  0  0  0  0  0  0  0  0\\n    2.9174   -1.8598   -0.8757 C   0  0  0  0  0  0  0  0  0  0  0  0\\n   -4.9691    0.6219   -0.3770 C   0  0  0  0  0  0  0  0  0  0  0  0\\n    4.4043    1.6113    1.0079 C   0  0  0  0  0  0  0  0  0  0  0  0\\n   -3.9650   -1.7284    0.8713 C   0  0  0  0  0  0  0  0  0  0  0  0\\n   -5.8306   -0.3083    0.2142 C   0  0  0  0  0  0  0  0  0  0  0  0\\n   -5.3395   -1.4631    0.8279 C   0  0  0  0  0  0  0  0  0  0  0  0\\n    6.7599    1.1362    0.3412 C   0  0  0  0  0  0  0  0  0  0  0  0\\n    6.2567   -2.2506   -0.1449 C   0  0  0  0  0  0  0  0  0  0  0  0\\n   -7.6184    1.1125   -0.4496 C   0  0  0  0  0  0  0  0  0  0  0  0\\n    0.9382   -1.0730    0.5858 H   0  0  0  0  0  0  0  0  0  0  0  0\\n    0.7767    0.4398    1.4605 H   0  0  0  0  0  0  0  0  0  0  0  0\\n   -2.5082    1.8901   -1.2814 H   0  0  0  0  0  0  0  0  0  0  0  0\\n    2.0477   -1.6254   -1.4971 H   0  0  0  0  0  0  0  0  0  0  0  0\\n    3.6371   -2.3342   -1.5505 H   0  0  0  0  0  0  0  0  0  0  0  0\\n    2.6348   -2.6025   -0.1225 H   0  0  0  0  0  0  0  0  0  0  0  0\\n   -5.2846    1.5336   -0.8669 H   0  0  0  0  0  0  0  0  0  0  0  0\\n    4.7213    2.5182    1.5137 H   0  0  0  0  0  0  0  0  0  0  0  0\\n   -3.5932   -2.6284    1.3503 H   0  0  0  0  0  0  0  0  0  0  0  0\\n   -6.0290   -2.1717    1.2809 H   0  0  0  0  0  0  0  0  0  0  0  0\\n    6.9177    2.1983    0.5593 H   0  0  0  0  0  0  0  0  0  0  0  0\\n    7.3008    0.5521    1.0919 H   0  0  0  0  0  0  0  0  0  0  0  0\\n    7.1989    0.9483   -0.6443 H   0  0  0  0  0  0  0  0  0  0  0  0\\n    6.8888   -2.8477   -0.8081 H   0  0  0  0  0  0  0  0  0  0  0  0\\n    5.4800   -2.8993    0.2720 H   0  0  0  0  0  0  0  0  0  0  0  0\\n    6.8790   -1.8507    0.6611 H   0  0  0  0  0  0  0  0  0  0  0  0\\n   -7.2495    2.0066    0.0645 H   0  0  0  0  0  0  0  0  0  0  0  0\\n   -8.7108    1.1318   -0.3763 H   0  0  0  0  0  0  0  0  0  0  0  0\\n   -7.3713    1.1144   -1.5167 H   0  0  0  0  0  0  0  0  0  0  0  0\\n  1  3  2  0\\n  1  8  1  1\\n  1 11  1  0\\n  2 13  1  0\\n  2 23  1  0\\n  4 20  1  0\\n  4 24  1  0\\n  5 11  1  0\\n  5 12  1  0\\n  5 27  1  0\\n  6 11  2  0\\n  6 14  1  0\\n  7  9  2  0\\n  7 18  1  0\\n  8  9  1  0\\n  8 25  1  0\\n  8 26  1  0\\n  9 10  1  0\\n 10 13  2  0\\n 10 16  1  0\\n 12 14  2  0\\n 12 17  1  0\\n 13 15  1  0\\n 14 19  1  0\\n 15 18  2  0\\n 15 22  1  0\\n 16 28  1  0\\n 16 29  1  0\\n 16 30  1  0\\n 17 20  2  0\\n 17 31  1  0\\n 18 32  1  0\\n 19 21  2  0\\n 19 33  1  0\\n 20 21  1  0\\n 21 34  1  0\\n 22 35  1  0\\n 22 36  1  0\\n 22 37  1  0\\n 23 38  1  0\\n 23 39  1  0\\n 23 40  1  0\\n 24 41  1  0\\n 24 42  1  0\\n 24 43  1  0\\nM  END\\n\",\"sdf\");\n",
       "\tviewer_1728543170085571.setStyle({\"stick\": {}});\n",
       "\tviewer_1728543170085571.addModel(\"383505\\n     RDKit          3D\\n\\n 29 31  0  0  0  0  0  0  0  0999 V2000\\n    0.2128    0.7236   -0.7300 S   0  0  0  0  0  0  0  0  0  0  0  0\\n    2.4829    1.8459    1.8914 F   0  0  0  0  0  0  0  0  0  0  0  0\\n    2.8017   -1.8113   -1.1189 F   0  0  0  0  0  0  0  0  0  0  0  0\\n    5.4843   -1.3824   -1.3463 F   0  0  0  0  0  0  0  0  0  0  0  0\\n    5.1658    2.2656    1.6571 F   0  0  0  0  0  0  0  0  0  0  0  0\\n    6.6705    0.6551    0.0395 F   0  0  0  0  0  0  0  0  0  0  0  0\\n   -2.4514    0.7847   -1.0872 N   0  0  0  0  0  0  0  0  0  0  0  0\\n   -1.8197   -0.5359    0.5854 N   0  0  0  0  0  0  0  0  0  0  0  0\\n    2.6167    0.0134    0.3882 C   0  0  0  0  0  0  0  0  0  0  0  0\\n    1.1389   -0.2207    0.5160 C   0  0  0  0  0  0  0  0  0  0  0  0\\n   -3.6114    0.2624   -0.5751 C   0  0  0  0  0  0  0  0  0  0  0  0\\n   -3.1905   -0.5586    0.4674 C   0  0  0  0  0  0  0  0  0  0  0  0\\n   -1.4095    0.2785   -0.3611 C   0  0  0  0  0  0  0  0  0  0  0  0\\n    3.2118    1.0512    1.0954 C   0  0  0  0  0  0  0  0  0  0  0  0\\n    3.3745   -0.8105   -0.4357 C   0  0  0  0  0  0  0  0  0  0  0  0\\n   -4.9517    0.4324   -0.9237 C   0  0  0  0  0  0  0  0  0  0  0  0\\n   -4.1502   -1.2593    1.2174 C   0  0  0  0  0  0  0  0  0  0  0  0\\n    4.7472   -0.5934   -0.5541 C   0  0  0  0  0  0  0  0  0  0  0  0\\n    4.5845    1.2685    0.9771 C   0  0  0  0  0  0  0  0  0  0  0  0\\n    5.3523    0.4462    0.1524 C   0  0  0  0  0  0  0  0  0  0  0  0\\n   -5.8933   -0.2724   -0.1665 C   0  0  0  0  0  0  0  0  0  0  0  0\\n   -5.5018   -1.1038    0.8853 C   0  0  0  0  0  0  0  0  0  0  0  0\\n    0.9173   -1.2888    0.4053 H   0  0  0  0  0  0  0  0  0  0  0  0\\n    0.7992    0.0647    1.5187 H   0  0  0  0  0  0  0  0  0  0  0  0\\n   -2.3786    1.4291   -1.8629 H   0  0  0  0  0  0  0  0  0  0  0  0\\n   -5.2530    1.0782   -1.7406 H   0  0  0  0  0  0  0  0  0  0  0  0\\n   -3.8562   -1.9076    2.0368 H   0  0  0  0  0  0  0  0  0  0  0  0\\n   -6.9498   -0.1706   -0.4020 H   0  0  0  0  0  0  0  0  0  0  0  0\\n   -6.2569   -1.6387    1.4556 H   0  0  0  0  0  0  0  0  0  0  0  0\\n  1 10  1  0\\n  1 13  1  0\\n  2 14  1  0\\n  3 15  1  0\\n  4 18  1  0\\n  5 19  1  0\\n  6 20  1  0\\n  7 11  1  0\\n  7 13  1  0\\n  7 25  1  0\\n  8 12  1  0\\n  8 13  2  0\\n  9 10  1  0\\n  9 14  2  0\\n  9 15  1  0\\n 10 23  1  0\\n 10 24  1  0\\n 11 12  2  0\\n 11 16  1  0\\n 12 17  1  0\\n 14 19  1  0\\n 15 18  2  0\\n 16 21  2  0\\n 16 26  1  0\\n 17 22  2  0\\n 17 27  1  0\\n 18 20  1  0\\n 19 20  2  0\\n 21 22  1  0\\n 21 28  1  0\\n 22 29  1  0\\nM  END\\n\",\"sdf\");\n",
       "\tviewer_1728543170085571.setStyle({\"stick\": {}});\n",
       "\tviewer_1728543170085571.setStyle({\"model\": 0},{\"stick\": {\"colorscheme\": \"cyanCarbon\"}});\n",
       "\tviewer_1728543170085571.setStyle({\"model\": 1},{\"stick\": {\"colorscheme\": \"blueCarbon\"}});\n",
       "\tviewer_1728543170085571.zoomTo();\n",
       "viewer_1728543170085571.render();\n",
       "});\n",
       "</script>"
      ]
     },
     "metadata": {},
     "output_type": "display_data"
    }
   ],
   "source": [
    "t1 = Chem.Mol(omeprazole)\n",
    "t1.ClearProp('PUBCHEM_PHARMACOPHORE_FEATURES')\n",
    "t2 = Chem.Mol(mol)\n",
    "t2.ClearProp('PUBCHEM_PHARMACOPHORE_FEATURES')\n",
    "shapeTani,colorTani = rdShapeAlign.AlignMol(t1,t2)\n",
    "print(shapeTani,colorTani)\n",
    "drawit([t1,t2])"
   ]
  },
  {
   "cell_type": "markdown",
   "id": "1416080b",
   "metadata": {},
   "source": [
    "As a final note, it's possible to disable the use of features in the scoring entirely:"
   ]
  },
  {
   "cell_type": "code",
   "execution_count": 39,
   "id": "c5e6347a",
   "metadata": {},
   "outputs": [
    {
     "name": "stdout",
     "output_type": "stream",
     "text": [
      "0.8584733855324804 0.0\n"
     ]
    },
    {
     "data": {
      "application/3dmoljs_load.v0": "<div id=\"3dmolviewer_17285434059751809\"  style=\"position: relative; width: 400px; height: 400px;\">\n        <p id=\"3dmolwarning_17285434059751809\" style=\"background-color:#ffcccc;color:black\">3Dmol.js failed to load for some reason.  Please check your browser console for error messages.<br></p>\n        </div>\n<script>\n\nvar loadScriptAsync = function(uri){\n  return new Promise((resolve, reject) => {\n    //this is to ignore the existence of requirejs amd\n    var savedexports, savedmodule;\n    if (typeof exports !== 'undefined') savedexports = exports;\n    else exports = {}\n    if (typeof module !== 'undefined') savedmodule = module;\n    else module = {}\n\n    var tag = document.createElement('script');\n    tag.src = uri;\n    tag.async = true;\n    tag.onload = () => {\n        exports = savedexports;\n        module = savedmodule;\n        resolve();\n    };\n  var firstScriptTag = document.getElementsByTagName('script')[0];\n  firstScriptTag.parentNode.insertBefore(tag, firstScriptTag);\n});\n};\n\nif(typeof $3Dmolpromise === 'undefined') {\n$3Dmolpromise = null;\n  $3Dmolpromise = loadScriptAsync('https://cdnjs.cloudflare.com/ajax/libs/3Dmol/2.4.0/3Dmol-min.js');\n}\n\nvar viewer_17285434059751809 = null;\nvar warn = document.getElementById(\"3dmolwarning_17285434059751809\");\nif(warn) {\n    warn.parentNode.removeChild(warn);\n}\n$3Dmolpromise.then(function() {\nviewer_17285434059751809 = $3Dmol.createViewer(document.getElementById(\"3dmolviewer_17285434059751809\"),{backgroundColor:\"white\"});\nviewer_17285434059751809.zoomTo();\n\tviewer_17285434059751809.removeAllModels();\n\tviewer_17285434059751809.addModel(\"4594\\n     RDKit          3D\\n\\n 43 45  0  0  1  0  0  0  0  0999 V2000\\n    0.2799    0.7535   -0.8523 S   0  0  0  0  0  0  0  0  0  0  0  0\\n    5.6802   -1.1956   -0.9111 O   0  0  0  0  0  0  0  0  0  0  0  0\\n    0.4072    2.2559   -0.6946 O   0  0  0  0  0  0  0  0  0  0  0  0\\n   -7.1752   -0.0818    0.1901 O   0  0  0  0  0  0  0  0  0  0  0  0\\n   -2.5022    1.0085   -0.7856 N   0  0  0  0  0  0  0  0  0  0  0  0\\n   -1.7125   -0.8269    0.1880 N   0  0  0  0  0  0  0  0  0  0  0  0\\n    3.0758    1.3692    1.0722 N   0  0  0  0  0  0  0  0  0  0  0  0\\n    1.1692   -0.0049    0.5379 C   0  0  0  0  0  0  0  0  0  0  0  0\\n    2.6466    0.2489    0.4560 C   0  0  0  0  0  0  0  0  0  0  0  0\\n    3.4644   -0.6385   -0.2174 C   0  0  0  0  0  0  0  0  0  0  0  0\\n   -1.3970    0.2739   -0.4568 C   0  0  0  0  0  0  0  0  0  0  0  0\\n   -3.6042    0.3371   -0.3218 C   0  0  0  0  0  0  0  0  0  0  0  0\\n    4.8250   -0.3553   -0.2618 C   0  0  0  0  0  0  0  0  0  0  0  0\\n   -3.0850   -0.8048    0.2820 C   0  0  0  0  0  0  0  0  0  0  0  0\\n    5.3120    0.7890    0.3602 C   0  0  0  0  0  0  0  0  0  0  0  0\\n    2.9174   -1.8598   -0.8757 C   0  0  0  0  0  0  0  0  0  0  0  0\\n   -4.9691    0.6219   -0.3770 C   0  0  0  0  0  0  0  0  0  0  0  0\\n    4.4043    1.6113    1.0079 C   0  0  0  0  0  0  0  0  0  0  0  0\\n   -3.9650   -1.7284    0.8713 C   0  0  0  0  0  0  0  0  0  0  0  0\\n   -5.8306   -0.3083    0.2142 C   0  0  0  0  0  0  0  0  0  0  0  0\\n   -5.3395   -1.4631    0.8279 C   0  0  0  0  0  0  0  0  0  0  0  0\\n    6.7599    1.1362    0.3412 C   0  0  0  0  0  0  0  0  0  0  0  0\\n    6.2567   -2.2506   -0.1449 C   0  0  0  0  0  0  0  0  0  0  0  0\\n   -7.6184    1.1125   -0.4496 C   0  0  0  0  0  0  0  0  0  0  0  0\\n    0.9382   -1.0730    0.5858 H   0  0  0  0  0  0  0  0  0  0  0  0\\n    0.7767    0.4398    1.4605 H   0  0  0  0  0  0  0  0  0  0  0  0\\n   -2.5082    1.8901   -1.2814 H   0  0  0  0  0  0  0  0  0  0  0  0\\n    2.0477   -1.6254   -1.4971 H   0  0  0  0  0  0  0  0  0  0  0  0\\n    3.6371   -2.3342   -1.5505 H   0  0  0  0  0  0  0  0  0  0  0  0\\n    2.6348   -2.6025   -0.1225 H   0  0  0  0  0  0  0  0  0  0  0  0\\n   -5.2846    1.5336   -0.8669 H   0  0  0  0  0  0  0  0  0  0  0  0\\n    4.7213    2.5182    1.5137 H   0  0  0  0  0  0  0  0  0  0  0  0\\n   -3.5932   -2.6284    1.3503 H   0  0  0  0  0  0  0  0  0  0  0  0\\n   -6.0290   -2.1717    1.2809 H   0  0  0  0  0  0  0  0  0  0  0  0\\n    6.9177    2.1983    0.5593 H   0  0  0  0  0  0  0  0  0  0  0  0\\n    7.3008    0.5521    1.0919 H   0  0  0  0  0  0  0  0  0  0  0  0\\n    7.1989    0.9483   -0.6443 H   0  0  0  0  0  0  0  0  0  0  0  0\\n    6.8888   -2.8477   -0.8081 H   0  0  0  0  0  0  0  0  0  0  0  0\\n    5.4800   -2.8993    0.2720 H   0  0  0  0  0  0  0  0  0  0  0  0\\n    6.8790   -1.8507    0.6611 H   0  0  0  0  0  0  0  0  0  0  0  0\\n   -7.2495    2.0066    0.0645 H   0  0  0  0  0  0  0  0  0  0  0  0\\n   -8.7108    1.1318   -0.3763 H   0  0  0  0  0  0  0  0  0  0  0  0\\n   -7.3713    1.1144   -1.5167 H   0  0  0  0  0  0  0  0  0  0  0  0\\n  1  3  2  0\\n  1  8  1  1\\n  1 11  1  0\\n  2 13  1  0\\n  2 23  1  0\\n  4 20  1  0\\n  4 24  1  0\\n  5 11  1  0\\n  5 12  1  0\\n  5 27  1  0\\n  6 11  2  0\\n  6 14  1  0\\n  7  9  2  0\\n  7 18  1  0\\n  8  9  1  0\\n  8 25  1  0\\n  8 26  1  0\\n  9 10  1  0\\n 10 13  2  0\\n 10 16  1  0\\n 12 14  2  0\\n 12 17  1  0\\n 13 15  1  0\\n 14 19  1  0\\n 15 18  2  0\\n 15 22  1  0\\n 16 28  1  0\\n 16 29  1  0\\n 16 30  1  0\\n 17 20  2  0\\n 17 31  1  0\\n 18 32  1  0\\n 19 21  2  0\\n 19 33  1  0\\n 20 21  1  0\\n 21 34  1  0\\n 22 35  1  0\\n 22 36  1  0\\n 22 37  1  0\\n 23 38  1  0\\n 23 39  1  0\\n 23 40  1  0\\n 24 41  1  0\\n 24 42  1  0\\n 24 43  1  0\\nM  END\\n\",\"sdf\");\n\tviewer_17285434059751809.setStyle({\"stick\": {}});\n\tviewer_17285434059751809.addModel(\"383505\\n     RDKit          3D\\n\\n 29 31  0  0  0  0  0  0  0  0999 V2000\\n    0.2128    0.7236   -0.7300 S   0  0  0  0  0  0  0  0  0  0  0  0\\n    2.4829    1.8459    1.8914 F   0  0  0  0  0  0  0  0  0  0  0  0\\n    2.8017   -1.8113   -1.1189 F   0  0  0  0  0  0  0  0  0  0  0  0\\n    5.4843   -1.3824   -1.3463 F   0  0  0  0  0  0  0  0  0  0  0  0\\n    5.1658    2.2656    1.6571 F   0  0  0  0  0  0  0  0  0  0  0  0\\n    6.6705    0.6551    0.0395 F   0  0  0  0  0  0  0  0  0  0  0  0\\n   -2.4514    0.7847   -1.0872 N   0  0  0  0  0  0  0  0  0  0  0  0\\n   -1.8197   -0.5359    0.5854 N   0  0  0  0  0  0  0  0  0  0  0  0\\n    2.6167    0.0134    0.3882 C   0  0  0  0  0  0  0  0  0  0  0  0\\n    1.1389   -0.2207    0.5160 C   0  0  0  0  0  0  0  0  0  0  0  0\\n   -3.6114    0.2624   -0.5751 C   0  0  0  0  0  0  0  0  0  0  0  0\\n   -3.1905   -0.5586    0.4674 C   0  0  0  0  0  0  0  0  0  0  0  0\\n   -1.4095    0.2785   -0.3611 C   0  0  0  0  0  0  0  0  0  0  0  0\\n    3.2118    1.0512    1.0954 C   0  0  0  0  0  0  0  0  0  0  0  0\\n    3.3745   -0.8105   -0.4357 C   0  0  0  0  0  0  0  0  0  0  0  0\\n   -4.9517    0.4324   -0.9237 C   0  0  0  0  0  0  0  0  0  0  0  0\\n   -4.1502   -1.2593    1.2174 C   0  0  0  0  0  0  0  0  0  0  0  0\\n    4.7472   -0.5934   -0.5541 C   0  0  0  0  0  0  0  0  0  0  0  0\\n    4.5845    1.2685    0.9771 C   0  0  0  0  0  0  0  0  0  0  0  0\\n    5.3523    0.4462    0.1524 C   0  0  0  0  0  0  0  0  0  0  0  0\\n   -5.8933   -0.2724   -0.1665 C   0  0  0  0  0  0  0  0  0  0  0  0\\n   -5.5018   -1.1038    0.8853 C   0  0  0  0  0  0  0  0  0  0  0  0\\n    0.9173   -1.2888    0.4053 H   0  0  0  0  0  0  0  0  0  0  0  0\\n    0.7992    0.0647    1.5187 H   0  0  0  0  0  0  0  0  0  0  0  0\\n   -2.3786    1.4291   -1.8629 H   0  0  0  0  0  0  0  0  0  0  0  0\\n   -5.2530    1.0782   -1.7406 H   0  0  0  0  0  0  0  0  0  0  0  0\\n   -3.8562   -1.9076    2.0368 H   0  0  0  0  0  0  0  0  0  0  0  0\\n   -6.9498   -0.1706   -0.4020 H   0  0  0  0  0  0  0  0  0  0  0  0\\n   -6.2569   -1.6387    1.4556 H   0  0  0  0  0  0  0  0  0  0  0  0\\n  1 10  1  0\\n  1 13  1  0\\n  2 14  1  0\\n  3 15  1  0\\n  4 18  1  0\\n  5 19  1  0\\n  6 20  1  0\\n  7 11  1  0\\n  7 13  1  0\\n  7 25  1  0\\n  8 12  1  0\\n  8 13  2  0\\n  9 10  1  0\\n  9 14  2  0\\n  9 15  1  0\\n 10 23  1  0\\n 10 24  1  0\\n 11 12  2  0\\n 11 16  1  0\\n 12 17  1  0\\n 14 19  1  0\\n 15 18  2  0\\n 16 21  2  0\\n 16 26  1  0\\n 17 22  2  0\\n 17 27  1  0\\n 18 20  1  0\\n 19 20  2  0\\n 21 22  1  0\\n 21 28  1  0\\n 22 29  1  0\\nM  END\\n\",\"sdf\");\n\tviewer_17285434059751809.setStyle({\"stick\": {}});\n\tviewer_17285434059751809.setStyle({\"model\": 0},{\"stick\": {\"colorscheme\": \"cyanCarbon\"}});\n\tviewer_17285434059751809.setStyle({\"model\": 1},{\"stick\": {\"colorscheme\": \"blueCarbon\"}});\n\tviewer_17285434059751809.zoomTo();\nviewer_17285434059751809.render();\n});\n</script>",
      "text/html": [
       "<div id=\"3dmolviewer_17285434059751809\"  style=\"position: relative; width: 400px; height: 400px;\">\n",
       "        <p id=\"3dmolwarning_17285434059751809\" style=\"background-color:#ffcccc;color:black\">3Dmol.js failed to load for some reason.  Please check your browser console for error messages.<br></p>\n",
       "        </div>\n",
       "<script>\n",
       "\n",
       "var loadScriptAsync = function(uri){\n",
       "  return new Promise((resolve, reject) => {\n",
       "    //this is to ignore the existence of requirejs amd\n",
       "    var savedexports, savedmodule;\n",
       "    if (typeof exports !== 'undefined') savedexports = exports;\n",
       "    else exports = {}\n",
       "    if (typeof module !== 'undefined') savedmodule = module;\n",
       "    else module = {}\n",
       "\n",
       "    var tag = document.createElement('script');\n",
       "    tag.src = uri;\n",
       "    tag.async = true;\n",
       "    tag.onload = () => {\n",
       "        exports = savedexports;\n",
       "        module = savedmodule;\n",
       "        resolve();\n",
       "    };\n",
       "  var firstScriptTag = document.getElementsByTagName('script')[0];\n",
       "  firstScriptTag.parentNode.insertBefore(tag, firstScriptTag);\n",
       "});\n",
       "};\n",
       "\n",
       "if(typeof $3Dmolpromise === 'undefined') {\n",
       "$3Dmolpromise = null;\n",
       "  $3Dmolpromise = loadScriptAsync('https://cdnjs.cloudflare.com/ajax/libs/3Dmol/2.4.0/3Dmol-min.js');\n",
       "}\n",
       "\n",
       "var viewer_17285434059751809 = null;\n",
       "var warn = document.getElementById(\"3dmolwarning_17285434059751809\");\n",
       "if(warn) {\n",
       "    warn.parentNode.removeChild(warn);\n",
       "}\n",
       "$3Dmolpromise.then(function() {\n",
       "viewer_17285434059751809 = $3Dmol.createViewer(document.getElementById(\"3dmolviewer_17285434059751809\"),{backgroundColor:\"white\"});\n",
       "viewer_17285434059751809.zoomTo();\n",
       "\tviewer_17285434059751809.removeAllModels();\n",
       "\tviewer_17285434059751809.addModel(\"4594\\n     RDKit          3D\\n\\n 43 45  0  0  1  0  0  0  0  0999 V2000\\n    0.2799    0.7535   -0.8523 S   0  0  0  0  0  0  0  0  0  0  0  0\\n    5.6802   -1.1956   -0.9111 O   0  0  0  0  0  0  0  0  0  0  0  0\\n    0.4072    2.2559   -0.6946 O   0  0  0  0  0  0  0  0  0  0  0  0\\n   -7.1752   -0.0818    0.1901 O   0  0  0  0  0  0  0  0  0  0  0  0\\n   -2.5022    1.0085   -0.7856 N   0  0  0  0  0  0  0  0  0  0  0  0\\n   -1.7125   -0.8269    0.1880 N   0  0  0  0  0  0  0  0  0  0  0  0\\n    3.0758    1.3692    1.0722 N   0  0  0  0  0  0  0  0  0  0  0  0\\n    1.1692   -0.0049    0.5379 C   0  0  0  0  0  0  0  0  0  0  0  0\\n    2.6466    0.2489    0.4560 C   0  0  0  0  0  0  0  0  0  0  0  0\\n    3.4644   -0.6385   -0.2174 C   0  0  0  0  0  0  0  0  0  0  0  0\\n   -1.3970    0.2739   -0.4568 C   0  0  0  0  0  0  0  0  0  0  0  0\\n   -3.6042    0.3371   -0.3218 C   0  0  0  0  0  0  0  0  0  0  0  0\\n    4.8250   -0.3553   -0.2618 C   0  0  0  0  0  0  0  0  0  0  0  0\\n   -3.0850   -0.8048    0.2820 C   0  0  0  0  0  0  0  0  0  0  0  0\\n    5.3120    0.7890    0.3602 C   0  0  0  0  0  0  0  0  0  0  0  0\\n    2.9174   -1.8598   -0.8757 C   0  0  0  0  0  0  0  0  0  0  0  0\\n   -4.9691    0.6219   -0.3770 C   0  0  0  0  0  0  0  0  0  0  0  0\\n    4.4043    1.6113    1.0079 C   0  0  0  0  0  0  0  0  0  0  0  0\\n   -3.9650   -1.7284    0.8713 C   0  0  0  0  0  0  0  0  0  0  0  0\\n   -5.8306   -0.3083    0.2142 C   0  0  0  0  0  0  0  0  0  0  0  0\\n   -5.3395   -1.4631    0.8279 C   0  0  0  0  0  0  0  0  0  0  0  0\\n    6.7599    1.1362    0.3412 C   0  0  0  0  0  0  0  0  0  0  0  0\\n    6.2567   -2.2506   -0.1449 C   0  0  0  0  0  0  0  0  0  0  0  0\\n   -7.6184    1.1125   -0.4496 C   0  0  0  0  0  0  0  0  0  0  0  0\\n    0.9382   -1.0730    0.5858 H   0  0  0  0  0  0  0  0  0  0  0  0\\n    0.7767    0.4398    1.4605 H   0  0  0  0  0  0  0  0  0  0  0  0\\n   -2.5082    1.8901   -1.2814 H   0  0  0  0  0  0  0  0  0  0  0  0\\n    2.0477   -1.6254   -1.4971 H   0  0  0  0  0  0  0  0  0  0  0  0\\n    3.6371   -2.3342   -1.5505 H   0  0  0  0  0  0  0  0  0  0  0  0\\n    2.6348   -2.6025   -0.1225 H   0  0  0  0  0  0  0  0  0  0  0  0\\n   -5.2846    1.5336   -0.8669 H   0  0  0  0  0  0  0  0  0  0  0  0\\n    4.7213    2.5182    1.5137 H   0  0  0  0  0  0  0  0  0  0  0  0\\n   -3.5932   -2.6284    1.3503 H   0  0  0  0  0  0  0  0  0  0  0  0\\n   -6.0290   -2.1717    1.2809 H   0  0  0  0  0  0  0  0  0  0  0  0\\n    6.9177    2.1983    0.5593 H   0  0  0  0  0  0  0  0  0  0  0  0\\n    7.3008    0.5521    1.0919 H   0  0  0  0  0  0  0  0  0  0  0  0\\n    7.1989    0.9483   -0.6443 H   0  0  0  0  0  0  0  0  0  0  0  0\\n    6.8888   -2.8477   -0.8081 H   0  0  0  0  0  0  0  0  0  0  0  0\\n    5.4800   -2.8993    0.2720 H   0  0  0  0  0  0  0  0  0  0  0  0\\n    6.8790   -1.8507    0.6611 H   0  0  0  0  0  0  0  0  0  0  0  0\\n   -7.2495    2.0066    0.0645 H   0  0  0  0  0  0  0  0  0  0  0  0\\n   -8.7108    1.1318   -0.3763 H   0  0  0  0  0  0  0  0  0  0  0  0\\n   -7.3713    1.1144   -1.5167 H   0  0  0  0  0  0  0  0  0  0  0  0\\n  1  3  2  0\\n  1  8  1  1\\n  1 11  1  0\\n  2 13  1  0\\n  2 23  1  0\\n  4 20  1  0\\n  4 24  1  0\\n  5 11  1  0\\n  5 12  1  0\\n  5 27  1  0\\n  6 11  2  0\\n  6 14  1  0\\n  7  9  2  0\\n  7 18  1  0\\n  8  9  1  0\\n  8 25  1  0\\n  8 26  1  0\\n  9 10  1  0\\n 10 13  2  0\\n 10 16  1  0\\n 12 14  2  0\\n 12 17  1  0\\n 13 15  1  0\\n 14 19  1  0\\n 15 18  2  0\\n 15 22  1  0\\n 16 28  1  0\\n 16 29  1  0\\n 16 30  1  0\\n 17 20  2  0\\n 17 31  1  0\\n 18 32  1  0\\n 19 21  2  0\\n 19 33  1  0\\n 20 21  1  0\\n 21 34  1  0\\n 22 35  1  0\\n 22 36  1  0\\n 22 37  1  0\\n 23 38  1  0\\n 23 39  1  0\\n 23 40  1  0\\n 24 41  1  0\\n 24 42  1  0\\n 24 43  1  0\\nM  END\\n\",\"sdf\");\n",
       "\tviewer_17285434059751809.setStyle({\"stick\": {}});\n",
       "\tviewer_17285434059751809.addModel(\"383505\\n     RDKit          3D\\n\\n 29 31  0  0  0  0  0  0  0  0999 V2000\\n    0.2128    0.7236   -0.7300 S   0  0  0  0  0  0  0  0  0  0  0  0\\n    2.4829    1.8459    1.8914 F   0  0  0  0  0  0  0  0  0  0  0  0\\n    2.8017   -1.8113   -1.1189 F   0  0  0  0  0  0  0  0  0  0  0  0\\n    5.4843   -1.3824   -1.3463 F   0  0  0  0  0  0  0  0  0  0  0  0\\n    5.1658    2.2656    1.6571 F   0  0  0  0  0  0  0  0  0  0  0  0\\n    6.6705    0.6551    0.0395 F   0  0  0  0  0  0  0  0  0  0  0  0\\n   -2.4514    0.7847   -1.0872 N   0  0  0  0  0  0  0  0  0  0  0  0\\n   -1.8197   -0.5359    0.5854 N   0  0  0  0  0  0  0  0  0  0  0  0\\n    2.6167    0.0134    0.3882 C   0  0  0  0  0  0  0  0  0  0  0  0\\n    1.1389   -0.2207    0.5160 C   0  0  0  0  0  0  0  0  0  0  0  0\\n   -3.6114    0.2624   -0.5751 C   0  0  0  0  0  0  0  0  0  0  0  0\\n   -3.1905   -0.5586    0.4674 C   0  0  0  0  0  0  0  0  0  0  0  0\\n   -1.4095    0.2785   -0.3611 C   0  0  0  0  0  0  0  0  0  0  0  0\\n    3.2118    1.0512    1.0954 C   0  0  0  0  0  0  0  0  0  0  0  0\\n    3.3745   -0.8105   -0.4357 C   0  0  0  0  0  0  0  0  0  0  0  0\\n   -4.9517    0.4324   -0.9237 C   0  0  0  0  0  0  0  0  0  0  0  0\\n   -4.1502   -1.2593    1.2174 C   0  0  0  0  0  0  0  0  0  0  0  0\\n    4.7472   -0.5934   -0.5541 C   0  0  0  0  0  0  0  0  0  0  0  0\\n    4.5845    1.2685    0.9771 C   0  0  0  0  0  0  0  0  0  0  0  0\\n    5.3523    0.4462    0.1524 C   0  0  0  0  0  0  0  0  0  0  0  0\\n   -5.8933   -0.2724   -0.1665 C   0  0  0  0  0  0  0  0  0  0  0  0\\n   -5.5018   -1.1038    0.8853 C   0  0  0  0  0  0  0  0  0  0  0  0\\n    0.9173   -1.2888    0.4053 H   0  0  0  0  0  0  0  0  0  0  0  0\\n    0.7992    0.0647    1.5187 H   0  0  0  0  0  0  0  0  0  0  0  0\\n   -2.3786    1.4291   -1.8629 H   0  0  0  0  0  0  0  0  0  0  0  0\\n   -5.2530    1.0782   -1.7406 H   0  0  0  0  0  0  0  0  0  0  0  0\\n   -3.8562   -1.9076    2.0368 H   0  0  0  0  0  0  0  0  0  0  0  0\\n   -6.9498   -0.1706   -0.4020 H   0  0  0  0  0  0  0  0  0  0  0  0\\n   -6.2569   -1.6387    1.4556 H   0  0  0  0  0  0  0  0  0  0  0  0\\n  1 10  1  0\\n  1 13  1  0\\n  2 14  1  0\\n  3 15  1  0\\n  4 18  1  0\\n  5 19  1  0\\n  6 20  1  0\\n  7 11  1  0\\n  7 13  1  0\\n  7 25  1  0\\n  8 12  1  0\\n  8 13  2  0\\n  9 10  1  0\\n  9 14  2  0\\n  9 15  1  0\\n 10 23  1  0\\n 10 24  1  0\\n 11 12  2  0\\n 11 16  1  0\\n 12 17  1  0\\n 14 19  1  0\\n 15 18  2  0\\n 16 21  2  0\\n 16 26  1  0\\n 17 22  2  0\\n 17 27  1  0\\n 18 20  1  0\\n 19 20  2  0\\n 21 22  1  0\\n 21 28  1  0\\n 22 29  1  0\\nM  END\\n\",\"sdf\");\n",
       "\tviewer_17285434059751809.setStyle({\"stick\": {}});\n",
       "\tviewer_17285434059751809.setStyle({\"model\": 0},{\"stick\": {\"colorscheme\": \"cyanCarbon\"}});\n",
       "\tviewer_17285434059751809.setStyle({\"model\": 1},{\"stick\": {\"colorscheme\": \"blueCarbon\"}});\n",
       "\tviewer_17285434059751809.zoomTo();\n",
       "viewer_17285434059751809.render();\n",
       "});\n",
       "</script>"
      ]
     },
     "metadata": {},
     "output_type": "display_data"
    }
   ],
   "source": [
    "shapeTani,colorTani = rdShapeAlign.AlignMol(t1,t2,useColors=False)\n",
    "print(shapeTani,colorTani)\n",
    "drawit([t1,t2])"
   ]
  },
  {
   "cell_type": "code",
   "execution_count": null,
   "id": "da8af425",
   "metadata": {},
   "outputs": [],
   "source": []
  }
 ],
 "metadata": {
  "kernelspec": {
   "display_name": "Python 3 (ipykernel)",
   "language": "python",
   "name": "python3"
  },
  "language_info": {
   "codemirror_mode": {
    "name": "ipython",
    "version": 3
   },
   "file_extension": ".py",
   "mimetype": "text/x-python",
   "name": "python",
   "nbconvert_exporter": "python",
   "pygments_lexer": "ipython3",
   "version": "3.12.6"
  },
  "toc": {
   "base_numbering": 1,
   "nav_menu": {},
   "number_sections": true,
   "sideBar": true,
   "skip_h1_title": false,
   "title_cell": "Table of Contents",
   "title_sidebar": "Contents",
   "toc_cell": false,
   "toc_position": {},
   "toc_section_display": true,
   "toc_window_display": false
  }
 },
 "nbformat": 4,
 "nbformat_minor": 5
}
