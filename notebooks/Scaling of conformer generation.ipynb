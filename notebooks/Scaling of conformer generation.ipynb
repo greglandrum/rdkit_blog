{
 "cells": [
  {
   "cell_type": "markdown",
   "id": "7c5ec153",
   "metadata": {},
   "source": [
    "This week the question came up in the lab of how well the conformer generation code scales with the number of threads used. Since generating conformers is embarassingly parallel - the conformers don't depend on each other (this isn't quite true if you are doing RMS pruning) - in a perfect world you'd expect more or less linear scaling. So theoretically using 4 times as many threads should take 1/4 as long as long as the number of threads is used than the number of conformers being generated. In reality, things don't quite work out this way since the individual conformers can take different amounts of time to generate due to the stochastic nature of the RDKit's distance-geometry-based algorithm.\n",
    "\n",
    "I decided to do a quick test to see how well things scale on my machine."
   ]
  },
  {
   "cell_type": "code",
   "execution_count": 12,
   "id": "2f30cd5b",
   "metadata": {},
   "outputs": [
    {
     "name": "stdout",
     "output_type": "stream",
     "text": [
      "2025.03.5\n"
     ]
    }
   ],
   "source": [
    "import gzip\n",
    "from rdkit import Chem\n",
    "from rdkit.Chem import rdDistGeom\n",
    "\n",
    "import time\n",
    "from tqdm import tqdm\n",
    "\n",
    "from matplotlib import pyplot as plt\n",
    "%matplotlib inline\n",
    "plt.style.use('tableau-colorblind10')\n",
    "\n",
    "import rdkit\n",
    "print(rdkit.__version__)"
   ]
  },
  {
   "cell_type": "markdown",
   "id": "1a884864",
   "metadata": {},
   "source": [
    "Start by loading some molecules. This is a set of 370 molecules that are present in both the [COD](https://www.crystallography.net/cod/) and [ChEMBL](https://www.ebi.ac.uk/chembl/). I use these (as well as some other COD subsets) a lot for confgen testing:"
   ]
  },
  {
   "cell_type": "code",
   "execution_count": 7,
   "id": "44b269e5",
   "metadata": {},
   "outputs": [
    {
     "data": {
      "text/plain": [
       "370"
      ]
     },
     "execution_count": 7,
     "metadata": {},
     "output_type": "execute_result"
    }
   ],
   "source": [
    "ms = [x for x in Chem.ForwardSDMolSupplier(gzip.open('../data/COD_2025Jan13.organic.chembl_selected.sdf.gz'),\n",
    "                                          removeHs=False) if x is not None]\n",
    "len(ms)"
   ]
  },
  {
   "cell_type": "markdown",
   "id": "a1a58607",
   "metadata": {},
   "source": [
    "For the purposes of this post we'll just use 100 of the COD molecules. Add Hs to the mols and create the subset:"
   ]
  },
  {
   "cell_type": "code",
   "execution_count": 9,
   "id": "7e2cac99",
   "metadata": {},
   "outputs": [],
   "source": [
    "ms = [Chem.AddHs(m) for m in ms]\n",
    "ms = ms[:100]"
   ]
  },
  {
   "cell_type": "markdown",
   "id": "a69ee858",
   "metadata": {},
   "source": [
    "My linux box has 8 performance cores (each of which can run two hyperthreads) and 8 \"efficient\" cores, so python thinks I have 24 CPUs available:"
   ]
  },
  {
   "cell_type": "code",
   "execution_count": 10,
   "id": "6aec1e72",
   "metadata": {},
   "outputs": [
    {
     "data": {
      "text/plain": [
       "24"
      ]
     },
     "execution_count": 10,
     "metadata": {},
     "output_type": "execute_result"
    }
   ],
   "source": [
    "import multiprocessing\n",
    "multiprocessing.cpu_count()"
   ]
  },
  {
   "cell_type": "markdown",
   "id": "158e3bd0",
   "metadata": {},
   "source": [
    "I will try thread counts up to 10 to check scaling; a bit beyond the number of physical performance cores on my machine. \n",
    "\n",
    "Now try generating both 100 conformer and 400 conformer sets for each molecule using different thread counts and track how long it takes:"
   ]
  },
  {
   "cell_type": "code",
   "execution_count": 15,
   "id": "3ab047dd",
   "metadata": {},
   "outputs": [
    {
     "name": "stdout",
     "output_type": "stream",
     "text": [
      "Doing 100 conformers\n",
      "Doing 1 threads\n"
     ]
    },
    {
     "name": "stderr",
     "output_type": "stream",
     "text": [
      " 83%|█████████████████████████████████████████████████████████████████████████████████▎                | 83/100 [02:25<00:28,  1.65s/it][16:37:31] UFFTYPER: Unrecognized charge state for atom: 0\n",
      " 98%|████████████████████████████████████████████████████████████████████████████████████████████████  | 98/100 [02:37<00:00,  2.19it/s][16:37:43] UFFTYPER: Unrecognized charge state for atom: 8\n",
      "100%|█████████████████████████████████████████████████████████████████████████████████████████████████| 100/100 [02:39<00:00,  1.59s/it]\n"
     ]
    },
    {
     "name": "stdout",
     "output_type": "stream",
     "text": [
      "\t159.0\n",
      "Doing 2 threads\n"
     ]
    },
    {
     "name": "stderr",
     "output_type": "stream",
     "text": [
      " 83%|█████████████████████████████████████████████████████████████████████████████████▎                | 83/100 [01:17<00:14,  1.15it/s][16:39:02] UFFTYPER: Unrecognized charge state for atom: 0\n",
      " 98%|████████████████████████████████████████████████████████████████████████████████████████████████  | 98/100 [01:24<00:00,  3.86it/s][16:39:08] UFFTYPER: Unrecognized charge state for atom: 8\n",
      "100%|█████████████████████████████████████████████████████████████████████████████████████████████████| 100/100 [01:25<00:00,  1.18it/s]\n"
     ]
    },
    {
     "name": "stdout",
     "output_type": "stream",
     "text": [
      "\t85.0\n",
      "Doing 4 threads\n"
     ]
    },
    {
     "name": "stderr",
     "output_type": "stream",
     "text": [
      " 83%|█████████████████████████████████████████████████████████████████████████████████▎                | 83/100 [00:42<00:08,  2.12it/s][16:39:51] UFFTYPER: Unrecognized charge state for atom: 0\n",
      " 98%|████████████████████████████████████████████████████████████████████████████████████████████████  | 98/100 [00:45<00:00,  6.30it/s][16:39:55] UFFTYPER: Unrecognized charge state for atom: 8\n",
      "100%|█████████████████████████████████████████████████████████████████████████████████████████████████| 100/100 [00:46<00:00,  2.17it/s]\n"
     ]
    },
    {
     "name": "stdout",
     "output_type": "stream",
     "text": [
      "\t46.1\n",
      "Doing 6 threads\n"
     ]
    },
    {
     "name": "stderr",
     "output_type": "stream",
     "text": [
      " 83%|█████████████████████████████████████████████████████████████████████████████████▎                | 83/100 [00:29<00:05,  2.93it/s][16:40:25] UFFTYPER: Unrecognized charge state for atom: 0\n",
      " 98%|████████████████████████████████████████████████████████████████████████████████████████████████  | 98/100 [00:32<00:00,  9.02it/s][16:40:27] UFFTYPER: Unrecognized charge state for atom: 8\n",
      "100%|█████████████████████████████████████████████████████████████████████████████████████████████████| 100/100 [00:32<00:00,  3.09it/s]\n"
     ]
    },
    {
     "name": "stdout",
     "output_type": "stream",
     "text": [
      "\t32.3\n",
      "Doing 8 threads\n"
     ]
    },
    {
     "name": "stderr",
     "output_type": "stream",
     "text": [
      " 83%|█████████████████████████████████████████████████████████████████████████████████▎                | 83/100 [00:24<00:04,  3.57it/s][16:40:52] UFFTYPER: Unrecognized charge state for atom: 0\n",
      " 96%|██████████████████████████████████████████████████████████████████████████████████████████████    | 96/100 [00:26<00:00,  8.34it/s][16:40:54] UFFTYPER: Unrecognized charge state for atom: 8\n",
      "100%|█████████████████████████████████████████████████████████████████████████████████████████████████| 100/100 [00:26<00:00,  3.74it/s]\n"
     ]
    },
    {
     "name": "stdout",
     "output_type": "stream",
     "text": [
      "\t26.7\n",
      "Doing 10 threads\n"
     ]
    },
    {
     "name": "stderr",
     "output_type": "stream",
     "text": [
      " 83%|█████████████████████████████████████████████████████████████████████████████████▎                | 83/100 [00:25<00:04,  3.44it/s][16:41:19] UFFTYPER: Unrecognized charge state for atom: 0\n",
      " 96%|██████████████████████████████████████████████████████████████████████████████████████████████    | 96/100 [00:26<00:00,  7.85it/s][16:41:21] UFFTYPER: Unrecognized charge state for atom: 8\n",
      "100%|█████████████████████████████████████████████████████████████████████████████████████████████████| 100/100 [00:27<00:00,  3.67it/s]\n"
     ]
    },
    {
     "name": "stdout",
     "output_type": "stream",
     "text": [
      "\t27.2\n",
      "Doing 400 conformers\n",
      "Doing 1 threads\n"
     ]
    },
    {
     "name": "stderr",
     "output_type": "stream",
     "text": [
      " 83%|█████████████████████████████████████████████████████████████████████████████████▎                | 83/100 [09:37<01:48,  6.40s/it][16:50:59] UFFTYPER: Unrecognized charge state for atom: 0\n",
      " 98%|████████████████████████████████████████████████████████████████████████████████████████████████  | 98/100 [10:25<00:03,  1.82s/it][16:51:47] UFFTYPER: Unrecognized charge state for atom: 8\n",
      "100%|█████████████████████████████████████████████████████████████████████████████████████████████████| 100/100 [10:29<00:00,  6.30s/it]\n"
     ]
    },
    {
     "name": "stdout",
     "output_type": "stream",
     "text": [
      "\t629.9\n",
      "Doing 2 threads\n"
     ]
    },
    {
     "name": "stderr",
     "output_type": "stream",
     "text": [
      " 83%|█████████████████████████████████████████████████████████████████████████████████▎                | 83/100 [05:04<00:57,  3.37s/it][16:56:56] UFFTYPER: Unrecognized charge state for atom: 0\n",
      " 98%|████████████████████████████████████████████████████████████████████████████████████████████████  | 98/100 [05:29<00:01,  1.04it/s][16:57:21] UFFTYPER: Unrecognized charge state for atom: 8\n",
      "100%|█████████████████████████████████████████████████████████████████████████████████████████████████| 100/100 [05:32<00:00,  3.32s/it]\n"
     ]
    },
    {
     "name": "stdout",
     "output_type": "stream",
     "text": [
      "\t332.1\n",
      "Doing 4 threads\n"
     ]
    },
    {
     "name": "stderr",
     "output_type": "stream",
     "text": [
      " 83%|█████████████████████████████████████████████████████████████████████████████████▎                | 83/100 [02:38<00:29,  1.76s/it][17:00:02] UFFTYPER: Unrecognized charge state for atom: 0\n",
      " 98%|████████████████████████████████████████████████████████████████████████████████████████████████  | 98/100 [02:51<00:00,  2.01it/s][17:00:15] UFFTYPER: Unrecognized charge state for atom: 8\n",
      "100%|█████████████████████████████████████████████████████████████████████████████████████████████████| 100/100 [02:52<00:00,  1.72s/it]\n"
     ]
    },
    {
     "name": "stdout",
     "output_type": "stream",
     "text": [
      "\t172.4\n",
      "Doing 6 threads\n"
     ]
    },
    {
     "name": "stderr",
     "output_type": "stream",
     "text": [
      " 83%|█████████████████████████████████████████████████████████████████████████████████▎                | 83/100 [01:48<00:20,  1.22s/it][17:02:04] UFFTYPER: Unrecognized charge state for atom: 0\n",
      " 98%|████████████████████████████████████████████████████████████████████████████████████████████████  | 98/100 [01:57<00:00,  2.87it/s][17:02:14] UFFTYPER: Unrecognized charge state for atom: 8\n",
      "100%|█████████████████████████████████████████████████████████████████████████████████████████████████| 100/100 [01:58<00:00,  1.18s/it]\n"
     ]
    },
    {
     "name": "stdout",
     "output_type": "stream",
     "text": [
      "\t118.4\n",
      "Doing 8 threads\n"
     ]
    },
    {
     "name": "stderr",
     "output_type": "stream",
     "text": [
      " 83%|█████████████████████████████████████████████████████████████████████████████████▎                | 83/100 [01:30<00:17,  1.01s/it][17:03:44] UFFTYPER: Unrecognized charge state for atom: 0\n",
      " 98%|████████████████████████████████████████████████████████████████████████████████████████████████  | 98/100 [01:37<00:00,  3.39it/s][17:03:52] UFFTYPER: Unrecognized charge state for atom: 8\n",
      "100%|█████████████████████████████████████████████████████████████████████████████████████████████████| 100/100 [01:38<00:00,  1.02it/s]\n"
     ]
    },
    {
     "name": "stdout",
     "output_type": "stream",
     "text": [
      "\t98.1\n",
      "Doing 10 threads\n"
     ]
    },
    {
     "name": "stderr",
     "output_type": "stream",
     "text": [
      " 83%|█████████████████████████████████████████████████████████████████████████████████▎                | 83/100 [01:36<00:18,  1.10s/it][17:05:29] UFFTYPER: Unrecognized charge state for atom: 0\n",
      " 98%|████████████████████████████████████████████████████████████████████████████████████████████████  | 98/100 [01:44<00:00,  3.17it/s][17:05:37] UFFTYPER: Unrecognized charge state for atom: 8\n",
      "100%|█████████████████████████████████████████████████████████████████████████████████████████████████| 100/100 [01:45<00:00,  1.05s/it]"
     ]
    },
    {
     "name": "stdout",
     "output_type": "stream",
     "text": [
      "\t105.4\n"
     ]
    },
    {
     "name": "stderr",
     "output_type": "stream",
     "text": [
      "\n"
     ]
    }
   ],
   "source": [
    "threadCounts = [1,2,4,6,8,10]\n",
    "\n",
    "params = rdDistGeom.ETKDGv3()\n",
    "params.randomSeed = 0xa100f\n",
    "\n",
    "tgtConfs = (100,400)\n",
    "accum = {}\n",
    "for tgt in tgtConfs:\n",
    "    print(f\"Doing {tgt} conformers\")\n",
    "    accum[tgt] = {}\n",
    "    for tc in threadCounts:\n",
    "        params.numThreads = tc\n",
    "        accum[tgt][tc] = []\n",
    "        print(f\"Doing {tc} threads\")\n",
    "        for m in tqdm(ms):\n",
    "            t1 = time.time()\n",
    "            rdDistGeom.EmbedMultipleConfs(m,tgt,params)\n",
    "            t2 = time.time()\n",
    "            accum[tgt][tc].append(t2-t1)\n",
    "        print(f'\\t{sum(accum[tgt][tc]):.1f}')"
   ]
  },
  {
   "cell_type": "markdown",
   "id": "eb17b86c",
   "metadata": {},
   "source": [
    "Calculate the relative runtime for each molecule with each threadcount. If everything is scaling perfectly, we'd expect doubling the number of threads to cut the runtime in half."
   ]
  },
  {
   "cell_type": "code",
   "execution_count": 16,
   "id": "89efa499",
   "metadata": {},
   "outputs": [],
   "source": [
    "factors = {}\n",
    "for nc in accum:\n",
    "    factors[nc] = {}\n",
    "    for tc in accum[nc]:\n",
    "        if tc==1:\n",
    "            factors[nc][tc] = [1]*len(ms)\n",
    "        else:\n",
    "            factors[nc][tc] = []\n",
    "            for i,m in enumerate(ms):\n",
    "                factors[nc][tc].append(accum[nc][tc][i]/accum[nc][1][i])\n",
    "            \n"
   ]
  },
  {
   "cell_type": "markdown",
   "id": "f7244abf",
   "metadata": {},
   "source": [
    "Now plot the results."
   ]
  },
  {
   "cell_type": "code",
   "execution_count": 49,
   "id": "f66fba4d",
   "metadata": {},
   "outputs": [
    {
     "data": {
      "image/png": "[encoded data removed]",
      "text/plain": [
       "<Figure size 1000x500 with 1 Axes>"
      ]
     },
     "metadata": {},
     "output_type": "display_data"
    }
   ],
   "source": [
    "plt.figure(figsize=(10,5))\n",
    "xp = [1+x-0.2 for x in range(len(threadCounts))]\n",
    "widths = [0.3 for x in range(len(threadCounts))]\n",
    "plt.boxplot([factors[100][tc] for tc in threadCounts],positions=xp,widths=widths,label='100 conformers');\n",
    "xp = [1+x+0.2 for x in range(len(threadCounts))]\n",
    "plt.boxplot([factors[400][tc] for tc in threadCounts],positions=xp,widths=widths,label='400 conformers');\n",
    "plt.xticks(range(1, len(threadCounts) + 1),[str(x) for x in threadCounts]);\n",
    "plt.xlabel('number of threads');\n",
    "plt.ylabel('scaling factor')\n",
    "plt.plot((1.7,2.3),(0.5,0.5),'k--');\n",
    "plt.plot((2.7,3.3),(0.25,0.25),'k--');\n",
    "plt.plot((3.7,4.3),(1/6,1/6),'k--');\n",
    "plt.plot((4.7,5.3),(1/8,1/8),'k--');\n",
    "plt.plot((5.7,6.3),(1/10,1/10),'k--');"
   ]
  },
  {
   "cell_type": "markdown",
   "id": "eb5835f1",
   "metadata": {},
   "source": [
    "The left-hand boxplot in each column is the results for 100 conformers, the right-hand boxplot is for 400 conformers. The dashed line in each column shows what you would expect for perfect scaling."
   ]
  },
  {
   "cell_type": "markdown",
   "id": "14ab1367",
   "metadata": {},
   "source": [
    "We can see that on my machine with these molecules the scaling is pretty good up to about 6 threads but that by the time we get to 10 threads we're deviating pretty strongly from perfect scaling. In fact, the runtime for 10 threads isn't massively better than it is for 8 (the number of physical performance cores in my machine). Unsurprisingly, the scaling is better for 400 conformers than it is for 100, but even with 400 conformers it's not really worth increasing from 8 to 10 threads on my machine.\n",
    "\n",
    "Based on this analysis, I'd probably go with using either 6 or 8 threads for future confgen work on this machine."
   ]
  },
  {
   "cell_type": "code",
   "execution_count": null,
   "id": "73f4ede9",
   "metadata": {},
   "outputs": [],
   "source": []
  }
 ],
 "metadata": {
  "kernelspec": {
   "display_name": "Python 3 (ipykernel)",
   "language": "python",
   "name": "python3"
  },
  "language_info": {
   "codemirror_mode": {
    "name": "ipython",
    "version": 3
   },
   "file_extension": ".py",
   "mimetype": "text/x-python",
   "name": "python",
   "nbconvert_exporter": "python",
   "pygments_lexer": "ipython3",
   "version": "3.12.6"
  },
  "toc": {
   "base_numbering": 1,
   "nav_menu": {},
   "number_sections": true,
   "sideBar": true,
   "skip_h1_title": false,
   "title_cell": "Table of Contents",
   "title_sidebar": "Contents",
   "toc_cell": false,
   "toc_position": {},
   "toc_section_display": true,
   "toc_window_display": false
  }
 },
 "nbformat": 4,
 "nbformat_minor": 5
}
