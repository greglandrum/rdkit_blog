{
 "cells": [
  {
   "cell_type": "markdown",
   "id": "8128b0af",
   "metadata": {},
   "source": [
    "The 2023.03 RDKit release contains the usual long list of enhancements and bug fixes. The [list in the release notes](https://github.com/rdkit/rdkit/releases/tag/Release_2023_03_1) is too long to cover in detail but, as usual, I wanted to do a post with a few things that I think are highlights. "
   ]
  },
  {
   "cell_type": "code",
   "execution_count": 1,
   "id": "b83f6720",
   "metadata": {
    "ExecuteTime": {
     "end_time": "2023-05-03T02:44:08.352058Z",
     "start_time": "2023-05-03T02:44:06.980293Z"
    }
   },
   "outputs": [
    {
     "name": "stdout",
     "output_type": "stream",
     "text": [
      "2023.03.1\n"
     ]
    }
   ],
   "source": [
    "from rdkit import Chem\n",
    "from rdkit.Chem.Draw import IPythonConsole\n",
    "from rdkit.Chem import Draw\n",
    "import rdkit\n",
    "print(rdkit.__version__)"
   ]
  },
  {
   "cell_type": "markdown",
   "id": "3cff3675",
   "metadata": {},
   "source": [
    "# Making it easy to calculate all 2D descriptors\n",
    "\n",
    "There used to be a bit of a dance required in order to calculate all of the 2D descriptors. We've cleared that up in this release by adding a single function `Descriptors.CalcMolDescriptors()` which does the work.\n",
    "\n",
    "This is embarassingly simple to demonstrate:"
   ]
  },
  {
   "cell_type": "code",
   "execution_count": 2,
   "id": "29d895dd",
   "metadata": {
    "ExecuteTime": {
     "end_time": "2023-05-03T02:44:08.523988Z",
     "start_time": "2023-05-03T02:44:08.358844Z"
    }
   },
   "outputs": [
    {
     "data": {
      "image/png": "[encoded data removed]",
      "text/plain": [
       "<rdkit.Chem.rdchem.Mol at 0x7efda5d5a570>"
      ]
     },
     "execution_count": 2,
     "metadata": {},
     "output_type": "execute_result"
    }
   ],
   "source": [
    "doravirine = Chem.MolFromSmiles('Cn1c(n[nH]c1=O)Cn2ccc(c(c2=O)Oc3cc(cc(c3)Cl)C#N)C(F)(F)F')\n",
    "doravirine"
   ]
  },
  {
   "cell_type": "code",
   "execution_count": 3,
   "id": "c5bbc5ea",
   "metadata": {
    "ExecuteTime": {
     "end_time": "2023-05-03T02:44:08.666656Z",
     "start_time": "2023-05-03T02:44:08.538473Z"
    }
   },
   "outputs": [
    {
     "data": {
      "text/plain": [
       "{'MaxAbsEStateIndex': 13.412553309006833,\n",
       " 'MaxEStateIndex': 13.412553309006833,\n",
       " 'MinAbsEStateIndex': 0.045220418860841605,\n",
       " 'MinEStateIndex': -4.871620672188628,\n",
       " 'qed': 0.6914051268589834,\n",
       " 'MolWt': 425.754,\n",
       " 'HeavyAtomMolWt': 414.66600000000005,\n",
       " 'ExactMolWt': 425.050251552,\n",
       " 'NumValenceElectrons': 150,\n",
       " 'NumRadicalElectrons': 0,\n",
       " 'MaxPartialCharge': 0.4197525104273902,\n",
       " 'MinPartialCharge': -0.45079941098947357,\n",
       " 'MaxAbsPartialCharge': 0.45079941098947357,\n",
       " 'MinAbsPartialCharge': 0.4197525104273902,\n",
       " 'FpDensityMorgan1': 1.3103448275862069,\n",
       " 'FpDensityMorgan2': 2.0344827586206895,\n",
       " 'FpDensityMorgan3': 2.6206896551724137,\n",
       " 'BCUT2D_MWHI': 35.495691906445956,\n",
       " 'BCUT2D_MWLOW': 10.182401353178228,\n",
       " 'BCUT2D_CHGHI': 2.363442602497932,\n",
       " 'BCUT2D_CHGLO': -2.1532454345808123,\n",
       " 'BCUT2D_LOGPHI': 2.362094239067197,\n",
       " 'BCUT2D_LOGPLOW': -2.2620565247489415,\n",
       " 'BCUT2D_MRHI': 6.30376236817795,\n",
       " 'BCUT2D_MRLOW': -0.13831572005086737,\n",
       " 'AvgIpc': 2.951845570725043,\n",
       " 'BalabanJ': 2.1143058157682066,\n",
       " 'BertzCT': 1236.821427505276,\n",
       " 'Chi0': 21.344570503761737,\n",
       " 'Chi0n': 14.619315272563007,\n",
       " 'Chi0v': 15.375244218581463,\n",
       " 'Chi1': 13.595574016164479,\n",
       " 'Chi1n': 7.8933192308003095,\n",
       " 'Chi1v': 8.271283703809537,\n",
       " 'Chi2n': 5.882827756329733,\n",
       " 'Chi2v': 6.319263536801718,\n",
       " 'Chi3n': 3.9307609940961763,\n",
       " 'Chi3v': 4.148978884332168,\n",
       " 'Chi4n': 2.4772835642835087,\n",
       " 'Chi4v': 2.7023697348309867,\n",
       " 'HallKierAlpha': -3.519999999999999,\n",
       " 'Ipc': 2291995.915536308,\n",
       " 'Kappa1': 20.220355828454835,\n",
       " 'Kappa2': 7.4789147435283585,\n",
       " 'Kappa3': 4.168020338062062,\n",
       " 'LabuteASA': 164.8909024413842,\n",
       " 'PEOE_VSA1': 9.303962601591405,\n",
       " 'PEOE_VSA10': 11.3129633249809,\n",
       " 'PEOE_VSA11': 5.824404497999927,\n",
       " 'PEOE_VSA12': 5.749511833283905,\n",
       " 'PEOE_VSA13': 5.559266895052007,\n",
       " 'PEOE_VSA14': 11.86604191564695,\n",
       " 'PEOE_VSA2': 9.361636831863176,\n",
       " 'PEOE_VSA3': 9.893218992372859,\n",
       " 'PEOE_VSA4': 23.531818506063985,\n",
       " 'PEOE_VSA5': 0.0,\n",
       " 'PEOE_VSA6': 11.600939890232516,\n",
       " 'PEOE_VSA7': 24.26546827384644,\n",
       " 'PEOE_VSA8': 18.267148868031594,\n",
       " 'PEOE_VSA9': 18.177429210401844,\n",
       " 'SMR_VSA1': 17.908108096824506,\n",
       " 'SMR_VSA10': 11.600939890232516,\n",
       " 'SMR_VSA2': 5.261891554738487,\n",
       " 'SMR_VSA3': 19.331562912184786,\n",
       " 'SMR_VSA4': 7.04767198267719,\n",
       " 'SMR_VSA5': 12.72105492335605,\n",
       " 'SMR_VSA6': 0.0,\n",
       " 'SMR_VSA7': 73.27433730199388,\n",
       " 'SMR_VSA8': 0.0,\n",
       " 'SMR_VSA9': 17.568244979360085,\n",
       " 'SlogP_VSA1': 15.98587324705553,\n",
       " 'SlogP_VSA10': 13.171245143024459,\n",
       " 'SlogP_VSA11': 11.49902366656781,\n",
       " 'SlogP_VSA12': 11.600939890232516,\n",
       " 'SlogP_VSA2': 19.331562912184786,\n",
       " 'SlogP_VSA3': 19.76872690603324,\n",
       " 'SlogP_VSA4': 11.33111286753076,\n",
       " 'SlogP_VSA5': 16.95130748139392,\n",
       " 'SlogP_VSA6': 40.05138621360316,\n",
       " 'SlogP_VSA7': 5.022633313741326,\n",
       " 'SlogP_VSA8': 0.0,\n",
       " 'SlogP_VSA9': 0.0,\n",
       " 'TPSA': 105.70000000000002,\n",
       " 'EState_VSA1': 28.738272135679853,\n",
       " 'EState_VSA10': 22.760319511168106,\n",
       " 'EState_VSA11': 0.0,\n",
       " 'EState_VSA2': 28.704757542634727,\n",
       " 'EState_VSA3': 6.06636706846161,\n",
       " 'EState_VSA4': 21.397409935657397,\n",
       " 'EState_VSA5': 19.18040611960041,\n",
       " 'EState_VSA6': 6.069221312792274,\n",
       " 'EState_VSA7': 0.0,\n",
       " 'EState_VSA8': 10.197363616602075,\n",
       " 'EState_VSA9': 21.599694398771053,\n",
       " 'VSA_EState1': 47.48050639865553,\n",
       " 'VSA_EState10': 5.842061004535676,\n",
       " 'VSA_EState2': 24.16343117595945,\n",
       " 'VSA_EState3': 14.921853617262808,\n",
       " 'VSA_EState4': -2.8980189732872814,\n",
       " 'VSA_EState5': -1.0781549918202147,\n",
       " 'VSA_EState6': 6.092225491490601,\n",
       " 'VSA_EState7': -3.945179835565914,\n",
       " 'VSA_EState8': -0.2762282865821226,\n",
       " 'VSA_EState9': 1.3919488437959202,\n",
       " 'FractionCSP3': 0.17647058823529413,\n",
       " 'HeavyAtomCount': 29,\n",
       " 'NHOHCount': 1,\n",
       " 'NOCount': 8,\n",
       " 'NumAliphaticCarbocycles': 0,\n",
       " 'NumAliphaticHeterocycles': 0,\n",
       " 'NumAliphaticRings': 0,\n",
       " 'NumAromaticCarbocycles': 1,\n",
       " 'NumAromaticHeterocycles': 2,\n",
       " 'NumAromaticRings': 3,\n",
       " 'NumHAcceptors': 7,\n",
       " 'NumHDonors': 1,\n",
       " 'NumHeteroatoms': 12,\n",
       " 'NumRotatableBonds': 4,\n",
       " 'NumSaturatedCarbocycles': 0,\n",
       " 'NumSaturatedHeterocycles': 0,\n",
       " 'NumSaturatedRings': 0,\n",
       " 'RingCount': 3,\n",
       " 'MolLogP': 2.65458,\n",
       " 'MolMR': 94.87570000000002,\n",
       " 'fr_Al_COO': 0,\n",
       " 'fr_Al_OH': 0,\n",
       " 'fr_Al_OH_noTert': 0,\n",
       " 'fr_ArN': 0,\n",
       " 'fr_Ar_COO': 0,\n",
       " 'fr_Ar_N': 4,\n",
       " 'fr_Ar_NH': 1,\n",
       " 'fr_Ar_OH': 0,\n",
       " 'fr_COO': 0,\n",
       " 'fr_COO2': 0,\n",
       " 'fr_C_O': 0,\n",
       " 'fr_C_O_noCOO': 0,\n",
       " 'fr_C_S': 0,\n",
       " 'fr_HOCCN': 0,\n",
       " 'fr_Imine': 0,\n",
       " 'fr_NH0': 4,\n",
       " 'fr_NH1': 1,\n",
       " 'fr_NH2': 0,\n",
       " 'fr_N_O': 0,\n",
       " 'fr_Ndealkylation1': 0,\n",
       " 'fr_Ndealkylation2': 0,\n",
       " 'fr_Nhpyrrole': 1,\n",
       " 'fr_SH': 0,\n",
       " 'fr_aldehyde': 0,\n",
       " 'fr_alkyl_carbamate': 0,\n",
       " 'fr_alkyl_halide': 3,\n",
       " 'fr_allylic_oxid': 0,\n",
       " 'fr_amide': 0,\n",
       " 'fr_amidine': 0,\n",
       " 'fr_aniline': 0,\n",
       " 'fr_aryl_methyl': 0,\n",
       " 'fr_azide': 0,\n",
       " 'fr_azo': 0,\n",
       " 'fr_barbitur': 0,\n",
       " 'fr_benzene': 1,\n",
       " 'fr_benzodiazepine': 0,\n",
       " 'fr_bicyclic': 0,\n",
       " 'fr_diazo': 0,\n",
       " 'fr_dihydropyridine': 0,\n",
       " 'fr_epoxide': 0,\n",
       " 'fr_ester': 0,\n",
       " 'fr_ether': 1,\n",
       " 'fr_furan': 0,\n",
       " 'fr_guanido': 0,\n",
       " 'fr_halogen': 4,\n",
       " 'fr_hdrzine': 0,\n",
       " 'fr_hdrzone': 0,\n",
       " 'fr_imidazole': 0,\n",
       " 'fr_imide': 0,\n",
       " 'fr_isocyan': 0,\n",
       " 'fr_isothiocyan': 0,\n",
       " 'fr_ketone': 0,\n",
       " 'fr_ketone_Topliss': 0,\n",
       " 'fr_lactam': 0,\n",
       " 'fr_lactone': 0,\n",
       " 'fr_methoxy': 0,\n",
       " 'fr_morpholine': 0,\n",
       " 'fr_nitrile': 1,\n",
       " 'fr_nitro': 0,\n",
       " 'fr_nitro_arom': 0,\n",
       " 'fr_nitro_arom_nonortho': 0,\n",
       " 'fr_nitroso': 0,\n",
       " 'fr_oxazole': 0,\n",
       " 'fr_oxime': 0,\n",
       " 'fr_para_hydroxylation': 0,\n",
       " 'fr_phenol': 0,\n",
       " 'fr_phenol_noOrthoHbond': 0,\n",
       " 'fr_phos_acid': 0,\n",
       " 'fr_phos_ester': 0,\n",
       " 'fr_piperdine': 0,\n",
       " 'fr_piperzine': 0,\n",
       " 'fr_priamide': 0,\n",
       " 'fr_prisulfonamd': 0,\n",
       " 'fr_pyridine': 1,\n",
       " 'fr_quatN': 0,\n",
       " 'fr_sulfide': 0,\n",
       " 'fr_sulfonamd': 0,\n",
       " 'fr_sulfone': 0,\n",
       " 'fr_term_acetylene': 0,\n",
       " 'fr_tetrazole': 0,\n",
       " 'fr_thiazole': 0,\n",
       " 'fr_thiocyan': 0,\n",
       " 'fr_thiophene': 0,\n",
       " 'fr_unbrch_alkane': 0,\n",
       " 'fr_urea': 0}"
      ]
     },
     "execution_count": 3,
     "metadata": {},
     "output_type": "execute_result"
    }
   ],
   "source": [
    "from rdkit.Chem import Descriptors\n",
    "descrs = Descriptors.CalcMolDescriptors(doravirine)\n",
    "descrs"
   ]
  },
  {
   "cell_type": "markdown",
   "id": "06dc5e0f",
   "metadata": {},
   "source": [
    "# Improved rendering of generic query atoms"
   ]
  },
  {
   "cell_type": "markdown",
   "id": "363776af",
   "metadata": {},
   "source": [
    "Molecules with \"standard\" generic query atoms (A, Q, M, X, etc.) read in from mol/SDF files are now rendered much more readably than in previous versions.\n",
    "\n",
    "Here's an example:"
   ]
  },
  {
   "cell_type": "code",
   "execution_count": 4,
   "id": "e022ea9e",
   "metadata": {
    "ExecuteTime": {
     "end_time": "2023-05-03T02:44:08.677168Z",
     "start_time": "2023-05-03T02:44:08.668909Z"
    }
   },
   "outputs": [
    {
     "data": {
      "image/png": "[encoded data removed]",
      "text/plain": [
       "<rdkit.Chem.rdchem.Mol at 0x7efda5848820>"
      ]
     },
     "execution_count": 4,
     "metadata": {},
     "output_type": "execute_result"
    }
   ],
   "source": [
    "qmol = Chem.MolFromMolBlock('''\n",
    "  Mrv2305 04202308462D          \n",
    "\n",
    "  0  0  0     0  0            999 V3000\n",
    "M  V30 BEGIN CTAB\n",
    "M  V30 COUNTS 8 8 0 0 0\n",
    "M  V30 BEGIN ATOM\n",
    "M  V30 1 C -2.6667 3.8734 0 0\n",
    "M  V30 2 C -4.0003 3.1034 0 0\n",
    "M  V30 3 C -4.0003 1.5633 0 0\n",
    "M  V30 4 C -2.6667 0.7933 0 0\n",
    "M  V30 5 C -1.333 1.5633 0 0\n",
    "M  V30 6 C -1.333 3.1034 0 0\n",
    "M  V30 7 A 0.0007 3.8733 0 0\n",
    "M  V30 8 X -5.334 3.8733 0 0\n",
    "M  V30 END ATOM\n",
    "M  V30 BEGIN BOND\n",
    "M  V30 1 1 1 2\n",
    "M  V30 2 2 2 3\n",
    "M  V30 3 1 3 4\n",
    "M  V30 4 2 4 5\n",
    "M  V30 5 1 5 6\n",
    "M  V30 6 2 1 6\n",
    "M  V30 7 1 6 7\n",
    "M  V30 8 1 2 8\n",
    "M  V30 END BOND\n",
    "M  V30 END CTAB\n",
    "M  END\n",
    "''')\n",
    "qmol"
   ]
  },
  {
   "cell_type": "markdown",
   "id": "b483b3e8",
   "metadata": {},
   "source": [
    "As a reminder, this is what these looked like in previous versions:"
   ]
  },
  {
   "cell_type": "code",
   "execution_count": 5,
   "id": "26b38256",
   "metadata": {
    "ExecuteTime": {
     "end_time": "2023-05-03T02:44:08.839071Z",
     "start_time": "2023-05-03T02:44:08.678073Z"
    }
   },
   "outputs": [
    {
     "data": {
      "image/png": "[encoded data removed]",
      "text/plain": [
       "<rdkit.Chem.rdchem.Mol at 0x7efda5848820>"
      ]
     },
     "execution_count": 5,
     "metadata": {},
     "output_type": "execute_result"
    }
   ],
   "source": [
    "IPythonConsole.drawOptions.useComplexQueryAtomSymbols = False\n",
    "qmol"
   ]
  },
  {
   "cell_type": "code",
   "execution_count": 6,
   "id": "a11d7067",
   "metadata": {
    "ExecuteTime": {
     "end_time": "2023-05-03T02:44:08.921321Z",
     "start_time": "2023-05-03T02:44:08.844284Z"
    }
   },
   "outputs": [],
   "source": [
    "IPythonConsole.drawOptions.useComplexQueryAtomSymbols = True"
   ]
  },
  {
   "cell_type": "markdown",
   "id": "5f29341b",
   "metadata": {},
   "source": [
    "# ChEMBL filter sets now available in the FilterCatalog\n",
    "\n",
    "This is based on Pat Walters' [version of the ChEMBL filters](https://github.com/PatWalters/rd_filters)"
   ]
  },
  {
   "cell_type": "code",
   "execution_count": 7,
   "id": "b0c1e4fa",
   "metadata": {
    "ExecuteTime": {
     "end_time": "2023-05-03T02:44:09.058748Z",
     "start_time": "2023-05-03T02:44:08.926669Z"
    }
   },
   "outputs": [
    {
     "data": {
      "text/plain": [
       "770"
      ]
     },
     "execution_count": 7,
     "metadata": {},
     "output_type": "execute_result"
    }
   ],
   "source": [
    "from rdkit.Chem import rdfiltercatalog\n",
    "\n",
    "fcp = rdfiltercatalog.FilterCatalogParams()\n",
    "fcp.AddCatalog(rdfiltercatalog.FilterCatalogParams.FilterCatalogs.CHEMBL)\n",
    "fc = rdfiltercatalog.FilterCatalog(fcp)\n",
    "fc.GetNumEntries()"
   ]
  },
  {
   "cell_type": "code",
   "execution_count": 8,
   "id": "6777e8a7",
   "metadata": {
    "ExecuteTime": {
     "end_time": "2023-05-03T02:44:09.097076Z",
     "start_time": "2023-05-03T02:44:09.060184Z"
    }
   },
   "outputs": [
    {
     "data": {
      "text/plain": [
       "7"
      ]
     },
     "execution_count": 8,
     "metadata": {},
     "output_type": "execute_result"
    }
   ],
   "source": [
    "m = Chem.MolFromSmiles('c1ccccc1CCl')\n",
    "l = fc.GetMatches(m)\n",
    "len(l)"
   ]
  },
  {
   "cell_type": "code",
   "execution_count": 9,
   "id": "d7969c0c",
   "metadata": {
    "ExecuteTime": {
     "end_time": "2023-05-03T02:44:09.191728Z",
     "start_time": "2023-05-03T02:44:09.106766Z"
    }
   },
   "outputs": [
    {
     "name": "stdout",
     "output_type": "stream",
     "text": [
      "R1 Reactive alkyl halides\n",
      "alkyl halide\n",
      "primary_halide_sulfate\n",
      "alkyl_halides\n",
      "alkyl halide\n",
      "Filter6_benzyl_halide\n",
      "alkyl halide\n"
     ]
    }
   ],
   "source": [
    "for entry in l:\n",
    "    print(entry.GetDescription())\n"
   ]
  },
  {
   "cell_type": "markdown",
   "id": "turkish-constitution",
   "metadata": {},
   "source": [
    "I've deliberately picked an example which demonstrates why one needs to be careful with these things. :-)"
   ]
  },
  {
   "cell_type": "markdown",
   "id": "d8936627",
   "metadata": {},
   "source": [
    "# Improved handling of organometallic species"
   ]
  },
  {
   "cell_type": "markdown",
   "id": "raised-siemens",
   "metadata": {},
   "source": [
    "This is part of an ongoing series of improvements to do a better job handling organometallic species.\n",
    "\n",
    "In this release the major changes are to support switching between two common representations of molecules like ferrocene:"
   ]
  },
  {
   "cell_type": "code",
   "execution_count": 10,
   "id": "dfc6717f",
   "metadata": {
    "ExecuteTime": {
     "end_time": "2023-05-03T02:44:09.308646Z",
     "start_time": "2023-05-03T02:44:09.198911Z"
    }
   },
   "outputs": [
    {
     "data": {
      "image/png": "[encoded data removed]",
      "text/plain": [
       "<rdkit.Chem.rdchem.Mol at 0x7efda584bae0>"
      ]
     },
     "execution_count": 10,
     "metadata": {},
     "output_type": "execute_result"
    }
   ],
   "source": [
    "IPythonConsole.kekulizeStructures = False\n",
    "ferrocene = Chem.MolFromMolBlock('''\n",
    "  Mrv2211 04212306592D          \n",
    "\n",
    "  0  0  0     0  0            999 V3000\n",
    "M  V30 BEGIN CTAB\n",
    "M  V30 COUNTS 13 12 2 0 0\n",
    "M  V30 BEGIN ATOM\n",
    "M  V30 1 C -4.4799 15.329 0 0 CHG=-1\n",
    "M  V30 2 C -5.2994 16.3341 0 0\n",
    "M  V30 3 C -8.0977 16.3517 0 0\n",
    "M  V30 4 C -9.0012 15.3605 0 0\n",
    "M  V30 5 C -6.794 14.7503 0 0\n",
    "M  V30 6 C -4.3949 10.4304 0 0 CHG=-1\n",
    "M  V30 7 C -5.2144 11.4355 0 0\n",
    "M  V30 8 C -8.0127 11.4531 0 0\n",
    "M  V30 9 C -8.9162 10.4619 0 0\n",
    "M  V30 10 C -6.6924 9.8351 0 0\n",
    "M  V30 11 Fe -6.6772 12.9717 0 0 CHG=2\n",
    "M  V30 12 * -6.7645 15.6718 0 0\n",
    "M  V30 13 * -6.6461 10.7232 0 0\n",
    "M  V30 END ATOM\n",
    "M  V30 BEGIN BOND\n",
    "M  V30 1 9 12 11 ENDPTS=(5 1 2 3 4 5) ATTACH=ALL\n",
    "M  V30 2 4 1 5\n",
    "M  V30 3 4 4 5\n",
    "M  V30 4 4 4 3\n",
    "M  V30 5 4 2 3\n",
    "M  V30 6 4 1 2\n",
    "M  V30 7 4 6 10\n",
    "M  V30 8 4 9 10\n",
    "M  V30 9 4 9 8\n",
    "M  V30 10 4 7 8\n",
    "M  V30 11 4 6 7\n",
    "M  V30 12 9 13 11 ENDPTS=(5 6 7 8 9 10) ATTACH=ALL\n",
    "M  V30 END BOND\n",
    "M  V30 BEGIN SGROUP\n",
    "M  V30 1 DAT 0 ATOMS=(1 1) FIELDNAME=MRV_IMPLICIT_H -\n",
    "M  V30 FIELDDISP=\"    0.0000    0.0000    DR    ALL  0       0\" -\n",
    "M  V30 FIELDDATA=IMPL_H1\n",
    "M  V30 2 DAT 0 ATOMS=(1 6) FIELDNAME=MRV_IMPLICIT_H -\n",
    "M  V30 FIELDDISP=\"    0.0000    0.0000    DR    ALL  0       0\" -\n",
    "M  V30 FIELDDATA=IMPL_H1\n",
    "M  V30 END SGROUP\n",
    "M  V30 END CTAB\n",
    "M  END\n",
    "''')\n",
    "ferrocene"
   ]
  },
  {
   "cell_type": "markdown",
   "id": "00820319",
   "metadata": {
    "ExecuteTime": {
     "end_time": "2023-04-30T06:29:54.083178Z",
     "start_time": "2023-04-30T06:29:54.072205Z"
    }
   },
   "source": [
    "This shows one common representation: using a coordination/dative bond from a multi-center attachment point in the middle of each ring to indicate the haptic bonding of the rings to the metal. The new drawing code highlights the atoms involved in the haptic bond."
   ]
  },
  {
   "cell_type": "markdown",
   "id": "51d23d2b",
   "metadata": {},
   "source": [
    "Sometimes it's useful to have another representation of these species which has direct dative bonds from the atoms in the ring to the metal. The `HapticBondsToDative()` function does this:"
   ]
  },
  {
   "cell_type": "code",
   "execution_count": 11,
   "id": "connected-zimbabwe",
   "metadata": {
    "ExecuteTime": {
     "end_time": "2023-05-03T02:44:09.432545Z",
     "start_time": "2023-05-03T02:44:09.311624Z"
    }
   },
   "outputs": [
    {
     "data": {
      "image/png": "[encoded data removed]",
      "text/plain": [
       "<rdkit.Chem.rdchem.Mol at 0x7efda584b920>"
      ]
     },
     "execution_count": 11,
     "metadata": {},
     "output_type": "execute_result"
    }
   ],
   "source": [
    "dative_ferro = Chem.HapticBondsToDative(ferrocene)\n",
    "Chem.SanitizeMol(dative_ferro)\n",
    "dative_ferro"
   ]
  },
  {
   "cell_type": "markdown",
   "id": "b2049c01",
   "metadata": {},
   "source": [
    "As you might expect, you can also go from the dative representation back to the haptic one:"
   ]
  },
  {
   "cell_type": "code",
   "execution_count": 12,
   "id": "capital-rescue",
   "metadata": {
    "ExecuteTime": {
     "end_time": "2023-05-03T02:44:09.544738Z",
     "start_time": "2023-05-03T02:44:09.439359Z"
    }
   },
   "outputs": [
    {
     "data": {
      "image/png": "[encoded data removed]",
      "text/plain": [
       "<rdkit.Chem.rdchem.Mol at 0x7efda584be60>"
      ]
     },
     "execution_count": 12,
     "metadata": {},
     "output_type": "execute_result"
    }
   ],
   "source": [
    "ferro2 = Chem.DativeBondsToHaptic(dative_ferro)\n",
    "Chem.SanitizeMol(ferro2)\n",
    "ferro2"
   ]
  },
  {
   "cell_type": "markdown",
   "id": "unauthorized-transparency",
   "metadata": {},
   "source": [
    "This, of course, also works with other haptic bonds. Here's an example of a nickel complex with propylene:"
   ]
  },
  {
   "cell_type": "code",
   "execution_count": 13,
   "id": "scientific-constant",
   "metadata": {
    "ExecuteTime": {
     "end_time": "2023-05-03T02:44:09.644370Z",
     "start_time": "2023-05-03T02:44:09.547115Z"
    }
   },
   "outputs": [
    {
     "data": {
      "image/png": "[encoded data removed]",
      "text/plain": [
       "<rdkit.Chem.rdchem.Mol at 0x7efda584b8b0>"
      ]
     },
     "execution_count": 13,
     "metadata": {},
     "output_type": "execute_result"
    }
   ],
   "source": [
    "ni_complex = Chem.MolFromMolBlock('''\n",
    "  Mrv2211 05012317022D          \n",
    "\n",
    "  0  0  0     0  0            999 V3000\n",
    "M  V30 BEGIN CTAB\n",
    "M  V30 COUNTS 9 6 0 0 0\n",
    "M  V30 BEGIN ATOM\n",
    "M  V30 1 C -10.7917 -1.75 0 0 CHG=-1\n",
    "M  V30 2 C -9.458 -0.98 0 0\n",
    "M  V30 3 C -8.1243 -1.75 0 0\n",
    "M  V30 4 * -9.458 -1.4933 0 0\n",
    "M  V30 5 C -10.792 -6.2983 0 0 CHG=-1\n",
    "M  V30 6 C -9.4583 -5.5283 0 0\n",
    "M  V30 7 C -8.1246 -6.2983 0 0\n",
    "M  V30 8 * -9.4583 -6.0416 0 0\n",
    "M  V30 9 Ni -9.25 -3.7083 0 0 CHG=2\n",
    "M  V30 END ATOM\n",
    "M  V30 BEGIN BOND\n",
    "M  V30 1 1 1 2\n",
    "M  V30 2 2 2 3\n",
    "M  V30 3 1 5 6\n",
    "M  V30 4 2 6 7\n",
    "M  V30 5 9 4 9 ENDPTS=(3 1 2 3) ATTACH=ALL\n",
    "M  V30 6 9 8 9 ENDPTS=(3 5 6 7) ATTACH=ALL\n",
    "M  V30 END BOND\n",
    "M  V30 END CTAB\n",
    "M  END\n",
    "''')\n",
    "ni_complex"
   ]
  },
  {
   "cell_type": "code",
   "execution_count": 14,
   "id": "cleared-turtle",
   "metadata": {
    "ExecuteTime": {
     "end_time": "2023-05-03T02:44:09.755361Z",
     "start_time": "2023-05-03T02:44:09.647984Z"
    }
   },
   "outputs": [
    {
     "data": {
      "image/png": "[encoded data removed]",
      "text/plain": [
       "<rdkit.Chem.rdchem.Mol at 0x7efda58b4120>"
      ]
     },
     "execution_count": 14,
     "metadata": {},
     "output_type": "execute_result"
    }
   ],
   "source": [
    "dative_ni= Chem.HapticBondsToDative(ni_complex)\n",
    "Chem.SanitizeMol(dative_ni)\n",
    "dative_ni"
   ]
  },
  {
   "cell_type": "code",
   "execution_count": 15,
   "id": "quiet-bedroom",
   "metadata": {
    "ExecuteTime": {
     "end_time": "2023-05-03T02:44:09.866343Z",
     "start_time": "2023-05-03T02:44:09.760371Z"
    }
   },
   "outputs": [
    {
     "data": {
      "image/png": "[encoded data removed]",
      "text/plain": [
       "<rdkit.Chem.rdchem.Mol at 0x7efda58b4200>"
      ]
     },
     "execution_count": 15,
     "metadata": {},
     "output_type": "execute_result"
    }
   ],
   "source": [
    "ni2 = Chem.DativeBondsToHaptic(dative_ni)\n",
    "Chem.SanitizeMol(ni2)\n",
    "ni2"
   ]
  },
  {
   "cell_type": "markdown",
   "id": "c1348eba",
   "metadata": {},
   "source": [
    "# Drawing molecules in arbitrary locations on a canvas\n",
    "\n",
    "By using the new `MolDraw2D.SetFlexiMode()` and `MolDraw2D.SetOffset()` methods, it's now possible to draw molecules in arbitrary locations on the `MolDraw2D` canvas. This, with a bit of work, allows considerably more complex molecular graphics to be created.\n",
    "\n",
    "Here's an example... I hope to show something more useful in a future post."
   ]
  },
  {
   "cell_type": "code",
   "execution_count": 16,
   "id": "5cc84a77",
   "metadata": {
    "ExecuteTime": {
     "end_time": "2023-05-03T02:44:09.938124Z",
     "start_time": "2023-05-03T02:44:09.870387Z"
    }
   },
   "outputs": [],
   "source": [
    "# structures from: https://pubs.acs.org/doi/10.1021/acs.jmedchem.3c00210\n",
    "hit = Chem.MolFromSmiles('c1ccc(o1)-c1cc(n(n1)C(=O)CCC(=O)O)-c1c(Cl)nc2cc(C)ccc2c1')\n",
    "lead = Chem.MolFromSmiles('c1ccc(o1)-c1cc(nn1C(C)(C)C)-c1[nH]c2ccc(Cl)cc2n1')\n",
    "interm = Chem.MolFromSmiles('c1ccc(o1)-c1cc(nn1C(C)(C)C)-c1oc2ccccc2n1')"
   ]
  },
  {
   "cell_type": "code",
   "execution_count": 17,
   "id": "3e377089",
   "metadata": {
    "ExecuteTime": {
     "end_time": "2023-05-03T02:44:10.014272Z",
     "start_time": "2023-05-03T02:44:09.943531Z"
    }
   },
   "outputs": [],
   "source": [
    "hitLabel = 'Hit 1a\\nP2Y6R : 0.126 uM'\n",
    "leadLabel = '50\\nP2Y6R : 5.9 nM'\n",
    "intermLabel = '16\\nP2Y6R : 30.8 nM'"
   ]
  },
  {
   "cell_type": "code",
   "execution_count": 18,
   "id": "0f16da78",
   "metadata": {
    "ExecuteTime": {
     "end_time": "2023-05-03T02:44:10.262169Z",
     "start_time": "2023-05-03T02:44:10.019752Z"
    }
   },
   "outputs": [
    {
     "data": {
      "image/svg+xml": [
       "<svg xmlns=\"http://www.w3.org/2000/svg\" xmlns:rdkit=\"http://www.rdkit.org/xml\" xmlns:xlink=\"http://www.w3.org/1999/xlink\" version=\"1.1\" baseProfile=\"full\" xml:space=\"preserve\" width=\"635px\" height=\"582px\" viewBox=\"0 0 635 582\">\n",
       "<!-- END OF HEADER -->\n",
       "<rect style=\"opacity:1.0;fill:#FFFFFF;stroke:none\" width=\"635.0\" height=\"582.0\" x=\"0.0\" y=\"0.0\"> </rect>\n",
       "<path class=\"bond-0 atom-0 atom-1\" d=\"M 172.6,20.4 L 158.2,50.0\" style=\"fill:none;fill-rule:evenodd;stroke:#000000;stroke-width:2.0px;stroke-linecap:butt;stroke-linejoin:miter;stroke-opacity:1\"/>\n",
       "<path class=\"bond-0 atom-0 atom-1\" d=\"M 175.5,25.8 L 164.2,48.9\" style=\"fill:none;fill-rule:evenodd;stroke:#000000;stroke-width:2.0px;stroke-linecap:butt;stroke-linejoin:miter;stroke-opacity:1\"/>\n",
       "<path class=\"bond-1 atom-1 atom-2\" d=\"M 158.2,50.0 L 181.9,72.9\" style=\"fill:none;fill-rule:evenodd;stroke:#000000;stroke-width:2.0px;stroke-linecap:butt;stroke-linejoin:miter;stroke-opacity:1\"/>\n",
       "<path class=\"bond-2 atom-2 atom-3\" d=\"M 181.9,72.9 L 211.0,57.4\" style=\"fill:none;fill-rule:evenodd;stroke:#000000;stroke-width:2.0px;stroke-linecap:butt;stroke-linejoin:miter;stroke-opacity:1\"/>\n",
       "<path class=\"bond-2 atom-2 atom-3\" d=\"M 182.8,66.8 L 205.5,54.7\" style=\"fill:none;fill-rule:evenodd;stroke:#000000;stroke-width:2.0px;stroke-linecap:butt;stroke-linejoin:miter;stroke-opacity:1\"/>\n",
       "<path class=\"bond-3 atom-3 atom-4\" d=\"M 211.0,57.4 L 208.6,44.1\" style=\"fill:none;fill-rule:evenodd;stroke:#000000;stroke-width:2.0px;stroke-linecap:butt;stroke-linejoin:miter;stroke-opacity:1\"/>\n",
       "<path class=\"bond-3 atom-3 atom-4\" d=\"M 208.6,44.1 L 206.3,30.9\" style=\"fill:none;fill-rule:evenodd;stroke:#FF0000;stroke-width:2.0px;stroke-linecap:butt;stroke-linejoin:miter;stroke-opacity:1\"/>\n",
       "<path class=\"bond-4 atom-3 atom-5\" d=\"M 211.0,57.4 L 240.6,71.8\" style=\"fill:none;fill-rule:evenodd;stroke:#000000;stroke-width:2.0px;stroke-linecap:butt;stroke-linejoin:miter;stroke-opacity:1\"/>\n",
       "<path class=\"bond-5 atom-5 atom-6\" d=\"M 240.6,71.8 L 269.7,56.3\" style=\"fill:none;fill-rule:evenodd;stroke:#000000;stroke-width:2.0px;stroke-linecap:butt;stroke-linejoin:miter;stroke-opacity:1\"/>\n",
       "<path class=\"bond-6 atom-6 atom-7\" d=\"M 269.7,56.3 L 293.4,79.2\" style=\"fill:none;fill-rule:evenodd;stroke:#000000;stroke-width:2.0px;stroke-linecap:butt;stroke-linejoin:miter;stroke-opacity:1\"/>\n",
       "<path class=\"bond-6 atom-6 atom-7\" d=\"M 268.8,62.4 L 287.4,80.2\" style=\"fill:none;fill-rule:evenodd;stroke:#000000;stroke-width:2.0px;stroke-linecap:butt;stroke-linejoin:miter;stroke-opacity:1\"/>\n",
       "<path class=\"bond-7 atom-7 atom-8\" d=\"M 293.4,79.2 L 287.6,91.1\" style=\"fill:none;fill-rule:evenodd;stroke:#000000;stroke-width:2.0px;stroke-linecap:butt;stroke-linejoin:miter;stroke-opacity:1\"/>\n",
       "<path class=\"bond-7 atom-7 atom-8\" d=\"M 287.6,91.1 L 281.8,103.0\" style=\"fill:none;fill-rule:evenodd;stroke:#0000FF;stroke-width:2.0px;stroke-linecap:butt;stroke-linejoin:miter;stroke-opacity:1\"/>\n",
       "<path class=\"bond-8 atom-8 atom-9\" d=\"M 274.4,108.1 L 251.0,104.9\" style=\"fill:none;fill-rule:evenodd;stroke:#0000FF;stroke-width:2.0px;stroke-linecap:butt;stroke-linejoin:miter;stroke-opacity:1\"/>\n",
       "<path class=\"bond-9 atom-8 atom-10\" d=\"M 282.1,114.5 L 288.3,126.2\" style=\"fill:none;fill-rule:evenodd;stroke:#0000FF;stroke-width:2.0px;stroke-linecap:butt;stroke-linejoin:miter;stroke-opacity:1\"/>\n",
       "<path class=\"bond-9 atom-8 atom-10\" d=\"M 288.3,126.2 L 294.5,137.9\" style=\"fill:none;fill-rule:evenodd;stroke:#000000;stroke-width:2.0px;stroke-linecap:butt;stroke-linejoin:miter;stroke-opacity:1\"/>\n",
       "<path class=\"bond-10 atom-10 atom-11\" d=\"M 293.0,140.3 L 307.5,140.8\" style=\"fill:none;fill-rule:evenodd;stroke:#000000;stroke-width:2.0px;stroke-linecap:butt;stroke-linejoin:miter;stroke-opacity:1\"/>\n",
       "<path class=\"bond-10 atom-10 atom-11\" d=\"M 307.5,140.8 L 322.0,141.3\" style=\"fill:none;fill-rule:evenodd;stroke:#FF0000;stroke-width:2.0px;stroke-linecap:butt;stroke-linejoin:miter;stroke-opacity:1\"/>\n",
       "<path class=\"bond-10 atom-10 atom-11\" d=\"M 293.1,135.3 L 307.6,135.8\" style=\"fill:none;fill-rule:evenodd;stroke:#000000;stroke-width:2.0px;stroke-linecap:butt;stroke-linejoin:miter;stroke-opacity:1\"/>\n",
       "<path class=\"bond-10 atom-10 atom-11\" d=\"M 307.6,135.8 L 322.1,136.3\" style=\"fill:none;fill-rule:evenodd;stroke:#FF0000;stroke-width:2.0px;stroke-linecap:butt;stroke-linejoin:miter;stroke-opacity:1\"/>\n",
       "<path class=\"bond-11 atom-10 atom-12\" d=\"M 294.5,137.9 L 277.1,165.8\" style=\"fill:none;fill-rule:evenodd;stroke:#000000;stroke-width:2.0px;stroke-linecap:butt;stroke-linejoin:miter;stroke-opacity:1\"/>\n",
       "<path class=\"bond-12 atom-12 atom-13\" d=\"M 277.1,165.8 L 292.6,194.9\" style=\"fill:none;fill-rule:evenodd;stroke:#000000;stroke-width:2.0px;stroke-linecap:butt;stroke-linejoin:miter;stroke-opacity:1\"/>\n",
       "<path class=\"bond-13 atom-13 atom-14\" d=\"M 292.6,194.9 L 275.1,222.8\" style=\"fill:none;fill-rule:evenodd;stroke:#000000;stroke-width:2.0px;stroke-linecap:butt;stroke-linejoin:miter;stroke-opacity:1\"/>\n",
       "<path class=\"bond-14 atom-14 atom-15\" d=\"M 276.6,220.4 L 262.1,219.9\" style=\"fill:none;fill-rule:evenodd;stroke:#000000;stroke-width:2.0px;stroke-linecap:butt;stroke-linejoin:miter;stroke-opacity:1\"/>\n",
       "<path class=\"bond-14 atom-14 atom-15\" d=\"M 262.1,219.9 L 247.7,219.4\" style=\"fill:none;fill-rule:evenodd;stroke:#FF0000;stroke-width:2.0px;stroke-linecap:butt;stroke-linejoin:miter;stroke-opacity:1\"/>\n",
       "<path class=\"bond-14 atom-14 atom-15\" d=\"M 276.5,225.4 L 262.0,224.9\" style=\"fill:none;fill-rule:evenodd;stroke:#000000;stroke-width:2.0px;stroke-linecap:butt;stroke-linejoin:miter;stroke-opacity:1\"/>\n",
       "<path class=\"bond-14 atom-14 atom-15\" d=\"M 262.0,224.9 L 247.5,224.4\" style=\"fill:none;fill-rule:evenodd;stroke:#FF0000;stroke-width:2.0px;stroke-linecap:butt;stroke-linejoin:miter;stroke-opacity:1\"/>\n",
       "<path class=\"bond-15 atom-14 atom-16\" d=\"M 275.1,222.8 L 281.3,234.5\" style=\"fill:none;fill-rule:evenodd;stroke:#000000;stroke-width:2.0px;stroke-linecap:butt;stroke-linejoin:miter;stroke-opacity:1\"/>\n",
       "<path class=\"bond-15 atom-14 atom-16\" d=\"M 281.3,234.5 L 287.5,246.1\" style=\"fill:none;fill-rule:evenodd;stroke:#FF0000;stroke-width:2.0px;stroke-linecap:butt;stroke-linejoin:miter;stroke-opacity:1\"/>\n",
       "<path class=\"bond-16 atom-7 atom-17\" d=\"M 293.4,79.2 L 325.8,73.4\" style=\"fill:none;fill-rule:evenodd;stroke:#000000;stroke-width:2.0px;stroke-linecap:butt;stroke-linejoin:miter;stroke-opacity:1\"/>\n",
       "<path class=\"bond-17 atom-17 atom-18\" d=\"M 325.8,73.4 L 337.1,42.4\" style=\"fill:none;fill-rule:evenodd;stroke:#000000;stroke-width:2.0px;stroke-linecap:butt;stroke-linejoin:miter;stroke-opacity:1\"/>\n",
       "<path class=\"bond-17 atom-17 atom-18\" d=\"M 331.5,72.4 L 340.8,46.8\" style=\"fill:none;fill-rule:evenodd;stroke:#000000;stroke-width:2.0px;stroke-linecap:butt;stroke-linejoin:miter;stroke-opacity:1\"/>\n",
       "<path class=\"bond-18 atom-18 atom-19\" d=\"M 337.1,42.4 L 327.3,30.8\" style=\"fill:none;fill-rule:evenodd;stroke:#000000;stroke-width:2.0px;stroke-linecap:butt;stroke-linejoin:miter;stroke-opacity:1\"/>\n",
       "<path class=\"bond-18 atom-18 atom-19\" d=\"M 327.3,30.8 L 317.6,19.2\" style=\"fill:none;fill-rule:evenodd;stroke:#00CC00;stroke-width:2.0px;stroke-linecap:butt;stroke-linejoin:miter;stroke-opacity:1\"/>\n",
       "<path class=\"bond-19 atom-18 atom-20\" d=\"M 337.1,42.4 L 351.0,40.0\" style=\"fill:none;fill-rule:evenodd;stroke:#000000;stroke-width:2.0px;stroke-linecap:butt;stroke-linejoin:miter;stroke-opacity:1\"/>\n",
       "<path class=\"bond-19 atom-18 atom-20\" d=\"M 351.0,40.0 L 364.9,37.5\" style=\"fill:none;fill-rule:evenodd;stroke:#0000FF;stroke-width:2.0px;stroke-linecap:butt;stroke-linejoin:miter;stroke-opacity:1\"/>\n",
       "<path class=\"bond-20 atom-20 atom-21\" d=\"M 374.1,42.2 L 382.4,52.1\" style=\"fill:none;fill-rule:evenodd;stroke:#0000FF;stroke-width:2.0px;stroke-linecap:butt;stroke-linejoin:miter;stroke-opacity:1\"/>\n",
       "<path class=\"bond-20 atom-20 atom-21\" d=\"M 382.4,52.1 L 390.7,61.9\" style=\"fill:none;fill-rule:evenodd;stroke:#000000;stroke-width:2.0px;stroke-linecap:butt;stroke-linejoin:miter;stroke-opacity:1\"/>\n",
       "<path class=\"bond-20 atom-20 atom-21\" d=\"M 370.4,45.4 L 377.7,54.1\" style=\"fill:none;fill-rule:evenodd;stroke:#0000FF;stroke-width:2.0px;stroke-linecap:butt;stroke-linejoin:miter;stroke-opacity:1\"/>\n",
       "<path class=\"bond-20 atom-20 atom-21\" d=\"M 377.7,54.1 L 385.1,62.9\" style=\"fill:none;fill-rule:evenodd;stroke:#000000;stroke-width:2.0px;stroke-linecap:butt;stroke-linejoin:miter;stroke-opacity:1\"/>\n",
       "<path class=\"bond-21 atom-21 atom-22\" d=\"M 390.7,61.9 L 423.2,56.2\" style=\"fill:none;fill-rule:evenodd;stroke:#000000;stroke-width:2.0px;stroke-linecap:butt;stroke-linejoin:miter;stroke-opacity:1\"/>\n",
       "<path class=\"bond-22 atom-22 atom-23\" d=\"M 423.2,56.2 L 444.4,81.4\" style=\"fill:none;fill-rule:evenodd;stroke:#000000;stroke-width:2.0px;stroke-linecap:butt;stroke-linejoin:miter;stroke-opacity:1\"/>\n",
       "<path class=\"bond-22 atom-22 atom-23\" d=\"M 421.2,61.5 L 438.7,82.4\" style=\"fill:none;fill-rule:evenodd;stroke:#000000;stroke-width:2.0px;stroke-linecap:butt;stroke-linejoin:miter;stroke-opacity:1\"/>\n",
       "<path class=\"bond-23 atom-23 atom-24\" d=\"M 444.4,81.4 L 476.8,75.6\" style=\"fill:none;fill-rule:evenodd;stroke:#000000;stroke-width:2.0px;stroke-linecap:butt;stroke-linejoin:miter;stroke-opacity:1\"/>\n",
       "<path class=\"bond-24 atom-23 atom-25\" d=\"M 444.4,81.4 L 433.1,112.3\" style=\"fill:none;fill-rule:evenodd;stroke:#000000;stroke-width:2.0px;stroke-linecap:butt;stroke-linejoin:miter;stroke-opacity:1\"/>\n",
       "<path class=\"bond-25 atom-25 atom-26\" d=\"M 433.1,112.3 L 400.7,118.1\" style=\"fill:none;fill-rule:evenodd;stroke:#000000;stroke-width:2.0px;stroke-linecap:butt;stroke-linejoin:miter;stroke-opacity:1\"/>\n",
       "<path class=\"bond-25 atom-25 atom-26\" d=\"M 429.4,108.0 L 402.6,112.7\" style=\"fill:none;fill-rule:evenodd;stroke:#000000;stroke-width:2.0px;stroke-linecap:butt;stroke-linejoin:miter;stroke-opacity:1\"/>\n",
       "<path class=\"bond-26 atom-26 atom-27\" d=\"M 400.7,118.1 L 379.5,92.9\" style=\"fill:none;fill-rule:evenodd;stroke:#000000;stroke-width:2.0px;stroke-linecap:butt;stroke-linejoin:miter;stroke-opacity:1\"/>\n",
       "<path class=\"bond-27 atom-27 atom-28\" d=\"M 379.5,92.9 L 347.0,98.6\" style=\"fill:none;fill-rule:evenodd;stroke:#000000;stroke-width:2.0px;stroke-linecap:butt;stroke-linejoin:miter;stroke-opacity:1\"/>\n",
       "<path class=\"bond-27 atom-27 atom-28\" d=\"M 375.8,88.5 L 349.0,93.3\" style=\"fill:none;fill-rule:evenodd;stroke:#000000;stroke-width:2.0px;stroke-linecap:butt;stroke-linejoin:miter;stroke-opacity:1\"/>\n",
       "<path class=\"bond-28 atom-4 atom-0\" d=\"M 199.9,24.2 L 186.2,22.3\" style=\"fill:none;fill-rule:evenodd;stroke:#FF0000;stroke-width:2.0px;stroke-linecap:butt;stroke-linejoin:miter;stroke-opacity:1\"/>\n",
       "<path class=\"bond-28 atom-4 atom-0\" d=\"M 186.2,22.3 L 172.6,20.4\" style=\"fill:none;fill-rule:evenodd;stroke:#000000;stroke-width:2.0px;stroke-linecap:butt;stroke-linejoin:miter;stroke-opacity:1\"/>\n",
       "<path class=\"bond-29 atom-9 atom-5\" d=\"M 245.4,98.5 L 243.0,85.1\" style=\"fill:none;fill-rule:evenodd;stroke:#0000FF;stroke-width:2.0px;stroke-linecap:butt;stroke-linejoin:miter;stroke-opacity:1\"/>\n",
       "<path class=\"bond-29 atom-9 atom-5\" d=\"M 243.0,85.1 L 240.6,71.8\" style=\"fill:none;fill-rule:evenodd;stroke:#000000;stroke-width:2.0px;stroke-linecap:butt;stroke-linejoin:miter;stroke-opacity:1\"/>\n",
       "<path class=\"bond-29 atom-9 atom-5\" d=\"M 250.2,97.6 L 248.2,86.0\" style=\"fill:none;fill-rule:evenodd;stroke:#0000FF;stroke-width:2.0px;stroke-linecap:butt;stroke-linejoin:miter;stroke-opacity:1\"/>\n",
       "<path class=\"bond-29 atom-9 atom-5\" d=\"M 248.2,86.0 L 246.1,74.5\" style=\"fill:none;fill-rule:evenodd;stroke:#000000;stroke-width:2.0px;stroke-linecap:butt;stroke-linejoin:miter;stroke-opacity:1\"/>\n",
       "<path class=\"bond-30 atom-28 atom-17\" d=\"M 347.0,98.6 L 325.8,73.4\" style=\"fill:none;fill-rule:evenodd;stroke:#000000;stroke-width:2.0px;stroke-linecap:butt;stroke-linejoin:miter;stroke-opacity:1\"/>\n",
       "<path class=\"bond-31 atom-27 atom-21\" d=\"M 379.5,92.9 L 390.7,61.9\" style=\"fill:none;fill-rule:evenodd;stroke:#000000;stroke-width:2.0px;stroke-linecap:butt;stroke-linejoin:miter;stroke-opacity:1\"/>\n",
       "<path d=\"M 171.9,21.9 L 172.6,20.4 L 173.3,20.5\" style=\"fill:none;stroke:#000000;stroke-width:2.0px;stroke-linecap:butt;stroke-linejoin:miter;stroke-opacity:1;\"/>\n",
       "<path d=\"M 158.9,48.5 L 158.2,50.0 L 159.4,51.2\" style=\"fill:none;stroke:#000000;stroke-width:2.0px;stroke-linecap:butt;stroke-linejoin:miter;stroke-opacity:1;\"/>\n",
       "<path d=\"M 180.7,71.7 L 181.9,72.9 L 183.4,72.1\" style=\"fill:none;stroke:#000000;stroke-width:2.0px;stroke-linecap:butt;stroke-linejoin:miter;stroke-opacity:1;\"/>\n",
       "<path d=\"M 268.2,57.1 L 269.7,56.3 L 270.9,57.4\" style=\"fill:none;stroke:#000000;stroke-width:2.0px;stroke-linecap:butt;stroke-linejoin:miter;stroke-opacity:1;\"/>\n",
       "<path d=\"M 294.2,137.3 L 294.5,137.9 L 293.6,139.3\" style=\"fill:none;stroke:#000000;stroke-width:2.0px;stroke-linecap:butt;stroke-linejoin:miter;stroke-opacity:1;\"/>\n",
       "<path d=\"M 277.9,164.4 L 277.1,165.8 L 277.8,167.3\" style=\"fill:none;stroke:#000000;stroke-width:2.0px;stroke-linecap:butt;stroke-linejoin:miter;stroke-opacity:1;\"/>\n",
       "<path d=\"M 291.8,193.4 L 292.6,194.9 L 291.7,196.3\" style=\"fill:none;stroke:#000000;stroke-width:2.0px;stroke-linecap:butt;stroke-linejoin:miter;stroke-opacity:1;\"/>\n",
       "<path d=\"M 276.0,221.4 L 275.1,222.8 L 275.4,223.4\" style=\"fill:none;stroke:#000000;stroke-width:2.0px;stroke-linecap:butt;stroke-linejoin:miter;stroke-opacity:1;\"/>\n",
       "<path d=\"M 421.5,56.4 L 423.2,56.2 L 424.2,57.4\" style=\"fill:none;stroke:#000000;stroke-width:2.0px;stroke-linecap:butt;stroke-linejoin:miter;stroke-opacity:1;\"/>\n",
       "<path d=\"M 433.7,110.8 L 433.1,112.3 L 431.5,112.6\" style=\"fill:none;stroke:#000000;stroke-width:2.0px;stroke-linecap:butt;stroke-linejoin:miter;stroke-opacity:1;\"/>\n",
       "<path d=\"M 402.3,117.8 L 400.7,118.1 L 399.6,116.8\" style=\"fill:none;stroke:#000000;stroke-width:2.0px;stroke-linecap:butt;stroke-linejoin:miter;stroke-opacity:1;\"/>\n",
       "<path d=\"M 348.7,98.3 L 347.0,98.6 L 346.0,97.4\" style=\"fill:none;stroke:#000000;stroke-width:2.0px;stroke-linecap:butt;stroke-linejoin:miter;stroke-opacity:1;\"/>\n",
       "<path class=\"atom-4\" d=\"M 201.0 25.0 Q 201.0 22.7, 202.1 21.5 Q 203.2 20.2, 205.2 20.2 Q 207.3 20.2, 208.4 21.5 Q 209.5 22.7, 209.5 25.0 Q 209.5 27.2, 208.4 28.5 Q 207.3 29.8, 205.2 29.8 Q 203.2 29.8, 202.1 28.5 Q 201.0 27.2, 201.0 25.0 M 205.2 28.8 Q 206.7 28.8, 207.4 27.8 Q 208.2 26.8, 208.2 25.0 Q 208.2 23.1, 207.4 22.2 Q 206.7 21.3, 205.2 21.3 Q 203.8 21.3, 203.0 22.2 Q 202.3 23.1, 202.3 25.0 Q 202.3 26.9, 203.0 27.8 Q 203.8 28.8, 205.2 28.8 \" fill=\"#FF0000\"/>\n",
       "<path class=\"atom-8\" d=\"M 276.9 104.1 L 280.0 109.1 Q 280.3 109.5, 280.8 110.4 Q 281.3 111.3, 281.3 111.4 L 281.3 104.1 L 282.5 104.1 L 282.5 113.5 L 281.3 113.5 L 278.0 108.0 Q 277.6 107.4, 277.2 106.7 Q 276.8 106.0, 276.7 105.7 L 276.7 113.5 L 275.5 113.5 L 275.5 104.1 L 276.9 104.1 \" fill=\"#0000FF\"/>\n",
       "<path class=\"atom-9\" d=\"M 244.3 99.6 L 247.4 104.5 Q 247.7 105.0, 248.2 105.9 Q 248.6 106.8, 248.7 106.8 L 248.7 99.6 L 249.9 99.6 L 249.9 108.9 L 248.6 108.9 L 245.3 103.5 Q 245.0 102.9, 244.6 102.1 Q 244.2 101.4, 244.0 101.2 L 244.0 108.9 L 242.8 108.9 L 242.8 99.6 L 244.3 99.6 \" fill=\"#0000FF\"/>\n",
       "<path class=\"atom-11\" d=\"M 323.1 139.0 Q 323.1 136.8, 324.2 135.5 Q 325.3 134.3, 327.4 134.3 Q 329.5 134.3, 330.6 135.5 Q 331.7 136.8, 331.7 139.0 Q 331.7 141.3, 330.6 142.6 Q 329.5 143.8, 327.4 143.8 Q 325.4 143.8, 324.2 142.6 Q 323.1 141.3, 323.1 139.0 M 327.4 142.8 Q 328.8 142.8, 329.6 141.8 Q 330.4 140.9, 330.4 139.0 Q 330.4 137.2, 329.6 136.2 Q 328.8 135.3, 327.4 135.3 Q 326.0 135.3, 325.2 136.2 Q 324.4 137.2, 324.4 139.0 Q 324.4 140.9, 325.2 141.8 Q 326.0 142.8, 327.4 142.8 \" fill=\"#FF0000\"/>\n",
       "<path class=\"atom-15\" d=\"M 237.9 221.7 Q 237.9 219.5, 239.0 218.3 Q 240.1 217.0, 242.2 217.0 Q 244.3 217.0, 245.4 218.3 Q 246.5 219.5, 246.5 221.7 Q 246.5 224.0, 245.4 225.3 Q 244.2 226.6, 242.2 226.6 Q 240.1 226.6, 239.0 225.3 Q 237.9 224.0, 237.9 221.7 M 242.2 225.5 Q 243.6 225.5, 244.4 224.6 Q 245.2 223.6, 245.2 221.7 Q 245.2 219.9, 244.4 219.0 Q 243.6 218.1, 242.2 218.1 Q 240.8 218.1, 240.0 219.0 Q 239.2 219.9, 239.2 221.7 Q 239.2 223.6, 240.0 224.6 Q 240.8 225.5, 242.2 225.5 \" fill=\"#FF0000\"/>\n",
       "<path class=\"atom-16\" d=\"M 286.3 251.9 Q 286.3 249.7, 287.4 248.4 Q 288.5 247.2, 290.6 247.2 Q 292.7 247.2, 293.8 248.4 Q 294.9 249.7, 294.9 251.9 Q 294.9 254.2, 293.8 255.5 Q 292.7 256.8, 290.6 256.8 Q 288.6 256.8, 287.4 255.5 Q 286.3 254.2, 286.3 251.9 M 290.6 255.7 Q 292.0 255.7, 292.8 254.8 Q 293.6 253.8, 293.6 251.9 Q 293.6 250.1, 292.8 249.2 Q 292.0 248.2, 290.6 248.2 Q 289.2 248.2, 288.4 249.2 Q 287.7 250.1, 287.7 251.9 Q 287.7 253.8, 288.4 254.8 Q 289.2 255.7, 290.6 255.7 \" fill=\"#FF0000\"/>\n",
       "<path class=\"atom-16\" d=\"M 296.4 247.3 L 297.6 247.3 L 297.6 251.3 L 302.4 251.3 L 302.4 247.3 L 303.7 247.3 L 303.7 256.6 L 302.4 256.6 L 302.4 252.3 L 297.6 252.3 L 297.6 256.6 L 296.4 256.6 L 296.4 247.3 \" fill=\"#FF0000\"/>\n",
       "<path class=\"atom-19\" d=\"M 307.1 17.6 Q 307.1 15.2, 308.2 14.0 Q 309.3 12.8, 311.4 12.8 Q 313.3 12.8, 314.3 14.2 L 313.5 14.9 Q 312.7 13.9, 311.4 13.9 Q 310.0 13.9, 309.2 14.8 Q 308.5 15.8, 308.5 17.6 Q 308.5 19.4, 309.2 20.3 Q 310.0 21.3, 311.5 21.3 Q 312.6 21.3, 313.8 20.7 L 314.1 21.7 Q 313.6 22.0, 312.9 22.2 Q 312.2 22.3, 311.3 22.3 Q 309.3 22.3, 308.2 21.1 Q 307.1 19.9, 307.1 17.6 \" fill=\"#00CC00\"/>\n",
       "<path class=\"atom-19\" d=\"M 315.3 12.2 L 316.5 12.2 L 316.5 22.2 L 315.3 22.2 L 315.3 12.2 \" fill=\"#00CC00\"/>\n",
       "<path class=\"atom-20\" d=\"M 367.5 32.0 L 370.5 37.0 Q 370.8 37.5, 371.3 38.3 Q 371.8 39.2, 371.8 39.3 L 371.8 32.0 L 373.1 32.0 L 373.1 41.4 L 371.8 41.4 L 368.5 36.0 Q 368.1 35.3, 367.7 34.6 Q 367.3 33.9, 367.2 33.6 L 367.2 41.4 L 366.0 41.4 L 366.0 32.0 L 367.5 32.0 \" fill=\"#0000FF\"/>\n",
       "<path class=\"legend\" d=\"M 296.4 263.5 L 298.0 263.5 L 298.0 268.3 L 303.8 268.3 L 303.8 263.5 L 305.3 263.5 L 305.3 274.9 L 303.8 274.9 L 303.8 269.6 L 298.0 269.6 L 298.0 274.9 L 296.4 274.9 L 296.4 263.5 \" fill=\"#000000\"/>\n",
       "<path class=\"legend\" d=\"M 307.2 263.5 L 308.6 263.5 L 308.6 264.9 L 307.2 264.9 L 307.2 263.5 M 307.2 266.6 L 308.6 266.6 L 308.6 274.9 L 307.2 274.9 L 307.2 266.6 \" fill=\"#000000\"/>\n",
       "<path class=\"legend\" d=\"M 310.5 267.8 L 310.5 266.6 L 312.1 266.6 L 312.3 264.2 L 313.4 264.2 L 313.4 266.6 L 316.0 266.6 L 316.0 267.8 L 313.4 267.8 L 313.4 272.3 Q 313.4 273.8, 314.6 273.8 Q 315.1 273.8, 315.8 273.5 L 316.1 274.6 Q 315.2 275.0, 314.4 275.0 Q 313.3 275.0, 312.6 274.3 Q 311.9 273.7, 311.9 272.4 L 311.9 267.8 L 310.5 267.8 \" fill=\"#000000\"/>\n",
       "<path class=\"legend\" d=\"\" fill=\"#000000\"/>\n",
       "<path class=\"legend\" d=\"M 323.4 273.6 L 325.9 273.6 L 325.9 265.1 L 323.2 266.0 L 322.8 265.0 L 326.3 263.5 L 327.4 263.7 L 327.4 273.6 L 329.6 273.6 L 329.6 274.9 L 323.4 274.9 L 323.4 273.6 \" fill=\"#000000\"/>\n",
       "<path class=\"legend\" d=\"M 330.8 272.6 Q 330.8 271.3, 331.8 270.6 Q 332.9 269.9, 334.8 269.9 L 336.1 269.9 L 336.1 269.6 Q 336.1 268.5, 335.6 268.1 Q 335.2 267.7, 334.2 267.7 Q 333.5 267.7, 333.0 267.8 Q 332.5 267.9, 331.7 268.3 L 331.3 267.2 Q 332.8 266.5, 334.2 266.5 Q 336.0 266.5, 336.8 267.2 Q 337.6 268.0, 337.6 269.6 L 337.6 274.9 L 336.4 274.9 Q 336.4 274.8, 336.3 274.6 Q 336.3 274.3, 336.2 273.9 Q 335.0 275.1, 333.5 275.1 Q 332.3 275.1, 331.5 274.4 Q 330.8 273.7, 330.8 272.6 M 332.3 272.6 Q 332.3 273.2, 332.7 273.5 Q 333.1 273.9, 333.8 273.9 Q 334.4 273.9, 335.0 273.6 Q 335.6 273.3, 336.1 272.8 L 336.1 271.0 L 334.9 271.0 Q 333.6 271.0, 333.0 271.4 Q 332.3 271.8, 332.3 272.6 \" fill=\"#000000\"/>\n",
       "<path class=\"legend\" d=\"M 256.3 275.2 Q 258.2 275.2, 259.2 276.1 Q 260.2 276.9, 260.2 278.5 Q 260.2 280.1, 259.2 281.0 Q 258.2 281.8, 256.3 281.8 L 254.5 281.8 L 254.5 286.5 L 252.9 286.5 L 252.9 275.2 L 256.3 275.2 M 256.3 280.6 Q 257.4 280.6, 258.0 280.0 Q 258.6 279.5, 258.6 278.5 Q 258.6 277.5, 258.0 277.0 Q 257.4 276.5, 256.3 276.5 L 254.5 276.5 L 254.5 280.6 L 256.3 280.6 \" fill=\"#000000\"/>\n",
       "<path class=\"legend\" d=\"M 261.5 277.3 Q 261.9 276.2, 262.9 275.7 Q 263.9 275.0, 265.3 275.0 Q 267.0 275.0, 268.0 276.0 Q 268.9 276.9, 268.9 278.6 Q 268.9 280.2, 267.7 281.8 Q 266.5 283.4, 263.9 285.2 L 269.1 285.2 L 269.1 286.5 L 261.5 286.5 L 261.5 285.4 Q 263.6 283.9, 264.9 282.8 Q 266.1 281.7, 266.7 280.7 Q 267.3 279.7, 267.3 278.6 Q 267.3 277.5, 266.8 276.9 Q 266.3 276.3, 265.3 276.3 Q 264.4 276.3, 263.8 276.7 Q 263.2 277.1, 262.7 277.9 L 261.5 277.3 \" fill=\"#000000\"/>\n",
       "<path class=\"legend\" d=\"M 274.4 281.7 L 270.7 275.2 L 272.4 275.2 L 275.2 280.2 L 278.0 275.2 L 279.7 275.2 L 275.9 281.7 L 275.9 286.5 L 274.4 286.5 L 274.4 281.7 \" fill=\"#000000\"/>\n",
       "<path class=\"legend\" d=\"M 284.7 279.4 Q 285.7 279.4, 286.5 279.9 Q 287.3 280.3, 287.7 281.1 Q 288.2 281.9, 288.2 282.9 Q 288.2 284.0, 287.7 284.8 Q 287.2 285.7, 286.3 286.2 Q 285.5 286.6, 284.4 286.6 Q 282.3 286.6, 281.3 285.3 Q 280.3 283.9, 280.3 281.2 Q 280.3 278.2, 281.6 276.6 Q 282.8 275.0, 285.2 275.0 Q 285.9 275.0, 286.5 275.2 Q 287.1 275.4, 287.7 275.7 L 287.1 276.8 Q 286.3 276.3, 285.3 276.3 Q 283.7 276.3, 282.8 277.4 Q 282.0 278.4, 281.9 280.5 Q 282.5 280.0, 283.2 279.7 Q 284.0 279.4, 284.7 279.4 M 284.4 285.3 Q 285.0 285.3, 285.5 285.0 Q 286.0 284.7, 286.3 284.1 Q 286.6 283.6, 286.6 282.9 Q 286.6 281.9, 286.0 281.3 Q 285.4 280.7, 284.5 280.7 Q 283.8 280.7, 283.1 281.0 Q 282.4 281.3, 281.9 281.8 Q 282.0 283.6, 282.6 284.5 Q 283.2 285.3, 284.4 285.3 \" fill=\"#000000\"/>\n",
       "<path class=\"legend\" d=\"M 295.7 286.5 L 293.0 281.8 L 293.0 281.8 L 291.2 281.8 L 291.2 286.5 L 289.6 286.5 L 289.6 275.2 L 293.0 275.2 Q 294.9 275.2, 295.9 276.1 Q 296.9 276.9, 296.9 278.5 Q 296.9 279.7, 296.3 280.5 Q 295.7 281.3, 294.6 281.6 L 297.4 286.5 L 295.7 286.5 M 291.2 280.6 L 293.0 280.6 Q 294.1 280.6, 294.7 280.0 Q 295.3 279.5, 295.3 278.5 Q 295.3 277.5, 294.7 277.0 Q 294.1 276.5, 293.0 276.5 L 291.2 276.5 L 291.2 280.6 \" fill=\"#000000\"/>\n",
       "<path class=\"legend\" d=\"\" fill=\"#000000\"/>\n",
       "<path class=\"legend\" d=\"M 304.3 284.6 L 305.9 284.6 L 305.9 286.2 L 304.3 286.2 L 304.3 284.6 M 304.3 279.1 L 305.9 279.1 L 305.9 280.7 L 304.3 280.7 L 304.3 279.1 \" fill=\"#000000\"/>\n",
       "<path class=\"legend\" d=\"\" fill=\"#000000\"/>\n",
       "<path class=\"legend\" d=\"M 317.8 286.6 Q 315.7 286.6, 314.6 285.1 Q 313.6 283.6, 313.6 280.8 Q 313.6 278.1, 314.6 276.6 Q 315.7 275.0, 317.8 275.0 Q 319.8 275.0, 320.9 276.6 Q 321.9 278.1, 321.9 280.8 Q 321.9 283.6, 320.9 285.1 Q 319.8 286.6, 317.8 286.6 M 317.8 285.4 Q 319.0 285.4, 319.6 284.2 Q 320.3 283.1, 320.3 280.8 Q 320.3 278.6, 319.6 277.5 Q 319.0 276.3, 317.8 276.3 Q 316.5 276.3, 315.9 277.5 Q 315.2 278.6, 315.2 280.8 Q 315.2 283.1, 315.9 284.2 Q 316.5 285.4, 317.8 285.4 \" fill=\"#000000\"/>\n",
       "<path class=\"legend\" d=\"M 323.5 284.9 L 325.1 284.9 L 325.1 286.5 L 323.5 286.5 L 323.5 284.9 \" fill=\"#000000\"/>\n",
       "<path class=\"legend\" d=\"M 327.4 285.2 L 329.8 285.2 L 329.8 276.8 L 327.1 277.6 L 326.7 276.7 L 330.2 275.1 L 331.3 275.3 L 331.3 285.2 L 333.6 285.2 L 333.6 286.5 L 327.4 286.5 L 327.4 285.2 \" fill=\"#000000\"/>\n",
       "<path class=\"legend\" d=\"M 334.9 277.3 Q 335.3 276.2, 336.3 275.7 Q 337.3 275.0, 338.6 275.0 Q 340.3 275.0, 341.3 276.0 Q 342.3 276.9, 342.3 278.6 Q 342.3 280.2, 341.0 281.8 Q 339.8 283.4, 337.2 285.2 L 342.5 285.2 L 342.5 286.5 L 334.8 286.5 L 334.8 285.4 Q 336.9 283.9, 338.2 282.8 Q 339.5 281.7, 340.1 280.7 Q 340.7 279.7, 340.7 278.6 Q 340.7 277.5, 340.1 276.9 Q 339.6 276.3, 338.6 276.3 Q 337.7 276.3, 337.1 276.7 Q 336.5 277.1, 336.1 277.9 L 334.9 277.3 \" fill=\"#000000\"/>\n",
       "<path class=\"legend\" d=\"M 348.4 279.4 Q 349.4 279.4, 350.2 279.9 Q 351.0 280.3, 351.4 281.1 Q 351.9 281.9, 351.9 282.9 Q 351.9 284.0, 351.4 284.8 Q 350.9 285.7, 350.0 286.2 Q 349.2 286.6, 348.1 286.6 Q 346.0 286.6, 345.0 285.3 Q 344.0 283.9, 344.0 281.2 Q 344.0 278.2, 345.3 276.6 Q 346.5 275.0, 348.9 275.0 Q 349.6 275.0, 350.2 275.2 Q 350.8 275.4, 351.4 275.7 L 350.8 276.8 Q 350.0 276.3, 348.9 276.3 Q 347.3 276.3, 346.5 277.4 Q 345.7 278.4, 345.6 280.5 Q 346.2 280.0, 346.9 279.7 Q 347.7 279.4, 348.4 279.4 M 348.1 285.3 Q 348.7 285.3, 349.2 285.0 Q 349.7 284.7, 350.0 284.1 Q 350.3 283.6, 350.3 282.9 Q 350.3 281.9, 349.7 281.3 Q 349.1 280.7, 348.1 280.7 Q 347.5 280.7, 346.8 281.0 Q 346.1 281.3, 345.6 281.8 Q 345.7 283.6, 346.3 284.5 Q 346.9 285.3, 348.1 285.3 \" fill=\"#000000\"/>\n",
       "<path class=\"legend\" d=\"\" fill=\"#000000\"/>\n",
       "<path class=\"legend\" d=\"M 366.2 278.3 L 366.2 286.5 L 365.0 286.5 L 364.8 285.4 Q 363.7 286.6, 362.0 286.6 Q 360.6 286.6, 359.9 285.9 Q 359.2 285.2, 359.2 283.7 L 359.2 278.3 L 360.7 278.3 L 360.7 283.6 Q 360.7 284.6, 361.1 285.0 Q 361.5 285.5, 362.3 285.5 Q 363.1 285.5, 363.7 285.1 Q 364.3 284.8, 364.7 284.2 L 364.7 278.3 L 366.2 278.3 \" fill=\"#000000\"/>\n",
       "<path class=\"legend\" d=\"M 381.1 286.5 L 379.6 286.5 L 378.4 277.2 L 375.4 286.5 L 373.8 286.5 L 370.8 277.2 L 369.6 286.5 L 368.1 286.5 L 369.6 275.2 L 371.5 275.2 L 374.6 284.3 L 377.7 275.2 L 379.6 275.2 L 381.1 286.5 \" fill=\"#000000\"/>\n",
       "<path class=\"bond-0 atom-0 atom-1\" d=\"M 30.7,410.8 L 13.8,439.0\" style=\"fill:none;fill-rule:evenodd;stroke:#000000;stroke-width:2.0px;stroke-linecap:butt;stroke-linejoin:miter;stroke-opacity:1\"/>\n",
       "<path class=\"bond-0 atom-0 atom-1\" d=\"M 33.1,416.4 L 19.9,438.5\" style=\"fill:none;fill-rule:evenodd;stroke:#000000;stroke-width:2.0px;stroke-linecap:butt;stroke-linejoin:miter;stroke-opacity:1\"/>\n",
       "<path class=\"bond-1 atom-1 atom-2\" d=\"M 13.8,439.0 L 35.4,463.9\" style=\"fill:none;fill-rule:evenodd;stroke:#000000;stroke-width:2.0px;stroke-linecap:butt;stroke-linejoin:miter;stroke-opacity:1\"/>\n",
       "<path class=\"bond-2 atom-2 atom-3\" d=\"M 35.4,463.9 L 65.7,451.0\" style=\"fill:none;fill-rule:evenodd;stroke:#000000;stroke-width:2.0px;stroke-linecap:butt;stroke-linejoin:miter;stroke-opacity:1\"/>\n",
       "<path class=\"bond-2 atom-2 atom-3\" d=\"M 36.8,457.9 L 60.4,447.9\" style=\"fill:none;fill-rule:evenodd;stroke:#000000;stroke-width:2.0px;stroke-linecap:butt;stroke-linejoin:miter;stroke-opacity:1\"/>\n",
       "<path class=\"bond-3 atom-3 atom-4\" d=\"M 65.7,451.0 L 64.5,437.6\" style=\"fill:none;fill-rule:evenodd;stroke:#000000;stroke-width:2.0px;stroke-linecap:butt;stroke-linejoin:miter;stroke-opacity:1\"/>\n",
       "<path class=\"bond-3 atom-3 atom-4\" d=\"M 64.5,437.6 L 63.3,424.2\" style=\"fill:none;fill-rule:evenodd;stroke:#FF0000;stroke-width:2.0px;stroke-linecap:butt;stroke-linejoin:miter;stroke-opacity:1\"/>\n",
       "<path class=\"bond-4 atom-3 atom-5\" d=\"M 65.7,451.0 L 93.9,468.0\" style=\"fill:none;fill-rule:evenodd;stroke:#000000;stroke-width:2.0px;stroke-linecap:butt;stroke-linejoin:miter;stroke-opacity:1\"/>\n",
       "<path class=\"bond-5 atom-5 atom-6\" d=\"M 93.9,468.0 L 124.2,455.1\" style=\"fill:none;fill-rule:evenodd;stroke:#000000;stroke-width:2.0px;stroke-linecap:butt;stroke-linejoin:miter;stroke-opacity:1\"/>\n",
       "<path class=\"bond-5 atom-5 atom-6\" d=\"M 99.1,471.1 L 122.8,461.1\" style=\"fill:none;fill-rule:evenodd;stroke:#000000;stroke-width:2.0px;stroke-linecap:butt;stroke-linejoin:miter;stroke-opacity:1\"/>\n",
       "<path class=\"bond-6 atom-6 atom-7\" d=\"M 124.2,455.1 L 145.8,480.0\" style=\"fill:none;fill-rule:evenodd;stroke:#000000;stroke-width:2.0px;stroke-linecap:butt;stroke-linejoin:miter;stroke-opacity:1\"/>\n",
       "<path class=\"bond-7 atom-7 atom-8\" d=\"M 145.8,480.0 L 139.0,491.2\" style=\"fill:none;fill-rule:evenodd;stroke:#000000;stroke-width:2.0px;stroke-linecap:butt;stroke-linejoin:miter;stroke-opacity:1\"/>\n",
       "<path class=\"bond-7 atom-7 atom-8\" d=\"M 139.0,491.2 L 132.3,502.4\" style=\"fill:none;fill-rule:evenodd;stroke:#0000FF;stroke-width:2.0px;stroke-linecap:butt;stroke-linejoin:miter;stroke-opacity:1\"/>\n",
       "<path class=\"bond-7 atom-7 atom-8\" d=\"M 139.7,480.5 L 133.9,490.2\" style=\"fill:none;fill-rule:evenodd;stroke:#000000;stroke-width:2.0px;stroke-linecap:butt;stroke-linejoin:miter;stroke-opacity:1\"/>\n",
       "<path class=\"bond-7 atom-7 atom-8\" d=\"M 133.9,490.2 L 128.0,499.9\" style=\"fill:none;fill-rule:evenodd;stroke:#0000FF;stroke-width:2.0px;stroke-linecap:butt;stroke-linejoin:miter;stroke-opacity:1\"/>\n",
       "<path class=\"bond-8 atom-8 atom-9\" d=\"M 124.2,507.1 L 101.4,501.8\" style=\"fill:none;fill-rule:evenodd;stroke:#0000FF;stroke-width:2.0px;stroke-linecap:butt;stroke-linejoin:miter;stroke-opacity:1\"/>\n",
       "<path class=\"bond-9 atom-9 atom-10\" d=\"M 92.1,504.8 L 82.0,513.6\" style=\"fill:none;fill-rule:evenodd;stroke:#0000FF;stroke-width:2.0px;stroke-linecap:butt;stroke-linejoin:miter;stroke-opacity:1\"/>\n",
       "<path class=\"bond-9 atom-9 atom-10\" d=\"M 82.0,513.6 L 71.9,522.3\" style=\"fill:none;fill-rule:evenodd;stroke:#000000;stroke-width:2.0px;stroke-linecap:butt;stroke-linejoin:miter;stroke-opacity:1\"/>\n",
       "<path class=\"bond-10 atom-10 atom-11\" d=\"M 71.9,522.3 L 93.5,547.2\" style=\"fill:none;fill-rule:evenodd;stroke:#000000;stroke-width:2.0px;stroke-linecap:butt;stroke-linejoin:miter;stroke-opacity:1\"/>\n",
       "<path class=\"bond-11 atom-10 atom-12\" d=\"M 71.9,522.3 L 50.3,497.5\" style=\"fill:none;fill-rule:evenodd;stroke:#000000;stroke-width:2.0px;stroke-linecap:butt;stroke-linejoin:miter;stroke-opacity:1\"/>\n",
       "<path class=\"bond-12 atom-10 atom-13\" d=\"M 71.9,522.3 L 47.1,543.9\" style=\"fill:none;fill-rule:evenodd;stroke:#000000;stroke-width:2.0px;stroke-linecap:butt;stroke-linejoin:miter;stroke-opacity:1\"/>\n",
       "<path class=\"bond-13 atom-7 atom-14\" d=\"M 145.8,480.0 L 178.5,477.1\" style=\"fill:none;fill-rule:evenodd;stroke:#000000;stroke-width:2.0px;stroke-linecap:butt;stroke-linejoin:miter;stroke-opacity:1\"/>\n",
       "<path class=\"bond-14 atom-14 atom-15\" d=\"M 178.5,477.1 L 186.8,486.6\" style=\"fill:none;fill-rule:evenodd;stroke:#000000;stroke-width:2.0px;stroke-linecap:butt;stroke-linejoin:miter;stroke-opacity:1\"/>\n",
       "<path class=\"bond-14 atom-14 atom-15\" d=\"M 186.8,486.6 L 195.1,496.1\" style=\"fill:none;fill-rule:evenodd;stroke:#FF0000;stroke-width:2.0px;stroke-linecap:butt;stroke-linejoin:miter;stroke-opacity:1\"/>\n",
       "<path class=\"bond-15 atom-15 atom-16\" d=\"M 205.5,499.7 L 218.0,494.4\" style=\"fill:none;fill-rule:evenodd;stroke:#FF0000;stroke-width:2.0px;stroke-linecap:butt;stroke-linejoin:miter;stroke-opacity:1\"/>\n",
       "<path class=\"bond-15 atom-15 atom-16\" d=\"M 218.0,494.4 L 230.4,489.1\" style=\"fill:none;fill-rule:evenodd;stroke:#000000;stroke-width:2.0px;stroke-linecap:butt;stroke-linejoin:miter;stroke-opacity:1\"/>\n",
       "<path class=\"bond-16 atom-16 atom-17\" d=\"M 230.4,489.1 L 260.2,503.0\" style=\"fill:none;fill-rule:evenodd;stroke:#000000;stroke-width:2.0px;stroke-linecap:butt;stroke-linejoin:miter;stroke-opacity:1\"/>\n",
       "<path class=\"bond-16 atom-16 atom-17\" d=\"M 235.1,485.8 L 259.8,497.3\" style=\"fill:none;fill-rule:evenodd;stroke:#000000;stroke-width:2.0px;stroke-linecap:butt;stroke-linejoin:miter;stroke-opacity:1\"/>\n",
       "<path class=\"bond-17 atom-17 atom-18\" d=\"M 260.2,503.0 L 287.2,484.1\" style=\"fill:none;fill-rule:evenodd;stroke:#000000;stroke-width:2.0px;stroke-linecap:butt;stroke-linejoin:miter;stroke-opacity:1\"/>\n",
       "<path class=\"bond-18 atom-18 atom-19\" d=\"M 287.2,484.1 L 284.3,451.4\" style=\"fill:none;fill-rule:evenodd;stroke:#000000;stroke-width:2.0px;stroke-linecap:butt;stroke-linejoin:miter;stroke-opacity:1\"/>\n",
       "<path class=\"bond-18 atom-18 atom-19\" d=\"M 282.0,481.7 L 279.7,454.6\" style=\"fill:none;fill-rule:evenodd;stroke:#000000;stroke-width:2.0px;stroke-linecap:butt;stroke-linejoin:miter;stroke-opacity:1\"/>\n",
       "<path class=\"bond-19 atom-19 atom-20\" d=\"M 284.3,451.4 L 254.5,437.4\" style=\"fill:none;fill-rule:evenodd;stroke:#000000;stroke-width:2.0px;stroke-linecap:butt;stroke-linejoin:miter;stroke-opacity:1\"/>\n",
       "<path class=\"bond-20 atom-20 atom-21\" d=\"M 254.5,437.4 L 227.6,456.3\" style=\"fill:none;fill-rule:evenodd;stroke:#000000;stroke-width:2.0px;stroke-linecap:butt;stroke-linejoin:miter;stroke-opacity:1\"/>\n",
       "<path class=\"bond-20 atom-20 atom-21\" d=\"M 255.0,443.1 L 232.7,458.7\" style=\"fill:none;fill-rule:evenodd;stroke:#000000;stroke-width:2.0px;stroke-linecap:butt;stroke-linejoin:miter;stroke-opacity:1\"/>\n",
       "<path class=\"bond-21 atom-21 atom-22\" d=\"M 227.6,456.3 L 213.8,453.1\" style=\"fill:none;fill-rule:evenodd;stroke:#000000;stroke-width:2.0px;stroke-linecap:butt;stroke-linejoin:miter;stroke-opacity:1\"/>\n",
       "<path class=\"bond-21 atom-21 atom-22\" d=\"M 213.8,453.1 L 200.1,450.0\" style=\"fill:none;fill-rule:evenodd;stroke:#0000FF;stroke-width:2.0px;stroke-linecap:butt;stroke-linejoin:miter;stroke-opacity:1\"/>\n",
       "<path class=\"bond-22 atom-4 atom-0\" d=\"M 57.4,417.0 L 44.1,413.9\" style=\"fill:none;fill-rule:evenodd;stroke:#FF0000;stroke-width:2.0px;stroke-linecap:butt;stroke-linejoin:miter;stroke-opacity:1\"/>\n",
       "<path class=\"bond-22 atom-4 atom-0\" d=\"M 44.1,413.9 L 30.7,410.8\" style=\"fill:none;fill-rule:evenodd;stroke:#000000;stroke-width:2.0px;stroke-linecap:butt;stroke-linejoin:miter;stroke-opacity:1\"/>\n",
       "<path class=\"bond-23 atom-9 atom-5\" d=\"M 96.2,495.0 L 95.1,481.5\" style=\"fill:none;fill-rule:evenodd;stroke:#0000FF;stroke-width:2.0px;stroke-linecap:butt;stroke-linejoin:miter;stroke-opacity:1\"/>\n",
       "<path class=\"bond-23 atom-9 atom-5\" d=\"M 95.1,481.5 L 93.9,468.0\" style=\"fill:none;fill-rule:evenodd;stroke:#000000;stroke-width:2.0px;stroke-linecap:butt;stroke-linejoin:miter;stroke-opacity:1\"/>\n",
       "<path class=\"bond-24 atom-22 atom-14\" d=\"M 192.0,454.6 L 185.3,465.9\" style=\"fill:none;fill-rule:evenodd;stroke:#0000FF;stroke-width:2.0px;stroke-linecap:butt;stroke-linejoin:miter;stroke-opacity:1\"/>\n",
       "<path class=\"bond-24 atom-22 atom-14\" d=\"M 185.3,465.9 L 178.5,477.1\" style=\"fill:none;fill-rule:evenodd;stroke:#000000;stroke-width:2.0px;stroke-linecap:butt;stroke-linejoin:miter;stroke-opacity:1\"/>\n",
       "<path class=\"bond-24 atom-22 atom-14\" d=\"M 196.3,457.2 L 190.4,466.9\" style=\"fill:none;fill-rule:evenodd;stroke:#0000FF;stroke-width:2.0px;stroke-linecap:butt;stroke-linejoin:miter;stroke-opacity:1\"/>\n",
       "<path class=\"bond-24 atom-22 atom-14\" d=\"M 190.4,466.9 L 184.6,476.6\" style=\"fill:none;fill-rule:evenodd;stroke:#000000;stroke-width:2.0px;stroke-linecap:butt;stroke-linejoin:miter;stroke-opacity:1\"/>\n",
       "<path class=\"bond-25 atom-21 atom-16\" d=\"M 227.6,456.3 L 230.4,489.1\" style=\"fill:none;fill-rule:evenodd;stroke:#000000;stroke-width:2.0px;stroke-linecap:butt;stroke-linejoin:miter;stroke-opacity:1\"/>\n",
       "<path d=\"M 29.9,412.2 L 30.7,410.8 L 31.4,411.0\" style=\"fill:none;stroke:#000000;stroke-width:2.0px;stroke-linecap:butt;stroke-linejoin:miter;stroke-opacity:1;\"/>\n",
       "<path d=\"M 14.6,437.6 L 13.8,439.0 L 14.9,440.3\" style=\"fill:none;stroke:#000000;stroke-width:2.0px;stroke-linecap:butt;stroke-linejoin:miter;stroke-opacity:1;\"/>\n",
       "<path d=\"M 34.3,462.6 L 35.4,463.9 L 36.9,463.2\" style=\"fill:none;stroke:#000000;stroke-width:2.0px;stroke-linecap:butt;stroke-linejoin:miter;stroke-opacity:1;\"/>\n",
       "<path d=\"M 122.7,455.8 L 124.2,455.1 L 125.3,456.4\" style=\"fill:none;stroke:#000000;stroke-width:2.0px;stroke-linecap:butt;stroke-linejoin:miter;stroke-opacity:1;\"/>\n",
       "<path d=\"M 258.8,502.3 L 260.2,503.0 L 261.6,502.1\" style=\"fill:none;stroke:#000000;stroke-width:2.0px;stroke-linecap:butt;stroke-linejoin:miter;stroke-opacity:1;\"/>\n",
       "<path d=\"M 285.9,485.1 L 287.2,484.1 L 287.1,482.5\" style=\"fill:none;stroke:#000000;stroke-width:2.0px;stroke-linecap:butt;stroke-linejoin:miter;stroke-opacity:1;\"/>\n",
       "<path d=\"M 284.5,453.0 L 284.3,451.4 L 282.9,450.7\" style=\"fill:none;stroke:#000000;stroke-width:2.0px;stroke-linecap:butt;stroke-linejoin:miter;stroke-opacity:1;\"/>\n",
       "<path d=\"M 256.0,438.1 L 254.5,437.4 L 253.2,438.4\" style=\"fill:none;stroke:#000000;stroke-width:2.0px;stroke-linecap:butt;stroke-linejoin:miter;stroke-opacity:1;\"/>\n",
       "<path class=\"atom-4\" d=\"M 58.5 418.3 Q 58.5 416.0, 59.6 414.8 Q 60.7 413.5, 62.8 413.5 Q 64.9 413.5, 66.0 414.8 Q 67.1 416.0, 67.1 418.3 Q 67.1 420.5, 66.0 421.8 Q 64.9 423.1, 62.8 423.1 Q 60.8 423.1, 59.6 421.8 Q 58.5 420.5, 58.5 418.3 M 62.8 422.0 Q 64.2 422.0, 65.0 421.1 Q 65.8 420.1, 65.8 418.3 Q 65.8 416.4, 65.0 415.5 Q 64.2 414.6, 62.8 414.6 Q 61.4 414.6, 60.6 415.5 Q 59.9 416.4, 59.9 418.3 Q 59.9 420.1, 60.6 421.1 Q 61.4 422.0, 62.8 422.0 \" fill=\"#FF0000\"/>\n",
       "<path class=\"atom-8\" d=\"M 126.7 503.5 L 129.8 508.4 Q 130.1 508.9, 130.6 509.8 Q 131.1 510.7, 131.1 510.7 L 131.1 503.5 L 132.3 503.5 L 132.3 512.8 L 131.1 512.8 L 127.8 507.4 Q 127.4 506.8, 127.0 506.1 Q 126.6 505.3, 126.5 505.1 L 126.5 512.8 L 125.3 512.8 L 125.3 503.5 L 126.7 503.5 \" fill=\"#0000FF\"/>\n",
       "<path class=\"atom-9\" d=\"M 94.7 496.1 L 97.7 501.0 Q 98.0 501.5, 98.5 502.4 Q 99.0 503.3, 99.0 503.3 L 99.0 496.1 L 100.3 496.1 L 100.3 505.4 L 99.0 505.4 L 95.7 500.0 Q 95.3 499.4, 94.9 498.7 Q 94.5 497.9, 94.4 497.7 L 94.4 505.4 L 93.2 505.4 L 93.2 496.1 L 94.7 496.1 \" fill=\"#0000FF\"/>\n",
       "<path class=\"atom-15\" d=\"M 195.8 502.0 Q 195.8 499.7, 197.0 498.5 Q 198.1 497.2, 200.1 497.2 Q 202.2 497.2, 203.3 498.5 Q 204.4 499.7, 204.4 502.0 Q 204.4 504.2, 203.3 505.5 Q 202.2 506.8, 200.1 506.8 Q 198.1 506.8, 197.0 505.5 Q 195.8 504.2, 195.8 502.0 M 200.1 505.7 Q 201.5 505.7, 202.3 504.8 Q 203.1 503.8, 203.1 502.0 Q 203.1 500.1, 202.3 499.2 Q 201.5 498.3, 200.1 498.3 Q 198.7 498.3, 197.9 499.2 Q 197.2 500.1, 197.2 502.0 Q 197.2 503.9, 197.9 504.8 Q 198.7 505.7, 200.1 505.7 \" fill=\"#FF0000\"/>\n",
       "<path class=\"atom-22\" d=\"M 193.4 444.2 L 196.5 449.2 Q 196.8 449.7, 197.3 450.5 Q 197.8 451.4, 197.8 451.5 L 197.8 444.2 L 199.0 444.2 L 199.0 453.6 L 197.8 453.6 L 194.5 448.2 Q 194.1 447.5, 193.7 446.8 Q 193.3 446.1, 193.2 445.9 L 193.2 453.6 L 192.0 453.6 L 192.0 444.2 L 193.4 444.2 \" fill=\"#0000FF\"/>\n",
       "<path class=\"legend\" d=\"M 142.6 561.6 L 145.1 561.6 L 145.1 553.1 L 142.3 554.0 L 142.0 553.0 L 145.4 551.5 L 146.6 551.7 L 146.6 561.6 L 148.8 561.6 L 148.8 562.9 L 142.6 562.9 L 142.6 561.6 \" fill=\"#000000\"/>\n",
       "<path class=\"legend\" d=\"M 154.6 555.8 Q 155.6 555.8, 156.4 556.2 Q 157.2 556.7, 157.6 557.5 Q 158.0 558.2, 158.0 559.2 Q 158.0 560.3, 157.6 561.2 Q 157.1 562.0, 156.2 562.5 Q 155.3 563.0, 154.2 563.0 Q 152.2 563.0, 151.2 561.6 Q 150.2 560.3, 150.2 557.6 Q 150.2 554.5, 151.4 553.0 Q 152.7 551.4, 155.1 551.4 Q 155.8 551.4, 156.4 551.6 Q 157.0 551.7, 157.6 552.1 L 157.0 553.2 Q 156.1 552.7, 155.1 552.7 Q 153.5 552.7, 152.7 553.7 Q 151.9 554.8, 151.8 556.9 Q 152.4 556.4, 153.1 556.1 Q 153.8 555.8, 154.6 555.8 M 154.3 561.7 Q 154.9 561.7, 155.4 561.4 Q 155.9 561.1, 156.2 560.5 Q 156.4 559.9, 156.4 559.2 Q 156.4 558.2, 155.9 557.7 Q 155.3 557.1, 154.3 557.1 Q 153.6 557.1, 153.0 557.4 Q 152.3 557.6, 151.8 558.1 Q 151.9 560.0, 152.5 560.8 Q 153.1 561.7, 154.3 561.7 \" fill=\"#000000\"/>\n",
       "<path class=\"legend\" d=\"M 93.3 563.1 Q 95.2 563.1, 96.2 564.0 Q 97.2 564.9, 97.2 566.5 Q 97.2 568.0, 96.2 568.9 Q 95.2 569.8, 93.3 569.8 L 91.5 569.8 L 91.5 574.5 L 89.9 574.5 L 89.9 563.1 L 93.3 563.1 M 93.3 568.5 Q 94.4 568.5, 95.0 568.0 Q 95.6 567.5, 95.6 566.5 Q 95.6 565.5, 95.0 564.9 Q 94.4 564.4, 93.3 564.4 L 91.5 564.4 L 91.5 568.5 L 93.3 568.5 \" fill=\"#000000\"/>\n",
       "<path class=\"legend\" d=\"M 98.5 565.3 Q 98.9 564.2, 99.9 563.6 Q 100.9 563.0, 102.3 563.0 Q 104.0 563.0, 105.0 563.9 Q 105.9 564.9, 105.9 566.5 Q 105.9 568.2, 104.7 569.8 Q 103.5 571.3, 100.9 573.2 L 106.1 573.2 L 106.1 574.5 L 98.5 574.5 L 98.5 573.4 Q 100.6 571.9, 101.9 570.8 Q 103.1 569.6, 103.7 568.6 Q 104.3 567.6, 104.3 566.6 Q 104.3 565.5, 103.8 564.9 Q 103.2 564.3, 102.3 564.3 Q 101.4 564.3, 100.8 564.7 Q 100.2 565.0, 99.7 565.8 L 98.5 565.3 \" fill=\"#000000\"/>\n",
       "<path class=\"legend\" d=\"M 111.4 569.7 L 107.7 563.1 L 109.3 563.1 L 112.2 568.2 L 115.0 563.1 L 116.7 563.1 L 112.9 569.7 L 112.9 574.5 L 111.4 574.5 L 111.4 569.7 \" fill=\"#000000\"/>\n",
       "<path class=\"legend\" d=\"M 121.7 567.4 Q 122.7 567.4, 123.5 567.8 Q 124.3 568.3, 124.7 569.0 Q 125.2 569.8, 125.2 570.8 Q 125.2 571.9, 124.7 572.8 Q 124.2 573.6, 123.3 574.1 Q 122.5 574.6, 121.3 574.6 Q 119.3 574.6, 118.3 573.2 Q 117.3 571.9, 117.3 569.1 Q 117.3 566.1, 118.5 564.6 Q 119.8 563.0, 122.2 563.0 Q 122.9 563.0, 123.5 563.2 Q 124.1 563.3, 124.7 563.7 L 124.1 564.7 Q 123.3 564.3, 122.2 564.3 Q 120.6 564.3, 119.8 565.3 Q 119.0 566.4, 118.9 568.5 Q 119.5 568.0, 120.2 567.7 Q 120.9 567.4, 121.7 567.4 M 121.4 573.3 Q 122.0 573.3, 122.5 573.0 Q 123.0 572.6, 123.3 572.1 Q 123.6 571.5, 123.6 570.8 Q 123.6 569.8, 123.0 569.2 Q 122.4 568.7, 121.4 568.7 Q 120.8 568.7, 120.1 569.0 Q 119.4 569.2, 118.9 569.7 Q 119.0 571.6, 119.6 572.4 Q 120.2 573.3, 121.4 573.3 \" fill=\"#000000\"/>\n",
       "<path class=\"legend\" d=\"M 132.7 574.5 L 130.0 569.8 L 130.0 569.8 L 128.1 569.8 L 128.1 574.5 L 126.6 574.5 L 126.6 563.1 L 130.0 563.1 Q 131.9 563.1, 132.9 564.0 Q 133.8 564.9, 133.8 566.5 Q 133.8 567.7, 133.3 568.5 Q 132.7 569.3, 131.5 569.6 L 134.4 574.5 L 132.7 574.5 M 128.1 568.5 L 130.0 568.5 Q 131.1 568.5, 131.7 568.0 Q 132.2 567.5, 132.2 566.5 Q 132.2 565.5, 131.7 564.9 Q 131.1 564.4, 130.0 564.4 L 128.1 564.4 L 128.1 568.5 \" fill=\"#000000\"/>\n",
       "<path class=\"legend\" d=\"\" fill=\"#000000\"/>\n",
       "<path class=\"legend\" d=\"M 141.3 572.6 L 142.9 572.6 L 142.9 574.2 L 141.3 574.2 L 141.3 572.6 M 141.3 567.1 L 142.9 567.1 L 142.9 568.7 L 141.3 568.7 L 141.3 567.1 \" fill=\"#000000\"/>\n",
       "<path class=\"legend\" d=\"\" fill=\"#000000\"/>\n",
       "<path class=\"legend\" d=\"M 156.0 568.5 Q 157.1 568.8, 157.6 569.5 Q 158.2 570.2, 158.2 571.4 Q 158.2 572.3, 157.7 573.1 Q 157.2 573.8, 156.3 574.2 Q 155.5 574.6, 154.3 574.6 Q 153.1 574.6, 152.2 574.2 Q 151.3 573.8, 150.6 572.9 L 151.5 572.0 Q 152.2 572.8, 152.8 573.1 Q 153.4 573.3, 154.3 573.3 Q 155.3 573.3, 156.0 572.8 Q 156.6 572.2, 156.6 571.3 Q 156.6 570.2, 155.9 569.7 Q 155.3 569.2, 153.9 569.2 L 153.1 569.2 L 153.1 568.0 L 153.8 568.0 Q 155.0 568.0, 155.7 567.5 Q 156.3 566.9, 156.3 565.9 Q 156.3 565.2, 155.8 564.7 Q 155.3 564.3, 154.3 564.3 Q 153.4 564.3, 152.8 564.6 Q 152.2 565.0, 151.8 565.8 L 150.7 565.2 Q 151.1 564.3, 152.0 563.6 Q 153.0 563.0, 154.3 563.0 Q 156.0 563.0, 157.0 563.8 Q 157.9 564.6, 157.9 565.9 Q 157.9 566.8, 157.4 567.5 Q 156.9 568.1, 156.0 568.5 \" fill=\"#000000\"/>\n",
       "<path class=\"legend\" d=\"M 163.8 574.6 Q 161.8 574.6, 160.7 573.1 Q 159.7 571.5, 159.7 568.8 Q 159.7 566.0, 160.7 564.5 Q 161.7 563.0, 163.8 563.0 Q 165.9 563.0, 167.0 564.5 Q 168.0 566.0, 168.0 568.8 Q 168.0 571.5, 166.9 573.1 Q 165.9 574.6, 163.8 574.6 M 163.8 573.3 Q 165.1 573.3, 165.7 572.2 Q 166.4 571.0, 166.4 568.8 Q 166.4 566.6, 165.7 565.4 Q 165.1 564.3, 163.8 564.3 Q 162.6 564.3, 162.0 565.4 Q 161.3 566.6, 161.3 568.8 Q 161.3 571.0, 162.0 572.2 Q 162.6 573.3, 163.8 573.3 \" fill=\"#000000\"/>\n",
       "<path class=\"legend\" d=\"M 169.6 572.9 L 171.2 572.9 L 171.2 574.5 L 169.6 574.5 L 169.6 572.9 \" fill=\"#000000\"/>\n",
       "<path class=\"legend\" d=\"M 178.6 568.5 Q 179.6 568.9, 180.2 569.6 Q 180.8 570.2, 180.8 571.4 Q 180.8 572.3, 180.3 573.1 Q 179.8 573.8, 178.9 574.2 Q 178.1 574.6, 176.9 574.6 Q 175.0 574.6, 173.9 573.8 Q 172.8 572.9, 172.8 571.4 Q 172.8 570.4, 173.3 569.7 Q 173.8 569.0, 174.8 568.5 Q 174.0 568.1, 173.6 567.5 Q 173.2 566.9, 173.2 565.9 Q 173.2 564.6, 174.2 563.8 Q 175.2 563.0, 176.8 563.0 Q 178.5 563.0, 179.4 563.8 Q 180.4 564.6, 180.4 565.9 Q 180.4 566.7, 179.9 567.4 Q 179.5 568.0, 178.6 568.5 M 176.8 564.2 Q 175.9 564.2, 175.4 564.7 Q 174.8 565.1, 174.8 565.9 Q 174.8 566.5, 175.2 566.9 Q 175.5 567.3, 176.0 567.5 Q 176.6 567.7, 177.5 568.1 Q 178.2 567.6, 178.5 567.1 Q 178.8 566.6, 178.8 565.9 Q 178.8 565.1, 178.3 564.7 Q 177.8 564.2, 176.8 564.2 M 176.9 573.4 Q 177.9 573.4, 178.6 572.9 Q 179.2 572.3, 179.2 571.3 Q 179.2 570.7, 178.9 570.4 Q 178.6 570.0, 178.0 569.7 Q 177.5 569.5, 176.6 569.2 L 175.9 569.0 Q 175.1 569.5, 174.8 570.0 Q 174.4 570.6, 174.4 571.3 Q 174.4 572.3, 175.1 572.9 Q 175.8 573.4, 176.9 573.4 \" fill=\"#000000\"/>\n",
       "<path class=\"legend\" d=\"\" fill=\"#000000\"/>\n",
       "<path class=\"legend\" d=\"M 192.6 566.1 Q 193.9 566.1, 194.6 566.8 Q 195.3 567.6, 195.3 569.0 L 195.3 574.5 L 193.8 574.5 L 193.8 569.1 Q 193.8 568.2, 193.4 567.7 Q 193.1 567.3, 192.2 567.3 Q 191.5 567.3, 190.8 567.6 Q 190.2 568.0, 189.8 568.6 L 189.8 574.5 L 188.3 574.5 L 188.3 566.2 L 189.6 566.2 L 189.7 567.4 Q 190.8 566.1, 192.6 566.1 \" fill=\"#000000\"/>\n",
       "<path class=\"legend\" d=\"M 210.1 574.5 L 208.6 574.5 L 207.4 565.2 L 204.4 574.5 L 202.8 574.5 L 199.8 565.2 L 198.6 574.5 L 197.1 574.5 L 198.6 563.1 L 200.5 563.1 L 203.6 572.3 L 206.7 563.1 L 208.6 563.1 L 210.1 574.5 \" fill=\"#000000\"/>\n",
       "<path class=\"bond-0 atom-0 atom-1\" d=\"M 334.3,411.0 L 316.2,438.4\" style=\"fill:none;fill-rule:evenodd;stroke:#000000;stroke-width:2.0px;stroke-linecap:butt;stroke-linejoin:miter;stroke-opacity:1\"/>\n",
       "<path class=\"bond-0 atom-0 atom-1\" d=\"M 336.5,416.7 L 322.3,438.2\" style=\"fill:none;fill-rule:evenodd;stroke:#000000;stroke-width:2.0px;stroke-linecap:butt;stroke-linejoin:miter;stroke-opacity:1\"/>\n",
       "<path class=\"bond-1 atom-1 atom-2\" d=\"M 316.2,438.4 L 336.7,464.2\" style=\"fill:none;fill-rule:evenodd;stroke:#000000;stroke-width:2.0px;stroke-linecap:butt;stroke-linejoin:miter;stroke-opacity:1\"/>\n",
       "<path class=\"bond-2 atom-2 atom-3\" d=\"M 336.7,464.2 L 367.6,452.7\" style=\"fill:none;fill-rule:evenodd;stroke:#000000;stroke-width:2.0px;stroke-linecap:butt;stroke-linejoin:miter;stroke-opacity:1\"/>\n",
       "<path class=\"bond-2 atom-2 atom-3\" d=\"M 338.3,458.3 L 362.5,449.3\" style=\"fill:none;fill-rule:evenodd;stroke:#000000;stroke-width:2.0px;stroke-linecap:butt;stroke-linejoin:miter;stroke-opacity:1\"/>\n",
       "<path class=\"bond-3 atom-3 atom-4\" d=\"M 367.6,452.7 L 367.0,439.2\" style=\"fill:none;fill-rule:evenodd;stroke:#000000;stroke-width:2.0px;stroke-linecap:butt;stroke-linejoin:miter;stroke-opacity:1\"/>\n",
       "<path class=\"bond-3 atom-3 atom-4\" d=\"M 367.0,439.2 L 366.4,425.7\" style=\"fill:none;fill-rule:evenodd;stroke:#FF0000;stroke-width:2.0px;stroke-linecap:butt;stroke-linejoin:miter;stroke-opacity:1\"/>\n",
       "<path class=\"bond-4 atom-3 atom-5\" d=\"M 367.6,452.7 L 395.1,470.8\" style=\"fill:none;fill-rule:evenodd;stroke:#000000;stroke-width:2.0px;stroke-linecap:butt;stroke-linejoin:miter;stroke-opacity:1\"/>\n",
       "<path class=\"bond-5 atom-5 atom-6\" d=\"M 395.1,470.8 L 425.9,459.3\" style=\"fill:none;fill-rule:evenodd;stroke:#000000;stroke-width:2.0px;stroke-linecap:butt;stroke-linejoin:miter;stroke-opacity:1\"/>\n",
       "<path class=\"bond-5 atom-5 atom-6\" d=\"M 400.1,474.2 L 424.3,465.1\" style=\"fill:none;fill-rule:evenodd;stroke:#000000;stroke-width:2.0px;stroke-linecap:butt;stroke-linejoin:miter;stroke-opacity:1\"/>\n",
       "<path class=\"bond-6 atom-6 atom-7\" d=\"M 425.9,459.3 L 446.4,485.0\" style=\"fill:none;fill-rule:evenodd;stroke:#000000;stroke-width:2.0px;stroke-linecap:butt;stroke-linejoin:miter;stroke-opacity:1\"/>\n",
       "<path class=\"bond-7 atom-7 atom-8\" d=\"M 446.4,485.0 L 439.3,495.9\" style=\"fill:none;fill-rule:evenodd;stroke:#000000;stroke-width:2.0px;stroke-linecap:butt;stroke-linejoin:miter;stroke-opacity:1\"/>\n",
       "<path class=\"bond-7 atom-7 atom-8\" d=\"M 439.3,495.9 L 432.1,506.8\" style=\"fill:none;fill-rule:evenodd;stroke:#0000FF;stroke-width:2.0px;stroke-linecap:butt;stroke-linejoin:miter;stroke-opacity:1\"/>\n",
       "<path class=\"bond-7 atom-7 atom-8\" d=\"M 440.3,485.3 L 434.1,494.7\" style=\"fill:none;fill-rule:evenodd;stroke:#000000;stroke-width:2.0px;stroke-linecap:butt;stroke-linejoin:miter;stroke-opacity:1\"/>\n",
       "<path class=\"bond-7 atom-7 atom-8\" d=\"M 434.1,494.7 L 427.9,504.0\" style=\"fill:none;fill-rule:evenodd;stroke:#0000FF;stroke-width:2.0px;stroke-linecap:butt;stroke-linejoin:miter;stroke-opacity:1\"/>\n",
       "<path class=\"bond-8 atom-8 atom-9\" d=\"M 423.6,511.2 L 401.1,505.0\" style=\"fill:none;fill-rule:evenodd;stroke:#0000FF;stroke-width:2.0px;stroke-linecap:butt;stroke-linejoin:miter;stroke-opacity:1\"/>\n",
       "<path class=\"bond-9 atom-9 atom-10\" d=\"M 391.9,507.4 L 381.3,515.8\" style=\"fill:none;fill-rule:evenodd;stroke:#0000FF;stroke-width:2.0px;stroke-linecap:butt;stroke-linejoin:miter;stroke-opacity:1\"/>\n",
       "<path class=\"bond-9 atom-9 atom-10\" d=\"M 381.3,515.8 L 370.7,524.3\" style=\"fill:none;fill-rule:evenodd;stroke:#000000;stroke-width:2.0px;stroke-linecap:butt;stroke-linejoin:miter;stroke-opacity:1\"/>\n",
       "<path class=\"bond-10 atom-10 atom-11\" d=\"M 370.7,524.3 L 391.3,550.0\" style=\"fill:none;fill-rule:evenodd;stroke:#000000;stroke-width:2.0px;stroke-linecap:butt;stroke-linejoin:miter;stroke-opacity:1\"/>\n",
       "<path class=\"bond-11 atom-10 atom-12\" d=\"M 370.7,524.3 L 350.2,498.5\" style=\"fill:none;fill-rule:evenodd;stroke:#000000;stroke-width:2.0px;stroke-linecap:butt;stroke-linejoin:miter;stroke-opacity:1\"/>\n",
       "<path class=\"bond-12 atom-10 atom-13\" d=\"M 370.7,524.3 L 345.0,544.8\" style=\"fill:none;fill-rule:evenodd;stroke:#000000;stroke-width:2.0px;stroke-linecap:butt;stroke-linejoin:miter;stroke-opacity:1\"/>\n",
       "<path class=\"bond-13 atom-7 atom-14\" d=\"M 446.4,485.0 L 479.4,483.6\" style=\"fill:none;fill-rule:evenodd;stroke:#000000;stroke-width:2.0px;stroke-linecap:butt;stroke-linejoin:miter;stroke-opacity:1\"/>\n",
       "<path class=\"bond-14 atom-14 atom-15\" d=\"M 479.4,483.6 L 487.3,493.6\" style=\"fill:none;fill-rule:evenodd;stroke:#000000;stroke-width:2.0px;stroke-linecap:butt;stroke-linejoin:miter;stroke-opacity:1\"/>\n",
       "<path class=\"bond-14 atom-14 atom-15\" d=\"M 487.3,493.6 L 495.3,503.6\" style=\"fill:none;fill-rule:evenodd;stroke:#0000FF;stroke-width:2.0px;stroke-linecap:butt;stroke-linejoin:miter;stroke-opacity:1\"/>\n",
       "<path class=\"bond-15 atom-15 atom-16\" d=\"M 504.5,507.6 L 517.6,502.7\" style=\"fill:none;fill-rule:evenodd;stroke:#0000FF;stroke-width:2.0px;stroke-linecap:butt;stroke-linejoin:miter;stroke-opacity:1\"/>\n",
       "<path class=\"bond-15 atom-15 atom-16\" d=\"M 517.6,502.7 L 530.7,497.8\" style=\"fill:none;fill-rule:evenodd;stroke:#000000;stroke-width:2.0px;stroke-linecap:butt;stroke-linejoin:miter;stroke-opacity:1\"/>\n",
       "<path class=\"bond-16 atom-16 atom-17\" d=\"M 530.7,497.8 L 560.0,513.0\" style=\"fill:none;fill-rule:evenodd;stroke:#000000;stroke-width:2.0px;stroke-linecap:butt;stroke-linejoin:miter;stroke-opacity:1\"/>\n",
       "<path class=\"bond-16 atom-16 atom-17\" d=\"M 535.5,494.7 L 559.7,507.3\" style=\"fill:none;fill-rule:evenodd;stroke:#000000;stroke-width:2.0px;stroke-linecap:butt;stroke-linejoin:miter;stroke-opacity:1\"/>\n",
       "<path class=\"bond-17 atom-17 atom-18\" d=\"M 560.0,513.0 L 587.7,495.2\" style=\"fill:none;fill-rule:evenodd;stroke:#000000;stroke-width:2.0px;stroke-linecap:butt;stroke-linejoin:miter;stroke-opacity:1\"/>\n",
       "<path class=\"bond-18 atom-18 atom-19\" d=\"M 587.7,495.2 L 586.3,462.3\" style=\"fill:none;fill-rule:evenodd;stroke:#000000;stroke-width:2.0px;stroke-linecap:butt;stroke-linejoin:miter;stroke-opacity:1\"/>\n",
       "<path class=\"bond-18 atom-18 atom-19\" d=\"M 582.7,492.6 L 581.5,465.4\" style=\"fill:none;fill-rule:evenodd;stroke:#000000;stroke-width:2.0px;stroke-linecap:butt;stroke-linejoin:miter;stroke-opacity:1\"/>\n",
       "<path class=\"bond-19 atom-19 atom-20\" d=\"M 586.3,462.3 L 597.8,455.0\" style=\"fill:none;fill-rule:evenodd;stroke:#000000;stroke-width:2.0px;stroke-linecap:butt;stroke-linejoin:miter;stroke-opacity:1\"/>\n",
       "<path class=\"bond-19 atom-19 atom-20\" d=\"M 597.8,455.0 L 609.4,447.6\" style=\"fill:none;fill-rule:evenodd;stroke:#00CC00;stroke-width:2.0px;stroke-linecap:butt;stroke-linejoin:miter;stroke-opacity:1\"/>\n",
       "<path class=\"bond-20 atom-19 atom-21\" d=\"M 586.3,462.3 L 557.0,447.1\" style=\"fill:none;fill-rule:evenodd;stroke:#000000;stroke-width:2.0px;stroke-linecap:butt;stroke-linejoin:miter;stroke-opacity:1\"/>\n",
       "<path class=\"bond-21 atom-21 atom-22\" d=\"M 557.0,447.1 L 529.3,464.9\" style=\"fill:none;fill-rule:evenodd;stroke:#000000;stroke-width:2.0px;stroke-linecap:butt;stroke-linejoin:miter;stroke-opacity:1\"/>\n",
       "<path class=\"bond-21 atom-21 atom-22\" d=\"M 557.3,452.8 L 534.3,467.5\" style=\"fill:none;fill-rule:evenodd;stroke:#000000;stroke-width:2.0px;stroke-linecap:butt;stroke-linejoin:miter;stroke-opacity:1\"/>\n",
       "<path class=\"bond-22 atom-22 atom-23\" d=\"M 529.3,464.9 L 515.7,461.1\" style=\"fill:none;fill-rule:evenodd;stroke:#000000;stroke-width:2.0px;stroke-linecap:butt;stroke-linejoin:miter;stroke-opacity:1\"/>\n",
       "<path class=\"bond-22 atom-22 atom-23\" d=\"M 515.7,461.1 L 502.1,457.4\" style=\"fill:none;fill-rule:evenodd;stroke:#0000FF;stroke-width:2.0px;stroke-linecap:butt;stroke-linejoin:miter;stroke-opacity:1\"/>\n",
       "<path class=\"bond-23 atom-4 atom-0\" d=\"M 360.7,418.3 L 347.5,414.6\" style=\"fill:none;fill-rule:evenodd;stroke:#FF0000;stroke-width:2.0px;stroke-linecap:butt;stroke-linejoin:miter;stroke-opacity:1\"/>\n",
       "<path class=\"bond-23 atom-4 atom-0\" d=\"M 347.5,414.6 L 334.3,411.0\" style=\"fill:none;fill-rule:evenodd;stroke:#000000;stroke-width:2.0px;stroke-linecap:butt;stroke-linejoin:miter;stroke-opacity:1\"/>\n",
       "<path class=\"bond-24 atom-9 atom-5\" d=\"M 396.3,498.0 L 395.7,484.4\" style=\"fill:none;fill-rule:evenodd;stroke:#0000FF;stroke-width:2.0px;stroke-linecap:butt;stroke-linejoin:miter;stroke-opacity:1\"/>\n",
       "<path class=\"bond-24 atom-9 atom-5\" d=\"M 395.7,484.4 L 395.1,470.8\" style=\"fill:none;fill-rule:evenodd;stroke:#000000;stroke-width:2.0px;stroke-linecap:butt;stroke-linejoin:miter;stroke-opacity:1\"/>\n",
       "<path class=\"bond-25 atom-23 atom-14\" d=\"M 493.7,461.8 L 486.5,472.7\" style=\"fill:none;fill-rule:evenodd;stroke:#0000FF;stroke-width:2.0px;stroke-linecap:butt;stroke-linejoin:miter;stroke-opacity:1\"/>\n",
       "<path class=\"bond-25 atom-23 atom-14\" d=\"M 486.5,472.7 L 479.4,483.6\" style=\"fill:none;fill-rule:evenodd;stroke:#000000;stroke-width:2.0px;stroke-linecap:butt;stroke-linejoin:miter;stroke-opacity:1\"/>\n",
       "<path class=\"bond-25 atom-23 atom-14\" d=\"M 497.8,464.6 L 491.6,473.9\" style=\"fill:none;fill-rule:evenodd;stroke:#0000FF;stroke-width:2.0px;stroke-linecap:butt;stroke-linejoin:miter;stroke-opacity:1\"/>\n",
       "<path class=\"bond-25 atom-23 atom-14\" d=\"M 491.6,473.9 L 485.5,483.3\" style=\"fill:none;fill-rule:evenodd;stroke:#000000;stroke-width:2.0px;stroke-linecap:butt;stroke-linejoin:miter;stroke-opacity:1\"/>\n",
       "<path class=\"bond-26 atom-22 atom-16\" d=\"M 529.3,464.9 L 530.7,497.8\" style=\"fill:none;fill-rule:evenodd;stroke:#000000;stroke-width:2.0px;stroke-linecap:butt;stroke-linejoin:miter;stroke-opacity:1\"/>\n",
       "<path d=\"M 333.4,412.3 L 334.3,411.0 L 335.0,411.1\" style=\"fill:none;stroke:#000000;stroke-width:2.0px;stroke-linecap:butt;stroke-linejoin:miter;stroke-opacity:1;\"/>\n",
       "<path d=\"M 317.1,437.1 L 316.2,438.4 L 317.2,439.7\" style=\"fill:none;stroke:#000000;stroke-width:2.0px;stroke-linecap:butt;stroke-linejoin:miter;stroke-opacity:1;\"/>\n",
       "<path d=\"M 335.7,462.9 L 336.7,464.2 L 338.3,463.6\" style=\"fill:none;stroke:#000000;stroke-width:2.0px;stroke-linecap:butt;stroke-linejoin:miter;stroke-opacity:1;\"/>\n",
       "<path d=\"M 424.4,459.8 L 425.9,459.3 L 426.9,460.6\" style=\"fill:none;stroke:#000000;stroke-width:2.0px;stroke-linecap:butt;stroke-linejoin:miter;stroke-opacity:1;\"/>\n",
       "<path d=\"M 558.5,512.2 L 560.0,513.0 L 561.4,512.1\" style=\"fill:none;stroke:#000000;stroke-width:2.0px;stroke-linecap:butt;stroke-linejoin:miter;stroke-opacity:1;\"/>\n",
       "<path d=\"M 586.4,496.1 L 587.7,495.2 L 587.7,493.6\" style=\"fill:none;stroke:#000000;stroke-width:2.0px;stroke-linecap:butt;stroke-linejoin:miter;stroke-opacity:1;\"/>\n",
       "<path d=\"M 558.5,447.9 L 557.0,447.1 L 555.7,448.0\" style=\"fill:none;stroke:#000000;stroke-width:2.0px;stroke-linecap:butt;stroke-linejoin:miter;stroke-opacity:1;\"/>\n",
       "<path class=\"atom-4\" d=\"M 361.8 419.8 Q 361.8 417.5, 362.9 416.3 Q 364.0 415.0, 366.1 415.0 Q 368.2 415.0, 369.3 416.3 Q 370.4 417.5, 370.4 419.8 Q 370.4 422.0, 369.3 423.3 Q 368.1 424.6, 366.1 424.6 Q 364.0 424.6, 362.9 423.3 Q 361.8 422.0, 361.8 419.8 M 366.1 423.6 Q 367.5 423.6, 368.3 422.6 Q 369.1 421.6, 369.1 419.8 Q 369.1 417.9, 368.3 417.0 Q 367.5 416.1, 366.1 416.1 Q 364.7 416.1, 363.9 417.0 Q 363.1 417.9, 363.1 419.8 Q 363.1 421.7, 363.9 422.6 Q 364.7 423.6, 366.1 423.6 \" fill=\"#FF0000\"/>\n",
       "<path class=\"atom-8\" d=\"M 426.2 507.9 L 429.3 512.8 Q 429.6 513.3, 430.1 514.2 Q 430.5 515.1, 430.6 515.1 L 430.6 507.9 L 431.8 507.9 L 431.8 517.2 L 430.5 517.2 L 427.2 511.8 Q 426.9 511.1, 426.5 510.4 Q 426.1 509.7, 425.9 509.5 L 425.9 517.2 L 424.7 517.2 L 424.7 507.9 L 426.2 507.9 \" fill=\"#0000FF\"/>\n",
       "<path class=\"atom-9\" d=\"M 394.5 499.1 L 397.5 504.0 Q 397.8 504.5, 398.3 505.4 Q 398.8 506.3, 398.8 506.3 L 398.8 499.1 L 400.1 499.1 L 400.1 508.4 L 398.8 508.4 L 395.5 503.0 Q 395.1 502.4, 394.7 501.6 Q 394.3 500.9, 394.2 500.7 L 394.2 508.4 L 393.0 508.4 L 393.0 499.1 L 394.5 499.1 \" fill=\"#0000FF\"/>\n",
       "<path class=\"atom-15\" d=\"M 497.8 504.7 L 500.9 509.6 Q 501.2 510.1, 501.7 511.0 Q 502.2 511.9, 502.2 511.9 L 502.2 504.7 L 503.4 504.7 L 503.4 514.0 L 502.1 514.0 L 498.9 508.6 Q 498.5 508.0, 498.1 507.2 Q 497.7 506.5, 497.6 506.3 L 497.6 514.0 L 496.3 514.0 L 496.3 504.7 L 497.8 504.7 \" fill=\"#0000FF\"/>\n",
       "<path class=\"atom-15\" d=\"M 496.2 514.9 L 497.5 514.9 L 497.5 518.9 L 502.3 518.9 L 502.3 514.9 L 503.5 514.9 L 503.5 524.3 L 502.3 524.3 L 502.3 520.0 L 497.5 520.0 L 497.5 524.3 L 496.2 524.3 L 496.2 514.9 \" fill=\"#0000FF\"/>\n",
       "<path class=\"atom-20\" d=\"M 610.5 444.9 Q 610.5 442.6, 611.5 441.4 Q 612.6 440.2, 614.7 440.2 Q 616.6 440.2, 617.7 441.5 L 616.8 442.2 Q 616.0 441.3, 614.7 441.3 Q 613.3 441.3, 612.5 442.2 Q 611.8 443.1, 611.8 444.9 Q 611.8 446.8, 612.6 447.7 Q 613.3 448.7, 614.9 448.7 Q 615.9 448.7, 617.1 448.1 L 617.4 449.0 Q 617.0 449.4, 616.2 449.5 Q 615.5 449.7, 614.7 449.7 Q 612.6 449.7, 611.5 448.5 Q 610.5 447.3, 610.5 444.9 \" fill=\"#00CC00\"/>\n",
       "<path class=\"atom-20\" d=\"M 618.6 439.6 L 619.8 439.6 L 619.8 449.6 L 618.6 449.6 L 618.6 439.6 \" fill=\"#00CC00\"/>\n",
       "<path class=\"atom-23\" d=\"M 495.5 451.4 L 498.5 456.4 Q 498.8 456.8, 499.3 457.7 Q 499.8 458.6, 499.8 458.7 L 499.8 451.4 L 501.1 451.4 L 501.1 460.7 L 499.8 460.7 L 496.5 455.3 Q 496.1 454.7, 495.7 454.0 Q 495.3 453.3, 495.2 453.0 L 495.2 460.7 L 494.0 460.7 L 494.0 451.4 L 495.5 451.4 \" fill=\"#0000FF\"/>\n",
       "<path class=\"legend\" d=\"M 463.4 558.7 Q 464.3 558.7, 465.2 559.2 Q 466.0 559.6, 466.4 560.4 Q 466.9 561.2, 466.9 562.3 Q 466.9 563.4, 466.3 564.3 Q 465.8 565.1, 464.8 565.5 Q 463.9 566.0, 462.9 566.0 Q 461.8 566.0, 460.9 565.6 Q 459.9 565.2, 459.2 564.5 L 460.2 563.5 Q 460.7 564.0, 461.4 564.4 Q 462.2 564.7, 462.9 564.7 Q 463.9 564.7, 464.6 564.0 Q 465.3 563.4, 465.3 562.3 Q 465.3 561.1, 464.6 560.5 Q 463.9 559.9, 462.8 559.9 Q 461.8 559.9, 460.7 560.4 L 459.8 560.0 L 460.4 554.5 L 466.2 554.5 L 466.0 555.8 L 461.7 555.8 L 461.4 559.1 Q 462.4 558.7, 463.4 558.7 \" fill=\"#000000\"/>\n",
       "<path class=\"legend\" d=\"M 472.6 566.0 Q 470.5 566.0, 469.5 564.4 Q 468.5 562.9, 468.5 560.2 Q 468.5 557.4, 469.5 555.9 Q 470.5 554.4, 472.6 554.4 Q 474.7 554.4, 475.7 555.9 Q 476.8 557.4, 476.8 560.2 Q 476.8 562.9, 475.7 564.4 Q 474.7 566.0, 472.6 566.0 M 472.6 564.7 Q 473.8 564.7, 474.5 563.5 Q 475.2 562.4, 475.2 560.2 Q 475.2 557.9, 474.5 556.8 Q 473.8 555.7, 472.6 555.7 Q 471.4 555.7, 470.7 556.8 Q 470.1 557.9, 470.1 560.2 Q 470.1 562.4, 470.7 563.5 Q 471.4 564.7, 472.6 564.7 \" fill=\"#000000\"/>\n",
       "<path class=\"legend\" d=\"M 416.4 566.1 Q 418.4 566.1, 419.4 567.0 Q 420.3 567.8, 420.3 569.4 Q 420.3 571.0, 419.3 571.9 Q 418.3 572.8, 416.4 572.8 L 414.6 572.8 L 414.6 577.4 L 413.1 577.4 L 413.1 566.1 L 416.4 566.1 M 416.4 571.5 Q 417.6 571.5, 418.1 571.0 Q 418.7 570.4, 418.7 569.4 Q 418.7 568.4, 418.1 567.9 Q 417.6 567.4, 416.4 567.4 L 414.6 567.4 L 414.6 571.5 L 416.4 571.5 \" fill=\"#000000\"/>\n",
       "<path class=\"legend\" d=\"M 421.7 568.2 Q 422.1 567.2, 423.1 566.6 Q 424.1 566.0, 425.5 566.0 Q 427.2 566.0, 428.1 566.9 Q 429.1 567.8, 429.1 569.5 Q 429.1 571.1, 427.8 572.7 Q 426.6 574.3, 424.0 576.1 L 429.3 576.1 L 429.3 577.4 L 421.6 577.4 L 421.6 576.3 Q 423.8 574.8, 425.0 573.7 Q 426.3 572.6, 426.9 571.6 Q 427.5 570.6, 427.5 569.5 Q 427.5 568.5, 426.9 567.9 Q 426.4 567.2, 425.5 567.2 Q 424.5 567.2, 423.9 567.6 Q 423.3 568.0, 422.9 568.8 L 421.7 568.2 \" fill=\"#000000\"/>\n",
       "<path class=\"legend\" d=\"M 434.5 572.7 L 430.8 566.1 L 432.5 566.1 L 435.3 571.2 L 438.2 566.1 L 439.8 566.1 L 436.1 572.7 L 436.1 577.4 L 434.5 577.4 L 434.5 572.7 \" fill=\"#000000\"/>\n",
       "<path class=\"legend\" d=\"M 444.8 570.3 Q 445.8 570.3, 446.6 570.8 Q 447.4 571.2, 447.8 572.0 Q 448.3 572.8, 448.3 573.8 Q 448.3 574.9, 447.8 575.7 Q 447.3 576.6, 446.4 577.1 Q 445.6 577.5, 444.5 577.5 Q 442.4 577.5, 441.4 576.2 Q 440.4 574.8, 440.4 572.1 Q 440.4 569.1, 441.7 567.5 Q 442.9 566.0, 445.3 566.0 Q 446.0 566.0, 446.6 566.1 Q 447.2 566.3, 447.8 566.6 L 447.2 567.7 Q 446.4 567.2, 445.4 567.2 Q 443.8 567.2, 442.9 568.3 Q 442.1 569.3, 442.0 571.4 Q 442.6 570.9, 443.3 570.6 Q 444.1 570.3, 444.8 570.3 M 444.5 576.2 Q 445.1 576.2, 445.6 575.9 Q 446.1 575.6, 446.4 575.0 Q 446.7 574.5, 446.7 573.8 Q 446.7 572.8, 446.1 572.2 Q 445.5 571.6, 444.6 571.6 Q 443.9 571.6, 443.2 571.9 Q 442.5 572.2, 442.0 572.7 Q 442.1 574.5, 442.7 575.4 Q 443.3 576.2, 444.5 576.2 \" fill=\"#000000\"/>\n",
       "<path class=\"legend\" d=\"M 455.8 577.4 L 453.1 572.8 L 453.1 572.8 L 451.2 572.8 L 451.2 577.4 L 449.7 577.4 L 449.7 566.1 L 453.1 566.1 Q 455.0 566.1, 456.0 567.0 Q 456.9 567.8, 456.9 569.4 Q 456.9 570.6, 456.3 571.4 Q 455.8 572.2, 454.6 572.6 L 457.5 577.4 L 455.8 577.4 M 451.2 571.5 L 453.1 571.5 Q 454.2 571.5, 454.7 571.0 Q 455.3 570.4, 455.3 569.4 Q 455.3 568.4, 454.7 567.9 Q 454.2 567.4, 453.1 567.4 L 451.2 567.4 L 451.2 571.5 \" fill=\"#000000\"/>\n",
       "<path class=\"legend\" d=\"\" fill=\"#000000\"/>\n",
       "<path class=\"legend\" d=\"M 464.3 575.5 L 465.9 575.5 L 465.9 577.1 L 464.3 577.1 L 464.3 575.5 M 464.3 570.0 L 465.9 570.0 L 465.9 571.6 L 464.3 571.6 L 464.3 570.0 \" fill=\"#000000\"/>\n",
       "<path class=\"legend\" d=\"\" fill=\"#000000\"/>\n",
       "<path class=\"legend\" d=\"M 477.7 570.3 Q 478.7 570.3, 479.5 570.8 Q 480.3 571.2, 480.8 572.0 Q 481.2 572.8, 481.2 573.8 Q 481.2 575.0, 480.7 575.9 Q 480.1 576.7, 479.2 577.1 Q 478.3 577.5, 477.2 577.5 Q 476.2 577.5, 475.2 577.2 Q 474.2 576.8, 473.6 576.0 L 474.5 575.1 Q 475.1 575.6, 475.8 575.9 Q 476.5 576.3, 477.2 576.3 Q 478.3 576.3, 478.9 575.6 Q 479.6 575.0, 479.6 573.9 Q 479.6 572.7, 478.9 572.1 Q 478.3 571.5, 477.2 571.5 Q 476.2 571.5, 475.1 572.0 L 474.2 571.5 L 474.7 566.1 L 480.5 566.1 L 480.4 567.4 L 476.0 567.4 L 475.7 570.7 Q 476.7 570.3, 477.7 570.3 \" fill=\"#000000\"/>\n",
       "<path class=\"legend\" d=\"M 482.6 575.8 L 484.2 575.8 L 484.2 577.4 L 482.6 577.4 L 482.6 575.8 \" fill=\"#000000\"/>\n",
       "<path class=\"legend\" d=\"M 489.6 566.0 Q 491.6 566.0, 492.6 567.3 Q 493.6 568.7, 493.6 571.4 Q 493.6 574.4, 492.4 576.0 Q 491.1 577.5, 488.7 577.5 Q 488.0 577.5, 487.4 577.4 Q 486.8 577.2, 486.2 576.9 L 486.8 575.8 Q 487.7 576.3, 488.7 576.3 Q 490.3 576.3, 491.1 575.2 Q 491.9 574.2, 492.0 572.1 Q 491.4 572.6, 490.7 572.9 Q 490.0 573.2, 489.2 573.2 Q 488.2 573.2, 487.4 572.7 Q 486.6 572.3, 486.2 571.5 Q 485.8 570.7, 485.8 569.7 Q 485.8 568.6, 486.3 567.8 Q 486.7 566.9, 487.6 566.4 Q 488.5 566.0, 489.6 566.0 M 487.4 569.7 Q 487.4 570.7, 487.9 571.3 Q 488.5 571.9, 489.5 571.9 Q 490.2 571.9, 490.8 571.6 Q 491.5 571.3, 492.0 570.8 Q 491.9 569.0, 491.4 568.1 Q 490.8 567.3, 489.6 567.3 Q 489.0 567.3, 488.4 567.6 Q 487.9 567.9, 487.7 568.5 Q 487.4 569.0, 487.4 569.7 \" fill=\"#000000\"/>\n",
       "<path class=\"legend\" d=\"\" fill=\"#000000\"/>\n",
       "<path class=\"legend\" d=\"M 505.5 569.1 Q 506.8 569.1, 507.5 569.8 Q 508.2 570.6, 508.2 572.0 L 508.2 577.4 L 506.7 577.4 L 506.7 572.1 Q 506.7 571.1, 506.3 570.7 Q 505.9 570.2, 505.1 570.2 Q 504.3 570.2, 503.7 570.6 Q 503.1 570.9, 502.7 571.5 L 502.7 577.4 L 501.2 577.4 L 501.2 569.2 L 502.4 569.2 L 502.6 570.3 Q 503.7 569.1, 505.5 569.1 \" fill=\"#000000\"/>\n",
       "<path class=\"legend\" d=\"M 522.9 577.4 L 521.4 577.4 L 520.3 568.2 L 517.2 577.4 L 515.6 577.4 L 512.6 568.2 L 511.4 577.4 L 510.0 577.4 L 511.4 566.1 L 513.3 566.1 L 516.4 575.2 L 519.6 566.1 L 521.5 566.1 L 522.9 577.4 \" fill=\"#000000\"/>\n",
       "<path d=\"M 317.0,299.0 L 166.5,399.0\" style=\"fill:none;fill-rule:evenodd;stroke:#000000;stroke-width:4.0px;stroke-linecap:butt;stroke-linejoin:miter;stroke-opacity:1\"/>\n",
       "<path d=\"M 166.5,399.0 L 171.1,389.7\" style=\"fill:none;fill-rule:evenodd;stroke:#000000;stroke-width:4.0px;stroke-linecap:butt;stroke-linejoin:miter;stroke-opacity:1\"/>\n",
       "<path d=\"M 166.5,399.0 L 176.9,398.3\" style=\"fill:none;fill-rule:evenodd;stroke:#000000;stroke-width:4.0px;stroke-linecap:butt;stroke-linejoin:miter;stroke-opacity:1\"/>\n",
       "<path d=\"M 317.0,299.0 L 484.0,399.0\" style=\"fill:none;fill-rule:evenodd;stroke:#000000;stroke-width:4.0px;stroke-linecap:butt;stroke-linejoin:miter;stroke-opacity:1\"/>\n",
       "<path d=\"M 484.0,399.0 L 472.8,398.8\" style=\"fill:none;fill-rule:evenodd;stroke:#000000;stroke-width:4.0px;stroke-linecap:butt;stroke-linejoin:miter;stroke-opacity:1\"/>\n",
       "<path d=\"M 484.0,399.0 L 478.5,389.2\" style=\"fill:none;fill-rule:evenodd;stroke:#000000;stroke-width:4.0px;stroke-linecap:butt;stroke-linejoin:miter;stroke-opacity:1\"/>\n",
       "<path d=\"M 262.8 350.9 Q 262.8 348.4, 264.1 347.0 Q 265.3 345.7, 267.7 345.7 Q 270.0 345.7, 271.2 347.0 Q 272.5 348.4, 272.5 350.9 Q 272.5 353.4, 271.2 354.8 Q 270.0 356.2, 267.7 356.2 Q 265.3 356.2, 264.1 354.8 Q 262.8 353.4, 262.8 350.9 M 264.7 350.9 Q 264.7 352.8, 265.5 353.7 Q 266.3 354.7, 267.7 354.7 Q 269.1 354.7, 269.8 353.7 Q 270.6 352.8, 270.6 350.9 Q 270.6 349.0, 269.8 348.1 Q 269.1 347.1, 267.7 347.1 Q 266.3 347.1, 265.5 348.1 Q 264.7 349.0, 264.7 350.9 \" fill=\"#000000\"/>\n",
       "<path d=\"M 278.8 345.7 Q 281.0 345.7, 282.1 347.0 Q 283.3 348.3, 283.3 350.7 Q 283.3 353.3, 281.9 354.7 Q 280.5 356.2, 278.1 356.2 Q 276.9 356.2, 276.0 355.9 L 276.0 360.8 L 274.1 360.8 L 274.1 345.8 L 275.6 345.8 L 275.9 347.1 Q 276.4 346.4, 277.1 346.0 Q 277.9 345.7, 278.8 345.7 M 278.1 354.7 Q 279.6 354.7, 280.5 353.7 Q 281.4 352.6, 281.4 350.7 Q 281.4 349.0, 280.7 348.1 Q 280.0 347.1, 278.7 347.1 Q 277.7 347.1, 277.0 347.7 Q 276.3 348.2, 276.0 349.1 L 276.0 354.4 Q 277.0 354.7, 278.1 354.7 \" fill=\"#000000\"/>\n",
       "<path d=\"M 284.9 347.3 L 284.9 345.8 L 286.9 345.8 L 287.2 342.9 L 288.6 342.9 L 288.6 345.8 L 291.7 345.8 L 291.7 347.3 L 288.6 347.3 L 288.6 352.9 Q 288.6 354.6, 290.1 354.6 Q 290.6 354.6, 291.5 354.4 L 291.8 355.7 Q 290.7 356.1, 289.7 356.1 Q 288.4 356.1, 287.5 355.3 Q 286.7 354.5, 286.7 353.0 L 286.7 347.3 L 284.9 347.3 \" fill=\"#000000\"/>\n",
       "<path d=\"M 293.1 342.0 L 294.9 342.0 L 294.9 343.7 L 293.1 343.7 L 293.1 342.0 M 293.1 345.8 L 294.9 345.8 L 294.9 356.0 L 293.1 356.0 L 293.1 345.8 \" fill=\"#000000\"/>\n",
       "<path d=\"M 309.1 345.7 Q 310.8 345.7, 311.6 346.6 Q 312.5 347.5, 312.5 349.3 L 312.5 356.0 L 310.7 356.0 L 310.7 349.4 Q 310.7 348.2, 310.2 347.7 Q 309.7 347.1, 308.7 347.1 Q 307.8 347.1, 307.0 347.6 Q 306.3 348.0, 305.8 348.7 Q 305.9 348.9, 305.9 349.3 L 305.9 356.0 L 304.0 356.0 L 304.0 349.4 Q 304.0 348.2, 303.5 347.7 Q 303.1 347.1, 302.0 347.1 Q 301.1 347.1, 300.4 347.6 Q 299.6 348.0, 299.2 348.7 L 299.2 356.0 L 297.3 356.0 L 297.3 345.8 L 298.8 345.8 L 299.0 347.2 Q 300.4 345.7, 302.4 345.7 Q 304.8 345.7, 305.5 347.4 Q 306.9 345.7, 309.1 345.7 \" fill=\"#000000\"/>\n",
       "<path d=\"M 314.8 342.0 L 316.6 342.0 L 316.6 343.7 L 314.8 343.7 L 314.8 342.0 M 314.8 345.8 L 316.6 345.8 L 316.6 356.0 L 314.8 356.0 L 314.8 345.8 \" fill=\"#000000\"/>\n",
       "<path d=\"M 321.2 354.5 L 326.8 354.5 L 326.8 356.0 L 319.0 356.0 L 319.0 354.8 L 324.4 347.3 L 319.3 347.3 L 319.3 345.8 L 326.6 345.8 L 326.6 347.0 L 321.2 354.5 \" fill=\"#000000\"/>\n",
       "<path d=\"M 328.2 353.3 Q 328.2 351.6, 329.6 350.7 Q 330.9 349.9, 333.2 349.9 L 334.8 349.9 L 334.8 349.5 Q 334.8 348.2, 334.2 347.7 Q 333.7 347.1, 332.4 347.1 Q 331.6 347.1, 331.0 347.3 Q 330.4 347.4, 329.4 347.9 L 328.8 346.6 Q 330.7 345.7, 332.5 345.7 Q 334.6 345.7, 335.6 346.6 Q 336.6 347.5, 336.6 349.5 L 336.6 356.0 L 335.2 356.0 Q 335.1 355.9, 335.1 355.6 Q 335.0 355.3, 334.9 354.8 Q 333.5 356.2, 331.6 356.2 Q 330.1 356.2, 329.2 355.4 Q 328.2 354.6, 328.2 353.3 M 330.1 353.2 Q 330.1 354.0, 330.6 354.4 Q 331.1 354.8, 331.9 354.8 Q 332.7 354.8, 333.5 354.4 Q 334.2 354.0, 334.8 353.4 L 334.8 351.2 L 333.4 351.2 Q 331.7 351.2, 330.9 351.7 Q 330.1 352.2, 330.1 353.2 \" fill=\"#000000\"/>\n",
       "<path d=\"M 338.9 347.3 L 338.9 345.8 L 340.8 345.8 L 341.1 342.9 L 342.5 342.9 L 342.5 345.8 L 345.6 345.8 L 345.6 347.3 L 342.5 347.3 L 342.5 352.9 Q 342.5 354.6, 344.0 354.6 Q 344.6 354.6, 345.4 354.4 L 345.8 355.7 Q 344.7 356.1, 343.6 356.1 Q 342.3 356.1, 341.5 355.3 Q 340.6 354.5, 340.6 353.0 L 340.6 347.3 L 338.9 347.3 \" fill=\"#000000\"/>\n",
       "<path d=\"M 347.0 342.0 L 348.8 342.0 L 348.8 343.7 L 347.0 343.7 L 347.0 342.0 M 347.0 345.8 L 348.8 345.8 L 348.8 356.0 L 347.0 356.0 L 347.0 345.8 \" fill=\"#000000\"/>\n",
       "<path d=\"M 351.2 350.9 Q 351.2 348.4, 352.5 347.0 Q 353.7 345.7, 356.1 345.7 Q 358.4 345.7, 359.6 347.0 Q 360.9 348.4, 360.9 350.9 Q 360.9 353.4, 359.6 354.8 Q 358.4 356.2, 356.1 356.2 Q 353.7 356.2, 352.5 354.8 Q 351.2 353.4, 351.2 350.9 M 353.1 350.9 Q 353.1 352.8, 353.9 353.7 Q 354.7 354.7, 356.1 354.7 Q 357.5 354.7, 358.2 353.7 Q 359.0 352.8, 359.0 350.9 Q 359.0 349.0, 358.2 348.1 Q 357.5 347.1, 356.1 347.1 Q 354.7 347.1, 353.9 348.1 Q 353.1 349.0, 353.1 350.9 \" fill=\"#000000\"/>\n",
       "<path d=\"M 367.8 345.7 Q 369.4 345.7, 370.3 346.6 Q 371.2 347.5, 371.2 349.3 L 371.2 356.0 L 369.3 356.0 L 369.3 349.4 Q 369.3 348.2, 368.8 347.7 Q 368.4 347.1, 367.4 347.1 Q 366.4 347.1, 365.7 347.6 Q 364.9 348.0, 364.4 348.7 L 364.4 356.0 L 362.5 356.0 L 362.5 345.8 L 364.0 345.8 L 364.3 347.3 Q 365.6 345.7, 367.8 345.7 \" fill=\"#000000\"/>\n",
       "</svg>"
      ],
      "text/plain": [
       "<IPython.core.display.SVG object>"
      ]
     },
     "execution_count": 18,
     "metadata": {},
     "output_type": "execute_result"
    }
   ],
   "source": [
    "from IPython.display import SVG\n",
    "\n",
    "from rdkit import Geometry\n",
    "from rdkit.Chem.Draw import rdMolDraw2D\n",
    "sizer = rdMolDraw2D.MolDraw2DSVG(-1,-1)\n",
    "hit_sz = sizer.GetMolSize(hit,legend=hitLabel)\n",
    "lead_sz = sizer.GetMolSize(lead,legend=leadLabel)\n",
    "interm_sz = sizer.GetMolSize(interm,legend=intermLabel)\n",
    "\n",
    "arrowLength = 100\n",
    "arrowPadding = 10\n",
    "\n",
    "width = max((lead_sz[0]+interm_sz[0]),hit_sz[0])\n",
    "secondRowHeight = max(lead_sz[1],interm_sz[1])\n",
    "height = secondRowHeight+hit_sz[1]+arrowLength + arrowPadding\n",
    "d2d = rdMolDraw2D.MolDraw2DSVG(width,height)\n",
    "d2d.SetFlexiMode(True)\n",
    "d2d.ClearDrawing()\n",
    "d2d.drawOptions().clearBackground = False\n",
    "d2d.SetOffset(width//2 - hit_sz[0]//2,0)\n",
    "d2d.DrawMolecule(hit,legend=hitLabel)\n",
    "\n",
    "d2d.SetOffset(0,height-secondRowHeight)\n",
    "d2d.DrawMolecule(interm,legend=intermLabel)\n",
    "\n",
    "d2d.SetOffset(width - lead_sz[0],height-secondRowHeight)\n",
    "d2d.DrawMolecule(lead,legend=leadLabel)\n",
    "\n",
    "\n",
    "arrowStart = Geometry.Point2D(width//2,hit_sz[1]+arrowPadding/2)\n",
    "arrowEnd1 = arrowStart + Geometry.Point2D(0,arrowLength)\n",
    "arrowEnd1.x -= interm_sz[0]/2\n",
    "arrowEnd2 = arrowStart + Geometry.Point2D(0,arrowLength)\n",
    "arrowEnd2.x += lead_sz[0]/2\n",
    "\n",
    "d2d.SetOffset(0,0)\n",
    "d2d.SetLineWidth(4)\n",
    "d2d.DrawArrow(arrowStart,arrowEnd1,rawCoords=True)\n",
    "d2d.DrawArrow(arrowStart,arrowEnd2,rawCoords=True)\n",
    "\n",
    "labelPos = arrowStart\n",
    "labelPos.y += arrowLength/2\n",
    "d2d.SetFontSize(d2d.FontSize()*1.5)\n",
    "d2d.DrawString(\"optimization\",labelPos,0,rawCoords=True)\n",
    "\n",
    "d2d.FinishDrawing()\n",
    "\n",
    "SVG(d2d.GetDrawingText())"
   ]
  },
  {
   "cell_type": "markdown",
   "id": "e054a606",
   "metadata": {},
   "source": [
    "As mentioned, there is some work required to figure out where to place everything on the canvas, but I think this opens the doors to doing a bunch of cool molecular visualizations."
   ]
  },
  {
   "cell_type": "markdown",
   "id": "87d5170a",
   "metadata": {},
   "source": [
    "That's it for this post. I'll probably do another one or two of this as other thing strike me. If you see something in the release notes that you're curious about, leave a commet. I'll try and do a follow up to answer whatever questions come up."
   ]
  }
 ],
 "metadata": {
  "kernelspec": {
   "display_name": "Python 3 (ipykernel)",
   "language": "python",
   "name": "python3"
  },
  "language_info": {
   "codemirror_mode": {
    "name": "ipython",
    "version": 3
   },
   "file_extension": ".py",
   "mimetype": "text/x-python",
   "name": "python",
   "nbconvert_exporter": "python",
   "pygments_lexer": "ipython3",
   "version": "3.11.3"
  },
  "toc": {
   "base_numbering": 1,
   "nav_menu": {},
   "number_sections": true,
   "sideBar": true,
   "skip_h1_title": false,
   "title_cell": "Table of Contents",
   "title_sidebar": "Contents",
   "toc_cell": false,
   "toc_position": {},
   "toc_section_display": true,
   "toc_window_display": false
  },
  "varInspector": {
   "cols": {
    "lenName": 16,
    "lenType": 16,
    "lenVar": 40
   },
   "kernels_config": {
    "python": {
     "delete_cmd_postfix": "",
     "delete_cmd_prefix": "del ",
     "library": "var_list.py",
     "varRefreshCmd": "print(var_dic_list())"
    },
    "r": {
     "delete_cmd_postfix": ") ",
     "delete_cmd_prefix": "rm(",
     "library": "var_list.r",
     "varRefreshCmd": "cat(var_dic_list()) "
    }
   },
   "types_to_exclude": [
    "module",
    "function",
    "builtin_function_or_method",
    "instance",
    "_Feature"
   ],
   "window_display": false
  }
 },
 "nbformat": 4,
 "nbformat_minor": 5
}
