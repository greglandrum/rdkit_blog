{
 "cells": [
  {
   "cell_type": "markdown",
   "id": "c470c805",
   "metadata": {},
   "source": [
    "This post looks at the options available for controlling how much chemistry perception and checking (sanitization) is done when parsing molecules and how those options interact. This gets pretty deep into the weeds, but I think it's useful to capture this information somewhere. I definitely need to find the appropriate place in the documentation to put this."
   ]
  },
  {
   "cell_type": "code",
   "execution_count": 2,
   "id": "10451f0a",
   "metadata": {},
   "outputs": [
    {
     "name": "stdout",
     "output_type": "stream",
     "text": [
      "2025.03.3\n"
     ]
    }
   ],
   "source": [
    "from rdkit import Chem\n",
    "from rdkit.Chem.Draw import IPythonConsole\n",
    "from rdkit.Chem import Draw\n",
    "\n",
    "import rdkit\n",
    "print(rdkit.__version__)"
   ]
  },
  {
   "cell_type": "markdown",
   "id": "3c2e6743",
   "metadata": {},
   "source": [
    "# Working with SMILES"
   ]
  },
  {
   "cell_type": "code",
   "execution_count": 4,
   "id": "7130af68",
   "metadata": {},
   "outputs": [
    {
     "name": "stderr",
     "output_type": "stream",
     "text": [
      "Atoms:\n",
      "\t0 6 C chg: 0  deg: 2 exp: N/A imp: N/A hyb: \n",
      "\t1 6 C chg: 0  deg: 2 exp: N/A imp: N/A hyb: \n",
      "\t2 6 C chg: 0  deg: 2 exp: N/A imp: N/A hyb: \n",
      "\t3 6 C chg: 0  deg: 2 exp: N/A imp: N/A hyb: \n",
      "\t4 6 C chg: 0  deg: 2 exp: N/A imp: N/A hyb: \n",
      "\t5 6 C chg: 0  deg: 3 exp: N/A imp: N/A hyb: \n",
      "\t6 1 H chg: 0  deg: 1 exp: N/A imp: 0 hyb: \n",
      "Bonds:\n",
      "\t0 0->1 order: 2\n",
      "\t1 1->2 order: 1\n",
      "\t2 2->3 order: 2\n",
      "\t3 3->4 order: 1\n",
      "\t4 4->5 order: 2\n",
      "\t5 5->6 order: 1\n",
      "\t6 5->0 order: 1\n"
     ]
    }
   ],
   "source": [
    "smiles_with_h = 'C1=CC=CC=C1[H]'\n",
    "\n",
    "params = Chem.SmilesParserParams()\n",
    "params.removeHs = False\n",
    "params.sanitize = False\n",
    "\n",
    "mol = Chem.MolFromSmiles(smiles_with_h, params=params)\n",
    "mol.Debug()"
   ]
  },
  {
   "cell_type": "code",
   "execution_count": 5,
   "id": "73a76a49",
   "metadata": {},
   "outputs": [
    {
     "name": "stderr",
     "output_type": "stream",
     "text": [
      "Atoms:\n",
      "\t0 6 C chg: 0  deg: 2 exp: 3 imp: 1 hyb: SP2 arom?: 1\n",
      "\t1 6 C chg: 0  deg: 2 exp: 3 imp: 1 hyb: SP2 arom?: 1\n",
      "\t2 6 C chg: 0  deg: 2 exp: 3 imp: 1 hyb: SP2 arom?: 1\n",
      "\t3 6 C chg: 0  deg: 2 exp: 3 imp: 1 hyb: SP2 arom?: 1\n",
      "\t4 6 C chg: 0  deg: 2 exp: 3 imp: 1 hyb: SP2 arom?: 1\n",
      "\t5 6 C chg: 0  deg: 3 exp: 4 imp: 0 hyb: SP2 arom?: 1\n",
      "\t6 1 H chg: 0  deg: 1 exp: 1 imp: 0 hyb: S\n",
      "Bonds:\n",
      "\t0 0->1 order: a conj?: 1 aromatic?: 1\n",
      "\t1 1->2 order: a conj?: 1 aromatic?: 1\n",
      "\t2 2->3 order: a conj?: 1 aromatic?: 1\n",
      "\t3 3->4 order: a conj?: 1 aromatic?: 1\n",
      "\t4 4->5 order: a conj?: 1 aromatic?: 1\n",
      "\t5 5->6 order: 1\n",
      "\t6 5->0 order: a conj?: 1 aromatic?: 1\n"
     ]
    }
   ],
   "source": [
    "params = Chem.SmilesParserParams()\n",
    "params.removeHs = False\n",
    "params.sanitize = True\n",
    "\n",
    "mol = Chem.MolFromSmiles(smiles_with_h, params=params)\n",
    "mol.Debug()"
   ]
  },
  {
   "cell_type": "code",
   "execution_count": 6,
   "id": "dadfa282",
   "metadata": {},
   "outputs": [
    {
     "name": "stderr",
     "output_type": "stream",
     "text": [
      "Atoms:\n",
      "\t0 6 C chg: 0  deg: 2 exp: 3 imp: 1 hyb: \n",
      "\t1 6 C chg: 0  deg: 2 exp: 3 imp: 1 hyb: \n",
      "\t2 6 C chg: 0  deg: 2 exp: 3 imp: 1 hyb: \n",
      "\t3 6 C chg: 0  deg: 2 exp: 3 imp: 1 hyb: \n",
      "\t4 6 C chg: 0  deg: 2 exp: 3 imp: 1 hyb: \n",
      "\t5 6 C chg: 0  deg: 2 exp: 4 imp: 0 hyb: \n",
      "Bonds:\n",
      "\t0 0->1 order: 2\n",
      "\t1 1->2 order: 1\n",
      "\t2 2->3 order: 2\n",
      "\t3 3->4 order: 1\n",
      "\t4 4->5 order: 2\n",
      "\t5 5->0 order: 1\n"
     ]
    }
   ],
   "source": [
    "params = Chem.SmilesParserParams()\n",
    "params.removeHs = True\n",
    "params.sanitize = False\n",
    "\n",
    "mol = Chem.MolFromSmiles(smiles_with_h, params=params)\n",
    "mol.Debug()"
   ]
  },
  {
   "cell_type": "markdown",
   "id": "d4ad2f11",
   "metadata": {},
   "source": [
    "As we will see later, the SDF/Mol file parser does *not* remove Hs when sanitization is not enabled. This inconsistency is the type of thing that is difficult to fix; doing so would break a lot of other peoples' code."
   ]
  },
  {
   "cell_type": "code",
   "execution_count": 18,
   "id": "2c6e65b8",
   "metadata": {},
   "outputs": [
    {
     "name": "stderr",
     "output_type": "stream",
     "text": [
      "Atoms:\n",
      "\t0 6 C chg: 0  deg: 1 exp: 1 imp: 3 hyb: SP3\n",
      "\t1 6 C chg: 0  deg: 3 exp: 3 imp: 1 hyb: SP3\n",
      "\t2 9 F chg: 0  deg: 1 exp: 1 imp: 0 hyb: SP3\n",
      "\t3 6 C chg: 0  deg: 1 exp: 1 imp: 3 hyb: SP3\n",
      "Bonds:\n",
      "\t0 0->1 order: 1\n",
      "\t1 1->2 order: 1\n",
      "\t2 1->3 order: 1\n"
     ]
    }
   ],
   "source": [
    "smiles_with_bad_stereo = \"C[C@H](F)C\"\n",
    "\n",
    "params = Chem.SmilesParserParams()\n",
    "params.sanitize = True\n",
    "mol = Chem.MolFromSmiles(smiles_with_bad_stereo, params=params)\n",
    "mol.Debug()"
   ]
  },
  {
   "cell_type": "code",
   "execution_count": 19,
   "id": "3699662f",
   "metadata": {},
   "outputs": [
    {
     "name": "stderr",
     "output_type": "stream",
     "text": [
      "Atoms:\n",
      "\t0 6 C chg: 0  deg: 1 exp: 1 imp: 3 hyb: \n",
      "\t1 6 C chg: 0  deg: 3 exp: 3 imp: 1 hyb: \n",
      "\t2 9 F chg: 0  deg: 1 exp: 1 imp: 0 hyb: \n",
      "\t3 6 C chg: 0  deg: 1 exp: 1 imp: 3 hyb: \n",
      "Bonds:\n",
      "\t0 0->1 order: 1\n",
      "\t1 1->2 order: 1\n",
      "\t2 1->3 order: 1\n"
     ]
    }
   ],
   "source": [
    "params = Chem.SmilesParserParams()\n",
    "params.sanitize = False\n",
    "mol = Chem.MolFromSmiles(smiles_with_bad_stereo, params=params)\n",
    "mol.Debug()"
   ]
  },
  {
   "cell_type": "markdown",
   "id": "340fc5b4",
   "metadata": {},
   "source": [
    "Notice that, in this case, explicit and implicit valences have been assigned even though sanitization is disabled. This happens because the `AssignStereochemistry()` function needs valence information. In this case the values are calculated, but there's no check to make sure that they make chemical sense (as would happen during normal sanitization):"
   ]
  },
  {
   "cell_type": "code",
   "execution_count": 21,
   "id": "d1b79947",
   "metadata": {},
   "outputs": [
    {
     "name": "stderr",
     "output_type": "stream",
     "text": [
      "Atoms:\n",
      "\t0 6 C chg: 0  deg: 1 exp: 1 imp: 3 hyb: \n",
      "\t1 6 C chg: 0  deg: 3 exp: 3 imp: 1 hyb: \n",
      "\t2 9 F chg: 0  deg: 2 exp: 2 imp: 0 hyb: \n",
      "\t3 6 C chg: 0  deg: 1 exp: 1 imp: 3 hyb: \n",
      "\t4 6 C chg: 0  deg: 1 exp: 1 imp: 3 hyb: \n",
      "Bonds:\n",
      "\t0 0->1 order: 1\n",
      "\t1 1->2 order: 1\n",
      "\t2 2->3 order: 1\n",
      "\t3 1->4 order: 1\n"
     ]
    }
   ],
   "source": [
    "valence_too_high = \"C[C@H](FC)C\"\n",
    "params = Chem.SmilesParserParams()\n",
    "params.sanitize = False\n",
    "mol = Chem.MolFromSmiles(valence_too_high, params=params)\n",
    "mol.Debug()"
   ]
  },
  {
   "cell_type": "markdown",
   "id": "c26413b4",
   "metadata": {},
   "source": [
    "Here the two-valent F atom (atom 2) was accepted without complaint."
   ]
  },
  {
   "cell_type": "markdown",
   "id": "f8b091b1",
   "metadata": {},
   "source": [
    "Skipping both sanitization and H removal also skips the call to `AssignStereochemistry()`, so the bad chirality specification is not removed (and no valences are calculated):"
   ]
  },
  {
   "cell_type": "code",
   "execution_count": null,
   "id": "ecf25e57",
   "metadata": {},
   "outputs": [
    {
     "name": "stderr",
     "output_type": "stream",
     "text": [
      "Atoms:\n",
      "\t0 6 C chg: 0  deg: 1 exp: N/A imp: N/A hyb: \n",
      "\t1 6 C chg: 0  deg: 3 exp: N/A imp: 0 hyb:  chi: CCW nbrs:[0 2 3]\n",
      "\t2 9 F chg: 0  deg: 1 exp: N/A imp: N/A hyb: \n",
      "\t3 6 C chg: 0  deg: 1 exp: N/A imp: N/A hyb: \n",
      "Bonds:\n",
      "\t0 0->1 order: 1\n",
      "\t1 1->2 order: 1\n",
      "\t2 1->3 order: 1\n"
     ]
    }
   ],
   "source": [
    "params = Chem.SmilesParserParams()\n",
    "params.sanitize = False\n",
    "params.removeHs = False\n",
    "mol = Chem.MolFromSmiles(smiles_with_bad_stereo, params=params)\n",
    "mol.Debug()"
   ]
  },
  {
   "cell_type": "markdown",
   "id": "9846a6ca",
   "metadata": {},
   "source": [
    "# Working with SDF and Mol blocks"
   ]
  },
  {
   "cell_type": "code",
   "execution_count": 34,
   "id": "0703cb26",
   "metadata": {},
   "outputs": [],
   "source": [
    "molb_with_h = '''\n",
    "     RDKit          2D\n",
    "\n",
    "  0  0  0  0  0  0  0  0  0  0999 V3000\n",
    "M  V30 BEGIN CTAB\n",
    "M  V30 COUNTS 7 7 0 0 0\n",
    "M  V30 BEGIN ATOM\n",
    "M  V30 1 C 1.500000 0.000000 0.000000 0\n",
    "M  V30 2 C 0.750000 -1.299038 0.000000 0\n",
    "M  V30 3 C -0.750000 -1.299038 0.000000 0\n",
    "M  V30 4 C -1.500000 0.000000 0.000000 0\n",
    "M  V30 5 C -0.750000 1.299038 0.000000 0\n",
    "M  V30 6 C 0.750000 1.299038 0.000000 0\n",
    "M  V30 7 H 1.500000 2.598076 0.000000 0\n",
    "M  V30 END ATOM\n",
    "M  V30 BEGIN BOND\n",
    "M  V30 1 2 1 2\n",
    "M  V30 2 1 2 3\n",
    "M  V30 3 2 3 4\n",
    "M  V30 4 1 4 5\n",
    "M  V30 5 2 5 6\n",
    "M  V30 6 1 6 7\n",
    "M  V30 7 1 6 1\n",
    "M  V30 END BOND\n",
    "M  V30 END CTAB\n",
    "M  END'''\n",
    "molb_with_bad_stereo = '''\n",
    "     RDKit          2D\n",
    "\n",
    "  0  0  0  0  0  0  0  0  0  0999 V3000\n",
    "M  V30 BEGIN CTAB\n",
    "M  V30 COUNTS 4 3 0 0 0\n",
    "M  V30 BEGIN ATOM\n",
    "M  V30 1 C 0.000000 0.000000 0.000000 0\n",
    "M  V30 2 C 1.299038 0.750000 0.000000 0\n",
    "M  V30 3 F 1.299038 2.250000 0.000000 0\n",
    "M  V30 4 C 2.598076 -0.000000 0.000000 0\n",
    "M  V30 END ATOM\n",
    "M  V30 BEGIN BOND\n",
    "M  V30 1 1 2 1 CFG=3\n",
    "M  V30 2 1 2 3\n",
    "M  V30 3 1 2 4\n",
    "M  V30 END BOND\n",
    "M  V30 END CTAB\n",
    "M  END'''"
   ]
  },
  {
   "cell_type": "markdown",
   "id": "745bec46",
   "metadata": {},
   "source": [
    "As with SMILES, we can disable sanitization and H removal and then very little chemistry perception or cleanup is done:"
   ]
  },
  {
   "cell_type": "code",
   "execution_count": 37,
   "id": "c0937b85",
   "metadata": {},
   "outputs": [
    {
     "name": "stderr",
     "output_type": "stream",
     "text": [
      "Atoms:\n",
      "\t0 6 C chg: 0  deg: 2 exp: 3 imp: N/A hyb: \n",
      "\t1 6 C chg: 0  deg: 2 exp: 3 imp: N/A hyb: \n",
      "\t2 6 C chg: 0  deg: 2 exp: 3 imp: N/A hyb: \n",
      "\t3 6 C chg: 0  deg: 2 exp: 3 imp: N/A hyb: \n",
      "\t4 6 C chg: 0  deg: 2 exp: 3 imp: N/A hyb: \n",
      "\t5 6 C chg: 0  deg: 3 exp: 4 imp: N/A hyb: \n",
      "\t6 1 H chg: 0  deg: 1 exp: 1 imp: N/A hyb: \n",
      "Bonds:\n",
      "\t0 0->1 order: 2\n",
      "\t1 1->2 order: 1\n",
      "\t2 2->3 order: 2\n",
      "\t3 3->4 order: 1\n",
      "\t4 4->5 order: 2\n",
      "\t5 5->6 order: 1\n",
      "\t6 5->0 order: 1\n"
     ]
    }
   ],
   "source": [
    "m = Chem.MolFromMolBlock(molb_with_h, sanitize=False, removeHs=False)\n",
    "m.Debug()"
   ]
  },
  {
   "cell_type": "markdown",
   "id": "0a2cd9a9",
   "metadata": {},
   "source": [
    "Unlike with the SMILES parser, setting removeHs to true with sanitize set to false has no effect:"
   ]
  },
  {
   "cell_type": "code",
   "execution_count": 39,
   "id": "7060653d",
   "metadata": {},
   "outputs": [
    {
     "name": "stderr",
     "output_type": "stream",
     "text": [
      "Atoms:\n",
      "\t0 6 C chg: 0  deg: 2 exp: 3 imp: N/A hyb: \n",
      "\t1 6 C chg: 0  deg: 2 exp: 3 imp: N/A hyb: \n",
      "\t2 6 C chg: 0  deg: 2 exp: 3 imp: N/A hyb: \n",
      "\t3 6 C chg: 0  deg: 2 exp: 3 imp: N/A hyb: \n",
      "\t4 6 C chg: 0  deg: 2 exp: 3 imp: N/A hyb: \n",
      "\t5 6 C chg: 0  deg: 3 exp: 4 imp: N/A hyb: \n",
      "\t6 1 H chg: 0  deg: 1 exp: 1 imp: N/A hyb: \n",
      "Bonds:\n",
      "\t0 0->1 order: 2\n",
      "\t1 1->2 order: 1\n",
      "\t2 2->3 order: 2\n",
      "\t3 3->4 order: 1\n",
      "\t4 4->5 order: 2\n",
      "\t5 5->6 order: 1\n",
      "\t6 5->0 order: 1\n"
     ]
    }
   ],
   "source": [
    "m = Chem.MolFromMolBlock(molb_with_h, sanitize=False, removeHs=True)\n",
    "m.Debug()"
   ]
  },
  {
   "cell_type": "markdown",
   "id": "763667fb",
   "metadata": {},
   "source": [
    "We can, of course sanitize without removing Hs:"
   ]
  },
  {
   "cell_type": "code",
   "execution_count": 40,
   "id": "d600190c",
   "metadata": {},
   "outputs": [
    {
     "name": "stderr",
     "output_type": "stream",
     "text": [
      "Atoms:\n",
      "\t0 6 C chg: 0  deg: 2 exp: 3 imp: 1 hyb: SP2 arom?: 1\n",
      "\t1 6 C chg: 0  deg: 2 exp: 3 imp: 1 hyb: SP2 arom?: 1\n",
      "\t2 6 C chg: 0  deg: 2 exp: 3 imp: 1 hyb: SP2 arom?: 1\n",
      "\t3 6 C chg: 0  deg: 2 exp: 3 imp: 1 hyb: SP2 arom?: 1\n",
      "\t4 6 C chg: 0  deg: 2 exp: 3 imp: 1 hyb: SP2 arom?: 1\n",
      "\t5 6 C chg: 0  deg: 3 exp: 4 imp: 0 hyb: SP2 arom?: 1\n",
      "\t6 1 H chg: 0  deg: 1 exp: 1 imp: 0 hyb: S\n",
      "Bonds:\n",
      "\t0 0->1 order: a conj?: 1 aromatic?: 1\n",
      "\t1 1->2 order: a conj?: 1 aromatic?: 1\n",
      "\t2 2->3 order: a conj?: 1 aromatic?: 1\n",
      "\t3 3->4 order: a conj?: 1 aromatic?: 1\n",
      "\t4 4->5 order: a conj?: 1 aromatic?: 1\n",
      "\t5 5->6 order: 1\n",
      "\t6 5->0 order: a conj?: 1 aromatic?: 1\n"
     ]
    }
   ],
   "source": [
    "m = Chem.MolFromMolBlock(molb_with_h, sanitize=True, removeHs=False)\n",
    "m.Debug()"
   ]
  },
  {
   "cell_type": "markdown",
   "id": "e60fe738",
   "metadata": {},
   "source": [
    "Now let's look at the mol block with the bad stereo specification.\n",
    "\n",
    "As before, without sanitization, the invalid chirality is assigned:"
   ]
  },
  {
   "cell_type": "code",
   "execution_count": 42,
   "id": "ec92ac3e",
   "metadata": {},
   "outputs": [
    {
     "name": "stderr",
     "output_type": "stream",
     "text": [
      "Atoms:\n",
      "\t0 6 C chg: 0  deg: 1 exp: 1 imp: N/A hyb: \n",
      "\t1 6 C chg: 0  deg: 3 exp: 4 imp: 0 hyb:  chi: CCW nbrs:[0 2 3]\n",
      "\t2 9 F chg: 0  deg: 1 exp: 1 imp: 0 hyb: \n",
      "\t3 6 C chg: 0  deg: 1 exp: 1 imp: 3 hyb: \n",
      "Bonds:\n",
      "\t0 1->0 order: 1\n",
      "\t1 1->2 order: 1\n",
      "\t2 1->3 order: 1\n"
     ]
    }
   ],
   "source": [
    "m = Chem.MolFromMolBlock(molb_with_bad_stereo, sanitize=False, removeHs=False)\n",
    "m.Debug()"
   ]
  },
  {
   "cell_type": "markdown",
   "id": "296740d3",
   "metadata": {},
   "source": [
    "But doing sanitization results in `AssignStereochemistry()` being called and the invalid stereo label is removed:"
   ]
  },
  {
   "cell_type": "code",
   "execution_count": 43,
   "id": "c0a93df6",
   "metadata": {},
   "outputs": [
    {
     "name": "stderr",
     "output_type": "stream",
     "text": [
      "Atoms:\n",
      "\t0 6 C chg: 0  deg: 1 exp: 1 imp: 3 hyb: SP3\n",
      "\t1 6 C chg: 0  deg: 3 exp: 3 imp: 1 hyb: SP3\n",
      "\t2 9 F chg: 0  deg: 1 exp: 1 imp: 0 hyb: SP3\n",
      "\t3 6 C chg: 0  deg: 1 exp: 1 imp: 3 hyb: SP3\n",
      "Bonds:\n",
      "\t0 1->0 order: 1\n",
      "\t1 1->2 order: 1\n",
      "\t2 1->3 order: 1\n"
     ]
    }
   ],
   "source": [
    "m = Chem.MolFromMolBlock(molb_with_bad_stereo, sanitize=True, removeHs=False)\n",
    "m.Debug()"
   ]
  },
  {
   "cell_type": "markdown",
   "id": "e3beffca",
   "metadata": {},
   "source": [
    "# Calling the sanitization code yourself"
   ]
  },
  {
   "cell_type": "markdown",
   "id": "949a56a8",
   "metadata": {},
   "source": [
    "If you want to read molecules from either SMILES or a Mol block without either sanitization or H removal, do some checks and standardizations of your own, and then end up with a molecule with the same information as if you had parsed it normally, the steps are:\n",
    "1. Parse without sanitization or H removal.\n",
    "2. Remove Hs if you want to\n",
    "3. Sanitize if you haven't removed Hs (by default `RemoveHs()` will sanitize)\n",
    "4. Call `AssignStereochemistry()`"
   ]
  },
  {
   "cell_type": "markdown",
   "id": "f613cef1",
   "metadata": {},
   "source": [
    "Here's an example of that:"
   ]
  },
  {
   "cell_type": "code",
   "execution_count": null,
   "id": "f53898bd",
   "metadata": {},
   "outputs": [
    {
     "name": "stderr",
     "output_type": "stream",
     "text": [
      "Atoms:\n",
      "\t0 6 C chg: 0  deg: 2 exp: 3 imp: 1 hyb: SP2 arom?: 1\n",
      "\t1 6 C chg: 0  deg: 2 exp: 3 imp: 1 hyb: SP2 arom?: 1\n",
      "\t2 6 C chg: 0  deg: 2 exp: 3 imp: 1 hyb: SP2 arom?: 1\n",
      "\t3 6 C chg: 0  deg: 2 exp: 3 imp: 1 hyb: SP2 arom?: 1\n",
      "\t4 6 C chg: 0  deg: 2 exp: 3 imp: 1 hyb: SP2 arom?: 1\n",
      "\t5 6 C chg: 0  deg: 2 exp: 3 imp: 1 hyb: SP2 arom?: 1\n",
      "Bonds:\n",
      "\t0 0->1 order: a conj?: 1 aromatic?: 1\n",
      "\t1 1->2 order: a conj?: 1 aromatic?: 1\n",
      "\t2 2->3 order: a conj?: 1 aromatic?: 1\n",
      "\t3 3->4 order: a conj?: 1 aromatic?: 1\n",
      "\t4 4->5 order: a conj?: 1 aromatic?: 1\n",
      "\t5 5->0 order: a conj?: 1 aromatic?: 1\n"
     ]
    }
   ],
   "source": [
    "params = Chem.SmilesParserParams()\n",
    "params.sanitize = False\n",
    "params.removeHs = False\n",
    "\n",
    "mol = Chem.MolFromSmiles(smiles_with_h, params=params)\n",
    "#\n",
    "# do whatever cleanup and preprocessing you want to do\n",
    "#\n",
    "mol = Chem.RemoveHs(mol)\n",
    "Chem.AssignStereochemistry(mol,force=True, cleanIt=True, flagPossibleStereoCenters=True)\n",
    "\n",
    "mol.Debug()"
   ]
  }
 ],
 "metadata": {
  "kernelspec": {
   "display_name": "py313_rdkit",
   "language": "python",
   "name": "python3"
  },
  "language_info": {
   "codemirror_mode": {
    "name": "ipython",
    "version": 3
   },
   "file_extension": ".py",
   "mimetype": "text/x-python",
   "name": "python",
   "nbconvert_exporter": "python",
   "pygments_lexer": "ipython3",
   "version": "3.13.3"
  }
 },
 "nbformat": 4,
 "nbformat_minor": 5
}
