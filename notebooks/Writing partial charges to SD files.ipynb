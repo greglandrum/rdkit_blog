{
 "cells": [
  {
   "cell_type": "markdown",
   "id": "e00845b7",
   "metadata": {},
   "source": [
    "I was chatting with Pat Walters at the CADD GRC and he brought up point 7 from his famous [14 points LinkedIn post](https://www.linkedin.com/posts/wpwalters_i-thoroughly-enjoyed-the-first-day-of-the-activity-7316447084209991682-Yuki). The usual justification given for using mol2 files is that they are the only file format we have that allows including partial charges. This is a widely held opinion, but it's not really true. It's actually quite easy to store arbitrary atom (or bond) properties in SD files and the RDKit has a simple mechanism for doing this. This post is a short tutorial on how to use this functionality.\n",
    "\n",
    "The handling of atomic and bond properties in SD files is described in more detail in [the docs](https://www.rdkit.org/docs/RDKit_Book.html#atom-properties-and-sdf-files).\n",
    "\n",
    "Rather than doing the usual thing and generating Gasteiger-Marsilli charges, here I'm going to use the DASH-props tree that we developed in the Riniker lab to rapidly generate approximate AM1BCC charges. DASH uses a hierarchical tree of substructures to compute high-quality estimates of AM1BCC charges for a molecule. Because it's based on substructures, the method is fast and conformation independent. If want to learn more about the algorithm, take a look at [the open-access paper](https://pubs.aip.org/aip/jcp/article/161/7/074103/3308079/DASH-properties-Estimating-atomic-and-molecular).\n",
    "\n",
    "\n",
    "If you want to run the code in this notebook, you'll need to install DASH props. This requires adding some packages to your conda environment. There's an [environment file](https://github.com/rinikerlab/DASH-tree/blob/main/tree_only_env.yml) in the DASH-tree repo that you can use, but if you already have a working RDKit environment, I think this is sufficient:\n",
    "```\n",
    "% conda install -c conda-forge pytables tqdm\n",
    "```\n",
    "and then pip installing the DASH tree package:\n",
    "```\n",
    "% python -m pip install git+https://github.com/rinikerlab/DASH-tree\n",
    "```\n",
    "\n",
    "> An aside: the way these properties are stored in the SD file is very easy to parse (The format is actually the result of some discussions I had with a couple of cheminformatics software vendors back in 2019; I think I ended up being the only one to implement what we had discussed), so adding support for this format to other software or toolkits that can already read SD files wouldn't be much of a lift. If you're a developer and have questions, please just ask."
   ]
  },
  {
   "cell_type": "code",
   "execution_count": 1,
   "id": "51317896",
   "metadata": {},
   "outputs": [
    {
     "name": "stdout",
     "output_type": "stream",
     "text": [
      "2025.03.4\n"
     ]
    }
   ],
   "source": [
    "from rdkit import Chem\n",
    "from rdkit.Chem import Draw\n",
    "import rdkit\n",
    "print(rdkit.__version__)\n",
    "\n",
    "# import the required stuff from DASH:\n",
    "from serenityff.charge.tree.dash_tree import DASHTree, TreeType\n",
    "from serenityff.charge.data import dash_props_tree_path\n"
   ]
  },
  {
   "cell_type": "code",
   "execution_count": 2,
   "id": "9fe0e6db",
   "metadata": {},
   "outputs": [
    {
     "name": "stdout",
     "output_type": "stream",
     "text": [
      "Loading DASH tree data\n",
      "Loaded 122 trees and data\n"
     ]
    }
   ],
   "source": [
    "# Load the property tree.\n",
    "# Note, that the files will be automatically downloaded the first time the tree is loaded from the ETHZ Research Collection.\n",
    "tree = DASHTree(tree_folder_path=dash_props_tree_path, tree_type=TreeType.FULL)\n"
   ]
  },
  {
   "cell_type": "markdown",
   "id": "763365ca",
   "metadata": {},
   "source": [
    "Construct a sample molecule and compute the charges:"
   ]
  },
  {
   "cell_type": "code",
   "execution_count": 3,
   "id": "a98ba683",
   "metadata": {},
   "outputs": [],
   "source": [
    "esomeprazole = Chem.MolFromSmiles('CC1=C(C(=C(C=C1)N)C(=O)N)C(=O)N')\n",
    "esomep_h = Chem.AddHs(esomeprazole)\n",
    "\n",
    "charges = tree.get_molecules_partial_charges(esomep_h, chg_key=\"AM1BCC\", chg_std_key=\"AM1BCC_std\")[\"charges\"]"
   ]
  },
  {
   "cell_type": "markdown",
   "id": "099eb73f",
   "metadata": {},
   "source": [
    "Set the charges as atomic properties:"
   ]
  },
  {
   "cell_type": "code",
   "execution_count": 4,
   "id": "40ba7fcf",
   "metadata": {},
   "outputs": [],
   "source": [
    "for atom in esomep_h.GetAtoms():\n",
    "    atom.SetDoubleProp(\"AM1BCC_charge\", charges[atom.GetIdx()])\n"
   ]
  },
  {
   "cell_type": "code",
   "execution_count": 5,
   "id": "77259b55",
   "metadata": {},
   "outputs": [
    {
     "name": "stdout",
     "output_type": "stream",
     "text": [
      "\n",
      "     RDKit          2D\n",
      "\n",
      " 25 25  0  0  0  0  0  0  0  0999 V2000\n",
      "    3.0000    0.0000    0.0000 C   0  0  0  0  0  0  0  0  0  0  0  0\n",
      "    1.5000    0.0000    0.0000 C   0  0  0  0  0  0  0  0  0  0  0  0\n",
      "    0.7500   -1.2990    0.0000 C   0  0  0  0  0  0  0  0  0  0  0  0\n",
      "   -0.7500   -1.2990    0.0000 C   0  0  0  0  0  0  0  0  0  0  0  0\n",
      "   -1.5000    0.0000    0.0000 C   0  0  0  0  0  0  0  0  0  0  0  0\n",
      "   -0.7500    1.2990    0.0000 C   0  0  0  0  0  0  0  0  0  0  0  0\n",
      "    0.7500    1.2990    0.0000 C   0  0  0  0  0  0  0  0  0  0  0  0\n",
      "   -3.0000    0.0000    0.0000 N   0  0  0  0  0  0  0  0  0  0  0  0\n",
      "   -1.5000   -2.5981    0.0000 C   0  0  0  0  0  0  0  0  0  0  0  0\n",
      "   -1.1155   -3.5040    0.0000 O   0  0  0  0  0  0  0  0  0  0  0  0\n",
      "   -3.0000   -2.5981    0.0000 N   0  0  0  0  0  0  0  0  0  0  0  0\n",
      "    1.5000   -2.5981    0.0000 C   0  0  0  0  0  0  0  0  0  0  0  0\n",
      "    3.0000   -2.5981    0.0000 O   0  0  0  0  0  0  0  0  0  0  0  0\n",
      "    0.7500   -3.8971    0.0000 N   0  0  0  0  0  0  0  0  0  0  0  0\n",
      "    4.5000    0.0000    0.0000 H   0  0  0  0  0  0  0  0  0  0  0  0\n",
      "    3.0000   -1.5000    0.0000 H   0  0  0  0  0  0  0  0  0  0  0  0\n",
      "    3.0000    1.5000    0.0000 H   0  0  0  0  0  0  0  0  0  0  0  0\n",
      "   -1.5000    2.5981    0.0000 H   0  0  0  0  0  0  0  0  0  0  0  0\n",
      "    1.5000    2.5981    0.0000 H   0  0  0  0  0  0  0  0  0  0  0  0\n",
      "   -3.7500    1.2990    0.0000 H   0  0  0  0  0  0  0  0  0  0  0  0\n",
      "   -3.5923   -0.7860    0.0000 H   0  0  0  0  0  0  0  0  0  0  0  0\n",
      "   -3.7500   -3.8971    0.0000 H   0  0  0  0  0  0  0  0  0  0  0  0\n",
      "   -3.5923   -1.8121    0.0000 H   0  0  0  0  0  0  0  0  0  0  0  0\n",
      "    1.5000   -5.1962    0.0000 H   0  0  0  0  0  0  0  0  0  0  0  0\n",
      "   -0.2268   -4.0171    0.0000 H   0  0  0  0  0  0  0  0  0  0  0  0\n",
      "  1  2  1  0\n",
      "  2  3  2  0\n",
      "  3  4  1  0\n",
      "  4  5  2  0\n",
      "  5  6  1  0\n",
      "  6  7  2  0\n",
      "  5  8  1  0\n",
      "  4  9  1  0\n",
      "  9 10  2  0\n",
      "  9 11  1  0\n",
      "  3 12  1  0\n",
      " 12 13  2  0\n",
      " 12 14  1  0\n",
      "  7  2  1  0\n",
      "  1 15  1  0\n",
      "  1 16  1  0\n",
      "  1 17  1  0\n",
      "  6 18  1  0\n",
      "  7 19  1  0\n",
      "  8 20  1  0\n",
      "  8 21  1  0\n",
      " 11 22  1  0\n",
      " 11 23  1  0\n",
      " 14 24  1  0\n",
      " 14 25  1  0\n",
      "M  END\n",
      ">  <atom.dprop.AM1BCC_charge>  (1) \n",
      "-0.057020346264131966 -0.05498106388730991 -0.1417576117737365 -0.24649839652124084 0.19183992335343653 -0.14084077400735293 -0.13325346021838766 -0.85373148869180315 0.69066109221699112\n",
      "-0.61948158338060078 -0.63810034626413192 0.6751982937456793 -0.58508759253159914 -0.67224362594143339 0.054944129070337355 0.054944129070337355 0.054944129070337355 0.1595973470895479\n",
      "0.1595973470895479 0.41622965373586801 0.41622965373586801 0.31563710234748005 0.31563710234748005 0.31876819330440859 0.31876819330440859\n",
      "\n",
      "$$$$\n",
      "\n"
     ]
    }
   ],
   "source": [
    "\n",
    "# this is the one extra call you have to make in order to \n",
    "# convert the atom properties to a molecule property which will \n",
    "# be written to the SD file:\n",
    "Chem.CreateAtomDoublePropertyList(esomep_h,'AM1BCC_charge')\n",
    "\n",
    "# write the SD data to a string so that we can look at it:\n",
    "from io import StringIO\n",
    "sio = StringIO()\n",
    "with Chem.SDWriter(sio) as w:\n",
    "    w.write(esomep_h)\n",
    "\n",
    "sdf = sio.getvalue()\n",
    "print(sdf)\n"
   ]
  },
  {
   "cell_type": "markdown",
   "id": "bdb82bc3",
   "metadata": {},
   "source": [
    "You can see that the property `atom.dprop.AM1BCC_charge` has been added to the SD string. Also that we're writing way too many sig figs... it's probably worth adding an option to control that."
   ]
  },
  {
   "cell_type": "markdown",
   "id": "1fc670c1",
   "metadata": {},
   "source": [
    "When that SD string is parsed, the atom properties are extracted automatically and assigned to the atoms:"
   ]
  },
  {
   "cell_type": "code",
   "execution_count": 6,
   "id": "89ae23e1",
   "metadata": {},
   "outputs": [
    {
     "name": "stdout",
     "output_type": "stream",
     "text": [
      "0 -0.057020346264131966\n",
      "1 -0.05498106388730991\n",
      "2 -0.1417576117737365\n",
      "3 -0.24649839652124084\n",
      "4 0.19183992335343653\n",
      "5 -0.14084077400735293\n",
      "6 -0.13325346021838766\n",
      "7 -0.8537314886918032\n",
      "8 0.6906610922169911\n",
      "9 -0.6194815833806008\n",
      "10 -0.6381003462641319\n",
      "11 0.6751982937456793\n",
      "12 -0.5850875925315991\n",
      "13 -0.6722436259414334\n",
      "14 0.054944129070337355\n",
      "15 0.054944129070337355\n",
      "16 0.054944129070337355\n",
      "17 0.1595973470895479\n",
      "18 0.1595973470895479\n",
      "19 0.416229653735868\n",
      "20 0.416229653735868\n",
      "21 0.31563710234748005\n",
      "22 0.31563710234748005\n",
      "23 0.3187681933044086\n",
      "24 0.3187681933044086\n"
     ]
    }
   ],
   "source": [
    "suppl = Chem.SDMolSupplier()\n",
    "suppl.SetData(sdf,removeHs=False)\n",
    "\n",
    "m = next(suppl)\n",
    "for atom in m.GetAtoms():\n",
    "    print(atom.GetIdx(), atom.GetDoubleProp(\"AM1BCC_charge\"))\n"
   ]
  },
  {
   "cell_type": "markdown",
   "id": "4e17242f",
   "metadata": {},
   "source": [
    "That's it... hopefully it is useful"
   ]
  }
 ],
 "metadata": {
  "kernelspec": {
   "display_name": "Python 3 (ipykernel)",
   "language": "python",
   "name": "python3"
  },
  "language_info": {
   "codemirror_mode": {
    "name": "ipython",
    "version": 3
   },
   "file_extension": ".py",
   "mimetype": "text/x-python",
   "name": "python",
   "nbconvert_exporter": "python",
   "pygments_lexer": "ipython3",
   "version": "3.12.6"
  },
  "toc": {
   "base_numbering": 1,
   "nav_menu": {},
   "number_sections": true,
   "sideBar": true,
   "skip_h1_title": false,
   "title_cell": "Table of Contents",
   "title_sidebar": "Contents",
   "toc_cell": false,
   "toc_position": {},
   "toc_section_display": true,
   "toc_window_display": false
  }
 },
 "nbformat": 4,
 "nbformat_minor": 5
}
