{
 "cells": [
  {
   "cell_type": "markdown",
   "id": "c6bf8ad7",
   "metadata": {},
   "source": [
    "RDKit molecules, atoms, bonds, conformers, and reactions support an interface, we call it the property interface, for storing arbitrary data that is used a lot internally but that can also very useful in other code. This post provides a quick overview of how properties work and what you can do with them"
   ]
  },
  {
   "cell_type": "code",
   "execution_count": 1,
   "id": "836e4ab4",
   "metadata": {},
   "outputs": [
    {
     "name": "stdout",
     "output_type": "stream",
     "text": [
      "2024.09.4\n"
     ]
    }
   ],
   "source": [
    "from rdkit import Chem\n",
    "\n",
    "import rdkit\n",
    "print(rdkit.__version__)"
   ]
  },
  {
   "cell_type": "markdown",
   "id": "55c2b7c2",
   "metadata": {},
   "source": [
    "# Property basics\n",
    "\n",
    "The properties are stored in a key:value data structure (similar to a dictionary in Python). The keys must be strings but the values can be various types.\n",
    "\n",
    "One obvious use of properties is to store the additional data found in an SDF file on the molecule. Here's an example of that:"
   ]
  },
  {
   "cell_type": "code",
   "execution_count": 2,
   "id": "9a6ddf4b",
   "metadata": {},
   "outputs": [],
   "source": [
    "import gzip\n",
    "with gzip.open('/scratch/Data/PubChem/Compound_004500001_005000000.sdf.gz') as inf:\n",
    "    suppl = Chem.ForwardSDMolSupplier(inf)\n",
    "    ms = [next(suppl) for x in range(10)]"
   ]
  },
  {
   "cell_type": "markdown",
   "id": "33d0b777",
   "metadata": {},
   "source": [
    "We can get a list of the properties present:"
   ]
  },
  {
   "cell_type": "code",
   "execution_count": 3,
   "id": "de2f3675",
   "metadata": {
    "scrolled": true
   },
   "outputs": [
    {
     "data": {
      "text/plain": [
       "['PUBCHEM_COMPOUND_CID',\n",
       " 'PUBCHEM_COMPOUND_CANONICALIZED',\n",
       " 'PUBCHEM_CACTVS_COMPLEXITY',\n",
       " 'PUBCHEM_CACTVS_HBOND_ACCEPTOR',\n",
       " 'PUBCHEM_CACTVS_HBOND_DONOR',\n",
       " 'PUBCHEM_CACTVS_ROTATABLE_BOND',\n",
       " 'PUBCHEM_CACTVS_SUBSKEYS',\n",
       " 'PUBCHEM_IUPAC_OPENEYE_NAME',\n",
       " 'PUBCHEM_IUPAC_CAS_NAME',\n",
       " 'PUBCHEM_IUPAC_NAME_MARKUP',\n",
       " 'PUBCHEM_IUPAC_NAME',\n",
       " 'PUBCHEM_IUPAC_SYSTEMATIC_NAME',\n",
       " 'PUBCHEM_IUPAC_TRADITIONAL_NAME',\n",
       " 'PUBCHEM_IUPAC_INCHI',\n",
       " 'PUBCHEM_IUPAC_INCHIKEY',\n",
       " 'PUBCHEM_XLOGP3_AA',\n",
       " 'PUBCHEM_EXACT_MASS',\n",
       " 'PUBCHEM_MOLECULAR_FORMULA',\n",
       " 'PUBCHEM_MOLECULAR_WEIGHT',\n",
       " 'PUBCHEM_OPENEYE_CAN_SMILES',\n",
       " 'PUBCHEM_OPENEYE_ISO_SMILES',\n",
       " 'PUBCHEM_CACTVS_TPSA',\n",
       " 'PUBCHEM_MONOISOTOPIC_WEIGHT',\n",
       " 'PUBCHEM_TOTAL_CHARGE',\n",
       " 'PUBCHEM_HEAVY_ATOM_COUNT',\n",
       " 'PUBCHEM_ATOM_DEF_STEREO_COUNT',\n",
       " 'PUBCHEM_ATOM_UDEF_STEREO_COUNT',\n",
       " 'PUBCHEM_BOND_DEF_STEREO_COUNT',\n",
       " 'PUBCHEM_BOND_UDEF_STEREO_COUNT',\n",
       " 'PUBCHEM_ISOTOPIC_ATOM_COUNT',\n",
       " 'PUBCHEM_COMPONENT_COUNT',\n",
       " 'PUBCHEM_CACTVS_TAUTO_COUNT',\n",
       " 'PUBCHEM_COORDINATE_TYPE',\n",
       " 'PUBCHEM_BONDANNOTATIONS']"
      ]
     },
     "execution_count": 3,
     "metadata": {},
     "output_type": "execute_result"
    }
   ],
   "source": [
    "m = ms[0]\n",
    "list(m.GetPropNames())"
   ]
  },
  {
   "cell_type": "markdown",
   "id": "9b2d72b2",
   "metadata": {},
   "source": [
    "And then retrieve the property values themselves with `GetProp()`:"
   ]
  },
  {
   "cell_type": "code",
   "execution_count": 4,
   "id": "bbcdfde7",
   "metadata": {},
   "outputs": [
    {
     "data": {
      "text/plain": [
       "'516.3'"
      ]
     },
     "execution_count": 4,
     "metadata": {},
     "output_type": "execute_result"
    }
   ],
   "source": [
    "m.GetProp('PUBCHEM_MOLECULAR_WEIGHT')"
   ]
  },
  {
   "cell_type": "markdown",
   "id": "1a1e4718",
   "metadata": {},
   "source": [
    "`GetProp()` returns the property values as strings, but we can also get them as specific types by asking for the type:"
   ]
  },
  {
   "cell_type": "code",
   "execution_count": 5,
   "id": "e8558c51",
   "metadata": {},
   "outputs": [
    {
     "data": {
      "text/plain": [
       "516.3"
      ]
     },
     "execution_count": 5,
     "metadata": {},
     "output_type": "execute_result"
    }
   ],
   "source": [
    "m.GetDoubleProp('PUBCHEM_MOLECULAR_WEIGHT')"
   ]
  },
  {
   "cell_type": "code",
   "execution_count": 6,
   "id": "d401b3db",
   "metadata": {},
   "outputs": [
    {
     "data": {
      "text/plain": [
       "31"
      ]
     },
     "execution_count": 6,
     "metadata": {},
     "output_type": "execute_result"
    }
   ],
   "source": [
    "m.GetIntProp('PUBCHEM_HEAVY_ATOM_COUNT')"
   ]
  },
  {
   "cell_type": "markdown",
   "id": "b518252b",
   "metadata": {},
   "source": [
    "The retrieval functions currently supported on molecules are:\n",
    "- `GetProp()` -> string\n",
    "- `GetDoubleProp()` -> floating point\n",
    "- `GetIntProp()` -> integer\n",
    "- `GetUnsignedProp()` -> unsigned integer\n",
    "- `GetBoolProp()` -> boolean\n",
    "\n"
   ]
  },
  {
   "cell_type": "markdown",
   "id": "88402c44",
   "metadata": {},
   "source": [
    "It's possible to retrieve all of the properties, with the correct types, in one call:"
   ]
  },
  {
   "cell_type": "code",
   "execution_count": 7,
   "id": "368ad3b9",
   "metadata": {},
   "outputs": [
    {
     "data": {
      "text/plain": [
       "{'PUBCHEM_COMPOUND_CID': 4500001,\n",
       " 'PUBCHEM_COMPOUND_CANONICALIZED': 1,\n",
       " 'PUBCHEM_CACTVS_COMPLEXITY': 626,\n",
       " 'PUBCHEM_CACTVS_HBOND_ACCEPTOR': 4,\n",
       " 'PUBCHEM_CACTVS_HBOND_DONOR': 1,\n",
       " 'PUBCHEM_CACTVS_ROTATABLE_BOND': 7,\n",
       " 'PUBCHEM_CACTVS_SUBSKEYS': 'AAADceB7oABHAAAAAAAAAAAAGAAAAWAAAAAwYAAAAAAAAAAB0AAAHgYYAAAADQrF2ySz0IfMEAiqAidydACS0AthB7AdykA4ZoiIKCLBm5HEIAhgnALIyAcQgMAOhABQAAKAABQIAKAABQAAKAAAAAAAAA==',\n",
       " 'PUBCHEM_IUPAC_OPENEYE_NAME': '2-[[5-[2-(4-chlorophenyl)cyclopropyl]-4-ethyl-1,2,4-triazol-3-yl]sulfanyl]-N-(2,4,5-trichlorophenyl)acetamide',\n",
       " 'PUBCHEM_IUPAC_CAS_NAME': '2-[[5-[2-(4-chlorophenyl)cyclopropyl]-4-ethyl-1,2,4-triazol-3-yl]thio]-N-(2,4,5-trichlorophenyl)acetamide',\n",
       " 'PUBCHEM_IUPAC_NAME_MARKUP': '2-[[5-[2-(4-chlorophenyl)cyclopropyl]-4-ethyl-1,2,4-triazol-3-yl]sulfanyl]-<I>N</I>-(2,4,5-trichlorophenyl)acetamide',\n",
       " 'PUBCHEM_IUPAC_NAME': '2-[[5-[2-(4-chlorophenyl)cyclopropyl]-4-ethyl-1,2,4-triazol-3-yl]sulfanyl]-N-(2,4,5-trichlorophenyl)acetamide',\n",
       " 'PUBCHEM_IUPAC_SYSTEMATIC_NAME': '2-[[5-[2-(4-chlorophenyl)cyclopropyl]-4-ethyl-1,2,4-triazol-3-yl]sulfanyl]-N-[2,4,5-tris(chloranyl)phenyl]ethanamide',\n",
       " 'PUBCHEM_IUPAC_TRADITIONAL_NAME': '2-[[5-[2-(4-chlorophenyl)cyclopropyl]-4-ethyl-1,2,4-triazol-3-yl]thio]-N-(2,4,5-trichlorophenyl)acetamide',\n",
       " 'PUBCHEM_IUPAC_INCHI': 'InChI=1S/C21H18Cl4N4OS/c1-2-29-20(14-7-13(14)11-3-5-12(22)6-4-11)27-28-21(29)31-10-19(30)26-18-9-16(24)15(23)8-17(18)25/h3-6,8-9,13-14H,2,7,10H2,1H3,(H,26,30)',\n",
       " 'PUBCHEM_IUPAC_INCHIKEY': 'JGFAHFCLMPEOJM-UHFFFAOYSA-N',\n",
       " 'PUBCHEM_XLOGP3_AA': 6,\n",
       " 'PUBCHEM_EXACT_MASS': 515.992593,\n",
       " 'PUBCHEM_MOLECULAR_FORMULA': 'C21H18Cl4N4OS',\n",
       " 'PUBCHEM_MOLECULAR_WEIGHT': 516.3,\n",
       " 'PUBCHEM_OPENEYE_CAN_SMILES': 'CCN1C(=NN=C1SCC(=O)NC2=CC(=C(C=C2Cl)Cl)Cl)C3CC3C4=CC=C(C=C4)Cl',\n",
       " 'PUBCHEM_OPENEYE_ISO_SMILES': 'CCN1C(=NN=C1SCC(=O)NC2=CC(=C(C=C2Cl)Cl)Cl)C3CC3C4=CC=C(C=C4)Cl',\n",
       " 'PUBCHEM_CACTVS_TPSA': 85.1,\n",
       " 'PUBCHEM_MONOISOTOPIC_WEIGHT': 513.995543,\n",
       " 'PUBCHEM_TOTAL_CHARGE': 0,\n",
       " 'PUBCHEM_HEAVY_ATOM_COUNT': 31,\n",
       " 'PUBCHEM_ATOM_DEF_STEREO_COUNT': 0,\n",
       " 'PUBCHEM_ATOM_UDEF_STEREO_COUNT': 2,\n",
       " 'PUBCHEM_BOND_DEF_STEREO_COUNT': 0,\n",
       " 'PUBCHEM_BOND_UDEF_STEREO_COUNT': 0,\n",
       " 'PUBCHEM_ISOTOPIC_ATOM_COUNT': 0,\n",
       " 'PUBCHEM_COMPONENT_COUNT': 1,\n",
       " 'PUBCHEM_CACTVS_TAUTO_COUNT': -1,\n",
       " 'PUBCHEM_COORDINATE_TYPE': '1\\n5\\n255',\n",
       " 'PUBCHEM_BONDANNOTATIONS': '11  14  3\\n12  15  3\\n15  16  8\\n15  17  8\\n16  20  8\\n17  21  8\\n20  22  8\\n21  22  8\\n26  27  8\\n26  28  8\\n27  30  8\\n28  29  8\\n29  31  8\\n30  31  8\\n7  14  8\\n7  19  8\\n8  14  8\\n8  9  8\\n9  19  8'}"
      ]
     },
     "execution_count": 7,
     "metadata": {},
     "output_type": "execute_result"
    }
   ],
   "source": [
    "m.GetPropsAsDict()"
   ]
  },
  {
   "cell_type": "markdown",
   "id": "f9a2f3b6",
   "metadata": {},
   "source": [
    "You can check whether or not a property is there:"
   ]
  },
  {
   "cell_type": "code",
   "execution_count": 8,
   "id": "1617f911",
   "metadata": {},
   "outputs": [
    {
     "data": {
      "text/plain": [
       "0"
      ]
     },
     "execution_count": 8,
     "metadata": {},
     "output_type": "execute_result"
    }
   ],
   "source": [
    "m.HasProp('foo')"
   ]
  },
  {
   "cell_type": "markdown",
   "id": "074e3772",
   "metadata": {},
   "source": [
    "Asking for a property that's not present throws an exception:"
   ]
  },
  {
   "cell_type": "code",
   "execution_count": 9,
   "id": "e21bbab5",
   "metadata": {},
   "outputs": [
    {
     "ename": "KeyError",
     "evalue": "'foo'",
     "output_type": "error",
     "traceback": [
      "\u001b[0;31m---------------------------------------------------------------------------\u001b[0m",
      "\u001b[0;31mKeyError\u001b[0m                                  Traceback (most recent call last)",
      "Cell \u001b[0;32mIn[9], line 1\u001b[0m\n\u001b[0;32m----> 1\u001b[0m \u001b[43mm\u001b[49m\u001b[38;5;241;43m.\u001b[39;49m\u001b[43mGetProp\u001b[49m\u001b[43m(\u001b[49m\u001b[38;5;124;43m'\u001b[39;49m\u001b[38;5;124;43mfoo\u001b[39;49m\u001b[38;5;124;43m'\u001b[39;49m\u001b[43m)\u001b[49m\n",
      "\u001b[0;31mKeyError\u001b[0m: 'foo'"
     ]
    }
   ],
   "source": [
    "m.GetProp('foo')"
   ]
  },
  {
   "cell_type": "markdown",
   "id": "b159f5da",
   "metadata": {},
   "source": [
    "And you can remove properties:"
   ]
  },
  {
   "cell_type": "code",
   "execution_count": 10,
   "id": "d5e9e7df",
   "metadata": {},
   "outputs": [
    {
     "data": {
      "text/plain": [
       "0"
      ]
     },
     "execution_count": 10,
     "metadata": {},
     "output_type": "execute_result"
    }
   ],
   "source": [
    "m.ClearProp('PUBCHEM_HEAVY_ATOM_COUNT')\n",
    "m.HasProp('PUBCHEM_HEAVY_ATOM_COUNT')"
   ]
  },
  {
   "cell_type": "markdown",
   "id": "d9e3b95e",
   "metadata": {},
   "source": [
    "# Special property types\n",
    "\n",
    "Properties whose names start with an underscore - `_` - are considered to be private and any property can be marked as computed. These properties are not displayed by default by calls to `GetPropNames()` or `GetPropsAsDict()` for molecules."
   ]
  },
  {
   "cell_type": "markdown",
   "id": "28dbcb2f",
   "metadata": {},
   "source": [
    "One frequently used private property is `_Name`, which is read from the header of mol files:"
   ]
  },
  {
   "cell_type": "code",
   "execution_count": 11,
   "id": "be698c2d",
   "metadata": {},
   "outputs": [
    {
     "data": {
      "text/plain": [
       "'4500001'"
      ]
     },
     "execution_count": 11,
     "metadata": {},
     "output_type": "execute_result"
    }
   ],
   "source": [
    "m.GetProp('_Name')"
   ]
  },
  {
   "cell_type": "markdown",
   "id": "911ffa52",
   "metadata": {},
   "source": [
    "You can see the full list of property names by passing the `includePrivate` and `includeComputed` flags to `GetPropNames()` or `GetPropsAsDict()`:"
   ]
  },
  {
   "cell_type": "code",
   "execution_count": 12,
   "id": "833de550",
   "metadata": {},
   "outputs": [
    {
     "data": {
      "text/plain": [
       "['__computedProps',\n",
       " '_Name',\n",
       " '_MolFileInfo',\n",
       " '_MolFileComments',\n",
       " '_MolFileChiralFlag',\n",
       " 'numArom',\n",
       " '_StereochemDone',\n",
       " 'PUBCHEM_COMPOUND_CID',\n",
       " 'PUBCHEM_COMPOUND_CANONICALIZED',\n",
       " 'PUBCHEM_CACTVS_COMPLEXITY',\n",
       " 'PUBCHEM_CACTVS_HBOND_ACCEPTOR',\n",
       " 'PUBCHEM_CACTVS_HBOND_DONOR',\n",
       " 'PUBCHEM_CACTVS_ROTATABLE_BOND',\n",
       " 'PUBCHEM_CACTVS_SUBSKEYS',\n",
       " 'PUBCHEM_IUPAC_OPENEYE_NAME',\n",
       " 'PUBCHEM_IUPAC_CAS_NAME',\n",
       " 'PUBCHEM_IUPAC_NAME_MARKUP',\n",
       " 'PUBCHEM_IUPAC_NAME',\n",
       " 'PUBCHEM_IUPAC_SYSTEMATIC_NAME',\n",
       " 'PUBCHEM_IUPAC_TRADITIONAL_NAME',\n",
       " 'PUBCHEM_IUPAC_INCHI',\n",
       " 'PUBCHEM_IUPAC_INCHIKEY',\n",
       " 'PUBCHEM_XLOGP3_AA',\n",
       " 'PUBCHEM_EXACT_MASS',\n",
       " 'PUBCHEM_MOLECULAR_FORMULA',\n",
       " 'PUBCHEM_MOLECULAR_WEIGHT',\n",
       " 'PUBCHEM_OPENEYE_CAN_SMILES',\n",
       " 'PUBCHEM_OPENEYE_ISO_SMILES',\n",
       " 'PUBCHEM_CACTVS_TPSA',\n",
       " 'PUBCHEM_MONOISOTOPIC_WEIGHT',\n",
       " 'PUBCHEM_TOTAL_CHARGE',\n",
       " 'PUBCHEM_ATOM_DEF_STEREO_COUNT',\n",
       " 'PUBCHEM_ATOM_UDEF_STEREO_COUNT',\n",
       " 'PUBCHEM_BOND_DEF_STEREO_COUNT',\n",
       " 'PUBCHEM_BOND_UDEF_STEREO_COUNT',\n",
       " 'PUBCHEM_ISOTOPIC_ATOM_COUNT',\n",
       " 'PUBCHEM_COMPONENT_COUNT',\n",
       " 'PUBCHEM_CACTVS_TAUTO_COUNT',\n",
       " 'PUBCHEM_COORDINATE_TYPE',\n",
       " 'PUBCHEM_BONDANNOTATIONS']"
      ]
     },
     "execution_count": 12,
     "metadata": {},
     "output_type": "execute_result"
    }
   ],
   "source": [
    "list(m.GetPropNames(includePrivate=True, includeComputed=True))"
   ]
  },
  {
   "cell_type": "markdown",
   "id": "7ee84dc7",
   "metadata": {},
   "source": [
    "# Adding your own properties"
   ]
  },
  {
   "cell_type": "markdown",
   "id": "be8a7f6e",
   "metadata": {},
   "source": [
    "I'm demonstrating this for molecules, but the same thing works for the other types."
   ]
  },
  {
   "cell_type": "code",
   "execution_count": 13,
   "id": "405a2e1d",
   "metadata": {},
   "outputs": [
    {
     "data": {
      "text/plain": [
       "{'prop1': 'val1', 'prop2': 2, 'prop3': 3.14159}"
      ]
     },
     "execution_count": 13,
     "metadata": {},
     "output_type": "execute_result"
    }
   ],
   "source": [
    "m = Chem.MolFromSmiles('CCC')\n",
    "m.SetProp('prop1','val1')\n",
    "m.SetIntProp('prop2',2)\n",
    "m.SetDoubleProp('prop3',3.14159)\n",
    "\n",
    "m.GetPropsAsDict()"
   ]
  },
  {
   "cell_type": "code",
   "execution_count": 14,
   "id": "a2b66cc6",
   "metadata": {},
   "outputs": [
    {
     "data": {
      "text/plain": [
       "{'prop1': 'val1', 'prop2': 2, 'prop3': 3.14159}"
      ]
     },
     "execution_count": 14,
     "metadata": {},
     "output_type": "execute_result"
    }
   ],
   "source": [
    "m.SetProp('computed1','val', computed=True)\n",
    "m.SetProp('_private1','val', computed=False)\n",
    "\n",
    "m.GetPropsAsDict()"
   ]
  },
  {
   "cell_type": "code",
   "execution_count": 15,
   "id": "7f64ec89",
   "metadata": {},
   "outputs": [
    {
     "data": {
      "text/plain": [
       "{'numArom': 0,\n",
       " 'prop1': 'val1',\n",
       " 'prop2': 2,\n",
       " 'prop3': 3.14159,\n",
       " 'computed1': 'val'}"
      ]
     },
     "execution_count": 15,
     "metadata": {},
     "output_type": "execute_result"
    }
   ],
   "source": [
    "m.GetPropsAsDict(includeComputed=True)"
   ]
  },
  {
   "cell_type": "code",
   "execution_count": 16,
   "id": "ea939262",
   "metadata": {
    "scrolled": true
   },
   "outputs": [
    {
     "data": {
      "text/plain": [
       "{'__computedProps': <rdkit.rdBase._vectNSt7__cxx1112basic_stringIcSt11char_traitsIcESaIcEEE at 0x7b88e3f5f040>,\n",
       " 'numArom': 0,\n",
       " '_StereochemDone': 1,\n",
       " 'prop1': 'val1',\n",
       " 'prop2': 2,\n",
       " 'prop3': 3.14159,\n",
       " 'computed1': 'val',\n",
       " '_private1': 'val'}"
      ]
     },
     "execution_count": 16,
     "metadata": {},
     "output_type": "execute_result"
    }
   ],
   "source": [
    "m.GetPropsAsDict(includePrivate=True,includeComputed=True)"
   ]
  },
  {
   "cell_type": "markdown",
   "id": "10075364",
   "metadata": {},
   "source": [
    "# Properties and copying/serialization/pickling"
   ]
  },
  {
   "cell_type": "code",
   "execution_count": 17,
   "id": "ca2d0799",
   "metadata": {},
   "outputs": [],
   "source": [
    "m = Chem.MolFromSmiles('CC')\n",
    "m.SetProp('prop1','v1')\n",
    "m.SetProp('computed1','v2')\n",
    "m.GetAtomWithIdx(0).SetIntProp('aprop',1)"
   ]
  },
  {
   "cell_type": "markdown",
   "id": "0b4b4a3d",
   "metadata": {},
   "source": [
    "Properties are copied when molecules are copied, either using the RDKit's recommended approach:"
   ]
  },
  {
   "cell_type": "code",
   "execution_count": 18,
   "id": "a4923ef2",
   "metadata": {},
   "outputs": [
    {
     "name": "stdout",
     "output_type": "stream",
     "text": [
      "mol: ['numArom', 'prop1', 'computed1']\n",
      "atom: ['aprop']\n"
     ]
    }
   ],
   "source": [
    "m2 = Chem.Mol(m)\n",
    "print('mol:',list(m2.GetPropNames(includeComputed=True)))\n",
    "print('atom:',list(m2.GetAtomWithIdx(0).GetPropNames(includeComputed=True)))\n"
   ]
  },
  {
   "cell_type": "markdown",
   "id": "067dc45a",
   "metadata": {},
   "source": [
    "Or using the `copy` module:"
   ]
  },
  {
   "cell_type": "code",
   "execution_count": 19,
   "id": "77d20331",
   "metadata": {},
   "outputs": [
    {
     "name": "stdout",
     "output_type": "stream",
     "text": [
      "mol: ['numArom', 'prop1', 'computed1']\n",
      "atom: ['aprop']\n"
     ]
    }
   ],
   "source": [
    "import copy\n",
    "m2 = copy.deepcopy(m)\n",
    "print('mol:',list(m2.GetPropNames(includeComputed=True)))\n",
    "print('atom:',list(m2.GetAtomWithIdx(0).GetPropNames(includeComputed=True)))\n"
   ]
  },
  {
   "cell_type": "markdown",
   "id": "177154ed",
   "metadata": {},
   "source": [
    "Properties are not, by default, captured when molecules are serialized (converted to binary):"
   ]
  },
  {
   "cell_type": "code",
   "execution_count": 20,
   "id": "77abdc83",
   "metadata": {},
   "outputs": [
    {
     "name": "stdout",
     "output_type": "stream",
     "text": [
      "mol: []\n",
      "atom: []\n"
     ]
    }
   ],
   "source": [
    "m2 = Chem.Mol(m.ToBinary())\n",
    "print('mol:',list(m2.GetPropNames(includeComputed=True)))\n",
    "print('atom:',list(m2.GetAtomWithIdx(0).GetPropNames(includeComputed=True)))"
   ]
  },
  {
   "cell_type": "markdown",
   "id": "5ea90932",
   "metadata": {},
   "source": [
    "But you can change this:"
   ]
  },
  {
   "cell_type": "code",
   "execution_count": 21,
   "id": "0d2eb21c",
   "metadata": {},
   "outputs": [
    {
     "name": "stdout",
     "output_type": "stream",
     "text": [
      "mol: ['numArom', 'prop1', 'computed1']\n",
      "atom: ['aprop']\n"
     ]
    }
   ],
   "source": [
    "m2 = Chem.Mol(m.ToBinary(Chem.PropertyPickleOptions.AllProps))\n",
    "print('mol:',list(m2.GetPropNames(includeComputed=True)))\n",
    "print('atom:',list(m2.GetAtomWithIdx(0).GetPropNames(includeComputed=True)))\n"
   ]
  },
  {
   "cell_type": "markdown",
   "id": "c69f9854",
   "metadata": {},
   "source": [
    "And finally, Python's pickling tool does not serialize properties by default:"
   ]
  },
  {
   "cell_type": "code",
   "execution_count": 22,
   "id": "5d59efe5",
   "metadata": {},
   "outputs": [
    {
     "name": "stdout",
     "output_type": "stream",
     "text": [
      "mol: []\n",
      "atom: []\n"
     ]
    }
   ],
   "source": [
    "import pickle\n",
    "\n",
    "m2 = pickle.loads(pickle.dumps(m))\n",
    "print('mol:',list(m2.GetPropNames(includeComputed=True)))\n",
    "print('atom:',list(m2.GetAtomWithIdx(0).GetPropNames(includeComputed=True)))\n"
   ]
  },
  {
   "cell_type": "markdown",
   "id": "de8f4aa2",
   "metadata": {},
   "source": [
    "But you can change this with a global variable:"
   ]
  },
  {
   "cell_type": "code",
   "execution_count": 23,
   "id": "7bc1c20b",
   "metadata": {},
   "outputs": [
    {
     "name": "stdout",
     "output_type": "stream",
     "text": [
      "mol: ['numArom', 'prop1', 'computed1']\n",
      "atom: ['aprop']\n"
     ]
    }
   ],
   "source": [
    "Chem.SetDefaultPickleProperties(Chem.PropertyPickleOptions.AllProps)\n",
    "\n",
    "m2 = pickle.loads(pickle.dumps(m))\n",
    "print('mol:',list(m2.GetPropNames(includeComputed=True)))\n",
    "print('atom:',list(m2.GetAtomWithIdx(0).GetPropNames(includeComputed=True)))"
   ]
  },
  {
   "cell_type": "markdown",
   "id": "88dffc08",
   "metadata": {},
   "source": [
    "# Writing properties"
   ]
  },
  {
   "cell_type": "markdown",
   "id": "4c859960",
   "metadata": {},
   "source": [
    "Both the `SDWriter` and the `SmilesWriter` can write properties"
   ]
  },
  {
   "cell_type": "code",
   "execution_count": 24,
   "id": "0c5cb868",
   "metadata": {},
   "outputs": [],
   "source": [
    "from io import StringIO\n",
    "m = Chem.MolFromSmiles('CC')\n",
    "m.SetProp('prop1','v1')\n",
    "m.SetProp('computed1','v2')\n"
   ]
  },
  {
   "cell_type": "markdown",
   "id": "7c40e6ad",
   "metadata": {},
   "source": [
    "The SDWriter will by default write all non-private properties (include computed properties):"
   ]
  },
  {
   "cell_type": "code",
   "execution_count": 25,
   "id": "16367d18",
   "metadata": {},
   "outputs": [
    {
     "name": "stdout",
     "output_type": "stream",
     "text": [
      "\n",
      "     RDKit          2D\n",
      "\n",
      "  2  1  0  0  0  0  0  0  0  0999 V2000\n",
      "    0.0000    0.0000    0.0000 C   0  0  0  0  0  0  0  0  0  0  0  0\n",
      "    1.2990    0.7500    0.0000 C   0  0  0  0  0  0  0  0  0  0  0  0\n",
      "  1  2  1  0\n",
      "M  END\n",
      ">  <prop1>  (1) \n",
      "v1\n",
      "\n",
      ">  <computed1>  (1) \n",
      "v2\n",
      "\n",
      "$$$$\n",
      "\n"
     ]
    }
   ],
   "source": [
    "sio = StringIO()\n",
    "with Chem.SDWriter(sio) as w:\n",
    "    w.write(m)\n",
    "print(sio.getvalue())"
   ]
  },
  {
   "cell_type": "markdown",
   "id": "7fd201c2",
   "metadata": {},
   "source": [
    "But you can control which properties are written:"
   ]
  },
  {
   "cell_type": "code",
   "execution_count": 26,
   "id": "911a2929",
   "metadata": {},
   "outputs": [
    {
     "name": "stdout",
     "output_type": "stream",
     "text": [
      "\n",
      "     RDKit          2D\n",
      "\n",
      "  2  1  0  0  0  0  0  0  0  0999 V2000\n",
      "    0.0000    0.0000    0.0000 C   0  0  0  0  0  0  0  0  0  0  0  0\n",
      "    1.2990    0.7500    0.0000 C   0  0  0  0  0  0  0  0  0  0  0  0\n",
      "  1  2  1  0\n",
      "M  END\n",
      ">  <prop1>  (1) \n",
      "v1\n",
      "\n",
      "$$$$\n",
      "\n"
     ]
    }
   ],
   "source": [
    "sio = StringIO()\n",
    "with Chem.SDWriter(sio) as w:\n",
    "    w.SetProps(['prop1'])\n",
    "    w.write(m)\n",
    "print(sio.getvalue())"
   ]
  },
  {
   "cell_type": "markdown",
   "id": "3769f791",
   "metadata": {},
   "source": [
    "The `SmilesWriter` doesn't write properties by default, but we can tell it to:"
   ]
  },
  {
   "cell_type": "code",
   "execution_count": 27,
   "id": "4482c4a0",
   "metadata": {},
   "outputs": [
    {
     "name": "stdout",
     "output_type": "stream",
     "text": [
      "SMILES Name prop1 computed1\n",
      "CC 0 v1 v2\n",
      "\n"
     ]
    }
   ],
   "source": [
    "sio = StringIO()\n",
    "with Chem.SmilesWriter(sio) as w:\n",
    "    w.SetProps(m.GetPropNames())\n",
    "    w.write(m)\n",
    "print(sio.getvalue())"
   ]
  },
  {
   "cell_type": "code",
   "execution_count": null,
   "id": "0b93f1cb",
   "metadata": {},
   "outputs": [],
   "source": []
  }
 ],
 "metadata": {
  "kernelspec": {
   "display_name": "Python 3 (ipykernel)",
   "language": "python",
   "name": "python3"
  },
  "language_info": {
   "codemirror_mode": {
    "name": "ipython",
    "version": 3
   },
   "file_extension": ".py",
   "mimetype": "text/x-python",
   "name": "python",
   "nbconvert_exporter": "python",
   "pygments_lexer": "ipython3",
   "version": "3.12.6"
  },
  "toc": {
   "base_numbering": 1,
   "nav_menu": {},
   "number_sections": true,
   "sideBar": true,
   "skip_h1_title": false,
   "title_cell": "Table of Contents",
   "title_sidebar": "Contents",
   "toc_cell": false,
   "toc_position": {},
   "toc_section_display": true,
   "toc_window_display": false
  }
 },
 "nbformat": 4,
 "nbformat_minor": 5
}
