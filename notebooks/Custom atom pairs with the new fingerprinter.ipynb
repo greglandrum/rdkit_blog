{
 "cells": [
  {
   "cell_type": "markdown",
   "metadata": {},
   "source": [
    "# Motivation\n",
    "\n"
   ]
  },
  {
   "cell_type": "markdown",
   "metadata": {},
   "source": [
    "Start by importing the required packages:"
   ]
  },
  {
   "cell_type": "code",
   "execution_count": 1,
   "metadata": {},
   "outputs": [],
   "source": [
    "from rdkit import Chem\n",
    "from rdkit.Chem.Draw import IPythonConsole\n",
    "from rdkit.Chem import Draw\n",
    "# the new code is in the rdFingerprintGenerator module:\n",
    "from rdkit.Chem import rdFingerprintGenerator"
   ]
  },
  {
   "cell_type": "code",
   "execution_count": 8,
   "metadata": {},
   "outputs": [],
   "source": [
    "# from: https://github.com/ljmartin/snippets/blob/master/atom_typing_snippet.ipynb\n",
    "from collections import OrderedDict\n",
    "\n",
    "##Using 'fake' atomic numbers 40 - 44 to correspond to D,A,P,N,L\n",
    "\n",
    "PPP = OrderedDict({\"D\":(['[OH]','[#7H,#7H2]'], 40),\n",
    "      \"A\":(['[OH0]','[#7H0]'], 41), # <- modified by gl\n",
    "      'P':(['[*+]','[#7H2]'], 42),\n",
    "      'N':(['[*-]','[C&$(C(=O)O)]','[P&$(P(=O)O)]','[S&$(S(=O)O)]'], 43),\n",
    "      \"L\":(['[Cl,Br,I]','[S;D2;$(S(C)(C))]'], 44)})\n",
    "##This sets the \"L\" type\n",
    "\n",
    "def ContructLFromGraphSearch(mol):\n",
    "    AtomIndex = []\n",
    "    for atom in mol.GetAtoms():\n",
    "        temp = []\n",
    "        if atom.GetAtomicNum() == 6:\n",
    "            for neighatom in atom.GetNeighbors():\n",
    "                if neighatom.GetAtomicNum() == 6:\n",
    "                    temp.append(0)\n",
    "                elif neighatom.GetAtomicNum() == 1:\n",
    "                    continue\n",
    "                else:\n",
    "                    temp.append(1)\n",
    "            if sum(temp) == 0:\n",
    "                AtomIndex.append(atom.GetIdx())\n",
    "\n",
    "    return AtomIndex\n",
    "\n",
    "##This sets the DAPN types. \n",
    "def AssignAtomTypes(mol):\n",
    "    res = [0]*mol.GetNumAtoms()\n",
    "    for ppptype in PPP:\n",
    "        smarts,idx = PPP[ppptype]\n",
    "        for sma in smarts:\n",
    "            patt = Chem.MolFromSmarts(sma)\n",
    "            for k in mol.GetSubstructMatches(patt):\n",
    "                res[k[0]] = idx\n",
    "    for atomIdx in ContructLFromGraphSearch(mol):\n",
    "        res[atomIdx] = 44\n",
    "    return res\n",
    "\n",
    "def oAssignAtomType(mol):\n",
    "    res = dict()\n",
    "    for ppptype in PPP:\n",
    "        temp = []\n",
    "        for i in PPP[ppptype][0]:\n",
    "            patt = Chem.MolFromSmarts(i)\n",
    "            atomindex = mol.GetSubstructMatches(patt)\n",
    "            atomindex = [k[0] for k in atomindex]\n",
    "            temp.extend(atomindex)\n",
    "            for atom in atomindex:\n",
    "                mol.GetAtomWithIdx(atom).SetAtomicNum(PPP[ppptype][1])\n",
    "        res.update({ppptype:temp})\n",
    "    temp = ContructLFromGraphSearch(mol)\n",
    "    temp.extend(res['L'])\n",
    "    res.update({'L':temp})\n",
    "    for idx in res['L']:\n",
    "        mol.GetAtomWithIdx(idx).SetAtomicNum(44)\n",
    "        \n",
    "    print(res)\n",
    "    return mol"
   ]
  },
  {
   "cell_type": "code",
   "execution_count": 9,
   "metadata": {},
   "outputs": [
    {
     "data": {
      "image/png": "[encoded data removed]",
      "text/plain": [
       "<rdkit.Chem.rdchem.Mol at 0x13c90dc4a30>"
      ]
     },
     "execution_count": 9,
     "metadata": {},
     "output_type": "execute_result"
    }
   ],
   "source": [
    "thc = 'CCCCCc1cc(c2c(c1)OC([C@H]3[C@H]2C=C(CC3)C)(C)C)O'\n",
    "\n",
    "thc_mol = Chem.MolFromSmiles(thc)\n",
    "\n",
    "thc_mol"
   ]
  },
  {
   "cell_type": "code",
   "execution_count": 10,
   "metadata": {},
   "outputs": [
    {
     "data": {
      "text/plain": [
       "[44,\n",
       " 44,\n",
       " 44,\n",
       " 44,\n",
       " 44,\n",
       " 44,\n",
       " 44,\n",
       " 0,\n",
       " 44,\n",
       " 0,\n",
       " 44,\n",
       " 41,\n",
       " 0,\n",
       " 44,\n",
       " 44,\n",
       " 44,\n",
       " 44,\n",
       " 44,\n",
       " 44,\n",
       " 44,\n",
       " 44,\n",
       " 44,\n",
       " 40]"
      ]
     },
     "execution_count": 10,
     "metadata": {},
     "output_type": "execute_result"
    }
   ],
   "source": [
    "AssignAtomTypes(thc_mol)"
   ]
  },
  {
   "cell_type": "code",
   "execution_count": 7,
   "metadata": {},
   "outputs": [
    {
     "name": "stdout",
     "output_type": "stream",
     "text": [
      "{'D': [22], 'A': [11], 'P': [], 'N': [], 'L': [0, 1, 2, 3, 4, 5, 6, 8, 10, 13, 14, 15, 16, 17, 18, 19, 20, 21]}\n"
     ]
    }
   ],
   "source": [
    "oAssignAtomType(thc_mol);"
   ]
  },
  {
   "cell_type": "code",
   "execution_count": null,
   "metadata": {},
   "outputs": [],
   "source": []
  }
 ],
 "metadata": {
  "kernelspec": {
   "display_name": "Python 3 (ipykernel)",
   "language": "python",
   "name": "python3"
  },
  "language_info": {
   "codemirror_mode": {
    "name": "ipython",
    "version": 3
   },
   "file_extension": ".py",
   "mimetype": "text/x-python",
   "name": "python",
   "nbconvert_exporter": "python",
   "pygments_lexer": "ipython3",
   "version": "3.12.6"
  },
  "toc": {
   "base_numbering": 1,
   "nav_menu": {},
   "number_sections": true,
   "sideBar": true,
   "skip_h1_title": false,
   "title_cell": "Table of Contents",
   "title_sidebar": "Contents",
   "toc_cell": false,
   "toc_position": {},
   "toc_section_display": true,
   "toc_window_display": false
  }
 },
 "nbformat": 4,
 "nbformat_minor": 2
}
