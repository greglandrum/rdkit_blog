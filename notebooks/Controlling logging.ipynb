{
 "cells": [
  {
   "cell_type": "markdown",
   "id": "800c9799",
   "metadata": {},
   "source": [
    "One reasonably frequently asked question is how to disable (easy) or capture (a bit trickier) the log messages that the RDKit sends to the console. There are a few ways to do this, so it seemed worthwhile to do a blog post, particularl since I tend to forget how to do the part where the logs are actually captured.\n",
    "\n",
    "Here are a couple of other sources of information on the topic:\n",
    "- Earlier blog post: [https://greglandrum.github.io/rdkit-blog/posts/2024-02-23-custom-transformations-and-logging.html](https://greglandrum.github.io/rdkit-blog/posts/2024-02-23-custom-transformations-and-logging.html)\n",
    "- A discussion topic: [https://github.com/rdkit/rdkit/discussions/8299](https://github.com/rdkit/rdkit/discussions/8299)\n",
    "\n",
    "There's considerably more information on how to use Python's logging module in the [Python docs](https://docs.python.org/3/howto/logging.html).\n"
   ]
  },
  {
   "cell_type": "code",
   "execution_count": 1,
   "id": "61850596",
   "metadata": {},
   "outputs": [
    {
     "name": "stdout",
     "output_type": "stream",
     "text": [
      "2025.03.5\n"
     ]
    }
   ],
   "source": [
    "import rdkit\n",
    "from rdkit import rdBase\n",
    "from rdkit import Chem\n",
    "\n",
    "print(rdkit.__version__)"
   ]
  },
  {
   "cell_type": "code",
   "execution_count": 2,
   "id": "14c781ea",
   "metadata": {},
   "outputs": [
    {
     "name": "stderr",
     "output_type": "stream",
     "text": [
      "[15:12:43] Explicit valence for atom # 1 O, 3, is greater than permitted\n"
     ]
    }
   ],
   "source": [
    "Chem.MolFromSmiles('CO(C)C')"
   ]
  },
  {
   "cell_type": "markdown",
   "id": "bdf1df00",
   "metadata": {},
   "source": [
    "The easiest thing to do is just disable all logging output:"
   ]
  },
  {
   "cell_type": "code",
   "execution_count": 3,
   "id": "5b656d12",
   "metadata": {},
   "outputs": [],
   "source": [
    "rdBase.DisableLog('rdApp.*')\n",
    "Chem.MolFromSmiles('CO(C)C')"
   ]
  },
  {
   "cell_type": "markdown",
   "id": "9e922834",
   "metadata": {},
   "source": [
    "You can re-enable it later:"
   ]
  },
  {
   "cell_type": "code",
   "execution_count": 4,
   "id": "9c8290a8",
   "metadata": {},
   "outputs": [
    {
     "name": "stderr",
     "output_type": "stream",
     "text": [
      "[15:12:43] Explicit valence for atom # 1 O, 3, is greater than permitted\n"
     ]
    }
   ],
   "source": [
    "rdBase.EnableLog('rdApp.*')\n",
    "Chem.MolFromSmiles('CO(C)C')"
   ]
  },
  {
   "cell_type": "markdown",
   "id": "7a544e0d",
   "metadata": {},
   "source": [
    "It's easier (and perhaps safer) to disable the logging output using a context manager:"
   ]
  },
  {
   "cell_type": "code",
   "execution_count": 5,
   "id": "144ff8df",
   "metadata": {},
   "outputs": [],
   "source": [
    "with rdBase.BlockLogs() as blk:\n",
    "    Chem.MolFromSmiles('CO(C)C')"
   ]
  },
  {
   "cell_type": "markdown",
   "id": "07e6636f",
   "metadata": {},
   "source": [
    "Outside of the context manager, the logging is still active:"
   ]
  },
  {
   "cell_type": "code",
   "execution_count": 6,
   "id": "db0889a8",
   "metadata": {},
   "outputs": [
    {
     "name": "stderr",
     "output_type": "stream",
     "text": [
      "[15:12:43] Explicit valence for atom # 1 O, 3, is greater than permitted\n"
     ]
    }
   ],
   "source": [
    "Chem.MolFromSmiles('CO(C)C')"
   ]
  },
  {
   "cell_type": "markdown",
   "id": "5c4b8732",
   "metadata": {},
   "source": [
    "Capturing the log messages requires a bit more work, but isn't hard.\n",
    "\n",
    "We start by telling the RDKit to use Python's logging framework:"
   ]
  },
  {
   "cell_type": "code",
   "execution_count": 7,
   "id": "5c1df2ab",
   "metadata": {},
   "outputs": [],
   "source": [
    "rdBase.LogToPythonLogger()"
   ]
  },
  {
   "cell_type": "markdown",
   "id": "884e62c3",
   "metadata": {},
   "source": [
    "And now configure the logging using standard Python logging features:"
   ]
  },
  {
   "cell_type": "code",
   "execution_count": 8,
   "id": "d72a0e8e",
   "metadata": {},
   "outputs": [],
   "source": [
    "import logging\n",
    "from io import StringIO\n",
    "\n",
    "# Here we will capture the log output in a StringIO object\n",
    "sio = StringIO()\n",
    "hdlr = logging.StreamHandler(sio)\n",
    "\n",
    "# and change the way the messages are formatted:\n",
    "fmt = logging.Formatter('%(name)s - %(levelname)s - %(message)s')\n",
    "hdlr.setFormatter(fmt)\n",
    "\n",
    "# Remove any existing handlers from the RDKit logger. This is important if we are working in the notebook:\n",
    "rdkit.logger.handlers.clear()\n",
    "rdkit.logger.addHandler(hdlr)"
   ]
  },
  {
   "cell_type": "markdown",
   "id": "422cd199",
   "metadata": {},
   "source": [
    "Now errors no longer go to the console:"
   ]
  },
  {
   "cell_type": "code",
   "execution_count": 9,
   "id": "93ed700e",
   "metadata": {},
   "outputs": [],
   "source": [
    "Chem.MolFromSmiles('CO(C)C')"
   ]
  },
  {
   "cell_type": "markdown",
   "id": "37ac400d",
   "metadata": {},
   "source": [
    "But we can access them from the StringIO object:"
   ]
  },
  {
   "cell_type": "code",
   "execution_count": 10,
   "id": "e1e66e86",
   "metadata": {},
   "outputs": [
    {
     "name": "stdout",
     "output_type": "stream",
     "text": [
      "rdkit - ERROR - [15:12:43] Explicit valence for atom # 1 O, 3, is greater than permitted\n",
      "\n"
     ]
    }
   ],
   "source": [
    "print(sio.getvalue())"
   ]
  },
  {
   "cell_type": "markdown",
   "id": "21e071ca",
   "metadata": {},
   "source": [
    "It's also easy to log to a file:"
   ]
  },
  {
   "cell_type": "code",
   "execution_count": 11,
   "id": "e2acaf68",
   "metadata": {},
   "outputs": [],
   "source": [
    "import tempfile\n",
    "tf = tempfile.NamedTemporaryFile()\n",
    "\n",
    "hdlr = logging.FileHandler(tf.name)\n",
    "\n",
    "# and change the way the messages are formatted:\n",
    "fmt = logging.Formatter('%(name)s - %(levelname)s - %(message)s')\n",
    "hdlr.setFormatter(fmt)\n",
    "\n",
    "# Remove any existing handlers from the RDKit logger. This is important if we are working in the notebook:\n",
    "rdkit.logger.handlers.clear()\n",
    "rdkit.logger.addHandler(hdlr)"
   ]
  },
  {
   "cell_type": "code",
   "execution_count": 12,
   "id": "1ade2b3c",
   "metadata": {},
   "outputs": [],
   "source": [
    "Chem.MolFromSmiles('CO(C)C')"
   ]
  },
  {
   "cell_type": "code",
   "execution_count": 13,
   "id": "0ff908ee",
   "metadata": {},
   "outputs": [
    {
     "name": "stdout",
     "output_type": "stream",
     "text": [
      "rdkit - ERROR - [15:16:11] Explicit valence for atom # 1 O, 3, is greater than permitted\n",
      "\n"
     ]
    }
   ],
   "source": [
    "with open(tf.name,'r') as inf:\n",
    "    print(inf.read())"
   ]
  },
  {
   "cell_type": "markdown",
   "id": "e188a5f3",
   "metadata": {},
   "source": [
    "It's definitely worth taking a look through Python's [logging HowTo](https://docs.python.org/3/howto/logging.html) for more info on working with logging."
   ]
  }
 ],
 "metadata": {
  "kernelspec": {
   "display_name": "Python 3 (ipykernel)",
   "language": "python",
   "name": "python3"
  },
  "language_info": {
   "codemirror_mode": {
    "name": "ipython",
    "version": 3
   },
   "file_extension": ".py",
   "mimetype": "text/x-python",
   "name": "python",
   "nbconvert_exporter": "python",
   "pygments_lexer": "ipython3",
   "version": "3.12.6"
  },
  "toc": {
   "base_numbering": 1,
   "nav_menu": {},
   "number_sections": true,
   "sideBar": true,
   "skip_h1_title": false,
   "title_cell": "Table of Contents",
   "title_sidebar": "Contents",
   "toc_cell": false,
   "toc_position": {},
   "toc_section_display": true,
   "toc_window_display": false
  }
 },
 "nbformat": 4,
 "nbformat_minor": 5
}
