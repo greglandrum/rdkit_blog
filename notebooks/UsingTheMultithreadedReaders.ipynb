{
 "cells": [
  {
   "cell_type": "markdown",
   "id": "3bc45f9f-c9f8-4fbc-9c05-3bac0212ccf8",
   "metadata": {},
   "source": [
    "As part of the 2020 Google Summer of Code, Shrey Aryan (Github: @shrey183) added new versions of the SmilesMolSupplier \n",
    "and SDMolSupplier to the RDKit which are capable of taking advantage of the multiple cores present on modern CPUs by reading multiple molecules at once. Aside from a passing mention in [a blog post a few years ago](https://greglandrum.github.io/rdkit-blog/posts/2020-11-18-sphere-exclusion-clustering.html), I have never really discussed these. This blog post aims to clear that up.\n",
    "\n",
    "The `MultithreadedSDMolSupplier` and `MultithreadedSmilesMolSupplier` are intended to be drop-in replacements for `SDMolSupplier` and `SmilesMolSupplier`. They should take all of the same arguments and can be used more or less the same way in your code. Both classes take an additional keyword argument, `numWriterThreads`, which controls the number of molecules which can be read in parallel. The default value of `numWriterThreads` is 1 (not using more than one thread unless you ask for it is standard practice in the RDKit; I suppose we can/should consider revisiting that in this case). The major difference in usage is that the multi-threaded  suppliers are not guaranteed to return the molecules in the same order they are found in the input file; the molecules are returned in the order in which processing is finished. There's more on this below.\n",
    "\n",
    "As a final aside: please note that, [as the documentation says](https://www.rdkit.org/docs/source/rdkit.Chem.rdmolfiles.html#rdkit.Chem.rdmolfiles.MultithreadedSDMolSupplier) the API for using the two multithreaded suppliers should still be considered to be experimental and, as such, could change a bit between releases.\n",
    "\n",
    "The other part of Shrey's project was a \"generalized file reader\" that makes it easier to read \n",
    "molecules from standard input file types by trying to automatically determine the type of the file.\n",
    "Shrey ran out of time to do the python wrappers for that and I still haven't managed to do it myself... \n",
    "that's a ToDo for me.\n",
    "\n",
    "If you're interested in more details about Shrey's project, the pull request has a [summary of the GSoC project](https://github.com/rdkit/rdkit/pull/3363).\n"
   ]
  },
  {
   "cell_type": "code",
   "execution_count": 1,
   "id": "fc6d224c-856c-4853-8d6e-42faecc8a305",
   "metadata": {},
   "outputs": [
    {
     "name": "stdout",
     "output_type": "stream",
     "text": [
      "2023.09.2\n"
     ]
    }
   ],
   "source": [
    "from rdkit import Chem\n",
    "\n",
    "import rdkit\n",
    "print(rdkit.__version__)\n",
    "\n",
    "import matplotlib.pylab as plt\n",
    "%matplotlib inline"
   ]
  },
  {
   "cell_type": "code",
   "execution_count": 2,
   "id": "050d7ee9-920f-4623-9ecd-0b4ab9c1283d",
   "metadata": {},
   "outputs": [],
   "source": [
    "filename = '/scratch/RDKit_git/Regress/Data/znp.50k.smi'"
   ]
  },
  {
   "cell_type": "markdown",
   "id": "76abfc9b-188f-418f-aa13-a0ababcb0db8",
   "metadata": {},
   "source": [
    "Simple example of reading all molecules from the file:"
   ]
  },
  {
   "cell_type": "code",
   "execution_count": 3,
   "id": "e782a93c-0f70-49cc-8399-cfeffd823359",
   "metadata": {},
   "outputs": [],
   "source": [
    "ms = [m for m in Chem.MultithreadedSmilesMolSupplier(filename,numWriterThreads=5) if m is not None]"
   ]
  },
  {
   "cell_type": "markdown",
   "id": "aa6a15d4-f3b9-4027-9414-04de759e6cd1",
   "metadata": {},
   "source": [
    "This is significantly faster than using a standard `SmilesMolSupplier`:"
   ]
  },
  {
   "cell_type": "code",
   "execution_count": 4,
   "id": "8bc2c12a-3653-401c-95a6-9766ad1f7cb6",
   "metadata": {},
   "outputs": [
    {
     "name": "stdout",
     "output_type": "stream",
     "text": [
      "6.33 s ± 47.8 ms per loop (mean ± std. dev. of 7 runs, 1 loop each)\n"
     ]
    }
   ],
   "source": [
    "%timeit ms = [m for m in Chem.SmilesMolSupplier(filename) if m is not None]"
   ]
  },
  {
   "cell_type": "code",
   "execution_count": 5,
   "id": "83a34e76-50ba-4aab-9306-b2f8eb0af639",
   "metadata": {},
   "outputs": [
    {
     "name": "stdout",
     "output_type": "stream",
     "text": [
      "1.41 s ± 9.41 ms per loop (mean ± std. dev. of 7 runs, 1 loop each)\n"
     ]
    }
   ],
   "source": [
    "%timeit ms = [m for m in Chem.MultithreadedSmilesMolSupplier(filename,numWriterThreads=5) if m is not None]"
   ]
  },
  {
   "cell_type": "markdown",
   "id": "24b59b48-ac76-425d-a8d3-5999ba2a999e",
   "metadata": {},
   "source": [
    "Here's a demo of using the multithreaded supplier in a filter: only returning the molecules which match a substructure query."
   ]
  },
  {
   "cell_type": "code",
   "execution_count": 6,
   "id": "2a2207b6-a475-4a67-a5e0-7ee9a6ff2dba",
   "metadata": {},
   "outputs": [],
   "source": [
    "qry = Chem.MolFromSmarts('Fc1[c,n]cccc1')"
   ]
  },
  {
   "cell_type": "code",
   "execution_count": 7,
   "id": "1e1418f0-48e6-43ed-ac01-ad42731c0ad8",
   "metadata": {},
   "outputs": [
    {
     "name": "stdout",
     "output_type": "stream",
     "text": [
      "7.02 s ± 31.3 ms per loop (mean ± std. dev. of 7 runs, 1 loop each)\n"
     ]
    }
   ],
   "source": [
    "%timeit ms = [m for m in Chem.SmilesMolSupplier(filename) if m is not None and m.HasSubstructMatch(qry)]"
   ]
  },
  {
   "cell_type": "code",
   "execution_count": 8,
   "id": "5f670cf2-105e-4bca-8ee3-e0a04398b072",
   "metadata": {},
   "outputs": [
    {
     "name": "stdout",
     "output_type": "stream",
     "text": [
      "1.44 s ± 20.8 ms per loop (mean ± std. dev. of 7 runs, 1 loop each)\n"
     ]
    }
   ],
   "source": [
    "%timeit ms = [m for m in Chem.MultithreadedSmilesMolSupplier(filename,numWriterThreads=5) if m is not None and m.HasSubstructMatch(qry)]"
   ]
  },
  {
   "cell_type": "markdown",
   "id": "ec20a83c-609f-4534-a90a-8d681511b307",
   "metadata": {},
   "source": [
    "The same thing works for SDF files:"
   ]
  },
  {
   "cell_type": "code",
   "execution_count": 9,
   "id": "0b14745b-a0b3-496a-b068-2bd38d8ae110",
   "metadata": {},
   "outputs": [],
   "source": [
    "sdfilename = '/scratch/RDKit_git/Regress/Data/znp.50k.sdf'"
   ]
  },
  {
   "cell_type": "code",
   "execution_count": 10,
   "id": "21d7d97b-8a9c-4661-8552-6e1182f71bb4",
   "metadata": {},
   "outputs": [
    {
     "name": "stdout",
     "output_type": "stream",
     "text": [
      "7.24 s ± 11.1 ms per loop (mean ± std. dev. of 7 runs, 1 loop each)\n"
     ]
    }
   ],
   "source": [
    "%timeit ms = [m for m in Chem.SDMolSupplier(sdfilename) if m is not None]"
   ]
  },
  {
   "cell_type": "code",
   "execution_count": 11,
   "id": "43df35a9-f205-40f5-875a-59bb07ead1dc",
   "metadata": {},
   "outputs": [
    {
     "name": "stdout",
     "output_type": "stream",
     "text": [
      "1.94 s ± 75.1 ms per loop (mean ± std. dev. of 7 runs, 1 loop each)\n"
     ]
    }
   ],
   "source": [
    "%timeit ms = [m for m in Chem.MultithreadedSDMolSupplier(sdfilename,numWriterThreads=5) if m is not None]"
   ]
  },
  {
   "cell_type": "markdown",
   "id": "e849ac58-aa5e-4c6b-aade-abdd56434dd6",
   "metadata": {},
   "source": [
    "Another demo of generating fingerprints faster:"
   ]
  },
  {
   "cell_type": "code",
   "execution_count": 12,
   "id": "c64210f6-6ec9-413f-8fe7-8038e2d4c76b",
   "metadata": {},
   "outputs": [],
   "source": [
    "from rdkit.Chem import rdFingerprintGenerator\n",
    "fpg = rdFingerprintGenerator.GetMorganGenerator()"
   ]
  },
  {
   "cell_type": "code",
   "execution_count": 13,
   "id": "359c4b95-812d-4085-a9f0-4b84b349098a",
   "metadata": {},
   "outputs": [
    {
     "name": "stdout",
     "output_type": "stream",
     "text": [
      "10.9 s ± 37.4 ms per loop (mean ± std. dev. of 7 runs, 1 loop each)\n"
     ]
    }
   ],
   "source": [
    "%timeit fps = [fpg.GetFingerprint(m) for m in Chem.SmilesMolSupplier(filename) if m is not None]"
   ]
  },
  {
   "cell_type": "code",
   "execution_count": 14,
   "id": "f17a32f5-50f1-4f18-8e28-0cbb57eaae14",
   "metadata": {},
   "outputs": [
    {
     "name": "stdout",
     "output_type": "stream",
     "text": [
      "4.81 s ± 72.3 ms per loop (mean ± std. dev. of 7 runs, 1 loop each)\n"
     ]
    }
   ],
   "source": [
    "%timeit fps = [fpg.GetFingerprint(m) for m in Chem.MultithreadedSmilesMolSupplier(filename,numWriterThreads=5) if m is not None]"
   ]
  },
  {
   "cell_type": "markdown",
   "id": "0aa0111e-2fcf-4064-bb10-d45d240c91c0",
   "metadata": {},
   "source": [
    "Of course the differences here are less dramatic since the speedup only happens for reading the molecules; we're still generating the fingerprints themselves in a single thread."
   ]
  },
  {
   "cell_type": "code",
   "execution_count": 15,
   "id": "93c45259-5997-4bc3-a18f-6c98ed3dbfaa",
   "metadata": {},
   "outputs": [
    {
     "name": "stdout",
     "output_type": "stream",
     "text": [
      "1 threads, 6.6 seconds\n",
      "2 threads, 3.4 seconds\n",
      "3 threads, 2.4 seconds\n",
      "4 threads, 1.9 seconds\n",
      "5 threads, 1.5 seconds\n",
      "6 threads, 1.3 seconds\n",
      "7 threads, 1.2 seconds\n",
      "8 threads, 1.1 seconds\n",
      "9 threads, 1.1 seconds\n",
      "10 threads, 1.1 seconds\n"
     ]
    }
   ],
   "source": [
    "import time\n",
    "times = {}\n",
    "for nthreads in range(1,11):\n",
    "    t1 = time.time()\n",
    "    k = [m.GetNumAtoms() for m in Chem.MultithreadedSmilesMolSupplier(filename,numWriterThreads=nthreads) if m is not None]\n",
    "    t2 = time.time()\n",
    "    times[nthreads] = t2-t1\n",
    "    print(f'{nthreads} threads, {t2-t1:.1f} seconds')"
   ]
  },
  {
   "cell_type": "code",
   "execution_count": 25,
   "id": "8c1b089e-43b7-42d3-9efa-78225e7aaed8",
   "metadata": {},
   "outputs": [
    {
     "data": {
      "text/plain": [
       "Text(0.5, 1.0, 'time to read 50K mols')"
      ]
     },
     "execution_count": 25,
     "metadata": {},
     "output_type": "execute_result"
    },
    {
     "data": {
      "image/png": "[encoded data removed]",
      "text/plain": [
       "<Figure size 600x600 with 1 Axes>"
      ]
     },
     "metadata": {},
     "output_type": "display_data"
    }
   ],
   "source": [
    "plt.figure(figsize=(6,6))\n",
    "plt.scatter(times.keys(),times.values());\n",
    "plt.plot(times.keys(),times.values());\n",
    "plt.xlabel('num threads')\n",
    "plt.ylabel('time (s)');\n",
    "plt.title('time to read 50K mols')"
   ]
  },
  {
   "cell_type": "markdown",
   "id": "ae177998-ed8c-477a-b1fe-64de7fc7e2c0",
   "metadata": {},
   "source": [
    "## An important detail to keep in mind\n",
    "\n",
    "The standard MolSuppliers return the molecules in the order that they were found in the input file, but the MultithreadedMolSuppliers return them in a non-deterministic order (it's the order in which the individual threads end up finishing processing the molecules):"
   ]
  },
  {
   "cell_type": "code",
   "execution_count": 17,
   "id": "2d0c1549-9cca-4a82-91bd-3a59c44d969d",
   "metadata": {},
   "outputs": [],
   "source": [
    "nms_st = [m.GetProp('_Name') for m in Chem.SDMolSupplier(sdfilename) if m is not None]\n",
    "nms_mt = [m.GetProp('_Name') for m in Chem.MultithreadedSDMolSupplier(sdfilename,numWriterThreads=5) if m is not None]"
   ]
  },
  {
   "cell_type": "code",
   "execution_count": 18,
   "id": "50484368-70ea-415c-9cd6-5e557c6390a4",
   "metadata": {},
   "outputs": [
    {
     "data": {
      "text/plain": [
       "['ZINC01628630',\n",
       " 'ZINC71389266',\n",
       " 'ZINC03847541',\n",
       " 'ZINC67911113',\n",
       " 'ZINC41584184']"
      ]
     },
     "execution_count": 18,
     "metadata": {},
     "output_type": "execute_result"
    }
   ],
   "source": [
    "nms_st[:5]"
   ]
  },
  {
   "cell_type": "code",
   "execution_count": 19,
   "id": "35aaca98-dcef-4703-ac28-add56808fb0f",
   "metadata": {},
   "outputs": [
    {
     "data": {
      "text/plain": [
       "['ZINC01628630',\n",
       " 'ZINC03847541',\n",
       " 'ZINC71389266',\n",
       " 'ZINC02386460',\n",
       " 'ZINC02124320']"
      ]
     },
     "execution_count": 19,
     "metadata": {},
     "output_type": "execute_result"
    }
   ],
   "source": [
    "nms_mt[:5]"
   ]
  },
  {
   "cell_type": "markdown",
   "id": "1b389255-df6b-4d93-bbda-060168a47f82",
   "metadata": {},
   "source": [
    "So when working with these, instead of tracking results using the index of the molecule, it's better to use a property read from the file, like the `_Name`:"
   ]
  },
  {
   "cell_type": "code",
   "execution_count": 20,
   "id": "94fa61cd-177e-40a2-806c-aa5b3d10dcef",
   "metadata": {},
   "outputs": [],
   "source": [
    "smis = dict([(m.GetProp('_Name'),Chem.MolToSmiles(m)) for m in Chem.MultithreadedSDMolSupplier(sdfilename,numWriterThreads=5) if m is not None])"
   ]
  },
  {
   "cell_type": "code",
   "execution_count": 21,
   "id": "49730319-f2ac-4c03-a9f2-57ebb62c1821",
   "metadata": {},
   "outputs": [
    {
     "data": {
      "text/plain": [
       "'OCC(O)COc1ccc(Cl)cc1'"
      ]
     },
     "execution_count": 21,
     "metadata": {},
     "output_type": "execute_result"
    }
   ],
   "source": [
    "smis['ZINC00000135']"
   ]
  },
  {
   "cell_type": "markdown",
   "id": "ffeee805-a9ae-4d62-bdca-264f23ac4520",
   "metadata": {},
   "source": [
    "Or you can use the supplier outside of a list comprehension, and take advantage of the `GetLastRecordId()` function, which returns the index+1 of the last molecule read from the input file:"
   ]
  },
  {
   "cell_type": "code",
   "execution_count": 22,
   "id": "e7ee4fec-4bab-4295-9047-7e4dfcdaec7b",
   "metadata": {},
   "outputs": [],
   "source": [
    "with Chem.MultithreadedSDMolSupplier(sdfilename,numWriterThreads=5) as suppl:\n",
    "    mol_order = dict([(suppl.GetLastRecordId(),m) for m in suppl if m is not None])"
   ]
  },
  {
   "cell_type": "code",
   "execution_count": 23,
   "id": "8e9f3a0c-fc2a-4d80-9b09-0472b756f4af",
   "metadata": {},
   "outputs": [
    {
     "name": "stdout",
     "output_type": "stream",
     "text": [
      "ZINC01628630 ZINC01628630\n",
      "ZINC71389266 ZINC71389266\n",
      "ZINC03847541 ZINC03847541\n",
      "ZINC67911113 ZINC67911113\n",
      "ZINC41584184 ZINC41584184\n"
     ]
    }
   ],
   "source": [
    "tsuppl = Chem.SDMolSupplier(sdfilename)\n",
    "for i in range(5):\n",
    "    print(tsuppl[i].GetProp('_Name'),mol_order[i+1].GetProp('_Name'))"
   ]
  },
  {
   "cell_type": "markdown",
   "id": "7a623a37-3a53-49f0-8f7c-c03cc4b4ea8a",
   "metadata": {},
   "source": [
    "If you use this, don't forget the \"off by one\" nature of the record IDs!"
   ]
  },
  {
   "cell_type": "code",
   "execution_count": null,
   "id": "a48082eb-cc7f-4352-b4c5-f7b2de24205d",
   "metadata": {},
   "outputs": [],
   "source": []
  }
 ],
 "metadata": {
  "kernelspec": {
   "display_name": "Python 3 (ipykernel)",
   "language": "python",
   "name": "python3"
  },
  "language_info": {
   "codemirror_mode": {
    "name": "ipython",
    "version": 3
   },
   "file_extension": ".py",
   "mimetype": "text/x-python",
   "name": "python",
   "nbconvert_exporter": "python",
   "pygments_lexer": "ipython3",
   "version": "3.11.6"
  }
 },
 "nbformat": 4,
 "nbformat_minor": 5
}
