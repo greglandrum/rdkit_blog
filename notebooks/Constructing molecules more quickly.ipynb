{
 "cells": [
  {
   "cell_type": "markdown",
   "metadata": {},
   "source": [
    "This is an updated and lightly revised version of a [quite old post](https://rdkit.blogspot.com/2016/09/avoiding-unnecessary-work-and.html).\n",
    "\n",
    "I have previously talked/posted about ways to construct RDKit molecules more quickly. This post revisits that topic.\n",
    "\n",
    "By default the RDKit does a lot of work when constructing a molecule. The idea here is to set things up so that we only have to do that work once for a set of molecules that we're going to work with repeatedly.\n",
    "\n",
    "There's also a diversion into thinking about what chemistry information is actually needed for things like substructure searching and tuning the molecule construction to only perceive that information.\n",
    "\n",
    "> Aside 1: the timing information shown below was all generated on my laptop, a 2.5 year old Lenovo X1 Carbon (2.1GHz Intel Core i7) running Windows. I am, as usual, using the conda-forge RDKit builds.\n",
    "\n",
    "> Aside 2: there's another blog post looking in more detail at [how long it takes to serialize/deserialize molecules with the RDKit](https://greglandrum.github.io/rdkit-blog/posts/2022-12-09-timing-text-methods-for-serializing-mols.html)\n"
   ]
  },
  {
   "cell_type": "code",
   "execution_count": 1,
   "metadata": {},
   "outputs": [
    {
     "data": {
      "text/plain": [
       "'2025.03.1'"
      ]
     },
     "execution_count": 1,
     "metadata": {},
     "output_type": "execute_result"
    }
   ],
   "source": [
    "from rdkit import Chem\n",
    "from rdkit import RDConfig\n",
    "import os,gzip\n",
    "from rdkit import rdBase\n",
    "rdBase.rdkitVersion"
   ]
  },
  {
   "cell_type": "markdown",
   "metadata": {},
   "source": [
    "## Setup\n",
    "\n",
    "Start by reading in a set of ChEMBL molecules that we've used before and then reducing that to 50K examples."
   ]
  },
  {
   "cell_type": "code",
   "execution_count": 2,
   "metadata": {},
   "outputs": [
    {
     "data": {
      "text/plain": [
       "234681"
      ]
     },
     "execution_count": 2,
     "metadata": {},
     "output_type": "execute_result"
    }
   ],
   "source": [
    "ind = [x.strip().split() for x in open('../data/chembl16_2010-2012.smi')]\n",
    "len(ind)"
   ]
  },
  {
   "cell_type": "code",
   "execution_count": 3,
   "metadata": {},
   "outputs": [],
   "source": [
    "import random\n",
    "random.seed(0xf00d)\n",
    "random.shuffle(ind)\n",
    "ind = ind[:55000]"
   ]
  },
  {
   "cell_type": "code",
   "execution_count": 4,
   "metadata": {},
   "outputs": [
    {
     "name": "stderr",
     "output_type": "stream",
     "text": [
      "[09:46:30] Explicit valence for atom # 34 Cl, 4, is greater than permitted\n",
      "[09:46:41] Explicit valence for atom # 29 Cl, 4, is greater than permitted\n"
     ]
    }
   ],
   "source": [
    "ms = []\n",
    "for x in ind:\n",
    "    m = Chem.MolFromSmiles(x[0])\n",
    "    if m is None:\n",
    "        continue\n",
    "    ms.append(m)\n",
    "    if len(ms)==50000:\n",
    "        break"
   ]
  },
  {
   "cell_type": "markdown",
   "metadata": {},
   "source": [
    "Let's get RDKit-generated representations of the molecules:\n",
    "- A molecule's `ToBinary()` method returns a serialized form of the molecule that can be saved and then later efficiently converted back into a molecule. I typically call this the \"pickled\" form of the molecule because it's what python's `pickle` machinery uses (though if you actually pickle molecules they are a big larger and take a bit longer to restore).\n",
    "- RDKit SMILES\n",
    "- The RDKit's JSON format. This is derived from Matt Swain's [commonchem](https://github.com/CommonChem/CommonChem)."
   ]
  },
  {
   "cell_type": "code",
   "execution_count": 5,
   "metadata": {},
   "outputs": [],
   "source": [
    "pkls = [x.ToBinary() for x in ms]"
   ]
  },
  {
   "cell_type": "code",
   "execution_count": 6,
   "metadata": {},
   "outputs": [],
   "source": [
    "smis = [Chem.MolToSmiles(x) for x in ms]"
   ]
  },
  {
   "cell_type": "code",
   "execution_count": 7,
   "metadata": {},
   "outputs": [],
   "source": [
    "jsons = [Chem.MolToJSON(x) for x in ms]"
   ]
  },
  {
   "cell_type": "markdown",
   "metadata": {},
   "source": [
    "## Timing of standard parsing\n",
    "\n",
    "How long does it take to generate the molecules from SMILES?"
   ]
  },
  {
   "cell_type": "code",
   "execution_count": 8,
   "metadata": {},
   "outputs": [
    {
     "name": "stdout",
     "output_type": "stream",
     "text": [
      "14.6 s ± 316 ms per loop (mean ± std. dev. of 7 runs, 1 loop each)\n"
     ]
    }
   ],
   "source": [
    "%timeit [Chem.MolFromSmiles(x) for x in smis]"
   ]
  },
  {
   "cell_type": "markdown",
   "metadata": {},
   "source": [
    "And from the binary format?"
   ]
  },
  {
   "cell_type": "code",
   "execution_count": 9,
   "metadata": {},
   "outputs": [
    {
     "name": "stdout",
     "output_type": "stream",
     "text": [
      "2.14 s ± 116 ms per loop (mean ± std. dev. of 7 runs, 1 loop each)\n"
     ]
    }
   ],
   "source": [
    "%timeit [Chem.Mol(x) for x in pkls]"
   ]
  },
  {
   "cell_type": "code",
   "execution_count": 10,
   "metadata": {},
   "outputs": [
    {
     "name": "stdout",
     "output_type": "stream",
     "text": [
      "4.69 s ± 334 ms per loop (mean ± std. dev. of 7 runs, 1 loop each)\n"
     ]
    }
   ],
   "source": [
    "%timeit [Chem.JSONToMols(x)[0] for x in jsons]"
   ]
  },
  {
   "cell_type": "markdown",
   "metadata": {},
   "source": [
    "That dramatic difference between SMILES and pickles isn't really that surprising given that the binary format was designed to be easy to read in and that no chemistry perception needs to be done. The JSON format also avoids chemistry perception (all computed properties we need are stored in the JSON), but it does require some work to parse.\n",
    "\n",
    "So the binary format is really efficient, but it's not human readable and it's only useable with the RDKit. It would be cool to be able to take advantage of the portability and readability of SMILES but to have the processing not take quite so long."
   ]
  },
  {
   "cell_type": "markdown",
   "metadata": {},
   "source": [
    "As an aside: another benefit of using SMILES, for at least some applications, is that they are an order of magnitude smaller than the binary format. The JSON format is even bigger, more than three times as big as the pickles:"
   ]
  },
  {
   "cell_type": "code",
   "execution_count": 11,
   "metadata": {},
   "outputs": [
    {
     "name": "stdout",
     "output_type": "stream",
     "text": [
      "binary: 22808200\n",
      "smiles: 3029652\n",
      "JSON: 78812598\n"
     ]
    }
   ],
   "source": [
    "print(\"binary:\",sum(len(x) for x in pkls))\n",
    "print(\"smiles:\",sum(len(x) for x in smis))\n",
    "print(\"JSON:\",sum(len(x) for x in jsons))"
   ]
  },
  {
   "cell_type": "markdown",
   "metadata": {},
   "source": [
    "Turning off the sanitization and chemistry perception when parsing from the SMILES makes a dramatic difference in processing time:"
   ]
  },
  {
   "cell_type": "code",
   "execution_count": 12,
   "metadata": {},
   "outputs": [
    {
     "name": "stdout",
     "output_type": "stream",
     "text": [
      "3.04 s ± 108 ms per loop (mean ± std. dev. of 7 runs, 1 loop each)\n"
     ]
    }
   ],
   "source": [
    "%timeit [Chem.MolFromSmiles(x,sanitize=False) for x in smis]"
   ]
  },
  {
   "cell_type": "markdown",
   "metadata": {
    "collapsed": true
   },
   "source": [
    "Unfortunately, with no sanitization at all done, these molecules aren't that useful in many of the RDKit algorithms."
   ]
  },
  {
   "cell_type": "markdown",
   "metadata": {},
   "source": [
    "## Partial sanitization"
   ]
  },
  {
   "cell_type": "markdown",
   "metadata": {},
   "source": [
    "One of the standard operations done on reading molecules from SMILES is a call to the stereochemistry assignment code, which also removes redundant or extraneous stereochemistry specifications. This can be computationally expensive and most likely not needed when reading from an RDKit-generated canonical SMILES since that already has had incorrect or redundant specifications removed.\n",
    "\n",
    "Let's see how long it takes if we skip that part (which is part of the call to `MolFromSmiles()`). We'll make one other change here and also skip the various cleanup operations the RDKit does by default to fix problematic substructures during sanitization:"
   ]
  },
  {
   "cell_type": "code",
   "execution_count": 13,
   "metadata": {},
   "outputs": [],
   "source": [
    "def partialSanit1(smi):\n",
    "    m = Chem.MolFromSmiles(smi,sanitize=False)\n",
    "    Chem.SanitizeMol(m,sanitizeOps=Chem.SANITIZE_ALL^Chem.SANITIZE_CLEANUP^\\\n",
    "                     Chem.SANITIZE_CLEANUPCHIRALITY^Chem.SANITIZE_CLEANUPATROPISOMERS^Chem.SANITIZE_CLEANUP_ORGANOMETALLICS)\n",
    "    return m"
   ]
  },
  {
   "cell_type": "code",
   "execution_count": 14,
   "metadata": {},
   "outputs": [
    {
     "name": "stdout",
     "output_type": "stream",
     "text": [
      "9.91 s ± 259 ms per loop (mean ± std. dev. of 7 runs, 1 loop each)\n"
     ]
    }
   ],
   "source": [
    "%timeit [partialSanit1(x) for x in smis]"
   ]
  },
  {
   "cell_type": "markdown",
   "metadata": {},
   "source": [
    "That's a solid reduction over the 14.6 seconds originally required, but is still a long way off the 3.0 seconds for the completely unsanitized version.\n",
    "\n",
    "Since the RDKit SMILES contains information about aromaticity, we can also skip the kekulization and aromatization steps of the sanitization:"
   ]
  },
  {
   "cell_type": "code",
   "execution_count": 15,
   "metadata": {},
   "outputs": [],
   "source": [
    "def partialSanit2(smi):\n",
    "    m = Chem.MolFromSmiles(smi,sanitize=False)\n",
    "    Chem.SanitizeMol(m,sanitizeOps=Chem.SANITIZE_ALL^Chem.SANITIZE_CLEANUP^\\\n",
    "                     Chem.SANITIZE_CLEANUPCHIRALITY^Chem.SANITIZE_CLEANUPATROPISOMERS^Chem.SANITIZE_CLEANUP_ORGANOMETALLICS^\\\n",
    "                     Chem.SANITIZE_KEKULIZE^Chem.SANITIZE_SETAROMATICITY)\n",
    "    return m"
   ]
  },
  {
   "cell_type": "code",
   "execution_count": 16,
   "metadata": {},
   "outputs": [
    {
     "name": "stdout",
     "output_type": "stream",
     "text": [
      "7.66 s ± 154 ms per loop (mean ± std. dev. of 7 runs, 1 loop each)\n"
     ]
    }
   ],
   "source": [
    "%timeit [partialSanit2(x) for x in smis]"
   ]
  },
  {
   "cell_type": "markdown",
   "metadata": {},
   "source": [
    "Even better.\n",
    "\n",
    "We are still calling the ring-finding code, and sometimes we don't need information about rings (for example, all substructure queries from SMILES and many queries from SMILES), so what if we skip that?"
   ]
  },
  {
   "cell_type": "code",
   "execution_count": 17,
   "metadata": {},
   "outputs": [],
   "source": [
    "def partialSanit3(smi):\n",
    "    m = Chem.MolFromSmiles(smi,sanitize=False)\n",
    "    Chem.SanitizeMol(m,sanitizeOps=Chem.SANITIZE_ALL^Chem.SANITIZE_CLEANUP^\\\n",
    "                     Chem.SANITIZE_CLEANUPCHIRALITY^Chem.SANITIZE_CLEANUPATROPISOMERS^Chem.SANITIZE_CLEANUP_ORGANOMETALLICS^\\\n",
    "                     Chem.SANITIZE_KEKULIZE^Chem.SANITIZE_SETAROMATICITY^\\\n",
    "                     Chem.SANITIZE_SYMMRINGS)\n",
    "    return m"
   ]
  },
  {
   "cell_type": "code",
   "execution_count": 18,
   "metadata": {},
   "outputs": [
    {
     "name": "stdout",
     "output_type": "stream",
     "text": [
      "5.11 s ± 233 ms per loop (mean ± std. dev. of 7 runs, 1 loop each)\n"
     ]
    }
   ],
   "source": [
    "%timeit [partialSanit3(x) for x in smis]"
   ]
  },
  {
   "cell_type": "markdown",
   "metadata": {},
   "source": [
    "If we're just concerned about doing substructure searches or generating RDKit fingerprints, this is still doing some extra work. Let's go to the bare minimum of sanitization: only updating the explicit and implicit valences of the atoms. Here it's less typing to just call the one function we need:"
   ]
  },
  {
   "cell_type": "code",
   "execution_count": 19,
   "metadata": {},
   "outputs": [],
   "source": [
    "def partialSanit4(smi):\n",
    "    m = Chem.MolFromSmiles(smi,sanitize=False)\n",
    "    m.UpdatePropertyCache()\n",
    "    return m"
   ]
  },
  {
   "cell_type": "code",
   "execution_count": 20,
   "metadata": {},
   "outputs": [
    {
     "name": "stdout",
     "output_type": "stream",
     "text": [
      "3.34 s ± 133 ms per loop (mean ± std. dev. of 7 runs, 1 loop each)\n"
     ]
    }
   ],
   "source": [
    "%timeit [partialSanit4(x) for x in smis]"
   ]
  },
  {
   "cell_type": "markdown",
   "metadata": {
    "collapsed": true
   },
   "source": [
    "That's pretty fast, and those molecules are actually useful for many, many calculations.\n",
    "\n",
    "We can add some ring information by calling `FastFindRings()`. This algorithm provides reliable information about whether or not atoms or bonds are in rings - and so can help with basic ring-membership queries on atoms and bonds in SMARTS or for generating Pattern fingerprints or standard Morgan fingerprints- but doesn't help with the number of smallest rings that an atom/bond is in."
   ]
  },
  {
   "cell_type": "code",
   "execution_count": 21,
   "metadata": {},
   "outputs": [],
   "source": [
    "def partialSanit5(smi):\n",
    "    m = Chem.MolFromSmiles(smi,sanitize=False)\n",
    "    m.UpdatePropertyCache()\n",
    "    Chem.FastFindRings(m)\n",
    "    return m"
   ]
  },
  {
   "cell_type": "code",
   "execution_count": 22,
   "metadata": {},
   "outputs": [
    {
     "name": "stdout",
     "output_type": "stream",
     "text": [
      "4.08 s ± 86.7 ms per loop (mean ± std. dev. of 7 runs, 1 loop each)\n"
     ]
    }
   ],
   "source": [
    "%timeit [partialSanit5(x) for x in smis]"
   ]
  },
  {
   "cell_type": "markdown",
   "metadata": {},
   "source": [
    "I think those last two are pretty good. By thinking about the information we need and starting from a reliable SMILES (I often call these \"trusted SMILES\") we can get molecules that are useful for many RDKit operations much more quickly than the default."
   ]
  },
  {
   "cell_type": "code",
   "execution_count": null,
   "metadata": {},
   "outputs": [],
   "source": []
  }
 ],
 "metadata": {
  "anaconda-cloud": {},
  "hide_input": false,
  "kernelspec": {
   "display_name": "Python 3 (ipykernel)",
   "language": "python",
   "name": "python3"
  },
  "language_info": {
   "codemirror_mode": {
    "name": "ipython",
    "version": 3
   },
   "file_extension": ".py",
   "mimetype": "text/x-python",
   "name": "python",
   "nbconvert_exporter": "python",
   "pygments_lexer": "ipython3",
   "version": "3.12.4"
  }
 },
 "nbformat": 4,
 "nbformat_minor": 1
}
