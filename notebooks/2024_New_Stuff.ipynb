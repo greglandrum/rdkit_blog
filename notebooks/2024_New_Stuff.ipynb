{
 "cells": [
  {
   "cell_type": "markdown",
   "id": "a0d335ec",
   "metadata": {},
   "source": [
    "The 2024.09.1 version of the RDKit was released on the 27th of September. This is the first in a short series of posts providing brief introductions to new functionality added to the RDKit since the 2024.03.1 release."
   ]
  },
  {
   "cell_type": "code",
   "execution_count": 1,
   "id": "bc9ae709",
   "metadata": {},
   "outputs": [
    {
     "data": {
      "text/plain": [
       "'2024.09.1'"
      ]
     },
     "execution_count": 1,
     "metadata": {},
     "output_type": "execute_result"
    }
   ],
   "source": [
    "import rdkit\n",
    "rdkit.__version__"
   ]
  },
  {
   "cell_type": "code",
   "execution_count": 2,
   "id": "e64587b3",
   "metadata": {},
   "outputs": [],
   "source": [
    "from rdkit import Chem\n",
    "from rdkit.Chem import Draw\n",
    "from rdkit.Chem.Draw import IPythonConsole"
   ]
  },
  {
   "cell_type": "markdown",
   "id": "cbcee7f4",
   "metadata": {},
   "source": [
    "# rdMolProcessing\n",
    "\n",
    "The idea of the `rdMolProcessing` package is to make it easy and fast to carry out common operations on molecules read from files.\n",
    "\n",
    "In this initial release the only function provided generates fingerprints, but we will add additional capabilities in future releases."
   ]
  },
  {
   "cell_type": "code",
   "execution_count": 3,
   "id": "d5e0eb11",
   "metadata": {},
   "outputs": [],
   "source": [
    "from rdkit.Chem import rdMolProcessing\n",
    "from rdkit.Chem import rdFingerprintGenerator"
   ]
  },
  {
   "cell_type": "code",
   "execution_count": 3,
   "id": "61fe949b",
   "metadata": {},
   "outputs": [],
   "source": [
    "fname = '../data/BLSets_actives.txt'"
   ]
  },
  {
   "cell_type": "code",
   "execution_count": 5,
   "id": "18b2d5e9",
   "metadata": {},
   "outputs": [
    {
     "name": "stdout",
     "output_type": "stream",
     "text": [
      "16.4 s ± 35.4 ms per loop (mean ± std. dev. of 7 runs, 1 loop each)\n"
     ]
    }
   ],
   "source": [
    "fpg = rdFingerprintGenerator.GetMorganGenerator()\n",
    "%timeit suppl = Chem.SmilesMolSupplier(fname,delimiter='\\t');fps = [fpg.GetFingerprint(m) for m in suppl if m is not None]"
   ]
  },
  {
   "cell_type": "markdown",
   "id": "76a6a819",
   "metadata": {},
   "source": [
    "`rdMolProcessing.GetFingerprintsForMolsInFile()` does the same work, but operates entirely in C++ and uses multiple threads to read the molecules and generate the fingerprints in parallel."
   ]
  },
  {
   "cell_type": "code",
   "execution_count": 6,
   "id": "c47e0d61",
   "metadata": {},
   "outputs": [
    {
     "name": "stdout",
     "output_type": "stream",
     "text": [
      "2.73 s ± 12.6 ms per loop (mean ± std. dev. of 7 runs, 1 loop each)\n"
     ]
    }
   ],
   "source": [
    "%timeit fps = rdMolProcessing.GetFingerprintsForMolsInFile(fname)"
   ]
  },
  {
   "cell_type": "markdown",
   "id": "c47b14d9",
   "metadata": {},
   "source": [
    "Here's a larger demonstration: generating fingerprints for all 2.3 million molecules in the ChEMBL 31 SDF file.\n",
    "Notice that we don't need to uncompress the SDF file."
   ]
  },
  {
   "cell_type": "code",
   "execution_count": 8,
   "id": "78bd9439",
   "metadata": {},
   "outputs": [
    {
     "name": "stdout",
     "output_type": "stream",
     "text": [
      "81.94\n"
     ]
    }
   ],
   "source": [
    "from rdkit import RDLogger\n",
    "RDLogger.DisableLog('rdApp.*')\n",
    "import time\n",
    "t1 = time.time(); \n",
    "fps = rdMolProcessing.GetFingerprintsForMolsInFile('/scratch/Data/ChEMBL/chembl_31.sdf.gz'); \n",
    "t2=time.time(); \n",
    "print(f'{t2-t1:.2f}')"
   ]
  },
  {
   "cell_type": "markdown",
   "id": "8627ee65",
   "metadata": {},
   "source": [
    "The fingerprints are generated immediately after each molecule is parsed and then the molecule is discarded, so it's only necessary to be able to store all of the fingerprints in memory, not all of the molecules."
   ]
  },
  {
   "cell_type": "markdown",
   "id": "61841fe1",
   "metadata": {},
   "source": [
    "`GetFingerprintsForMolsInFile()` can figure out the file format automatically (as we saw above), but you can, if necessary, provide options controlling how the file is read."
   ]
  },
  {
   "cell_type": "code",
   "execution_count": 10,
   "id": "9759dbb4",
   "metadata": {},
   "outputs": [
    {
     "name": "stdout",
     "output_type": "stream",
     "text": [
      "canonical_smiles molregno activity_id standard_value standard_units\r\n",
      "N[C@@H]([C@@H]1CC[C@H](CC1)NS(=O)(=O)c2ccc(F)cc2F)C(=O)N3CC[C@H](F)C3 29272 671631 49000 nM\r\n",
      "N[C@@H](C1CCCCC1)C(=O)N2CCSC2 29758 674222 28000 nM\r\n"
     ]
    }
   ],
   "source": [
    "!head -3 ../data/herg_data.txt"
   ]
  },
  {
   "cell_type": "code",
   "execution_count": 11,
   "id": "c545e83d",
   "metadata": {},
   "outputs": [
    {
     "data": {
      "text/plain": [
       "1090"
      ]
     },
     "execution_count": 11,
     "metadata": {},
     "output_type": "execute_result"
    }
   ],
   "source": [
    "opts = rdMolProcessing.SupplierOptions()\n",
    "opts.delimiter = ' '\n",
    "fps = rdMolProcessing.GetFingerprintsForMolsInFile('../data/herg_data.txt',options=opts)\n",
    "len(fps)"
   ]
  },
  {
   "cell_type": "markdown",
   "id": "d945b457",
   "metadata": {},
   "source": [
    "The default is to generate 2048 bit Morgan fingerprints with a radius of 3, but we can change this by providing a fingerprint generator to the call:"
   ]
  },
  {
   "cell_type": "code",
   "execution_count": 12,
   "id": "6e6b603c",
   "metadata": {},
   "outputs": [],
   "source": [
    "fpg = rdFingerprintGenerator.GetRDKitFPGenerator(maxPath=5)\n",
    "fps = rdMolProcessing.GetFingerprintsForMolsInFile('../data/herg_data.txt',options=opts,generator=fpg)\n"
   ]
  },
  {
   "cell_type": "markdown",
   "id": "111789b2",
   "metadata": {},
   "source": [
    "# Addition of GetAllConformerBestRMS()\n",
    "\n",
    "The new function `GetAllConformerBestRMS()` makes it easy to calculate the RMSDs between all of the conformers of a molecule."
   ]
  },
  {
   "cell_type": "code",
   "execution_count": 13,
   "id": "a892dd29",
   "metadata": {},
   "outputs": [],
   "source": [
    "from rdkit.Chem import rdDistGeom\n",
    "from rdkit.Chem import rdMolAlign"
   ]
  },
  {
   "cell_type": "code",
   "execution_count": 15,
   "id": "418f3e91",
   "metadata": {},
   "outputs": [
    {
     "data": {
      "text/plain": [
       "100"
      ]
     },
     "execution_count": 15,
     "metadata": {},
     "output_type": "execute_result"
    }
   ],
   "source": [
    "ps = rdDistGeom.srETKDGv3()\n",
    "ps.randomSeed = 0xa100f\n",
    "ps.numThreads = 6\n",
    "\n",
    "m = Chem.AddHs(Chem.MolFromSmiles('N[C@@H]([C@@H]1CC[C@H](CC1)NS(=O)(=O)c2ccc(F)cc2F)C(=O)N3CC[C@H](F)C3'))\n",
    "rdDistGeom.EmbedMultipleConfs(m,100,ps)\n",
    "m.GetNumConformers()"
   ]
  },
  {
   "cell_type": "code",
   "execution_count": 19,
   "id": "6ccc44d8",
   "metadata": {},
   "outputs": [],
   "source": [
    "# generating RMSDs with Hs generally doesn't make sense:\n",
    "m_noh = Chem.RemoveHs(m)\n",
    "rmsds = rdMolAlign.GetAllConformerBestRMS(m_noh)"
   ]
  },
  {
   "cell_type": "code",
   "execution_count": 23,
   "id": "e6d53145",
   "metadata": {
    "scrolled": true
   },
   "outputs": [
    {
     "data": {
      "text/plain": [
       "4950"
      ]
     },
     "execution_count": 23,
     "metadata": {},
     "output_type": "execute_result"
    }
   ],
   "source": [
    "len(rmsds)"
   ]
  },
  {
   "cell_type": "markdown",
   "id": "375a9c67",
   "metadata": {},
   "source": [
    "You can also run the calculation using multiple threads to speed things up:"
   ]
  },
  {
   "cell_type": "code",
   "execution_count": 24,
   "id": "f50b3585",
   "metadata": {},
   "outputs": [
    {
     "name": "stdout",
     "output_type": "stream",
     "text": [
      "6.17 ms ± 49 μs per loop (mean ± std. dev. of 7 runs, 100 loops each)\n"
     ]
    }
   ],
   "source": [
    "%timeit rmsds = rdMolAlign.GetAllConformerBestRMS(m_noh,numThreads=6)"
   ]
  },
  {
   "cell_type": "code",
   "execution_count": null,
   "id": "9cc1e1fb",
   "metadata": {},
   "outputs": [],
   "source": []
  }
 ],
 "metadata": {
  "kernelspec": {
   "display_name": "Python 3 (ipykernel)",
   "language": "python",
   "name": "python3"
  },
  "language_info": {
   "codemirror_mode": {
    "name": "ipython",
    "version": 3
   },
   "file_extension": ".py",
   "mimetype": "text/x-python",
   "name": "python",
   "nbconvert_exporter": "python",
   "pygments_lexer": "ipython3",
   "version": "3.12.6"
  },
  "toc": {
   "base_numbering": 1,
   "nav_menu": {},
   "number_sections": true,
   "sideBar": true,
   "skip_h1_title": false,
   "title_cell": "Table of Contents",
   "title_sidebar": "Contents",
   "toc_cell": false,
   "toc_position": {},
   "toc_section_display": true,
   "toc_window_display": false
  }
 },
 "nbformat": 4,
 "nbformat_minor": 5
}
